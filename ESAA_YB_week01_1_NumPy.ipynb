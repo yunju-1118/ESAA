{
  "nbformat": 4,
  "nbformat_minor": 0,
  "metadata": {
    "colab": {
      "provenance": [],
      "authorship_tag": "ABX9TyO4BKnsJwmbeu78wVsOkmPh",
      "include_colab_link": true
    },
    "kernelspec": {
      "name": "python3",
      "display_name": "Python 3"
    },
    "language_info": {
      "name": "python"
    }
  },
  "cells": [
    {
      "cell_type": "markdown",
      "metadata": {
        "id": "view-in-github",
        "colab_type": "text"
      },
      "source": [
        "<a href=\"https://colab.research.google.com/github/yunju-1118/ESAA/blob/main/ESAA_YB_week1(0304).ipynb\" target=\"_parent\"><img src=\"https://colab.research.google.com/assets/colab-badge.svg\" alt=\"Open In Colab\"/></a>"
      ]
    },
    {
      "cell_type": "markdown",
      "source": [
        "#1-3. 넘파이\n",
        "\n",
        "머신러닝의 주요 알고리즘은 선형대수와 통계 등에 기반한다.\n",
        "Numerical Python을 의미하는 넘파이(NumPy)는 파이썬에서 선형대수 기반의 프로그램을 쉽게 만들 수 있도록 지원하는 대표적인 패키지이다. 루프를 사용하지 않고 대량 데이터의 배열 연산을 가능하게 하므로 빠른 배열 연산 속도를 보장하며, 때문에 파이썬 기반의 많은 과학과 공학 패키지는 넘파이에 의존하고 있다.\n",
        "\n",
        "넘파이는 판다스의 편리성에는 미치지 못하지만, 다양한 데이터 핸들링 기능을 제공하기도 한다. 많은 파이썬 기반의 패키지가 넘파이를 이용해 데이터 처리를 수행하지만, 편의성과 다양한 API 지원 측면에서는 아쉬운 부분이 많다.\n",
        "\n",
        "많은 머신러닝 알고리즘이 넘파이 기반으로 작성되어있으며, 알고리즘의 입력 데이터와 출력 데이터를 넘파이 배열 타입으로 사용하기 때문에 넘파이를 이해하는 것은 파이썬 기반의 머신러닝에서 매우 중요하다."
      ],
      "metadata": {
        "id": "XuZCCZrFRIpJ"
      }
    },
    {
      "cell_type": "markdown",
      "source": [
        "## 넘파이 ndarray 개요\n",
        "넘파이 모듈 임포트\n",
        "\n",
        "import numpy만 해도 충분하지만, as np를 추가해 약어로 모듈을 표현해주는 것이 관례이다."
      ],
      "metadata": {
        "id": "F5hkdO0UTS6y"
      }
    },
    {
      "cell_type": "code",
      "source": [
        "import numpy as np"
      ],
      "metadata": {
        "id": "1Gj26IISTdVr"
      },
      "execution_count": null,
      "outputs": []
    },
    {
      "cell_type": "markdown",
      "source": [
        "넘파이 기반 데이터 타입은 ndarray이다.\n",
        "\n",
        "ndarray를 이용해 넘파이에서 다차원 배열을 쉽게 생성하고 다양한 연산을 수행할 수 있다.\n",
        "\n",
        "넘파이 array() 함수는 파이썬의 리스트와 같은 다양한 인자를 입ㅂ력받아 ndarray로 변환하는 기능을 수행한다.\n",
        "\n",
        "생성된 ndarray 배열의 shape 변수는 ndarray의 크기, 즉 행과 열의 수를 튜플 형태로 갖고 있으며, 이를 통해 ndarray 배열의 차원까지 알 수 있다.  "
      ],
      "metadata": {
        "id": "SLUNkbKkTcmd"
      }
    },
    {
      "cell_type": "code",
      "source": [
        "array1 = np.array([1,2,3])\n",
        "print('array1 type:',type(array1))\n",
        "print('array1 array 형태:', array1.shape)\n",
        "\n",
        "array2 = np.array([[1,2,3],\n",
        "                   [2,3,4]])\n",
        "print('array2 type:',type(array2))\n",
        "print('array2 array 형태:', array2.shape)\n",
        "\n",
        "array3 = np.array([[1,2,3]])\n",
        "print('array3 type:',type(array3))\n",
        "print('array3 array 형태:', array3.shape)"
      ],
      "metadata": {
        "colab": {
          "base_uri": "https://localhost:8080/"
        },
        "id": "wIr9LBitUTbO",
        "outputId": "85987d63-5119-4d7d-96c3-874e50731ba9"
      },
      "execution_count": null,
      "outputs": [
        {
          "output_type": "stream",
          "name": "stdout",
          "text": [
            "array1 type: <class 'numpy.ndarray'>\n",
            "array1 array 형태: (3,)\n",
            "array2 type: <class 'numpy.ndarray'>\n",
            "array2 array 형태: (2, 3)\n",
            "array3 type: <class 'numpy.ndarray'>\n",
            "array3 array 형태: (1, 3)\n"
          ]
        }
      ]
    },
    {
      "cell_type": "markdown",
      "source": [
        "ndarray로 변환을 원하는 객체를 인자로 입력하면 ndarray를 반환한다.\n",
        "\n",
        "ndarray.shape는 ndarray의 차원과 크기를 튜플 형태로 나타내 준다.\n",
        "\n",
        "ex> ndarray.shape\n",
        "\n",
        "*  [1,2,3]의 shape은 (3,)이고, 1차원 array로 3개의 데이터를 가지고 있음을 뜻한다.\n",
        "*    [[1,2,3,], [2,3,4]]의 shape은 (2,3,)이고, 이는 2차원 array로, 2개의 row와 3개의 column으로 구성되어 6개의 데이터를 갖고있음을 뜻한다.\n",
        "\n",
        "*   [[1,2,3]]의 shape은 (1,3)으로 1개의 row와 3개의 column으로 구성된 2차원 데이터를 의미한다.\n",
        "\n",
        "array1과 array3은 동일한 데이터 건수를 갖고있지만, array1은 명확하게 1차원임을 (3,)의 형태로 표현한 것이며, array3은 2차원 데이터임을 (1,3)으로 표현한 것이다. 이는 머신러닝 알고리즘과 데이터 세트 간의 입출력과 변환을 수행할 때 중요하게 작용한다.\n"
      ],
      "metadata": {
        "id": "jIL11TG4USVW"
      }
    },
    {
      "cell_type": "code",
      "source": [
        "print('array1: {0}차원, array2: {1}차원, array3: {2}차원'.format(array1.ndim,\n",
        "                                                         array2.ndim, array3.ndim))"
      ],
      "metadata": {
        "colab": {
          "base_uri": "https://localhost:8080/"
        },
        "id": "MTTHoLGcWz8J",
        "outputId": "537ec130-42d0-4323-d628-1bdf5e6b3442"
      },
      "execution_count": null,
      "outputs": [
        {
          "output_type": "stream",
          "name": "stdout",
          "text": [
            "array1: 1차원, array2: 2차원, array3: 2차원\n"
          ]
        }
      ]
    },
    {
      "cell_type": "markdown",
      "source": [
        "array의 차원은 ndarray.ndim을 이용해 확인할 수 있다.\n",
        "\n",
        "array() 함수의 인자로는 파이썬의 리스트 객체가 주로 사용된다. 리스트 []는 1차원이고, 리스트의 리스트 [[]]는 2차원과 같은 형태로 배열의 차원과 크기를 쉽게 표현할 수 있기 때문이다."
      ],
      "metadata": {
        "id": "R7Na45sTXSz_"
      }
    },
    {
      "cell_type": "markdown",
      "source": [
        "## ndarray의 데이터 타입\n",
        "ndarray 내의 데이터값은 숫자 값, 문자열 값, 불 값 등이 모두 가능하다.\n",
        "\n",
        "ndarray 내의 데이터 타입은 그 연산의 특성상 같은 데이터 타입만 가능하다. ndarray 내의 데이터 타입은 dtype 속성으로 확인할 수 있다.\n"
      ],
      "metadata": {
        "id": "hSm6zJ4lXkXt"
      }
    },
    {
      "cell_type": "code",
      "source": [
        "list1 = [1,2,3]\n",
        "print(type(list1))\n",
        "array1 = np.array(list1)\n",
        "print(type(array1))\n",
        "print(array1, array1.dtype)"
      ],
      "metadata": {
        "colab": {
          "base_uri": "https://localhost:8080/"
        },
        "id": "Fe_a-GU9YUpx",
        "outputId": "ea5f10cb-e6a0-43ed-cceb-6edf21185b08"
      },
      "execution_count": null,
      "outputs": [
        {
          "output_type": "stream",
          "name": "stdout",
          "text": [
            "<class 'list'>\n",
            "<class 'numpy.ndarray'>\n",
            "[1 2 3] int64\n"
          ]
        }
      ]
    },
    {
      "cell_type": "markdown",
      "source": [
        "list1은 integer 숫자를 값으로 가지고 있으며, 이를 ndarray로 쉽게 변경할 수 있다.\n",
        "\n",
        "서로 다른 데이터 타입을 가질 수 있는 리스트와는 다르게 ndarray 내에서는 같은 뎅터 타입만 가능하다고 했는데, 만약 다른 데이터 유형이 섞여 있는 리스트를 ndarray로 변경하면 데이터 크기가 더 큰 데이터 타입으로 형 변환을 일괄 적용한다."
      ],
      "metadata": {
        "id": "HCIR96oKYqaT"
      }
    },
    {
      "cell_type": "code",
      "source": [
        "list2 = [1,2,'test']\n",
        "array2 = np.array(list2)\n",
        "print(array2, array2.dtype)\n",
        "\n",
        "list3 = [1,2,3.0]\n",
        "array3 = np.array(list3)\n",
        "print(array3, array3.dtype)"
      ],
      "metadata": {
        "colab": {
          "base_uri": "https://localhost:8080/"
        },
        "id": "bfElcmagZH8R",
        "outputId": "68829ae4-ada7-4a6a-ca61-822f19999097"
      },
      "execution_count": null,
      "outputs": [
        {
          "output_type": "stream",
          "name": "stdout",
          "text": [
            "['1' '2' 'test'] <U21\n",
            "[1. 2. 3.] float64\n"
          ]
        }
      ]
    },
    {
      "cell_type": "markdown",
      "source": [
        "int형 값과 문자열이 섞여 있는 list2를 ndarray로 변환한 array2는 숫자형 값 1,2가 모두 문자열 값으로 변환 되었다.\n",
        "\n",
        "이처럼 ndarray는 데이터 값이 모두 같은 데이터 타입이어야 하므로 서로 다른 데이터 타입이 섞여 있을 경우, int형이 유니코드 문자열 값으로 변환되었으며, list3의 경우도 int가 모두 flaot64 형으로 변환되었다."
      ],
      "metadata": {
        "id": "ktTuB5D1ZbjK"
      }
    },
    {
      "cell_type": "markdown",
      "source": [
        "ndarray 내 데이터값의 타입 변경도 astype() 메서드를 이용해 할 수 있다. astype()에 인자로 원하는 타입을 문자열로 지정ㅎ면 된다. 이렇게 데이터 타입을 변경하는 경우는 대용량 데이터의 ndarray를 만들 때 많은 메모리가 사용되는데, 메모리를 더 절약해야 할 때 보통 이용된다.\n",
        "\n",
        "파이썬 기반의 머신러닝 알고리즘은 대부분 메모리로 데이터를 전체 로딩하 다음 이를 기반으로 알고리즘을 적용하기 때문에 대용량의 데이터를 로딩할 때는 수행속도가 느려지거나 메모리 부족으로 오류가 발생할 수 있다."
      ],
      "metadata": {
        "id": "-I79FUX0Z9Qz"
      }
    },
    {
      "cell_type": "code",
      "source": [
        "array_int = np.array([1,2,3])\n",
        "array_float = array_int.astype('float64')\n",
        "print(array_float,array_float.dtype)\n",
        "\n",
        "array_int1 = array_float.astype('int32')\n",
        "print(array_int1, array_int1.dtype)\n",
        "\n",
        "array_float1 = np.array([1.1, 2.1, 3.1])\n",
        "array_int2 = array_float1.astype('int32')\n",
        "print(array_int2, array_int2.dtype)"
      ],
      "metadata": {
        "colab": {
          "base_uri": "https://localhost:8080/"
        },
        "id": "t2ScxIF_fCaC",
        "outputId": "bb483be0-ecef-4f11-e587-c94edf35225e"
      },
      "execution_count": null,
      "outputs": [
        {
          "output_type": "stream",
          "name": "stdout",
          "text": [
            "[1. 2. 3.] float64\n",
            "[1 2 3] int32\n",
            "[1 2 3] int32\n"
          ]
        }
      ]
    },
    {
      "cell_type": "markdown",
      "source": [
        "해당 코드는 int32형 데이터를 float64로 변환하고, 다시 float64를 int32로 변경한다. float를 int형으로 변경할 때 소수점 이하는 모두 없어진다."
      ],
      "metadata": {
        "id": "u-PVi86zf1k8"
      }
    },
    {
      "cell_type": "markdown",
      "source": [
        "## ndarray를 편리하게 생성하기 - arange, zeros, ones\n",
        "특정 크기와 차원을 가진 ndarray를 연속값이나 0또는 1로 초기화해 쉽게 생성해야 할 필요가 있는 경우가 발생할 수 있다. 이 경우 arange(), zeros(), ones()를 이용해 쉽게 ndarray를 생성할 수 있다. 주로 테스트용으로 데이터를 만들거나 대규모의 데이터를 일괄적으로 초기화해야 할 경우에 사용된다."
      ],
      "metadata": {
        "id": "3Jnk12mGgI8O"
      }
    },
    {
      "cell_type": "markdown",
      "source": [
        "arange()는 파이썬 표준 함수인 range()와 유사한 기능을 한다. 0부터 함수 인자 값 -1까지의 값을 순차적으로 ndarray의 데이터 값으로 변환해준다."
      ],
      "metadata": {
        "id": "zQTHCksvge33"
      }
    },
    {
      "cell_type": "code",
      "source": [
        "sequence_array = np.arange(10)\n",
        "print(sequence_array)\n",
        "print(sequence_array.dtype, sequence_array.shape)"
      ],
      "metadata": {
        "colab": {
          "base_uri": "https://localhost:8080/"
        },
        "id": "qtFwkU9GgpG5",
        "outputId": "5e1dd369-79e6-4d23-d303-8506ec68cee4"
      },
      "execution_count": null,
      "outputs": [
        {
          "output_type": "stream",
          "name": "stdout",
          "text": [
            "[0 1 2 3 4 5 6 7 8 9]\n",
            "int64 (10,)\n"
          ]
        }
      ]
    },
    {
      "cell_type": "markdown",
      "source": [
        "default 함수 인자는 stop 값이며, 0부터 stop 값인 10에서 -1을 더한 9까지의 연속 숫자 값으로 구성된 1차원 ndarray를 만들어준다. 여기서는 stop 값만 부여했으나, start값도 부여해 0이 아닌 다른 값부터 시작한 연속 값을 부여할 수도 있다."
      ],
      "metadata": {
        "id": "tB6PwmNOgorN"
      }
    },
    {
      "cell_type": "markdown",
      "source": [
        "zeros()는 함수 인자로 튜플 형태의 shape 값을 입력하면 모든 값을 0으로 채운 해당 shape을 가진 ndarray를 반환한다. 유사하게 ones()는 함수 인자로 튜플 형태의 shape을 가진 ndarray를 반환한다. 함수 인자로 dtype을 정해주지 않으면 default로 float64 형의 데이터로 ndarray를 채운다."
      ],
      "metadata": {
        "id": "ddzyG50mhTab"
      }
    },
    {
      "cell_type": "code",
      "source": [
        "zero_array = np.zeros((3,2), dtype='int32')\n",
        "print(zero_array)\n",
        "print(zero_array.dtype,zero_array.shape)\n",
        "\n",
        "one_array = np.ones((3,2))\n",
        "print(one_array)\n",
        "print(one_array.dtype,one_array.shape)"
      ],
      "metadata": {
        "colab": {
          "base_uri": "https://localhost:8080/"
        },
        "id": "vCcc5fwPhofV",
        "outputId": "ba7e4caa-5359-4a49-fcff-48b79902662e"
      },
      "execution_count": null,
      "outputs": [
        {
          "output_type": "stream",
          "name": "stdout",
          "text": [
            "[[0 0]\n",
            " [0 0]\n",
            " [0 0]]\n",
            "int32 (3, 2)\n",
            "[[1. 1.]\n",
            " [1. 1.]\n",
            " [1. 1.]]\n",
            "float64 (3, 2)\n"
          ]
        }
      ]
    },
    {
      "cell_type": "markdown",
      "source": [
        "## ndarray의 차원과 크기를 변경하는 reshape()\n",
        "\n",
        "reshape 메서드는 ndarray를 특정 차원 및 크기로 변환한다. 변환을 원하는 크기를 함수 인자로 부여하면 된다."
      ],
      "metadata": {
        "id": "6UUgLqLkh-o8"
      }
    },
    {
      "cell_type": "code",
      "source": [
        "array1 = np.arange(10)\n",
        "print('array1:\\n', array1)\n",
        "\n",
        "array2 = array1.reshape(2,5)\n",
        "print('array2:\\n', array2)\n",
        "\n",
        "array3 = array1.reshape(5,2)\n",
        "print('array3:\\n', array3)"
      ],
      "metadata": {
        "colab": {
          "base_uri": "https://localhost:8080/"
        },
        "id": "JfcWnbo_iLtz",
        "outputId": "7a2c6c10-2b78-4292-ded6-93452a2d9f27"
      },
      "execution_count": null,
      "outputs": [
        {
          "output_type": "stream",
          "name": "stdout",
          "text": [
            "array1:\n",
            " [0 1 2 3 4 5 6 7 8 9]\n",
            "array2:\n",
            " [[0 1 2 3 4]\n",
            " [5 6 7 8 9]]\n",
            "array3:\n",
            " [[0 1]\n",
            " [2 3]\n",
            " [4 5]\n",
            " [6 7]\n",
            " [8 9]]\n"
          ]
        }
      ]
    },
    {
      "cell_type": "markdown",
      "source": [
        "reshape()는 지정된 사이즈로 변경이 불가능하면 오류를 발생한다."
      ],
      "metadata": {
        "id": "dmmLEgf1ijHQ"
      }
    },
    {
      "cell_type": "code",
      "source": [
        "# array1.reshape(4,3)"
      ],
      "metadata": {
        "id": "g5hiecg5io6E"
      },
      "execution_count": null,
      "outputs": []
    },
    {
      "cell_type": "markdown",
      "source": [
        "reshape()를 실전에서 더욱 효율적으로 사용하는 경우는 인자로 -1을 적용하는 경우이다. -1을 인자로 사용하면 원래 ndarray와 호환되는 새로운 shape로 변환해준다."
      ],
      "metadata": {
        "id": "auy86xMOislg"
      }
    },
    {
      "cell_type": "code",
      "source": [
        "array1 = np.arange(10)\n",
        "print(array1)\n",
        "\n",
        "array2 = array1.reshape(-1,5)\n",
        "print('array2 shape:', array2.shape)\n",
        "\n",
        "array3 = array1.reshape(5,-1)\n",
        "print('array3 shape', array3.shape)"
      ],
      "metadata": {
        "colab": {
          "base_uri": "https://localhost:8080/"
        },
        "id": "4BfOEbQUi1pb",
        "outputId": "4b0f711e-6125-478e-eaf6-21d4b03a40ca"
      },
      "execution_count": null,
      "outputs": [
        {
          "output_type": "stream",
          "name": "stdout",
          "text": [
            "[0 1 2 3 4 5 6 7 8 9]\n",
            "array2 shape: (2, 5)\n",
            "array3 shape (5, 2)\n"
          ]
        }
      ]
    },
    {
      "cell_type": "markdown",
      "source": [
        "array1은 1차원 ndarray로 0~9까지의 데이터를 갖고 있다.\n",
        "\n",
        "array2는 array1.reshape(-1,5)로, row 인자가 -1, column 인자가 5이다. 이건 array1과 호환될 수 있는 2차원 ndarray로 변환하되, 고정된 5개의 colun에 맞는 row를 자동으로 새롭게 생성해 변환하라는 의미이다. 즉, 10개의 1차원 데이터와 호환될 수 있는 고정된 5개 column에 맞는 row 개수는 2이므로 2*5의 2차원 ndarray로 변환하는 것이다.\n",
        "\n",
        "array1.reshape(5,-1)도 마찬가지이다. 10개의 1차원 데이터와 호환될 수 있는 고정된 5개의 row에 맞는 column은 2이므로 5*2의 2차원 ndarray로 변환하는 것이다.\n",
        "\n",
        "물론 -1을 사용하더라도 호환될 수 없는 형태는 변환할 수 없다."
      ],
      "metadata": {
        "id": "USMqLsHYjLd4"
      }
    },
    {
      "cell_type": "code",
      "source": [
        "array1 = np.arange(10)\n",
        "# array4 = array1.reshape(-1,4)"
      ],
      "metadata": {
        "id": "IpnyesDtkPSc"
      },
      "execution_count": null,
      "outputs": []
    },
    {
      "cell_type": "markdown",
      "source": [
        "-1 인자는 reshape(-1,1) 와 같은 형태로 자주 사용된다. reshape(-1,1)은 원본 ndarray가 어떤 형태라도 2차원이고, 여러 개의 row를 가지되 반드시 1개의 column을 가진 ndarray로 변환됨을 보장합니다.\n",
        "\n",
        "여러 개의 넘파이 ndarray는 stack이나 concat으로 결합할 때 각각의 ndarray의 형태를 통일해 유용하게 사용된다."
      ],
      "metadata": {
        "id": "ZChIYCxvkXuI"
      }
    },
    {
      "cell_type": "code",
      "source": [
        "array1 = np.arange(8)\n",
        "array3d = array1.reshape((2,2,2))\n",
        "print('array3d:\\n',array3d.tolist())\n",
        "\n",
        "# 3차원 ndarray를 2차원 ndarray로 변환\n",
        "array5 = array3d.reshape(-1,1)\n",
        "print('array5:\\n', array5.tolist())\n",
        "print('array5 shape:', array5.shape)\n",
        "\n",
        "# 1차원 ndarray를 2차원 ndarray로 변환\n",
        "array6 = array1.reshape(-1,1)\n",
        "print('array6:\\n', array6.tolist())\n",
        "print('array6 shape:',array6.shape)"
      ],
      "metadata": {
        "colab": {
          "base_uri": "https://localhost:8080/"
        },
        "id": "-14QVyPnm-ip",
        "outputId": "cb7fefc1-7aec-48b2-d253-4cf1e1738545"
      },
      "execution_count": null,
      "outputs": [
        {
          "output_type": "stream",
          "name": "stdout",
          "text": [
            "array3d:\n",
            " [[[0, 1], [2, 3]], [[4, 5], [6, 7]]]\n",
            "array5:\n",
            " [[0], [1], [2], [3], [4], [5], [6], [7]]\n",
            "array5 shape: (8, 1)\n",
            "array6:\n",
            " [[0], [1], [2], [3], [4], [5], [6], [7]]\n",
            "array6 shape: (8, 1)\n"
          ]
        }
      ]
    },
    {
      "cell_type": "markdown",
      "source": [
        "## 넘파이의 ndarray의 데이터 세트 선택하기 - 인덱싱(indexing)\n",
        "1.   특정한 데이터만 추출: 원하는 위치의 인덱스 값을 지정하면 해당 위치의 데이터가 반환\n",
        "2.   슬라이싱(Slicing): 슬라이싱은 연속된 인덱스상의 ndarray를 추출하는 방식이다. ':' 기호 사이에 시작 인덱스와 종료 인덱스를 표시하면 시작 인덱스에서 종료 인덱스-1 위치에 있는 데이터의 ndarray를 반환한다. 예를 들어 1:5라고 하면 시작 인덱스 1과 종료 인덱스 4까지에 해당하는 ndarray를 반환\n",
        "3.  팬시 인덱싱(Fancy Indexing): 일정한 인덱싱 집합을 리스트 또는 ndarray 형태로 지정해 해당 위치에 있는 데이터의 ndarray를 반환\n",
        "4.  불린 인덱싱(Boolean Indexing): 특정 조건에 해당하는지 여부인 True/False 값 인덱싱 집합을 기반으로 True에 해당하는 인덱스 위치에 있는 데이터의 ndarray를 반환"
      ],
      "metadata": {
        "id": "ex3PsWD8o28d"
      }
    },
    {
      "cell_type": "markdown",
      "source": [
        "### 단일 값 추출\n",
        "\n",
        "1개의 데이터 값을 선택하려면 ndarray 객체에 해당하는 위치의 인덱스 값을 [] 안에 입력하면 된다."
      ],
      "metadata": {
        "id": "VxRIAED4RYfR"
      }
    },
    {
      "cell_type": "code",
      "source": [
        "# 1부터 9까지의 1차원 ndarray 생성\n",
        "array1 = np.arange(start=1, stop=10)\n",
        "print('array1:', array1)\n",
        "\n",
        "# index는 0부터 시작하므로 array1[2]는 3번째 index 위치의 데이터값을 의미\n",
        "value = array1[2]\n",
        "print('value:',value)\n",
        "print(type(value))"
      ],
      "metadata": {
        "colab": {
          "base_uri": "https://localhost:8080/"
        },
        "id": "iPTv-_ZcRppo",
        "outputId": "e774cdbe-cf3a-4c15-cfe4-47a3d5eb74e6"
      },
      "execution_count": null,
      "outputs": [
        {
          "output_type": "stream",
          "name": "stdout",
          "text": [
            "array1: [1 2 3 4 5 6 7 8 9]\n",
            "value: 3\n",
            "<class 'numpy.int64'>\n"
          ]
        }
      ]
    },
    {
      "cell_type": "markdown",
      "source": [
        "array1[2]의 타입은 더 이상 ndarray 타입이 아니고 ndarray 내의 데이터 값을 의미한다. 인덱스에 마이너스 기호를 이용하면 맨 뒤에서부터 데이터를 추출할 수 있다."
      ],
      "metadata": {
        "id": "bN0pq-fpSCHP"
      }
    },
    {
      "cell_type": "code",
      "source": [
        "print('맨 뒤의 값:', array1[-1], ', 맨 뒤에서 두 번째 값:', array1[-2])"
      ],
      "metadata": {
        "colab": {
          "base_uri": "https://localhost:8080/"
        },
        "id": "1e2-V-boSLdK",
        "outputId": "cde19503-b628-4d47-dd7c-83d1655e7f38"
      },
      "execution_count": null,
      "outputs": [
        {
          "output_type": "stream",
          "name": "stdout",
          "text": [
            "맨 뒤의 값: 9 , 맨 뒤에서 두 번째 값: 8\n"
          ]
        }
      ]
    },
    {
      "cell_type": "markdown",
      "source": [
        "단일 인덱스를 이용해 ndarray 내으 데이터값도 간단히 수정 가능하다"
      ],
      "metadata": {
        "id": "MBKM5bVgSaW0"
      }
    },
    {
      "cell_type": "code",
      "source": [
        "array1[0] = 9\n",
        "array1[8] = 0\n",
        "print('array1:', array1)"
      ],
      "metadata": {
        "colab": {
          "base_uri": "https://localhost:8080/"
        },
        "id": "fBI59Mj0Sj9i",
        "outputId": "dc1c8dc2-e1f0-40c7-d62a-ac6c2a5ea100"
      },
      "execution_count": null,
      "outputs": [
        {
          "output_type": "stream",
          "name": "stdout",
          "text": [
            "array1: [9 2 3 4 5 6 7 8 0]\n"
          ]
        }
      ]
    },
    {
      "cell_type": "markdown",
      "source": [
        "다차원 ndarray에서 단일 값을 추출해보자.\n",
        "\n",
        "1차원과 2차원 ndarray에서의 데이터 접근의 차이는 2차원의 경우 콤마로 분리된 row와 column 위치의 인덱스를 통해 접근하는 것이다."
      ],
      "metadata": {
        "id": "zZhsORyISes4"
      }
    },
    {
      "cell_type": "code",
      "source": [
        "array1d = np.arange(start=1, stop=10)\n",
        "array2d = array1d.reshape(3,3)\n",
        "print(array2d)\n",
        "\n",
        "print('(row=0, col=0) index 가리키는 값:', array2d[0, 0])\n",
        "print('(row=0, col=1) index 가리키는 값:', array2d[0, 1])\n",
        "print('(row=1, col=0) index 가리키는 값:', array2d[1, 0])\n",
        "print('(row=2, col=2) index 가리키는 값:', array2d[2, 2])"
      ],
      "metadata": {
        "colab": {
          "base_uri": "https://localhost:8080/"
        },
        "id": "iTwzkdOXUoIw",
        "outputId": "f6fa0e41-6bd6-4f56-fea5-c3383942d758"
      },
      "execution_count": null,
      "outputs": [
        {
          "output_type": "stream",
          "name": "stdout",
          "text": [
            "[[1 2 3]\n",
            " [4 5 6]\n",
            " [7 8 9]]\n",
            "(row=0, col=0) index 가리키는 값: 1\n",
            "(row=0, col=1) index 가리키는 값: 2\n",
            "(row=1, col=0) index 가리키는 값: 4\n",
            "(row=2, col=2) index 가리키는 값: 9\n"
          ]
        }
      ]
    },
    {
      "cell_type": "markdown",
      "source": [
        "3개의 row 각각이 0,1,2의 인덱스로, 3개의 column 각각 0,1,2의 인덱스로 되어 있다. 따라서, array2d[0,0]은 첫 번째 row, 첫 번째 column 위치의 데이터인 1, array2d[0,1]은 첫 번째 row, 두 번째 column 위치의 데이터인 2, array2d[1,0]은 두 번째 row, 첫 번째 column 위치의 데이터인 4, array2d[2,2]는 세 번째 row, 세 번째 column 위치의 데이터인 9를 가리킨다."
      ],
      "metadata": {
        "id": "Aslee4wIVBpe"
      }
    },
    {
      "cell_type": "markdown",
      "source": [
        "또 주목해야 할 부분은 aixs 0과 axis 1이다. axis 0은 row 방향의 축, axis 1은 column 방향의 축을 의미한다. 즉, [row=0, col=1] 인덱싱은 [axis 0=0, axis1=1]이 정확한 표현이다. 2차원이므로 axis 0, axis 1로 구분되며, 3차원 ndarray의 경우는 axis 0, axis 1, axis 2로 3개의 축을 가지게 된다."
      ],
      "metadata": {
        "id": "_sLAc7JBVZcI"
      }
    },
    {
      "cell_type": "markdown",
      "source": [
        "### 슬라이싱\n",
        "\n",
        "':' 기호를 이용해 연속한 데이터를 슬라이싱해서 추출할 수 있다. 단일 데이터값 추출을 제외하고 슬라이싱, 팬시 인덱싱, 불린 인덱싱으로 추출한 데이터 세트는 모두 ndarray 타입이다. ':' 사이에 시작 인덱스와 종료 인덱스를 표시하면 시작 인덱스에서 종료 인덱스-1의 위치에 있는 데이터의 ndarray를 반환한다."
      ],
      "metadata": {
        "id": "bCLFuZ5LV1jK"
      }
    },
    {
      "cell_type": "code",
      "source": [
        "array1 = np.arange(start=1, stop=10)\n",
        "array3 = array1[0:3]\n",
        "print(array3)\n",
        "print(type(array3))"
      ],
      "metadata": {
        "colab": {
          "base_uri": "https://localhost:8080/"
        },
        "id": "4q2qmOPaWKQs",
        "outputId": "f1445f53-f0d6-40bc-e674-1896473ebc04"
      },
      "execution_count": null,
      "outputs": [
        {
          "output_type": "stream",
          "name": "stdout",
          "text": [
            "[1 2 3]\n",
            "<class 'numpy.ndarray'>\n"
          ]
        }
      ]
    },
    {
      "cell_type": "markdown",
      "source": [
        "슬라이싱 기호인 ':' 사이의 시작, 종료 인덱스는 생략이 가능하다.\n",
        "1. ':'기호 앞에 시작 인덱스를 생략하면 자동으로 맨 처음 인덱스인 0으로 간주\n",
        "2. ':'기호 뒤에 종료 인덱스를 생략하면 자동으로 맨 마지막 인덱스로 간주\n",
        "3. ':'기호 앞/뒤에 시작/종료 인덱스를 생략하면 자동으로 맨 처음/맨 마지막 인덱스로 간주"
      ],
      "metadata": {
        "id": "5H2op4nsWT_Q"
      }
    },
    {
      "cell_type": "code",
      "source": [
        "array1 = np.arange(start=1, stop=10)\n",
        "array4 = array1[:3]\n",
        "print(array4)\n",
        "\n",
        "array5 = array1[3:]\n",
        "print(array5)\n",
        "\n",
        "array6 = array1[:]\n",
        "print(array6)"
      ],
      "metadata": {
        "colab": {
          "base_uri": "https://localhost:8080/"
        },
        "id": "S3v_dlL2WkUM",
        "outputId": "e5666004-bbcb-46c1-eefd-aa9a3990ddec"
      },
      "execution_count": null,
      "outputs": [
        {
          "output_type": "stream",
          "name": "stdout",
          "text": [
            "[1 2 3]\n",
            "[4 5 6 7 8 9]\n",
            "[1 2 3 4 5 6 7 8 9]\n"
          ]
        }
      ]
    },
    {
      "cell_type": "markdown",
      "source": [
        "2차원 ndarray에서 슬라이싱에 접근해보자.\n",
        "\n",
        "2차원 ndarray에서의 슬라이싱도 1차원에서의 슬라이싱과 유사하며, 단지 콤마(,)로 row와 column 인덱스를 지칭하는 부분만 다르다."
      ],
      "metadata": {
        "id": "xttOXCVEW5D-"
      }
    },
    {
      "cell_type": "code",
      "source": [
        "array1d = np.arange(start=1, stop=10)\n",
        "array2d = array1d.reshape(3,3)\n",
        "print('array2d:\\n', array2d)\n",
        "\n",
        "print('array2d[0:2, 0:2] \\n', array2d[0:2, 0:2])\n",
        "print('array2d[1:3, 0:3] \\n', array2d[1:3, 0:3])\n",
        "print('array2d[1:3, :] \\n', array2d[1:3, :])\n",
        "print('array2d[:, :] \\n', array2d[:, :])\n",
        "print('array2d[:2, 1:] \\n', array2d[:2, 1:])\n",
        "print('array2d[:2, 0] \\n', array2d[:2, 0])"
      ],
      "metadata": {
        "colab": {
          "base_uri": "https://localhost:8080/"
        },
        "id": "lGlnsp46XB8n",
        "outputId": "61576f92-c149-48b2-8607-9a154af20dc4"
      },
      "execution_count": null,
      "outputs": [
        {
          "output_type": "stream",
          "name": "stdout",
          "text": [
            "array2d:\n",
            " [[1 2 3]\n",
            " [4 5 6]\n",
            " [7 8 9]]\n",
            "array2d[0:2, 0:2] \n",
            " [[1 2]\n",
            " [4 5]]\n",
            "array2d[1:3, 0:3] \n",
            " [[4 5 6]\n",
            " [7 8 9]]\n",
            "array2d[1:3, :] \n",
            " [[4 5 6]\n",
            " [7 8 9]]\n",
            "array2d[:, :] \n",
            " [[1 2 3]\n",
            " [4 5 6]\n",
            " [7 8 9]]\n",
            "array2d[:2, 1:] \n",
            " [[2 3]\n",
            " [5 6]]\n",
            "array2d[:2, 0] \n",
            " [1 4]\n"
          ]
        }
      ]
    },
    {
      "cell_type": "markdown",
      "source": [
        "1차원 ndarray에 슬라이싱을 적용한 경우와 유사하게 row, col 각각의 인덱스에 슬라이싱을 적용하면 된다. array2d[:2,0]과 같이 row나 col 축 한 쪽에만 슬라이싱을 적용하고, 다른 쪽 축에는 단일 값 인덱스를 적용해도 된다."
      ],
      "metadata": {
        "id": "xBmoQto0XpsK"
      }
    },
    {
      "cell_type": "code",
      "source": [
        "print(array2d[0])\n",
        "print(array2d[1])\n",
        "print('array2d[0] shape:', array2d[0].shape, 'array2d[1] shape:', array2d[1].shape)"
      ],
      "metadata": {
        "colab": {
          "base_uri": "https://localhost:8080/"
        },
        "id": "Z_1ls_1LX7gl",
        "outputId": "1b0bc6cc-7df8-4ac1-91fd-4dd191ce030e"
      },
      "execution_count": null,
      "outputs": [
        {
          "output_type": "stream",
          "name": "stdout",
          "text": [
            "[1 2 3]\n",
            "[4 5 6]\n",
            "array2d[0] shape: (3,) array2d[1] shape: (3,)\n"
          ]
        }
      ]
    },
    {
      "cell_type": "markdown",
      "source": [
        "2차원 ndarray에서 뒤에 오는 인덱스를 없애면 1차원 ndarray를 반환한다."
      ],
      "metadata": {
        "id": "XMtYrWiyX5Sd"
      }
    },
    {
      "cell_type": "markdown",
      "source": [
        "### 팬시 인덱싱\n",
        "팬시 인덱싱(Fancy Indexing)은 리스트나 ndarray로 인덱스 집합을 지정하면 해당 위치의 인덱스에 해당하는 ndarray를 반환하는 인덱싱 방식이다."
      ],
      "metadata": {
        "id": "vI3-simfXBii"
      }
    },
    {
      "cell_type": "code",
      "source": [
        "array1d = np.arange(start=1, stop=10)\n",
        "array2d = array1d.reshape(3,3)\n",
        "\n",
        "array3 = array2d[[0,1],2]\n",
        "print('array2d[[0,1],2]=>', array3.tolist())\n",
        "\n",
        "array4 = array2d[[0,1],0:2]\n",
        "print('array2d[[0,1],0:2]=>', array4.tolist())\n",
        "\n",
        "array5 = array2d[[0,1]]\n",
        "print('array2d[[0,1]]=>', array5.tolist())"
      ],
      "metadata": {
        "colab": {
          "base_uri": "https://localhost:8080/"
        },
        "id": "ByagkeapYfXD",
        "outputId": "94b03315-5963-4390-905a-ae3bc798ddea"
      },
      "execution_count": null,
      "outputs": [
        {
          "output_type": "stream",
          "name": "stdout",
          "text": [
            "array2d[[0,1],2]=> [3, 6]\n",
            "array2d[[0,1],0:2]=> [[1, 2], [4, 5]]\n",
            "array2d[[0,1]]=> [[1, 2, 3], [4, 5, 6]]\n"
          ]
        }
      ]
    },
    {
      "cell_type": "markdown",
      "source": [
        "array2d[[0,1],2] row 축에 팬시 인덱싱인 [0,1]을, col축에는 단일 값 인덱싱 2를 적용하였다. 따라서, (row, col) 인덱스가 (0,2),(1,2)로 적용되어 [3, 6]을 반환한다. array2d[[0,1],0:2]는 ((0,0),(0,1)), ((1,0),(1,1)) 인덱싱이 적용되어 [[1,2],[4,5]]를 반환한다. array2d[[0,1]]는 ((0,:),(1,:)) 인덱싱이 적용돼 [[1,2,3],[4,5,6]]을 반환한다."
      ],
      "metadata": {
        "id": "2SDRDR2kY_sx"
      }
    },
    {
      "cell_type": "markdown",
      "source": [
        "### 불린 인덱싱\n",
        "\n",
        "불린 인덱싱은 조건 필터링과 검색을 동시에 할 수 있기 때문에 자주 사용되는 인덱싱 방식이다. 불린 인덱싱을 이용하면 for loop/if else 문보다 훨씬 간단하게 구현할 수 있다. 불린 인덱싱은 ndarray의 인덱스를 지정하는 [] 내의 조건문을 그대로 기재하면 된다."
      ],
      "metadata": {
        "id": "tgOM7QIPZpRf"
      }
    },
    {
      "cell_type": "code",
      "source": [
        "array1d = np.arange(start=1, stop=10)\n",
        "# [] 안에 array1d > 5 Boolean indexing을 적용\n",
        "array3 = array1d[array1d > 5]\n",
        "print('array1d > 5 불린 인덱싱 결과 값: ', array3)"
      ],
      "metadata": {
        "colab": {
          "base_uri": "https://localhost:8080/"
        },
        "id": "Vo_S26NTZoZl",
        "outputId": "fad57d0a-5dcb-4579-bb25-801456d77723"
      },
      "execution_count": null,
      "outputs": [
        {
          "output_type": "stream",
          "name": "stdout",
          "text": [
            "array1d > 5 불린 인덱싱 결과 값:  [6 7 8 9]\n"
          ]
        }
      ]
    },
    {
      "cell_type": "markdown",
      "source": [
        "넘파이 ndarray 객체에 조건식 할당"
      ],
      "metadata": {
        "id": "5YQ0XkyyaKp2"
      }
    },
    {
      "cell_type": "code",
      "source": [
        "array1d > 5"
      ],
      "metadata": {
        "colab": {
          "base_uri": "https://localhost:8080/"
        },
        "id": "UyLAKsdmaOLf",
        "outputId": "64fe0d8f-6c51-4b86-acfa-bf3c1fd36c1b"
      },
      "execution_count": null,
      "outputs": [
        {
          "output_type": "execute_result",
          "data": {
            "text/plain": [
              "array([False, False, False, False, False,  True,  True,  True,  True])"
            ]
          },
          "metadata": {},
          "execution_count": 70
        }
      ]
    },
    {
      "cell_type": "markdown",
      "source": [
        "ndarray 객체에 조건식을 붙이면 False, True로 이루어진 ndarray 객체가 반환된다. 조거능로 반환된 이 ndarray 객체를 인덱싱을 지정하는 [] 내에 입력하면 False 값은 무시하고 True 값이 있는 위치 인덱스 값을 자동 변환해 해당하는 인덱스 위치의 데이터만 반환하게 된다."
      ],
      "metadata": {
        "id": "xocFzmNvaS4S"
      }
    },
    {
      "cell_type": "code",
      "source": [
        "boolean_indexes = np.array([False, False, False, False, False, True, True, True, True])\n",
        "array3 = array1d[boolean_indexes]\n",
        "print('불린 인덱스로 필터링 결과:', array3)"
      ],
      "metadata": {
        "colab": {
          "base_uri": "https://localhost:8080/"
        },
        "id": "xL0BUbOoag1T",
        "outputId": "86a15564-ef5f-4dfc-e4be-d1928d3ee85e"
      },
      "execution_count": null,
      "outputs": [
        {
          "output_type": "stream",
          "name": "stdout",
          "text": [
            "불린 인덱스로 필터링 결과: [6 7 8 9]\n"
          ]
        }
      ]
    },
    {
      "cell_type": "code",
      "source": [
        "indexes = np.array([5,6,7,8])\n",
        "array4 = array1d[indexes]\n",
        "print('일반 인덱스로 필터링 결과:', array4)"
      ],
      "metadata": {
        "colab": {
          "base_uri": "https://localhost:8080/"
        },
        "id": "EhLHl-Ola3nU",
        "outputId": "38482908-9f6e-4001-fb09-8db0cddde26b"
      },
      "execution_count": null,
      "outputs": [
        {
          "output_type": "stream",
          "name": "stdout",
          "text": [
            "일반 인덱스로 필터링 결과: [6 7 8 9]\n"
          ]
        }
      ]
    },
    {
      "cell_type": "markdown",
      "source": [
        "불린 ndarray를 만들고 이를 array1d[ ] 내에 인덱스로 입력한 것과 직접 인덱스 집합을 만들어 대입한 것이 동일함을 알 수 있다.\n",
        "\n",
        "불린 인덱싱이 동작하는 단계\n",
        "1. array1d > 5 와 같이 ndarray의 필터링 조건을 [ ] 안에 기재\n",
        "2. False 값은 무시하고, True 값에 해당하는 인덱스값만 저장 (유의해야 할 사항은 True값 자체인 1을 저장하는 것이 아니라 True값을 가진 인덱스를 저장하는 것이다)\n",
        "3. 저장한 인덱스 데이터 세트로 ndarray 조회"
      ],
      "metadata": {
        "id": "wfS_8QURa_PS"
      }
    },
    {
      "cell_type": "markdown",
      "source": [
        "## 행렬의 정렬 - sort()와 argsort()\n",
        "### 행렬 정렬\n",
        "넘파이의 행렬 정렬은 np.sort()와 같이 넘파이에서 sort()를 호출하는 방식과 ndarray.sort()와 같이 행렬 자체에서 sort()를 호출하는 방식이 있다. 두 방식의 차이는 np.sort()의 경우 원 행렬은 그대로 유지한 채 원 행렬의 정렬된 행렬을 반환하며, ndarray.sort()는 원 행렬 자체를 정렬한 형태로 변환하며 반환 값은 None이다."
      ],
      "metadata": {
        "id": "VSZKvpvQbeBA"
      }
    },
    {
      "cell_type": "code",
      "source": [
        "org_array = np.array([3,1,9,5])\n",
        "print('원본 행렬: ', org_array)\n",
        "# np.sort()로 정렬\n",
        "sort_array1 = np.sort(org_array)\n",
        "print('np.sort() 호출 후 반환된 정렬 행렬: ', sort_array1)\n",
        "print('np,sort() 호출 후 원본 행렬: ', org_array)\n",
        "# ndarray.sort()로 정렬\n",
        "sort_array2 = org_array.sort()\n",
        "print('org_array.sort() 호출 후 반환된 행렬: ', sort_array2)\n",
        "print('org_array.sort() 호출 후 원본 행렬: ', org_array)"
      ],
      "metadata": {
        "colab": {
          "base_uri": "https://localhost:8080/"
        },
        "id": "T-laNJQdbdRo",
        "outputId": "73a092fd-ac10-4cfc-eb9e-c06f9b1cab0f"
      },
      "execution_count": null,
      "outputs": [
        {
          "output_type": "stream",
          "name": "stdout",
          "text": [
            "원본 행렬:  [3 1 9 5]\n",
            "np.sort() 호출 후 반환된 정렬 행렬:  [1 3 5 9]\n",
            "np,sort() 호출 후 원본 행렬:  [3 1 9 5]\n",
            "org_array.sort() 호출 후 반환된 행렬:  None\n",
            "org_array.sort() 호출 후 원본 행렬:  [1 3 5 9]\n"
          ]
        }
      ]
    },
    {
      "cell_type": "markdown",
      "source": [
        "np.sort()나 ndarray.sort() 모두 기본적으로 오름차순 행렬 내 원소를 정렬한다. 내림차순으로 정렬하기 위해서는 [::-1]을 적용한다. np.sort()[::-1]과 같이 사용하면 된다."
      ],
      "metadata": {
        "id": "ngDd8F0Xcbil"
      }
    },
    {
      "cell_type": "code",
      "source": [
        "sort_array1_desc = np.sort(org_array)[::-1]\n",
        "print('내림차순으로 정렬: ', sort_array1_desc)"
      ],
      "metadata": {
        "colab": {
          "base_uri": "https://localhost:8080/"
        },
        "id": "XTohrS4vcn0H",
        "outputId": "bbe41852-b4eb-41c2-96ac-9c4b71149b65"
      },
      "execution_count": null,
      "outputs": [
        {
          "output_type": "stream",
          "name": "stdout",
          "text": [
            "내림차순으로 정렬:  [9 5 3 1]\n"
          ]
        }
      ]
    },
    {
      "cell_type": "markdown",
      "source": [
        "행렬이 2차원 이상일 경우에 axis 축 값 설정을 통해 row 방향 또는 col 방향으로 정렬을 수행할 수 있다."
      ],
      "metadata": {
        "id": "EZ9PDFUKcwxY"
      }
    },
    {
      "cell_type": "code",
      "source": [
        "array2d = np.array([[8,12],\n",
        "                    [7,1]])\n",
        "\n",
        "sort_array2d_axis0 = np.sort(array2d, axis=0)\n",
        "print('로우 방향으로 정렬: \\n', sort_array2d_axis0)\n",
        "\n",
        "sort_array2d_axis1 = np.sort(array2d, axis=1)\n",
        "print('칼럼 방향으로 정렬: \\n', sort_array2d_axis1)"
      ],
      "metadata": {
        "colab": {
          "base_uri": "https://localhost:8080/"
        },
        "id": "mrQLoeRjcwTn",
        "outputId": "d73b597c-f32f-4229-afaf-742217037fc9"
      },
      "execution_count": null,
      "outputs": [
        {
          "output_type": "stream",
          "name": "stdout",
          "text": [
            "로우 방향으로 정렬: \n",
            " [[ 7  1]\n",
            " [ 8 12]]\n",
            "칼럼 방향으로 정렬: \n",
            " [[ 8 12]\n",
            " [ 1  7]]\n"
          ]
        }
      ]
    },
    {
      "cell_type": "markdown",
      "source": [
        "### 정렬된 행렬의 인덱스를 반환하기\n",
        "원본 행렬이 정렬되었을 때 기존 원본 행렬의 원소에 대한 인덱스를 필요로 할 때, np.argsort()를 이용한다."
      ],
      "metadata": {
        "id": "UDX3VYJndMDa"
      }
    },
    {
      "cell_type": "code",
      "source": [
        "org_array = np.array([3,1,9,5])\n",
        "sort_indices = np.argsort(org_array)\n",
        "print(type(sort_indices))\n",
        "print('행렬 정렬 시 원본 행렬의 인덱스: ', sort_indices)"
      ],
      "metadata": {
        "colab": {
          "base_uri": "https://localhost:8080/"
        },
        "id": "V4xvv98zdUSr",
        "outputId": "0486232a-9d65-4c3b-ebe0-8550c58b2a7d"
      },
      "execution_count": null,
      "outputs": [
        {
          "output_type": "stream",
          "name": "stdout",
          "text": [
            "<class 'numpy.ndarray'>\n",
            "행렬 정렬 시 원본 행렬의 인덱스:  [1 0 3 2]\n"
          ]
        }
      ]
    },
    {
      "cell_type": "markdown",
      "source": [
        "오름차순이 아닌 내림차순으로 정렬 시에는 np.argsort()[::-1]과 같이 [::-1]을 적용하면 된다."
      ],
      "metadata": {
        "id": "GENxqJj4dhYr"
      }
    },
    {
      "cell_type": "code",
      "source": [
        "org_array = np.array([3,1,9,5])\n",
        "sort_indices_desc = np.argsort(org_array)[::-1]\n",
        "print('행렬 내림차순 정렬 시 원본 행렬의 인덱스: ', sort_indices_desc)"
      ],
      "metadata": {
        "colab": {
          "base_uri": "https://localhost:8080/"
        },
        "id": "MSfZ5feXdnt7",
        "outputId": "5c4dca3a-14dc-4b83-fbb6-5305b346e1a2"
      },
      "execution_count": null,
      "outputs": [
        {
          "output_type": "stream",
          "name": "stdout",
          "text": [
            "행렬 내림차순 정렬 시 원본 행렬의 인덱스:  [2 3 0 1]\n"
          ]
        }
      ]
    },
    {
      "cell_type": "markdown",
      "source": [
        "넘파이 ndarray는 RDBMS의 TABLE 칼럼이나 판다스 DataFrame 칼럼과 같은 메타 데이터를 가질 수 없다. 따라서 실제 값과 그 값이 뜻하는 메타 데이터를 별도의 ndarray로 각각 가져야 하므로 argsort()는 넘파이에서 매우 활용도가 높다."
      ],
      "metadata": {
        "id": "g9YBvX7Md4dG"
      }
    },
    {
      "cell_type": "code",
      "source": [
        "import numpy as np\n",
        "\n",
        "name_array = np.array(['John','Mike','Sarah','Kate','Samuel'])\n",
        "score_array = np.array([78,95,84,98,88])\n",
        "\n",
        "sort_indices_asc = np.argsort(score_array)\n",
        "print('성적 오름차순 정렬 시 score_array의 인덱스: ', sort_indices_asc)\n",
        "print('성적 오름차순으로 name_array의 이름 출력: ', name_array[sort_indices_asc])"
      ],
      "metadata": {
        "colab": {
          "base_uri": "https://localhost:8080/"
        },
        "id": "k8Ic_qzieD-W",
        "outputId": "56614bd4-3977-4614-9316-03ecc8bd31e0"
      },
      "execution_count": null,
      "outputs": [
        {
          "output_type": "stream",
          "name": "stdout",
          "text": [
            "성적 오름차순 정렬 시 score_array의 인덱스:  [0 2 4 1 3]\n",
            "성적 오름차순으로 name_array의 이름 출력:  ['John' 'Sarah' 'Samuel' 'Mike' 'Kate']\n"
          ]
        }
      ]
    },
    {
      "cell_type": "markdown",
      "source": [
        "## 선형대수 연산 - 행렬 내적과 전치 행렬 구하기\n",
        "### 행렬 내적(행렬 곱)\n",
        "두 행렬 A와 B의 내적은 np.dot()을 이용해 계산이 가능하다. 행렬 내적의 특성으로 왼쪽 행렬의 열 개수와 오른쪽 행렬의 행 개수가 동일해야 내적 연산이 가능하다."
      ],
      "metadata": {
        "id": "zTTrkxSCehSa"
      }
    },
    {
      "cell_type": "code",
      "source": [
        "A = np.array([[1,2,3],\n",
        "              [4,5,6]])\n",
        "\n",
        "B = np.array([[7,8],\n",
        "              [9,10],\n",
        "              [11,12]])\n",
        "\n",
        "dot_product = np.dot(A,B)\n",
        "print('행렬 내적 결과: \\n', dot_product)"
      ],
      "metadata": {
        "colab": {
          "base_uri": "https://localhost:8080/"
        },
        "id": "Pd4NvIXXexSn",
        "outputId": "60e06596-e4fd-48da-f85d-a81662cb9c73"
      },
      "execution_count": null,
      "outputs": [
        {
          "output_type": "stream",
          "name": "stdout",
          "text": [
            "행렬 내적 결과: \n",
            " [[ 58  64]\n",
            " [139 154]]\n"
          ]
        }
      ]
    },
    {
      "cell_type": "markdown",
      "source": [
        "### 전치 행렬\n",
        "원 행렬에서 행과 열 위치를 교환한 원소로 구성한 행렬을 그 행렬의 전치행렬이라고 한다. 넘파이의 transpose()를 이용해 전치 행렬을 쉽게 구할 수 있다."
      ],
      "metadata": {
        "id": "VsY15AR_fBrJ"
      }
    },
    {
      "cell_type": "code",
      "source": [
        "A = np.array([[1,2],\n",
        "              [3,4]])\n",
        "transpose_mat = np.transpose(A)\n",
        "print('A의 전치 행렬: \\n', transpose_mat)"
      ],
      "metadata": {
        "colab": {
          "base_uri": "https://localhost:8080/"
        },
        "id": "yGr5F1aqfK90",
        "outputId": "2a4551c4-a296-458a-8e3d-40f8bb46056d"
      },
      "execution_count": null,
      "outputs": [
        {
          "output_type": "stream",
          "name": "stdout",
          "text": [
            "A의 전치 행렬: \n",
            " [[1 3]\n",
            " [2 4]]\n"
          ]
        }
      ]
    }
  ]
}
