{
  "nbformat": 4,
  "nbformat_minor": 0,
  "metadata": {
    "colab": {
      "provenance": [],
      "authorship_tag": "ABX9TyMynwz9vdCPpNDhilNmT2+E",
      "include_colab_link": true
    },
    "kernelspec": {
      "name": "python3",
      "display_name": "Python 3"
    },
    "language_info": {
      "name": "python"
    }
  },
  "cells": [
    {
      "cell_type": "markdown",
      "metadata": {
        "id": "view-in-github",
        "colab_type": "text"
      },
      "source": [
        "<a href=\"https://colab.research.google.com/github/yunju-1118/ESAA/blob/OB/ESAA_OB_week03_1_unsupervised.ipynb\" target=\"_parent\"><img src=\"https://colab.research.google.com/assets/colab-badge.svg\" alt=\"Open In Colab\"/></a>"
      ]
    },
    {
      "cell_type": "markdown",
      "source": [
        "# **비지도 학습**\n",
        "\n",
        "비지도 학습은 입력 특성 $x$는 있지만, 레이블 $y$는 없는 학습이다.이러한 비지도 학습의 방법에는 **군집, 이상치 탐지, 밀도 추정** 등이 있다."
      ],
      "metadata": {
        "id": "_DI5etUItd-S"
      }
    },
    {
      "cell_type": "markdown",
      "source": [
        "## **1) 군집**\n",
        "군집화는 비슷한 샘플을 구별해 하나의 **클러스터** 또는 비슷한 샘플의 그룹으로 할당하는 작업이다.\n",
        "\n",
        "분류와 마찬가지로 각 샘플은 하나의 그룹에 할당된다. 하지만 분류와 달리 군집은 비지도 학습이다. 군집은 다음과 같은 다양한 애플리케이션에 사용된다.\n",
        "\n",
        "- **고객 분류**\n",
        "    - 고객을 구매 이력이나 웹사이트 내 행동 등을 기반으로 클러스터로 모을 수 있다. 이는 고객이 누구인지, 고객이 무엇을 원하는지 이해하는 데 도움이 된다. 고객 그룹마다 제품 추천이나 마케팅 전략을 다르게 적용할 수 있다. 예를 들어 동일한 클러스터 내의 사용자가 좋아하는 컨텐츠를 추천하는 **추천시스템**을 만들 수 있다.\n",
        "\n",
        "- **데이터 분석**\n",
        "    - 새로운 데이터셋을 분석할 때 군집 알고리즘을 실행하고 각 클러스터를 따로 분석하면 도움이 된다.\n",
        "\n",
        "- **차원 축소 기법**\n",
        "    - 한 데이터셋에 군집 알고리즘을 적용하면 각 클러스터에 대한 샘플의 **친화성**을 측정할 수 있다. 이 벡터는 일반적으로 원본 특성 벡터보다 훨씬 저차원이지만 분석을 위한 충분한 정보를 가질 수 있다.\n",
        "\n",
        "- **이상치 탐지**\n",
        "    - 모든 클러스터에 친화성이 낮은 샘플은 이상치일 가능성이 높다. 이상치 탐지는 특히 제조 분야에서 결함을 감지할 때 유용하다. 또는 **부정 거래 감지**에 활용된다.\n",
        "\n",
        "- **준지도 학습**\n",
        "    - 레이블된 샘플이 적다면 군집을 수행하고 동일한 클러스터에 있는 모든 샘플에 레이블을 전파할 수 있다. 이 기법은 이어지는 지도 학습 알고리즘에 필요한 레이블이 크게 증가해 성능을 크게 향상한다.\n",
        "\n",
        "- **검색 엔진**\n",
        "    - 일부 검색 엔진은 제시된 이미지와 비슷한 이미지를 찾아준다. 이런 시스템을 구축하려면 먼저 데이터베이스에 있는 모든 이미지에 군집 알고리즘을 적용해야 한다.\n",
        "\n",
        "- **이미지 분할**\n",
        "    - 색을 기반으로 픽셀을 클러스터로 모은다. 그 다음 각 픽셀의 색을 해당 클러스터의 평균 색으로 바꾼다. 이렇게 하면 물체의 윤곽을 감지하기 쉬워져 물체 탐지 및 추적 시스템에서 이미지 분할을 많이 활용한다.\n",
        "\n",
        "클러스터는 어떤 모양이든 될 수 있으며, 어떤 알고리즘은 계층적으로 클러스터의 클러스터를 찾는다."
      ],
      "metadata": {
        "id": "wI0qSwVxt81g"
      }
    },
    {
      "cell_type": "markdown",
      "source": [
        "### **1.1) k-평균**\n",
        "\n",
        "k-평균은 반복 몇 번으로 데이터셋을 빠르고 효율적으로 클러스터로 묶을 수 있는 간단한 알고리즘이다.\n",
        "\n",
        "데이터셋에 k-평균 알고리즘을 훈련해보자. 이 알고리즘은 각 클러스터의 중심을 찾고 가장 가까운 클러스터에 샘플을 할당한다."
      ],
      "metadata": {
        "id": "trGRBBu8wN82"
      }
    },
    {
      "cell_type": "code",
      "source": [
        "# 데이터 불러오기\n",
        "from sklearn.datasets import make_blobs\n",
        "import numpy as np\n",
        "\n",
        "\n",
        "# make_blobs()의 정확한 인수는 중요하지 않습니다.\n",
        "blob_centers = np.array([[ 0.2, 2.3], [-1.5 , 2.3], [-2.8, 1.8],\n",
        "[-2.8, 2.8], [-2.8, 1.3]])\n",
        "blob_std = np.array([0.4, 0.3, 0.1, 0.1, 0.1])\n",
        "X, y = make_blobs(n_samples=2000, centers=blob_centers, cluster_std=blob_std,\n",
        "random_state=7)"
      ],
      "metadata": {
        "id": "qFPJ53rUwrSy"
      },
      "execution_count": 2,
      "outputs": []
    },
    {
      "cell_type": "code",
      "execution_count": 3,
      "metadata": {
        "id": "z5riqgUrtTB9"
      },
      "outputs": [],
      "source": [
        "from sklearn.cluster import KMeans\n",
        "k=5\n",
        "kmeans = KMeans(n_clusters=k)\n",
        "y_pred = kmeans.fit_predict(X)"
      ]
    },
    {
      "cell_type": "markdown",
      "source": [
        "각 샘플은 다섯 개의 클러스터 중 하나에 할당된다. 군집에서 각 샘플의 **레이블**은 알고리즘이 샘플에 할당한 클러스터의 인덱스이다. KMeans 클래스의 인스턴스는 labels_ 인스턴스 변수에 훈련된 샘플의 레이블을 가지고 있다."
      ],
      "metadata": {
        "id": "3eOFu7mBwx-b"
      }
    },
    {
      "cell_type": "code",
      "source": [
        "print(y_pred)\n",
        "print(y_pred is kmeans.labels_)"
      ],
      "metadata": {
        "colab": {
          "base_uri": "https://localhost:8080/"
        },
        "id": "1wSaliakw87x",
        "outputId": "9282e3f3-bb73-4e30-d05c-6bd52ab46644"
      },
      "execution_count": 5,
      "outputs": [
        {
          "output_type": "stream",
          "name": "stdout",
          "text": [
            "[2 2 4 ... 1 0 2]\n",
            "True\n"
          ]
        }
      ]
    },
    {
      "cell_type": "markdown",
      "source": [
        "이 알고리즘이 찾은 **센트로이드** 다섯 개도 확인할 수 있다."
      ],
      "metadata": {
        "id": "bgSPEpZHxFSh"
      }
    },
    {
      "cell_type": "code",
      "source": [
        "kmeans.cluster_centers_"
      ],
      "metadata": {
        "colab": {
          "base_uri": "https://localhost:8080/"
        },
        "id": "R8Vdkr5Rw8bG",
        "outputId": "7986297a-2457-4ac2-c6af-38debe40fa9e"
      },
      "execution_count": 6,
      "outputs": [
        {
          "output_type": "execute_result",
          "data": {
            "text/plain": [
              "array([[ 0.06154126,  2.58026834],\n",
              "       [-2.79290307,  2.79641063],\n",
              "       [-2.80214068,  1.55162671],\n",
              "       [-1.47083264,  2.28276928],\n",
              "       [ 0.32780688,  1.98072917]])"
            ]
          },
          "metadata": {},
          "execution_count": 6
        }
      ]
    },
    {
      "cell_type": "markdown",
      "source": [
        "새로운 샘플에 가장 가까운 센트로이드의 클러스터를 할당할 수 있다."
      ],
      "metadata": {
        "id": "lReAE74vxMJU"
      }
    },
    {
      "cell_type": "code",
      "source": [
        "X_new = np.array([[0,2],[3,2],[-3,3],[-3,2.5]])\n",
        "kmeans.predict(X_new)"
      ],
      "metadata": {
        "colab": {
          "base_uri": "https://localhost:8080/"
        },
        "id": "BxMRFTXyxP5t",
        "outputId": "1b7d5e76-996a-4597-d14d-0ca7970494e2"
      },
      "execution_count": 7,
      "outputs": [
        {
          "output_type": "execute_result",
          "data": {
            "text/plain": [
              "array([4, 4, 1, 1], dtype=int32)"
            ]
          },
          "metadata": {},
          "execution_count": 7
        }
      ]
    },
    {
      "cell_type": "markdown",
      "source": [
        "클러스터의 결정 경계를 그려보면 보로노이 다이어그램을 얻을 수 있다.\n",
        "\n",
        "대부분의 샘플은 적절한 클러스터에 잘 할당되었으나, 샘플 몇 개는 레이블이 잘못 부여되었다. 실제 k-평균 알고리즘은 클러스터의 크기가 많이 다르면 잘 작동하지 않는다.\n",
        "\n",
        "**하드 군집**이라는 샘플을 하나의 클러스터에 할당하는 것보다 클러스터마다 샘플에 점수를 부여하는 것이 유용할 수 있다. 이를 **소프트 군집**이라고 한다. 이 점수는 샘플과 센트로이드 사이의 거리가 될 수 있다. KMeans 클래스의 transform( ) 메서드는 샘플과 각 센트로이드 사이의 거리를 반환한다."
      ],
      "metadata": {
        "id": "tZ_q7JjkxXeg"
      }
    },
    {
      "cell_type": "code",
      "source": [
        "kmeans.transform(X_new)"
      ],
      "metadata": {
        "colab": {
          "base_uri": "https://localhost:8080/"
        },
        "id": "iFYrOGFex4NK",
        "outputId": "a61bb6df-82dd-4b6b-d7a3-28a4372d965e"
      },
      "execution_count": 8,
      "outputs": [
        {
          "output_type": "execute_result",
          "data": {
            "text/plain": [
              "array([[0.58352264, 2.9042344 , 2.83778629, 1.49776738, 0.32837283],\n",
              "       [2.99520469, 5.84739223, 5.81943941, 4.47976595, 2.6722626 ],\n",
              "       [3.09017953, 0.29040966, 1.4618254 , 1.68901531, 3.48040395],\n",
              "       [3.06259333, 0.36159148, 0.96879317, 1.54451999, 3.36807673]])"
            ]
          },
          "metadata": {},
          "execution_count": 8
        }
      ]
    },
    {
      "cell_type": "markdown",
      "source": [
        "X_new에 있는 첫 번째 샘플이 첫 번째 센트로이드에서 0.58, 두번째 센트로이드에서 2.90, ... 만큼 떨어져있따. 고차원 데이터셋을 이런 방식으로 변환하면 k-차원 데이터셋이 만들어진다. 이 변환은 매우 효율적인 비선형 차원 축소 기법이 될 수 있다."
      ],
      "metadata": {
        "id": "NoGXs4KJx7Je"
      }
    },
    {
      "cell_type": "markdown",
      "source": [
        "#### **k-평균 알고리즘**\n",
        "k-평균의 알고리즘 작동 방식에 대해 알아보자.\n",
        "\n",
        "처음에는 센트로이드를 랜덤하게 선정한다. 그 다음 샘플에 레이블을 할당하고 센트로이드를 업데이트하고, 샘플에 레이블을 할당하고 센트로이드를 업데이트하는 식으로 센트로이드에 변화가 없을 때까지 계속 반복한다. 이 알고리즘은 제한된 횟수 안에 수렴하는 것을 보장한다.\n",
        "\n",
        "이 알고리즘이 수렴하는 것이 보장되지만 적절한 솔루션으로 수렴하지 못할 수도 있다. 이 여부는 센트로이드 초기화에 달려있다.\n",
        "\n",
        "#### **센트로이드 초기화 방법**\n",
        "센트로이드 위치를 근사하게 알 수 있다면 init 매개변수에 센트로이드 리스트를 담은 넘파이 배열을 지정하고 n_init를 1로 설정할 수 있다."
      ],
      "metadata": {
        "id": "f-8oE1ICyLMW"
      }
    },
    {
      "cell_type": "code",
      "source": [
        "good_init = np.array([[-3,3],[-3,2],[-3,1],[-3,2],[0,2]])\n",
        "kmeans = KMeans(n_clusters=5, init=good_init, n_init=1)"
      ],
      "metadata": {
        "id": "9d8_Bc7_yxCP"
      },
      "execution_count": 9,
      "outputs": []
    },
    {
      "cell_type": "markdown",
      "source": [
        "또 다른 방법은 랜덤 초기화를 다르게 하여 여러 번 알고리즘을 실행하고 가장 좋은 솔루션을 선택하는 것이다. 랜덤 초기화 횟수는 n_init 매개변수로 조절되며 default는 10이다. 사이킷런은 각 샘플과 가장 가까운 센트로이드 사이의 평균 제곱 거리인 **이너셔**를 바탕으로 최선의 솔루션을 반환한다. inertia_ 인스턴스 변수로 모델의 이너셔를 확인할 수 있다."
      ],
      "metadata": {
        "id": "apzg1Xwry8rj"
      }
    },
    {
      "cell_type": "code",
      "source": [
        "kmeans.fit_predict(X)\n",
        "kmeans.inertia_"
      ],
      "metadata": {
        "colab": {
          "base_uri": "https://localhost:8080/"
        },
        "id": "356es6tQzRqf",
        "outputId": "4bc1d2f0-219a-4c89-9dc3-cf75501ed871"
      },
      "execution_count": 11,
      "outputs": [
        {
          "output_type": "execute_result",
          "data": {
            "text/plain": [
              "236.63519259650337"
            ]
          },
          "metadata": {},
          "execution_count": 11
        }
      ]
    },
    {
      "cell_type": "markdown",
      "source": [
        "score( )  메서드는 이너셔의 음숫값을 반환한다. 한 예측기가 다른 것보다 좋다면 score( ) 메서드가 더 높은 값을 반환해야 한다."
      ],
      "metadata": {
        "id": "bsbkpDzIzamZ"
      }
    },
    {
      "cell_type": "code",
      "source": [
        "kmeans.score(X)"
      ],
      "metadata": {
        "colab": {
          "base_uri": "https://localhost:8080/"
        },
        "id": "gBKmD9XxzgQP",
        "outputId": "f0c29935-05f2-463f-e0d2-0b00a9451820"
      },
      "execution_count": 13,
      "outputs": [
        {
          "output_type": "execute_result",
          "data": {
            "text/plain": [
              "-236.63519259650337"
            ]
          },
          "metadata": {},
          "execution_count": 13
        }
      ]
    },
    {
      "cell_type": "markdown",
      "source": [
        "David Arthur와 Sergei Vassilvitskii는 2006년 논문에서 k-평균++ 알고리즘을 제안했다. 이 논문에서 다른 센트로이드와 거리가 먼 센트로이드를 선택하는 초기화 단계를 소개했다. 이 방법은 최적의 솔루션을 찾기 위해 실행한 알고리즘 반복 횟수를 크게 줄일 수 있다.\n",
        "1. 데이터셋에서 무작위로 균등하게 하나의 센트로이드 $c^{(i)}$을 선택한다.\n",
        "2. $D(x^{(i)})^2 / \\sum D(x^{(j)})^2$의 확률로 샘플 $x^{(i)}$를 새로운 센트로이드 $c^{(i)}$로 선택한다. 이 확률 분포는 이미 선택한 센트로이드에서 멀리 떨어진 샘플을 다음 세느로이드로 선택할 가능성을 높인다.\n",
        "3. $k$개의 센트로이드가 선택될 때까지 이전 단계를 반복한다."
      ],
      "metadata": {
        "id": "rsgws8BPzk-y"
      }
    },
    {
      "cell_type": "markdown",
      "source": [
        "#### **k-평균 속도 개선과 미니배치 k-평균**\n",
        "2013년 Charles Elkan의 논문에서 k-평균 알고리즘에 대해 불필요한 거리 계산을 많이 피함으로서 알고리즘의 속도를 상당히 높였다. Elkan은 이를 위해 삼각 부등식을 사용했다. 그리고 샘플과 센트로이드 사이의 거리를 위한 하한선과 상한선을 유지했다. 이 알고리즘은 KMeans 클래스에서 기본으로 사용한다.\n",
        "\n",
        "2010년 David Sculley의 논문에서 k-평균 알고리즘을 전체 데이터셋을 사용해 반복하지 않고 이 알고리즘은 각 반복마다 미니배치를 사용해 센트로이드를 족믔기 이동했다. 이는 일반적으로 알고리즘의 속도를 3배에서 4배 정도 높인다. 또한, 메모리에 들어가지 않는 대량의 데이터셋에 군집 알고리즘을 적용할 수 있다. 사이킷런은 MiniBatchKMeans 클래스에 이 알고리즘을 구현했다."
      ],
      "metadata": {
        "id": "O10I2Iux0kQZ"
      }
    },
    {
      "cell_type": "code",
      "source": [
        "from sklearn.cluster import MiniBatchKMeans\n",
        "\n",
        "minibatch_kmeans = MiniBatchKMeans(n_clusters=5)\n",
        "minibatch_kmeans.fit(X)"
      ],
      "metadata": {
        "colab": {
          "base_uri": "https://localhost:8080/",
          "height": 80
        },
        "id": "CpB9Xs8o1Nmm",
        "outputId": "97c7db0f-cc62-4ef4-a71c-c6c4a396f407"
      },
      "execution_count": 14,
      "outputs": [
        {
          "output_type": "execute_result",
          "data": {
            "text/plain": [
              "MiniBatchKMeans(n_clusters=5)"
            ],
            "text/html": [
              "<style>#sk-container-id-1 {\n",
              "  /* Definition of color scheme common for light and dark mode */\n",
              "  --sklearn-color-text: #000;\n",
              "  --sklearn-color-text-muted: #666;\n",
              "  --sklearn-color-line: gray;\n",
              "  /* Definition of color scheme for unfitted estimators */\n",
              "  --sklearn-color-unfitted-level-0: #fff5e6;\n",
              "  --sklearn-color-unfitted-level-1: #f6e4d2;\n",
              "  --sklearn-color-unfitted-level-2: #ffe0b3;\n",
              "  --sklearn-color-unfitted-level-3: chocolate;\n",
              "  /* Definition of color scheme for fitted estimators */\n",
              "  --sklearn-color-fitted-level-0: #f0f8ff;\n",
              "  --sklearn-color-fitted-level-1: #d4ebff;\n",
              "  --sklearn-color-fitted-level-2: #b3dbfd;\n",
              "  --sklearn-color-fitted-level-3: cornflowerblue;\n",
              "\n",
              "  /* Specific color for light theme */\n",
              "  --sklearn-color-text-on-default-background: var(--sg-text-color, var(--theme-code-foreground, var(--jp-content-font-color1, black)));\n",
              "  --sklearn-color-background: var(--sg-background-color, var(--theme-background, var(--jp-layout-color0, white)));\n",
              "  --sklearn-color-border-box: var(--sg-text-color, var(--theme-code-foreground, var(--jp-content-font-color1, black)));\n",
              "  --sklearn-color-icon: #696969;\n",
              "\n",
              "  @media (prefers-color-scheme: dark) {\n",
              "    /* Redefinition of color scheme for dark theme */\n",
              "    --sklearn-color-text-on-default-background: var(--sg-text-color, var(--theme-code-foreground, var(--jp-content-font-color1, white)));\n",
              "    --sklearn-color-background: var(--sg-background-color, var(--theme-background, var(--jp-layout-color0, #111)));\n",
              "    --sklearn-color-border-box: var(--sg-text-color, var(--theme-code-foreground, var(--jp-content-font-color1, white)));\n",
              "    --sklearn-color-icon: #878787;\n",
              "  }\n",
              "}\n",
              "\n",
              "#sk-container-id-1 {\n",
              "  color: var(--sklearn-color-text);\n",
              "}\n",
              "\n",
              "#sk-container-id-1 pre {\n",
              "  padding: 0;\n",
              "}\n",
              "\n",
              "#sk-container-id-1 input.sk-hidden--visually {\n",
              "  border: 0;\n",
              "  clip: rect(1px 1px 1px 1px);\n",
              "  clip: rect(1px, 1px, 1px, 1px);\n",
              "  height: 1px;\n",
              "  margin: -1px;\n",
              "  overflow: hidden;\n",
              "  padding: 0;\n",
              "  position: absolute;\n",
              "  width: 1px;\n",
              "}\n",
              "\n",
              "#sk-container-id-1 div.sk-dashed-wrapped {\n",
              "  border: 1px dashed var(--sklearn-color-line);\n",
              "  margin: 0 0.4em 0.5em 0.4em;\n",
              "  box-sizing: border-box;\n",
              "  padding-bottom: 0.4em;\n",
              "  background-color: var(--sklearn-color-background);\n",
              "}\n",
              "\n",
              "#sk-container-id-1 div.sk-container {\n",
              "  /* jupyter's `normalize.less` sets `[hidden] { display: none; }`\n",
              "     but bootstrap.min.css set `[hidden] { display: none !important; }`\n",
              "     so we also need the `!important` here to be able to override the\n",
              "     default hidden behavior on the sphinx rendered scikit-learn.org.\n",
              "     See: https://github.com/scikit-learn/scikit-learn/issues/21755 */\n",
              "  display: inline-block !important;\n",
              "  position: relative;\n",
              "}\n",
              "\n",
              "#sk-container-id-1 div.sk-text-repr-fallback {\n",
              "  display: none;\n",
              "}\n",
              "\n",
              "div.sk-parallel-item,\n",
              "div.sk-serial,\n",
              "div.sk-item {\n",
              "  /* draw centered vertical line to link estimators */\n",
              "  background-image: linear-gradient(var(--sklearn-color-text-on-default-background), var(--sklearn-color-text-on-default-background));\n",
              "  background-size: 2px 100%;\n",
              "  background-repeat: no-repeat;\n",
              "  background-position: center center;\n",
              "}\n",
              "\n",
              "/* Parallel-specific style estimator block */\n",
              "\n",
              "#sk-container-id-1 div.sk-parallel-item::after {\n",
              "  content: \"\";\n",
              "  width: 100%;\n",
              "  border-bottom: 2px solid var(--sklearn-color-text-on-default-background);\n",
              "  flex-grow: 1;\n",
              "}\n",
              "\n",
              "#sk-container-id-1 div.sk-parallel {\n",
              "  display: flex;\n",
              "  align-items: stretch;\n",
              "  justify-content: center;\n",
              "  background-color: var(--sklearn-color-background);\n",
              "  position: relative;\n",
              "}\n",
              "\n",
              "#sk-container-id-1 div.sk-parallel-item {\n",
              "  display: flex;\n",
              "  flex-direction: column;\n",
              "}\n",
              "\n",
              "#sk-container-id-1 div.sk-parallel-item:first-child::after {\n",
              "  align-self: flex-end;\n",
              "  width: 50%;\n",
              "}\n",
              "\n",
              "#sk-container-id-1 div.sk-parallel-item:last-child::after {\n",
              "  align-self: flex-start;\n",
              "  width: 50%;\n",
              "}\n",
              "\n",
              "#sk-container-id-1 div.sk-parallel-item:only-child::after {\n",
              "  width: 0;\n",
              "}\n",
              "\n",
              "/* Serial-specific style estimator block */\n",
              "\n",
              "#sk-container-id-1 div.sk-serial {\n",
              "  display: flex;\n",
              "  flex-direction: column;\n",
              "  align-items: center;\n",
              "  background-color: var(--sklearn-color-background);\n",
              "  padding-right: 1em;\n",
              "  padding-left: 1em;\n",
              "}\n",
              "\n",
              "\n",
              "/* Toggleable style: style used for estimator/Pipeline/ColumnTransformer box that is\n",
              "clickable and can be expanded/collapsed.\n",
              "- Pipeline and ColumnTransformer use this feature and define the default style\n",
              "- Estimators will overwrite some part of the style using the `sk-estimator` class\n",
              "*/\n",
              "\n",
              "/* Pipeline and ColumnTransformer style (default) */\n",
              "\n",
              "#sk-container-id-1 div.sk-toggleable {\n",
              "  /* Default theme specific background. It is overwritten whether we have a\n",
              "  specific estimator or a Pipeline/ColumnTransformer */\n",
              "  background-color: var(--sklearn-color-background);\n",
              "}\n",
              "\n",
              "/* Toggleable label */\n",
              "#sk-container-id-1 label.sk-toggleable__label {\n",
              "  cursor: pointer;\n",
              "  display: flex;\n",
              "  width: 100%;\n",
              "  margin-bottom: 0;\n",
              "  padding: 0.5em;\n",
              "  box-sizing: border-box;\n",
              "  text-align: center;\n",
              "  align-items: start;\n",
              "  justify-content: space-between;\n",
              "  gap: 0.5em;\n",
              "}\n",
              "\n",
              "#sk-container-id-1 label.sk-toggleable__label .caption {\n",
              "  font-size: 0.6rem;\n",
              "  font-weight: lighter;\n",
              "  color: var(--sklearn-color-text-muted);\n",
              "}\n",
              "\n",
              "#sk-container-id-1 label.sk-toggleable__label-arrow:before {\n",
              "  /* Arrow on the left of the label */\n",
              "  content: \"▸\";\n",
              "  float: left;\n",
              "  margin-right: 0.25em;\n",
              "  color: var(--sklearn-color-icon);\n",
              "}\n",
              "\n",
              "#sk-container-id-1 label.sk-toggleable__label-arrow:hover:before {\n",
              "  color: var(--sklearn-color-text);\n",
              "}\n",
              "\n",
              "/* Toggleable content - dropdown */\n",
              "\n",
              "#sk-container-id-1 div.sk-toggleable__content {\n",
              "  max-height: 0;\n",
              "  max-width: 0;\n",
              "  overflow: hidden;\n",
              "  text-align: left;\n",
              "  /* unfitted */\n",
              "  background-color: var(--sklearn-color-unfitted-level-0);\n",
              "}\n",
              "\n",
              "#sk-container-id-1 div.sk-toggleable__content.fitted {\n",
              "  /* fitted */\n",
              "  background-color: var(--sklearn-color-fitted-level-0);\n",
              "}\n",
              "\n",
              "#sk-container-id-1 div.sk-toggleable__content pre {\n",
              "  margin: 0.2em;\n",
              "  border-radius: 0.25em;\n",
              "  color: var(--sklearn-color-text);\n",
              "  /* unfitted */\n",
              "  background-color: var(--sklearn-color-unfitted-level-0);\n",
              "}\n",
              "\n",
              "#sk-container-id-1 div.sk-toggleable__content.fitted pre {\n",
              "  /* unfitted */\n",
              "  background-color: var(--sklearn-color-fitted-level-0);\n",
              "}\n",
              "\n",
              "#sk-container-id-1 input.sk-toggleable__control:checked~div.sk-toggleable__content {\n",
              "  /* Expand drop-down */\n",
              "  max-height: 200px;\n",
              "  max-width: 100%;\n",
              "  overflow: auto;\n",
              "}\n",
              "\n",
              "#sk-container-id-1 input.sk-toggleable__control:checked~label.sk-toggleable__label-arrow:before {\n",
              "  content: \"▾\";\n",
              "}\n",
              "\n",
              "/* Pipeline/ColumnTransformer-specific style */\n",
              "\n",
              "#sk-container-id-1 div.sk-label input.sk-toggleable__control:checked~label.sk-toggleable__label {\n",
              "  color: var(--sklearn-color-text);\n",
              "  background-color: var(--sklearn-color-unfitted-level-2);\n",
              "}\n",
              "\n",
              "#sk-container-id-1 div.sk-label.fitted input.sk-toggleable__control:checked~label.sk-toggleable__label {\n",
              "  background-color: var(--sklearn-color-fitted-level-2);\n",
              "}\n",
              "\n",
              "/* Estimator-specific style */\n",
              "\n",
              "/* Colorize estimator box */\n",
              "#sk-container-id-1 div.sk-estimator input.sk-toggleable__control:checked~label.sk-toggleable__label {\n",
              "  /* unfitted */\n",
              "  background-color: var(--sklearn-color-unfitted-level-2);\n",
              "}\n",
              "\n",
              "#sk-container-id-1 div.sk-estimator.fitted input.sk-toggleable__control:checked~label.sk-toggleable__label {\n",
              "  /* fitted */\n",
              "  background-color: var(--sklearn-color-fitted-level-2);\n",
              "}\n",
              "\n",
              "#sk-container-id-1 div.sk-label label.sk-toggleable__label,\n",
              "#sk-container-id-1 div.sk-label label {\n",
              "  /* The background is the default theme color */\n",
              "  color: var(--sklearn-color-text-on-default-background);\n",
              "}\n",
              "\n",
              "/* On hover, darken the color of the background */\n",
              "#sk-container-id-1 div.sk-label:hover label.sk-toggleable__label {\n",
              "  color: var(--sklearn-color-text);\n",
              "  background-color: var(--sklearn-color-unfitted-level-2);\n",
              "}\n",
              "\n",
              "/* Label box, darken color on hover, fitted */\n",
              "#sk-container-id-1 div.sk-label.fitted:hover label.sk-toggleable__label.fitted {\n",
              "  color: var(--sklearn-color-text);\n",
              "  background-color: var(--sklearn-color-fitted-level-2);\n",
              "}\n",
              "\n",
              "/* Estimator label */\n",
              "\n",
              "#sk-container-id-1 div.sk-label label {\n",
              "  font-family: monospace;\n",
              "  font-weight: bold;\n",
              "  display: inline-block;\n",
              "  line-height: 1.2em;\n",
              "}\n",
              "\n",
              "#sk-container-id-1 div.sk-label-container {\n",
              "  text-align: center;\n",
              "}\n",
              "\n",
              "/* Estimator-specific */\n",
              "#sk-container-id-1 div.sk-estimator {\n",
              "  font-family: monospace;\n",
              "  border: 1px dotted var(--sklearn-color-border-box);\n",
              "  border-radius: 0.25em;\n",
              "  box-sizing: border-box;\n",
              "  margin-bottom: 0.5em;\n",
              "  /* unfitted */\n",
              "  background-color: var(--sklearn-color-unfitted-level-0);\n",
              "}\n",
              "\n",
              "#sk-container-id-1 div.sk-estimator.fitted {\n",
              "  /* fitted */\n",
              "  background-color: var(--sklearn-color-fitted-level-0);\n",
              "}\n",
              "\n",
              "/* on hover */\n",
              "#sk-container-id-1 div.sk-estimator:hover {\n",
              "  /* unfitted */\n",
              "  background-color: var(--sklearn-color-unfitted-level-2);\n",
              "}\n",
              "\n",
              "#sk-container-id-1 div.sk-estimator.fitted:hover {\n",
              "  /* fitted */\n",
              "  background-color: var(--sklearn-color-fitted-level-2);\n",
              "}\n",
              "\n",
              "/* Specification for estimator info (e.g. \"i\" and \"?\") */\n",
              "\n",
              "/* Common style for \"i\" and \"?\" */\n",
              "\n",
              ".sk-estimator-doc-link,\n",
              "a:link.sk-estimator-doc-link,\n",
              "a:visited.sk-estimator-doc-link {\n",
              "  float: right;\n",
              "  font-size: smaller;\n",
              "  line-height: 1em;\n",
              "  font-family: monospace;\n",
              "  background-color: var(--sklearn-color-background);\n",
              "  border-radius: 1em;\n",
              "  height: 1em;\n",
              "  width: 1em;\n",
              "  text-decoration: none !important;\n",
              "  margin-left: 0.5em;\n",
              "  text-align: center;\n",
              "  /* unfitted */\n",
              "  border: var(--sklearn-color-unfitted-level-1) 1pt solid;\n",
              "  color: var(--sklearn-color-unfitted-level-1);\n",
              "}\n",
              "\n",
              ".sk-estimator-doc-link.fitted,\n",
              "a:link.sk-estimator-doc-link.fitted,\n",
              "a:visited.sk-estimator-doc-link.fitted {\n",
              "  /* fitted */\n",
              "  border: var(--sklearn-color-fitted-level-1) 1pt solid;\n",
              "  color: var(--sklearn-color-fitted-level-1);\n",
              "}\n",
              "\n",
              "/* On hover */\n",
              "div.sk-estimator:hover .sk-estimator-doc-link:hover,\n",
              ".sk-estimator-doc-link:hover,\n",
              "div.sk-label-container:hover .sk-estimator-doc-link:hover,\n",
              ".sk-estimator-doc-link:hover {\n",
              "  /* unfitted */\n",
              "  background-color: var(--sklearn-color-unfitted-level-3);\n",
              "  color: var(--sklearn-color-background);\n",
              "  text-decoration: none;\n",
              "}\n",
              "\n",
              "div.sk-estimator.fitted:hover .sk-estimator-doc-link.fitted:hover,\n",
              ".sk-estimator-doc-link.fitted:hover,\n",
              "div.sk-label-container:hover .sk-estimator-doc-link.fitted:hover,\n",
              ".sk-estimator-doc-link.fitted:hover {\n",
              "  /* fitted */\n",
              "  background-color: var(--sklearn-color-fitted-level-3);\n",
              "  color: var(--sklearn-color-background);\n",
              "  text-decoration: none;\n",
              "}\n",
              "\n",
              "/* Span, style for the box shown on hovering the info icon */\n",
              ".sk-estimator-doc-link span {\n",
              "  display: none;\n",
              "  z-index: 9999;\n",
              "  position: relative;\n",
              "  font-weight: normal;\n",
              "  right: .2ex;\n",
              "  padding: .5ex;\n",
              "  margin: .5ex;\n",
              "  width: min-content;\n",
              "  min-width: 20ex;\n",
              "  max-width: 50ex;\n",
              "  color: var(--sklearn-color-text);\n",
              "  box-shadow: 2pt 2pt 4pt #999;\n",
              "  /* unfitted */\n",
              "  background: var(--sklearn-color-unfitted-level-0);\n",
              "  border: .5pt solid var(--sklearn-color-unfitted-level-3);\n",
              "}\n",
              "\n",
              ".sk-estimator-doc-link.fitted span {\n",
              "  /* fitted */\n",
              "  background: var(--sklearn-color-fitted-level-0);\n",
              "  border: var(--sklearn-color-fitted-level-3);\n",
              "}\n",
              "\n",
              ".sk-estimator-doc-link:hover span {\n",
              "  display: block;\n",
              "}\n",
              "\n",
              "/* \"?\"-specific style due to the `<a>` HTML tag */\n",
              "\n",
              "#sk-container-id-1 a.estimator_doc_link {\n",
              "  float: right;\n",
              "  font-size: 1rem;\n",
              "  line-height: 1em;\n",
              "  font-family: monospace;\n",
              "  background-color: var(--sklearn-color-background);\n",
              "  border-radius: 1rem;\n",
              "  height: 1rem;\n",
              "  width: 1rem;\n",
              "  text-decoration: none;\n",
              "  /* unfitted */\n",
              "  color: var(--sklearn-color-unfitted-level-1);\n",
              "  border: var(--sklearn-color-unfitted-level-1) 1pt solid;\n",
              "}\n",
              "\n",
              "#sk-container-id-1 a.estimator_doc_link.fitted {\n",
              "  /* fitted */\n",
              "  border: var(--sklearn-color-fitted-level-1) 1pt solid;\n",
              "  color: var(--sklearn-color-fitted-level-1);\n",
              "}\n",
              "\n",
              "/* On hover */\n",
              "#sk-container-id-1 a.estimator_doc_link:hover {\n",
              "  /* unfitted */\n",
              "  background-color: var(--sklearn-color-unfitted-level-3);\n",
              "  color: var(--sklearn-color-background);\n",
              "  text-decoration: none;\n",
              "}\n",
              "\n",
              "#sk-container-id-1 a.estimator_doc_link.fitted:hover {\n",
              "  /* fitted */\n",
              "  background-color: var(--sklearn-color-fitted-level-3);\n",
              "}\n",
              "</style><div id=\"sk-container-id-1\" class=\"sk-top-container\"><div class=\"sk-text-repr-fallback\"><pre>MiniBatchKMeans(n_clusters=5)</pre><b>In a Jupyter environment, please rerun this cell to show the HTML representation or trust the notebook. <br />On GitHub, the HTML representation is unable to render, please try loading this page with nbviewer.org.</b></div><div class=\"sk-container\" hidden><div class=\"sk-item\"><div class=\"sk-estimator fitted sk-toggleable\"><input class=\"sk-toggleable__control sk-hidden--visually\" id=\"sk-estimator-id-1\" type=\"checkbox\" checked><label for=\"sk-estimator-id-1\" class=\"sk-toggleable__label fitted sk-toggleable__label-arrow\"><div><div>MiniBatchKMeans</div></div><div><a class=\"sk-estimator-doc-link fitted\" rel=\"noreferrer\" target=\"_blank\" href=\"https://scikit-learn.org/1.6/modules/generated/sklearn.cluster.MiniBatchKMeans.html\">?<span>Documentation for MiniBatchKMeans</span></a><span class=\"sk-estimator-doc-link fitted\">i<span>Fitted</span></span></div></label><div class=\"sk-toggleable__content fitted\"><pre>MiniBatchKMeans(n_clusters=5)</pre></div> </div></div></div></div>"
            ]
          },
          "metadata": {},
          "execution_count": 14
        }
      ]
    },
    {
      "cell_type": "markdown",
      "source": [
        "미니배치 k-평균 알고리즘이 일반 k-평균 알고리즘보다 훨씬 빠르지만 이너셔는 일반적으로 조금 더 나쁘다. 특히 이는 클러스터의 개수가 증가할 때 더 심하다."
      ],
      "metadata": {
        "id": "E-eJnRNd1nbS"
      }
    },
    {
      "cell_type": "markdown",
      "source": [
        "#### **최적의 클러스터 개수 찾기**\n",
        "이너셔는 $k$가 증가함에 따라 점점 작아지므로 $k$를 선택할 때 좋은 성능 지표가 아니다. 실제로 클러스터가 늘어날수록 각 샘플은 가까운 센트로이드에 더 가깝게 된다. 따라서 이너셔는 더 작아질 것이다.\n",
        "\n",
        "![image.png](data:image/png;base64,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)"
      ],
      "metadata": {
        "id": "0KUfQtnd10Dh"
      }
    },
    {
      "cell_type": "markdown",
      "source": [
        "이 그래프를 팔의 형태와 비슷하게 보면 $k=4$ 지점이 엘보이다. 따라서, $k$에 대한 정답을 모른다면 4는 좋은 선택이 된다.\n",
        "\n",
        "더 정확한 방법은 **실루엣 점수**이다. 이 값은 모든 샘플에 대한 **실루엣 계수**의 평균이다. 샘플의 실루엣 계수는 $(b-a)/max(a,b)$로 계산한다. 여기에서 $a$는 동일한 클러스터에 있는 다른 샘플까지 평균 거리, $b$는 가장 가까운 클러스터까지 평균 거리이다. 실루엣 계수는 -1에서 +1 사이의 값을 가지며 +1에 가까우면 자신의 클러스터 안에 잘 속해 있고, 다른 클러스터와는 멀리 떨어져있다는 뜻이다. 실루엣 계수가 0에 가까우면 클러스터 경계에 위치한다는 의미이고, -1에 가까우면 샘플이 잘못된 클러스터에 할당되었다는 의미이다.\n",
        "\n",
        "실루엣 점수를 계산하려면 사이킷런의 silhouette_score( ) 함수를 사용한다."
      ],
      "metadata": {
        "id": "XLy76hNW2OHL"
      }
    },
    {
      "cell_type": "code",
      "source": [
        "from sklearn.metrics import silhouette_score\n",
        "silhouette_score(X, kmeans.labels_)"
      ],
      "metadata": {
        "colab": {
          "base_uri": "https://localhost:8080/"
        },
        "id": "y5V8Yvbb21dR",
        "outputId": "e688bd56-3d06-4367-eac9-d3eb736c989e"
      },
      "execution_count": 15,
      "outputs": [
        {
          "output_type": "execute_result",
          "data": {
            "text/plain": [
              "np.float64(0.622226672656562)"
            ]
          },
          "metadata": {},
          "execution_count": 15
        }
      ]
    },
    {
      "cell_type": "markdown",
      "source": [
        "모든 샘플의 실루엣 계수를 할당된 클러스터와 계숫값으로 정렬하여 그리면 더 많은 정보가 있는 실루엣 다이어그램을 그릴 수 있다. 클러스터마다 칼 모양의 그래프가 그려지며 이 그래프의 높이는 클러스터가 포함하고 있는 샘플의 개수를 의미하고 너비는 이 클래스에 포함된 샘플의 정렬된 실루엣 계수를 나타낸다."
      ],
      "metadata": {
        "id": "fBxDpnVu29E9"
      }
    },
    {
      "cell_type": "markdown",
      "source": [
        "### **1.2) k-평균의 한계**\n",
        "\n",
        "k-평균은 장점이 많다. 특히 속도가 빠르고 확장이 용이하다. 하지만, 최적이 아닌 솔루션을 피하려면 알고리즘을 여러 번 실행해야 하며 클러스터 개수를 지정해야 한다. 또한, 클러스터의 크기나 밀집도가 서로 다르거나 원형이 아닐 경우 잘 작동하지 않는다.\n",
        "\n",
        "데이터에 따라서 잘 수행할 수 잇는 군집 알고리즘이 다르며 이런 타원형 클러스터에서는 가우시안 혼합 모델이 잘 작동한다."
      ],
      "metadata": {
        "id": "cHEiOuy33LME"
      }
    },
    {
      "cell_type": "markdown",
      "source": [
        "### **1.3) 군집을 사용한 이미지 분할**\n",
        "**이미지 분할**은 이미지를 세그먼트 여러 개로 분할하는 작업이다. **시맨틱 분할**에서는 동일한 종류의 물체에 속한 모든 픽셀으 ㄴ같은 세그먼트에 할당된다. 시맨틱 또는 인스턴ㅇ스 분할에서 최고 수준의 성능을 내려면 합성곱 신경망을 사용한 복잡한 모델을 사용해야 한다. 여기서는 훨씬 쉬운 작업인 **색상 분할**을 수행해보자.\n",
        "\n",
        "먼저 맷플롯립의 imread( ) 함수를 사용해 이미지를 읽는다."
      ],
      "metadata": {
        "id": "oxrBFt5T3faO"
      }
    },
    {
      "cell_type": "code",
      "source": [
        "import matplotlib.pyplot as plt\n",
        "from matplotlib.image import imread\n",
        "\n",
        "image = plt.imread(\"/content/ladybug.png\")\n",
        "image.shape"
      ],
      "metadata": {
        "colab": {
          "base_uri": "https://localhost:8080/"
        },
        "id": "gPL2eJjp34fw",
        "outputId": "a71712a7-7157-49d5-c3ec-b0687162b682"
      },
      "execution_count": 16,
      "outputs": [
        {
          "output_type": "execute_result",
          "data": {
            "text/plain": [
              "(533, 800, 3)"
            ]
          },
          "metadata": {},
          "execution_count": 16
        }
      ]
    },
    {
      "cell_type": "markdown",
      "source": [
        "이 이미지는 3D 배열로 표현된다. 첫 번째 차원의 크기가 높이, 두 번째는 너비, 세 번째는 컬러 채널 개수이다. 다음 코드는 이 배열을 RGB 색상의 긴 리스트로 변환한 다음 k-평균을 사용해 이 색상을 클러스터로 모은다."
      ],
      "metadata": {
        "id": "NXTqFuiN4Y9p"
      }
    },
    {
      "cell_type": "code",
      "source": [
        "X = image.reshape(-1,3)\n",
        "kmeans = KMeans(n_clusters=8).fit(X)\n",
        "segmented_img = kmeans.cluster_centers_[kmeans.labels_]\n",
        "segmented_img = segmented_img.reshape(image.shape)"
      ],
      "metadata": {
        "id": "PzOVQmMP4m_6"
      },
      "execution_count": 17,
      "outputs": []
    },
    {
      "cell_type": "markdown",
      "source": [
        "무당벌레는 이미지의 나머지 부분보다 훨씬 작기 때문에 화려한 색을 가지고 있더라도 k-평균이 무당벌레를 하나의 클러스터로 만들지 못한다."
      ],
      "metadata": {
        "id": "GdAKUta242i4"
      }
    },
    {
      "cell_type": "markdown",
      "source": [
        "### **1.4) 군집을 사용한 전처리**\n",
        "군집은 차원 축소에 효과적인 방법이다."
      ],
      "metadata": {
        "id": "ixJmz4_J5E-8"
      }
    },
    {
      "cell_type": "code",
      "source": [
        "from sklearn.datasets import load_digits\n",
        "\n",
        "X_digits, y_digits = load_digits(return_X_y=True)"
      ],
      "metadata": {
        "id": "hME4SfiB5Msf"
      },
      "execution_count": 18,
      "outputs": []
    },
    {
      "cell_type": "code",
      "source": [
        "from sklearn.model_selection import train_test_split\n",
        "\n",
        "X_train, X_test, y_train, y_test = train_test_split(X_digits, y_digits)"
      ],
      "metadata": {
        "id": "XGlT-U5A5SkW"
      },
      "execution_count": 19,
      "outputs": []
    },
    {
      "cell_type": "code",
      "source": [
        "from sklearn.linear_model import LogisticRegression\n",
        "\n",
        "log_reg = LogisticRegression()\n",
        "log_reg.fit(X_train, y_train)"
      ],
      "metadata": {
        "colab": {
          "base_uri": "https://localhost:8080/",
          "height": 249
        },
        "id": "fCmSSZxF5dnm",
        "outputId": "86491146-53b6-40f8-e74e-bd8f9879233a"
      },
      "execution_count": 20,
      "outputs": [
        {
          "output_type": "stream",
          "name": "stderr",
          "text": [
            "/usr/local/lib/python3.12/dist-packages/sklearn/linear_model/_logistic.py:465: ConvergenceWarning: lbfgs failed to converge (status=1):\n",
            "STOP: TOTAL NO. OF ITERATIONS REACHED LIMIT.\n",
            "\n",
            "Increase the number of iterations (max_iter) or scale the data as shown in:\n",
            "    https://scikit-learn.org/stable/modules/preprocessing.html\n",
            "Please also refer to the documentation for alternative solver options:\n",
            "    https://scikit-learn.org/stable/modules/linear_model.html#logistic-regression\n",
            "  n_iter_i = _check_optimize_result(\n"
          ]
        },
        {
          "output_type": "execute_result",
          "data": {
            "text/plain": [
              "LogisticRegression()"
            ],
            "text/html": [
              "<style>#sk-container-id-2 {\n",
              "  /* Definition of color scheme common for light and dark mode */\n",
              "  --sklearn-color-text: #000;\n",
              "  --sklearn-color-text-muted: #666;\n",
              "  --sklearn-color-line: gray;\n",
              "  /* Definition of color scheme for unfitted estimators */\n",
              "  --sklearn-color-unfitted-level-0: #fff5e6;\n",
              "  --sklearn-color-unfitted-level-1: #f6e4d2;\n",
              "  --sklearn-color-unfitted-level-2: #ffe0b3;\n",
              "  --sklearn-color-unfitted-level-3: chocolate;\n",
              "  /* Definition of color scheme for fitted estimators */\n",
              "  --sklearn-color-fitted-level-0: #f0f8ff;\n",
              "  --sklearn-color-fitted-level-1: #d4ebff;\n",
              "  --sklearn-color-fitted-level-2: #b3dbfd;\n",
              "  --sklearn-color-fitted-level-3: cornflowerblue;\n",
              "\n",
              "  /* Specific color for light theme */\n",
              "  --sklearn-color-text-on-default-background: var(--sg-text-color, var(--theme-code-foreground, var(--jp-content-font-color1, black)));\n",
              "  --sklearn-color-background: var(--sg-background-color, var(--theme-background, var(--jp-layout-color0, white)));\n",
              "  --sklearn-color-border-box: var(--sg-text-color, var(--theme-code-foreground, var(--jp-content-font-color1, black)));\n",
              "  --sklearn-color-icon: #696969;\n",
              "\n",
              "  @media (prefers-color-scheme: dark) {\n",
              "    /* Redefinition of color scheme for dark theme */\n",
              "    --sklearn-color-text-on-default-background: var(--sg-text-color, var(--theme-code-foreground, var(--jp-content-font-color1, white)));\n",
              "    --sklearn-color-background: var(--sg-background-color, var(--theme-background, var(--jp-layout-color0, #111)));\n",
              "    --sklearn-color-border-box: var(--sg-text-color, var(--theme-code-foreground, var(--jp-content-font-color1, white)));\n",
              "    --sklearn-color-icon: #878787;\n",
              "  }\n",
              "}\n",
              "\n",
              "#sk-container-id-2 {\n",
              "  color: var(--sklearn-color-text);\n",
              "}\n",
              "\n",
              "#sk-container-id-2 pre {\n",
              "  padding: 0;\n",
              "}\n",
              "\n",
              "#sk-container-id-2 input.sk-hidden--visually {\n",
              "  border: 0;\n",
              "  clip: rect(1px 1px 1px 1px);\n",
              "  clip: rect(1px, 1px, 1px, 1px);\n",
              "  height: 1px;\n",
              "  margin: -1px;\n",
              "  overflow: hidden;\n",
              "  padding: 0;\n",
              "  position: absolute;\n",
              "  width: 1px;\n",
              "}\n",
              "\n",
              "#sk-container-id-2 div.sk-dashed-wrapped {\n",
              "  border: 1px dashed var(--sklearn-color-line);\n",
              "  margin: 0 0.4em 0.5em 0.4em;\n",
              "  box-sizing: border-box;\n",
              "  padding-bottom: 0.4em;\n",
              "  background-color: var(--sklearn-color-background);\n",
              "}\n",
              "\n",
              "#sk-container-id-2 div.sk-container {\n",
              "  /* jupyter's `normalize.less` sets `[hidden] { display: none; }`\n",
              "     but bootstrap.min.css set `[hidden] { display: none !important; }`\n",
              "     so we also need the `!important` here to be able to override the\n",
              "     default hidden behavior on the sphinx rendered scikit-learn.org.\n",
              "     See: https://github.com/scikit-learn/scikit-learn/issues/21755 */\n",
              "  display: inline-block !important;\n",
              "  position: relative;\n",
              "}\n",
              "\n",
              "#sk-container-id-2 div.sk-text-repr-fallback {\n",
              "  display: none;\n",
              "}\n",
              "\n",
              "div.sk-parallel-item,\n",
              "div.sk-serial,\n",
              "div.sk-item {\n",
              "  /* draw centered vertical line to link estimators */\n",
              "  background-image: linear-gradient(var(--sklearn-color-text-on-default-background), var(--sklearn-color-text-on-default-background));\n",
              "  background-size: 2px 100%;\n",
              "  background-repeat: no-repeat;\n",
              "  background-position: center center;\n",
              "}\n",
              "\n",
              "/* Parallel-specific style estimator block */\n",
              "\n",
              "#sk-container-id-2 div.sk-parallel-item::after {\n",
              "  content: \"\";\n",
              "  width: 100%;\n",
              "  border-bottom: 2px solid var(--sklearn-color-text-on-default-background);\n",
              "  flex-grow: 1;\n",
              "}\n",
              "\n",
              "#sk-container-id-2 div.sk-parallel {\n",
              "  display: flex;\n",
              "  align-items: stretch;\n",
              "  justify-content: center;\n",
              "  background-color: var(--sklearn-color-background);\n",
              "  position: relative;\n",
              "}\n",
              "\n",
              "#sk-container-id-2 div.sk-parallel-item {\n",
              "  display: flex;\n",
              "  flex-direction: column;\n",
              "}\n",
              "\n",
              "#sk-container-id-2 div.sk-parallel-item:first-child::after {\n",
              "  align-self: flex-end;\n",
              "  width: 50%;\n",
              "}\n",
              "\n",
              "#sk-container-id-2 div.sk-parallel-item:last-child::after {\n",
              "  align-self: flex-start;\n",
              "  width: 50%;\n",
              "}\n",
              "\n",
              "#sk-container-id-2 div.sk-parallel-item:only-child::after {\n",
              "  width: 0;\n",
              "}\n",
              "\n",
              "/* Serial-specific style estimator block */\n",
              "\n",
              "#sk-container-id-2 div.sk-serial {\n",
              "  display: flex;\n",
              "  flex-direction: column;\n",
              "  align-items: center;\n",
              "  background-color: var(--sklearn-color-background);\n",
              "  padding-right: 1em;\n",
              "  padding-left: 1em;\n",
              "}\n",
              "\n",
              "\n",
              "/* Toggleable style: style used for estimator/Pipeline/ColumnTransformer box that is\n",
              "clickable and can be expanded/collapsed.\n",
              "- Pipeline and ColumnTransformer use this feature and define the default style\n",
              "- Estimators will overwrite some part of the style using the `sk-estimator` class\n",
              "*/\n",
              "\n",
              "/* Pipeline and ColumnTransformer style (default) */\n",
              "\n",
              "#sk-container-id-2 div.sk-toggleable {\n",
              "  /* Default theme specific background. It is overwritten whether we have a\n",
              "  specific estimator or a Pipeline/ColumnTransformer */\n",
              "  background-color: var(--sklearn-color-background);\n",
              "}\n",
              "\n",
              "/* Toggleable label */\n",
              "#sk-container-id-2 label.sk-toggleable__label {\n",
              "  cursor: pointer;\n",
              "  display: flex;\n",
              "  width: 100%;\n",
              "  margin-bottom: 0;\n",
              "  padding: 0.5em;\n",
              "  box-sizing: border-box;\n",
              "  text-align: center;\n",
              "  align-items: start;\n",
              "  justify-content: space-between;\n",
              "  gap: 0.5em;\n",
              "}\n",
              "\n",
              "#sk-container-id-2 label.sk-toggleable__label .caption {\n",
              "  font-size: 0.6rem;\n",
              "  font-weight: lighter;\n",
              "  color: var(--sklearn-color-text-muted);\n",
              "}\n",
              "\n",
              "#sk-container-id-2 label.sk-toggleable__label-arrow:before {\n",
              "  /* Arrow on the left of the label */\n",
              "  content: \"▸\";\n",
              "  float: left;\n",
              "  margin-right: 0.25em;\n",
              "  color: var(--sklearn-color-icon);\n",
              "}\n",
              "\n",
              "#sk-container-id-2 label.sk-toggleable__label-arrow:hover:before {\n",
              "  color: var(--sklearn-color-text);\n",
              "}\n",
              "\n",
              "/* Toggleable content - dropdown */\n",
              "\n",
              "#sk-container-id-2 div.sk-toggleable__content {\n",
              "  max-height: 0;\n",
              "  max-width: 0;\n",
              "  overflow: hidden;\n",
              "  text-align: left;\n",
              "  /* unfitted */\n",
              "  background-color: var(--sklearn-color-unfitted-level-0);\n",
              "}\n",
              "\n",
              "#sk-container-id-2 div.sk-toggleable__content.fitted {\n",
              "  /* fitted */\n",
              "  background-color: var(--sklearn-color-fitted-level-0);\n",
              "}\n",
              "\n",
              "#sk-container-id-2 div.sk-toggleable__content pre {\n",
              "  margin: 0.2em;\n",
              "  border-radius: 0.25em;\n",
              "  color: var(--sklearn-color-text);\n",
              "  /* unfitted */\n",
              "  background-color: var(--sklearn-color-unfitted-level-0);\n",
              "}\n",
              "\n",
              "#sk-container-id-2 div.sk-toggleable__content.fitted pre {\n",
              "  /* unfitted */\n",
              "  background-color: var(--sklearn-color-fitted-level-0);\n",
              "}\n",
              "\n",
              "#sk-container-id-2 input.sk-toggleable__control:checked~div.sk-toggleable__content {\n",
              "  /* Expand drop-down */\n",
              "  max-height: 200px;\n",
              "  max-width: 100%;\n",
              "  overflow: auto;\n",
              "}\n",
              "\n",
              "#sk-container-id-2 input.sk-toggleable__control:checked~label.sk-toggleable__label-arrow:before {\n",
              "  content: \"▾\";\n",
              "}\n",
              "\n",
              "/* Pipeline/ColumnTransformer-specific style */\n",
              "\n",
              "#sk-container-id-2 div.sk-label input.sk-toggleable__control:checked~label.sk-toggleable__label {\n",
              "  color: var(--sklearn-color-text);\n",
              "  background-color: var(--sklearn-color-unfitted-level-2);\n",
              "}\n",
              "\n",
              "#sk-container-id-2 div.sk-label.fitted input.sk-toggleable__control:checked~label.sk-toggleable__label {\n",
              "  background-color: var(--sklearn-color-fitted-level-2);\n",
              "}\n",
              "\n",
              "/* Estimator-specific style */\n",
              "\n",
              "/* Colorize estimator box */\n",
              "#sk-container-id-2 div.sk-estimator input.sk-toggleable__control:checked~label.sk-toggleable__label {\n",
              "  /* unfitted */\n",
              "  background-color: var(--sklearn-color-unfitted-level-2);\n",
              "}\n",
              "\n",
              "#sk-container-id-2 div.sk-estimator.fitted input.sk-toggleable__control:checked~label.sk-toggleable__label {\n",
              "  /* fitted */\n",
              "  background-color: var(--sklearn-color-fitted-level-2);\n",
              "}\n",
              "\n",
              "#sk-container-id-2 div.sk-label label.sk-toggleable__label,\n",
              "#sk-container-id-2 div.sk-label label {\n",
              "  /* The background is the default theme color */\n",
              "  color: var(--sklearn-color-text-on-default-background);\n",
              "}\n",
              "\n",
              "/* On hover, darken the color of the background */\n",
              "#sk-container-id-2 div.sk-label:hover label.sk-toggleable__label {\n",
              "  color: var(--sklearn-color-text);\n",
              "  background-color: var(--sklearn-color-unfitted-level-2);\n",
              "}\n",
              "\n",
              "/* Label box, darken color on hover, fitted */\n",
              "#sk-container-id-2 div.sk-label.fitted:hover label.sk-toggleable__label.fitted {\n",
              "  color: var(--sklearn-color-text);\n",
              "  background-color: var(--sklearn-color-fitted-level-2);\n",
              "}\n",
              "\n",
              "/* Estimator label */\n",
              "\n",
              "#sk-container-id-2 div.sk-label label {\n",
              "  font-family: monospace;\n",
              "  font-weight: bold;\n",
              "  display: inline-block;\n",
              "  line-height: 1.2em;\n",
              "}\n",
              "\n",
              "#sk-container-id-2 div.sk-label-container {\n",
              "  text-align: center;\n",
              "}\n",
              "\n",
              "/* Estimator-specific */\n",
              "#sk-container-id-2 div.sk-estimator {\n",
              "  font-family: monospace;\n",
              "  border: 1px dotted var(--sklearn-color-border-box);\n",
              "  border-radius: 0.25em;\n",
              "  box-sizing: border-box;\n",
              "  margin-bottom: 0.5em;\n",
              "  /* unfitted */\n",
              "  background-color: var(--sklearn-color-unfitted-level-0);\n",
              "}\n",
              "\n",
              "#sk-container-id-2 div.sk-estimator.fitted {\n",
              "  /* fitted */\n",
              "  background-color: var(--sklearn-color-fitted-level-0);\n",
              "}\n",
              "\n",
              "/* on hover */\n",
              "#sk-container-id-2 div.sk-estimator:hover {\n",
              "  /* unfitted */\n",
              "  background-color: var(--sklearn-color-unfitted-level-2);\n",
              "}\n",
              "\n",
              "#sk-container-id-2 div.sk-estimator.fitted:hover {\n",
              "  /* fitted */\n",
              "  background-color: var(--sklearn-color-fitted-level-2);\n",
              "}\n",
              "\n",
              "/* Specification for estimator info (e.g. \"i\" and \"?\") */\n",
              "\n",
              "/* Common style for \"i\" and \"?\" */\n",
              "\n",
              ".sk-estimator-doc-link,\n",
              "a:link.sk-estimator-doc-link,\n",
              "a:visited.sk-estimator-doc-link {\n",
              "  float: right;\n",
              "  font-size: smaller;\n",
              "  line-height: 1em;\n",
              "  font-family: monospace;\n",
              "  background-color: var(--sklearn-color-background);\n",
              "  border-radius: 1em;\n",
              "  height: 1em;\n",
              "  width: 1em;\n",
              "  text-decoration: none !important;\n",
              "  margin-left: 0.5em;\n",
              "  text-align: center;\n",
              "  /* unfitted */\n",
              "  border: var(--sklearn-color-unfitted-level-1) 1pt solid;\n",
              "  color: var(--sklearn-color-unfitted-level-1);\n",
              "}\n",
              "\n",
              ".sk-estimator-doc-link.fitted,\n",
              "a:link.sk-estimator-doc-link.fitted,\n",
              "a:visited.sk-estimator-doc-link.fitted {\n",
              "  /* fitted */\n",
              "  border: var(--sklearn-color-fitted-level-1) 1pt solid;\n",
              "  color: var(--sklearn-color-fitted-level-1);\n",
              "}\n",
              "\n",
              "/* On hover */\n",
              "div.sk-estimator:hover .sk-estimator-doc-link:hover,\n",
              ".sk-estimator-doc-link:hover,\n",
              "div.sk-label-container:hover .sk-estimator-doc-link:hover,\n",
              ".sk-estimator-doc-link:hover {\n",
              "  /* unfitted */\n",
              "  background-color: var(--sklearn-color-unfitted-level-3);\n",
              "  color: var(--sklearn-color-background);\n",
              "  text-decoration: none;\n",
              "}\n",
              "\n",
              "div.sk-estimator.fitted:hover .sk-estimator-doc-link.fitted:hover,\n",
              ".sk-estimator-doc-link.fitted:hover,\n",
              "div.sk-label-container:hover .sk-estimator-doc-link.fitted:hover,\n",
              ".sk-estimator-doc-link.fitted:hover {\n",
              "  /* fitted */\n",
              "  background-color: var(--sklearn-color-fitted-level-3);\n",
              "  color: var(--sklearn-color-background);\n",
              "  text-decoration: none;\n",
              "}\n",
              "\n",
              "/* Span, style for the box shown on hovering the info icon */\n",
              ".sk-estimator-doc-link span {\n",
              "  display: none;\n",
              "  z-index: 9999;\n",
              "  position: relative;\n",
              "  font-weight: normal;\n",
              "  right: .2ex;\n",
              "  padding: .5ex;\n",
              "  margin: .5ex;\n",
              "  width: min-content;\n",
              "  min-width: 20ex;\n",
              "  max-width: 50ex;\n",
              "  color: var(--sklearn-color-text);\n",
              "  box-shadow: 2pt 2pt 4pt #999;\n",
              "  /* unfitted */\n",
              "  background: var(--sklearn-color-unfitted-level-0);\n",
              "  border: .5pt solid var(--sklearn-color-unfitted-level-3);\n",
              "}\n",
              "\n",
              ".sk-estimator-doc-link.fitted span {\n",
              "  /* fitted */\n",
              "  background: var(--sklearn-color-fitted-level-0);\n",
              "  border: var(--sklearn-color-fitted-level-3);\n",
              "}\n",
              "\n",
              ".sk-estimator-doc-link:hover span {\n",
              "  display: block;\n",
              "}\n",
              "\n",
              "/* \"?\"-specific style due to the `<a>` HTML tag */\n",
              "\n",
              "#sk-container-id-2 a.estimator_doc_link {\n",
              "  float: right;\n",
              "  font-size: 1rem;\n",
              "  line-height: 1em;\n",
              "  font-family: monospace;\n",
              "  background-color: var(--sklearn-color-background);\n",
              "  border-radius: 1rem;\n",
              "  height: 1rem;\n",
              "  width: 1rem;\n",
              "  text-decoration: none;\n",
              "  /* unfitted */\n",
              "  color: var(--sklearn-color-unfitted-level-1);\n",
              "  border: var(--sklearn-color-unfitted-level-1) 1pt solid;\n",
              "}\n",
              "\n",
              "#sk-container-id-2 a.estimator_doc_link.fitted {\n",
              "  /* fitted */\n",
              "  border: var(--sklearn-color-fitted-level-1) 1pt solid;\n",
              "  color: var(--sklearn-color-fitted-level-1);\n",
              "}\n",
              "\n",
              "/* On hover */\n",
              "#sk-container-id-2 a.estimator_doc_link:hover {\n",
              "  /* unfitted */\n",
              "  background-color: var(--sklearn-color-unfitted-level-3);\n",
              "  color: var(--sklearn-color-background);\n",
              "  text-decoration: none;\n",
              "}\n",
              "\n",
              "#sk-container-id-2 a.estimator_doc_link.fitted:hover {\n",
              "  /* fitted */\n",
              "  background-color: var(--sklearn-color-fitted-level-3);\n",
              "}\n",
              "</style><div id=\"sk-container-id-2\" class=\"sk-top-container\"><div class=\"sk-text-repr-fallback\"><pre>LogisticRegression()</pre><b>In a Jupyter environment, please rerun this cell to show the HTML representation or trust the notebook. <br />On GitHub, the HTML representation is unable to render, please try loading this page with nbviewer.org.</b></div><div class=\"sk-container\" hidden><div class=\"sk-item\"><div class=\"sk-estimator fitted sk-toggleable\"><input class=\"sk-toggleable__control sk-hidden--visually\" id=\"sk-estimator-id-2\" type=\"checkbox\" checked><label for=\"sk-estimator-id-2\" class=\"sk-toggleable__label fitted sk-toggleable__label-arrow\"><div><div>LogisticRegression</div></div><div><a class=\"sk-estimator-doc-link fitted\" rel=\"noreferrer\" target=\"_blank\" href=\"https://scikit-learn.org/1.6/modules/generated/sklearn.linear_model.LogisticRegression.html\">?<span>Documentation for LogisticRegression</span></a><span class=\"sk-estimator-doc-link fitted\">i<span>Fitted</span></span></div></label><div class=\"sk-toggleable__content fitted\"><pre>LogisticRegression()</pre></div> </div></div></div></div>"
            ]
          },
          "metadata": {},
          "execution_count": 20
        }
      ]
    },
    {
      "cell_type": "code",
      "source": [
        "log_reg.score(X_test, y_test)"
      ],
      "metadata": {
        "colab": {
          "base_uri": "https://localhost:8080/"
        },
        "id": "HuxBW9s95hmm",
        "outputId": "49f43905-e0e0-4fa4-be81-4e38c90ce7f0"
      },
      "execution_count": 21,
      "outputs": [
        {
          "output_type": "execute_result",
          "data": {
            "text/plain": [
              "0.96"
            ]
          },
          "metadata": {},
          "execution_count": 21
        }
      ]
    },
    {
      "cell_type": "markdown",
      "source": [
        "로지스틱 회귀는 96%의 정확도를 얻었다. k-평균을 전처리 단계로 사용해 더 좋아지는지 확인해보자. 파이프라인을 만들어 먼저 훈련 세트를 50개의 클러스터로 모은다. 그런 다음 이미지를 50개 클러스터까지 거리로 바꾼다. 그 다음 로지스틱 회귀 모델을 적용한다."
      ],
      "metadata": {
        "id": "eaBp0TLz5ksG"
      }
    },
    {
      "cell_type": "code",
      "source": [
        "from sklearn.pipeline import Pipeline\n",
        "\n",
        "pipeline = Pipeline([\n",
        "    (\"kmeans\", KMeans(n_clusters=50)),\n",
        "    (\"log_reg\", LogisticRegression())\n",
        "])\n",
        "\n",
        "pipeline.fit(X_train, y_train)"
      ],
      "metadata": {
        "colab": {
          "base_uri": "https://localhost:8080/",
          "height": 325
        },
        "id": "Q4KB6ASQ5hfe",
        "outputId": "c8fe5e86-ebba-4e03-f108-458996270e3a"
      },
      "execution_count": 22,
      "outputs": [
        {
          "output_type": "stream",
          "name": "stderr",
          "text": [
            "/usr/local/lib/python3.12/dist-packages/sklearn/linear_model/_logistic.py:465: ConvergenceWarning: lbfgs failed to converge (status=1):\n",
            "STOP: TOTAL NO. OF ITERATIONS REACHED LIMIT.\n",
            "\n",
            "Increase the number of iterations (max_iter) or scale the data as shown in:\n",
            "    https://scikit-learn.org/stable/modules/preprocessing.html\n",
            "Please also refer to the documentation for alternative solver options:\n",
            "    https://scikit-learn.org/stable/modules/linear_model.html#logistic-regression\n",
            "  n_iter_i = _check_optimize_result(\n"
          ]
        },
        {
          "output_type": "execute_result",
          "data": {
            "text/plain": [
              "Pipeline(steps=[('kmeans', KMeans(n_clusters=50)),\n",
              "                ('log_reg', LogisticRegression())])"
            ],
            "text/html": [
              "<style>#sk-container-id-3 {\n",
              "  /* Definition of color scheme common for light and dark mode */\n",
              "  --sklearn-color-text: #000;\n",
              "  --sklearn-color-text-muted: #666;\n",
              "  --sklearn-color-line: gray;\n",
              "  /* Definition of color scheme for unfitted estimators */\n",
              "  --sklearn-color-unfitted-level-0: #fff5e6;\n",
              "  --sklearn-color-unfitted-level-1: #f6e4d2;\n",
              "  --sklearn-color-unfitted-level-2: #ffe0b3;\n",
              "  --sklearn-color-unfitted-level-3: chocolate;\n",
              "  /* Definition of color scheme for fitted estimators */\n",
              "  --sklearn-color-fitted-level-0: #f0f8ff;\n",
              "  --sklearn-color-fitted-level-1: #d4ebff;\n",
              "  --sklearn-color-fitted-level-2: #b3dbfd;\n",
              "  --sklearn-color-fitted-level-3: cornflowerblue;\n",
              "\n",
              "  /* Specific color for light theme */\n",
              "  --sklearn-color-text-on-default-background: var(--sg-text-color, var(--theme-code-foreground, var(--jp-content-font-color1, black)));\n",
              "  --sklearn-color-background: var(--sg-background-color, var(--theme-background, var(--jp-layout-color0, white)));\n",
              "  --sklearn-color-border-box: var(--sg-text-color, var(--theme-code-foreground, var(--jp-content-font-color1, black)));\n",
              "  --sklearn-color-icon: #696969;\n",
              "\n",
              "  @media (prefers-color-scheme: dark) {\n",
              "    /* Redefinition of color scheme for dark theme */\n",
              "    --sklearn-color-text-on-default-background: var(--sg-text-color, var(--theme-code-foreground, var(--jp-content-font-color1, white)));\n",
              "    --sklearn-color-background: var(--sg-background-color, var(--theme-background, var(--jp-layout-color0, #111)));\n",
              "    --sklearn-color-border-box: var(--sg-text-color, var(--theme-code-foreground, var(--jp-content-font-color1, white)));\n",
              "    --sklearn-color-icon: #878787;\n",
              "  }\n",
              "}\n",
              "\n",
              "#sk-container-id-3 {\n",
              "  color: var(--sklearn-color-text);\n",
              "}\n",
              "\n",
              "#sk-container-id-3 pre {\n",
              "  padding: 0;\n",
              "}\n",
              "\n",
              "#sk-container-id-3 input.sk-hidden--visually {\n",
              "  border: 0;\n",
              "  clip: rect(1px 1px 1px 1px);\n",
              "  clip: rect(1px, 1px, 1px, 1px);\n",
              "  height: 1px;\n",
              "  margin: -1px;\n",
              "  overflow: hidden;\n",
              "  padding: 0;\n",
              "  position: absolute;\n",
              "  width: 1px;\n",
              "}\n",
              "\n",
              "#sk-container-id-3 div.sk-dashed-wrapped {\n",
              "  border: 1px dashed var(--sklearn-color-line);\n",
              "  margin: 0 0.4em 0.5em 0.4em;\n",
              "  box-sizing: border-box;\n",
              "  padding-bottom: 0.4em;\n",
              "  background-color: var(--sklearn-color-background);\n",
              "}\n",
              "\n",
              "#sk-container-id-3 div.sk-container {\n",
              "  /* jupyter's `normalize.less` sets `[hidden] { display: none; }`\n",
              "     but bootstrap.min.css set `[hidden] { display: none !important; }`\n",
              "     so we also need the `!important` here to be able to override the\n",
              "     default hidden behavior on the sphinx rendered scikit-learn.org.\n",
              "     See: https://github.com/scikit-learn/scikit-learn/issues/21755 */\n",
              "  display: inline-block !important;\n",
              "  position: relative;\n",
              "}\n",
              "\n",
              "#sk-container-id-3 div.sk-text-repr-fallback {\n",
              "  display: none;\n",
              "}\n",
              "\n",
              "div.sk-parallel-item,\n",
              "div.sk-serial,\n",
              "div.sk-item {\n",
              "  /* draw centered vertical line to link estimators */\n",
              "  background-image: linear-gradient(var(--sklearn-color-text-on-default-background), var(--sklearn-color-text-on-default-background));\n",
              "  background-size: 2px 100%;\n",
              "  background-repeat: no-repeat;\n",
              "  background-position: center center;\n",
              "}\n",
              "\n",
              "/* Parallel-specific style estimator block */\n",
              "\n",
              "#sk-container-id-3 div.sk-parallel-item::after {\n",
              "  content: \"\";\n",
              "  width: 100%;\n",
              "  border-bottom: 2px solid var(--sklearn-color-text-on-default-background);\n",
              "  flex-grow: 1;\n",
              "}\n",
              "\n",
              "#sk-container-id-3 div.sk-parallel {\n",
              "  display: flex;\n",
              "  align-items: stretch;\n",
              "  justify-content: center;\n",
              "  background-color: var(--sklearn-color-background);\n",
              "  position: relative;\n",
              "}\n",
              "\n",
              "#sk-container-id-3 div.sk-parallel-item {\n",
              "  display: flex;\n",
              "  flex-direction: column;\n",
              "}\n",
              "\n",
              "#sk-container-id-3 div.sk-parallel-item:first-child::after {\n",
              "  align-self: flex-end;\n",
              "  width: 50%;\n",
              "}\n",
              "\n",
              "#sk-container-id-3 div.sk-parallel-item:last-child::after {\n",
              "  align-self: flex-start;\n",
              "  width: 50%;\n",
              "}\n",
              "\n",
              "#sk-container-id-3 div.sk-parallel-item:only-child::after {\n",
              "  width: 0;\n",
              "}\n",
              "\n",
              "/* Serial-specific style estimator block */\n",
              "\n",
              "#sk-container-id-3 div.sk-serial {\n",
              "  display: flex;\n",
              "  flex-direction: column;\n",
              "  align-items: center;\n",
              "  background-color: var(--sklearn-color-background);\n",
              "  padding-right: 1em;\n",
              "  padding-left: 1em;\n",
              "}\n",
              "\n",
              "\n",
              "/* Toggleable style: style used for estimator/Pipeline/ColumnTransformer box that is\n",
              "clickable and can be expanded/collapsed.\n",
              "- Pipeline and ColumnTransformer use this feature and define the default style\n",
              "- Estimators will overwrite some part of the style using the `sk-estimator` class\n",
              "*/\n",
              "\n",
              "/* Pipeline and ColumnTransformer style (default) */\n",
              "\n",
              "#sk-container-id-3 div.sk-toggleable {\n",
              "  /* Default theme specific background. It is overwritten whether we have a\n",
              "  specific estimator or a Pipeline/ColumnTransformer */\n",
              "  background-color: var(--sklearn-color-background);\n",
              "}\n",
              "\n",
              "/* Toggleable label */\n",
              "#sk-container-id-3 label.sk-toggleable__label {\n",
              "  cursor: pointer;\n",
              "  display: flex;\n",
              "  width: 100%;\n",
              "  margin-bottom: 0;\n",
              "  padding: 0.5em;\n",
              "  box-sizing: border-box;\n",
              "  text-align: center;\n",
              "  align-items: start;\n",
              "  justify-content: space-between;\n",
              "  gap: 0.5em;\n",
              "}\n",
              "\n",
              "#sk-container-id-3 label.sk-toggleable__label .caption {\n",
              "  font-size: 0.6rem;\n",
              "  font-weight: lighter;\n",
              "  color: var(--sklearn-color-text-muted);\n",
              "}\n",
              "\n",
              "#sk-container-id-3 label.sk-toggleable__label-arrow:before {\n",
              "  /* Arrow on the left of the label */\n",
              "  content: \"▸\";\n",
              "  float: left;\n",
              "  margin-right: 0.25em;\n",
              "  color: var(--sklearn-color-icon);\n",
              "}\n",
              "\n",
              "#sk-container-id-3 label.sk-toggleable__label-arrow:hover:before {\n",
              "  color: var(--sklearn-color-text);\n",
              "}\n",
              "\n",
              "/* Toggleable content - dropdown */\n",
              "\n",
              "#sk-container-id-3 div.sk-toggleable__content {\n",
              "  max-height: 0;\n",
              "  max-width: 0;\n",
              "  overflow: hidden;\n",
              "  text-align: left;\n",
              "  /* unfitted */\n",
              "  background-color: var(--sklearn-color-unfitted-level-0);\n",
              "}\n",
              "\n",
              "#sk-container-id-3 div.sk-toggleable__content.fitted {\n",
              "  /* fitted */\n",
              "  background-color: var(--sklearn-color-fitted-level-0);\n",
              "}\n",
              "\n",
              "#sk-container-id-3 div.sk-toggleable__content pre {\n",
              "  margin: 0.2em;\n",
              "  border-radius: 0.25em;\n",
              "  color: var(--sklearn-color-text);\n",
              "  /* unfitted */\n",
              "  background-color: var(--sklearn-color-unfitted-level-0);\n",
              "}\n",
              "\n",
              "#sk-container-id-3 div.sk-toggleable__content.fitted pre {\n",
              "  /* unfitted */\n",
              "  background-color: var(--sklearn-color-fitted-level-0);\n",
              "}\n",
              "\n",
              "#sk-container-id-3 input.sk-toggleable__control:checked~div.sk-toggleable__content {\n",
              "  /* Expand drop-down */\n",
              "  max-height: 200px;\n",
              "  max-width: 100%;\n",
              "  overflow: auto;\n",
              "}\n",
              "\n",
              "#sk-container-id-3 input.sk-toggleable__control:checked~label.sk-toggleable__label-arrow:before {\n",
              "  content: \"▾\";\n",
              "}\n",
              "\n",
              "/* Pipeline/ColumnTransformer-specific style */\n",
              "\n",
              "#sk-container-id-3 div.sk-label input.sk-toggleable__control:checked~label.sk-toggleable__label {\n",
              "  color: var(--sklearn-color-text);\n",
              "  background-color: var(--sklearn-color-unfitted-level-2);\n",
              "}\n",
              "\n",
              "#sk-container-id-3 div.sk-label.fitted input.sk-toggleable__control:checked~label.sk-toggleable__label {\n",
              "  background-color: var(--sklearn-color-fitted-level-2);\n",
              "}\n",
              "\n",
              "/* Estimator-specific style */\n",
              "\n",
              "/* Colorize estimator box */\n",
              "#sk-container-id-3 div.sk-estimator input.sk-toggleable__control:checked~label.sk-toggleable__label {\n",
              "  /* unfitted */\n",
              "  background-color: var(--sklearn-color-unfitted-level-2);\n",
              "}\n",
              "\n",
              "#sk-container-id-3 div.sk-estimator.fitted input.sk-toggleable__control:checked~label.sk-toggleable__label {\n",
              "  /* fitted */\n",
              "  background-color: var(--sklearn-color-fitted-level-2);\n",
              "}\n",
              "\n",
              "#sk-container-id-3 div.sk-label label.sk-toggleable__label,\n",
              "#sk-container-id-3 div.sk-label label {\n",
              "  /* The background is the default theme color */\n",
              "  color: var(--sklearn-color-text-on-default-background);\n",
              "}\n",
              "\n",
              "/* On hover, darken the color of the background */\n",
              "#sk-container-id-3 div.sk-label:hover label.sk-toggleable__label {\n",
              "  color: var(--sklearn-color-text);\n",
              "  background-color: var(--sklearn-color-unfitted-level-2);\n",
              "}\n",
              "\n",
              "/* Label box, darken color on hover, fitted */\n",
              "#sk-container-id-3 div.sk-label.fitted:hover label.sk-toggleable__label.fitted {\n",
              "  color: var(--sklearn-color-text);\n",
              "  background-color: var(--sklearn-color-fitted-level-2);\n",
              "}\n",
              "\n",
              "/* Estimator label */\n",
              "\n",
              "#sk-container-id-3 div.sk-label label {\n",
              "  font-family: monospace;\n",
              "  font-weight: bold;\n",
              "  display: inline-block;\n",
              "  line-height: 1.2em;\n",
              "}\n",
              "\n",
              "#sk-container-id-3 div.sk-label-container {\n",
              "  text-align: center;\n",
              "}\n",
              "\n",
              "/* Estimator-specific */\n",
              "#sk-container-id-3 div.sk-estimator {\n",
              "  font-family: monospace;\n",
              "  border: 1px dotted var(--sklearn-color-border-box);\n",
              "  border-radius: 0.25em;\n",
              "  box-sizing: border-box;\n",
              "  margin-bottom: 0.5em;\n",
              "  /* unfitted */\n",
              "  background-color: var(--sklearn-color-unfitted-level-0);\n",
              "}\n",
              "\n",
              "#sk-container-id-3 div.sk-estimator.fitted {\n",
              "  /* fitted */\n",
              "  background-color: var(--sklearn-color-fitted-level-0);\n",
              "}\n",
              "\n",
              "/* on hover */\n",
              "#sk-container-id-3 div.sk-estimator:hover {\n",
              "  /* unfitted */\n",
              "  background-color: var(--sklearn-color-unfitted-level-2);\n",
              "}\n",
              "\n",
              "#sk-container-id-3 div.sk-estimator.fitted:hover {\n",
              "  /* fitted */\n",
              "  background-color: var(--sklearn-color-fitted-level-2);\n",
              "}\n",
              "\n",
              "/* Specification for estimator info (e.g. \"i\" and \"?\") */\n",
              "\n",
              "/* Common style for \"i\" and \"?\" */\n",
              "\n",
              ".sk-estimator-doc-link,\n",
              "a:link.sk-estimator-doc-link,\n",
              "a:visited.sk-estimator-doc-link {\n",
              "  float: right;\n",
              "  font-size: smaller;\n",
              "  line-height: 1em;\n",
              "  font-family: monospace;\n",
              "  background-color: var(--sklearn-color-background);\n",
              "  border-radius: 1em;\n",
              "  height: 1em;\n",
              "  width: 1em;\n",
              "  text-decoration: none !important;\n",
              "  margin-left: 0.5em;\n",
              "  text-align: center;\n",
              "  /* unfitted */\n",
              "  border: var(--sklearn-color-unfitted-level-1) 1pt solid;\n",
              "  color: var(--sklearn-color-unfitted-level-1);\n",
              "}\n",
              "\n",
              ".sk-estimator-doc-link.fitted,\n",
              "a:link.sk-estimator-doc-link.fitted,\n",
              "a:visited.sk-estimator-doc-link.fitted {\n",
              "  /* fitted */\n",
              "  border: var(--sklearn-color-fitted-level-1) 1pt solid;\n",
              "  color: var(--sklearn-color-fitted-level-1);\n",
              "}\n",
              "\n",
              "/* On hover */\n",
              "div.sk-estimator:hover .sk-estimator-doc-link:hover,\n",
              ".sk-estimator-doc-link:hover,\n",
              "div.sk-label-container:hover .sk-estimator-doc-link:hover,\n",
              ".sk-estimator-doc-link:hover {\n",
              "  /* unfitted */\n",
              "  background-color: var(--sklearn-color-unfitted-level-3);\n",
              "  color: var(--sklearn-color-background);\n",
              "  text-decoration: none;\n",
              "}\n",
              "\n",
              "div.sk-estimator.fitted:hover .sk-estimator-doc-link.fitted:hover,\n",
              ".sk-estimator-doc-link.fitted:hover,\n",
              "div.sk-label-container:hover .sk-estimator-doc-link.fitted:hover,\n",
              ".sk-estimator-doc-link.fitted:hover {\n",
              "  /* fitted */\n",
              "  background-color: var(--sklearn-color-fitted-level-3);\n",
              "  color: var(--sklearn-color-background);\n",
              "  text-decoration: none;\n",
              "}\n",
              "\n",
              "/* Span, style for the box shown on hovering the info icon */\n",
              ".sk-estimator-doc-link span {\n",
              "  display: none;\n",
              "  z-index: 9999;\n",
              "  position: relative;\n",
              "  font-weight: normal;\n",
              "  right: .2ex;\n",
              "  padding: .5ex;\n",
              "  margin: .5ex;\n",
              "  width: min-content;\n",
              "  min-width: 20ex;\n",
              "  max-width: 50ex;\n",
              "  color: var(--sklearn-color-text);\n",
              "  box-shadow: 2pt 2pt 4pt #999;\n",
              "  /* unfitted */\n",
              "  background: var(--sklearn-color-unfitted-level-0);\n",
              "  border: .5pt solid var(--sklearn-color-unfitted-level-3);\n",
              "}\n",
              "\n",
              ".sk-estimator-doc-link.fitted span {\n",
              "  /* fitted */\n",
              "  background: var(--sklearn-color-fitted-level-0);\n",
              "  border: var(--sklearn-color-fitted-level-3);\n",
              "}\n",
              "\n",
              ".sk-estimator-doc-link:hover span {\n",
              "  display: block;\n",
              "}\n",
              "\n",
              "/* \"?\"-specific style due to the `<a>` HTML tag */\n",
              "\n",
              "#sk-container-id-3 a.estimator_doc_link {\n",
              "  float: right;\n",
              "  font-size: 1rem;\n",
              "  line-height: 1em;\n",
              "  font-family: monospace;\n",
              "  background-color: var(--sklearn-color-background);\n",
              "  border-radius: 1rem;\n",
              "  height: 1rem;\n",
              "  width: 1rem;\n",
              "  text-decoration: none;\n",
              "  /* unfitted */\n",
              "  color: var(--sklearn-color-unfitted-level-1);\n",
              "  border: var(--sklearn-color-unfitted-level-1) 1pt solid;\n",
              "}\n",
              "\n",
              "#sk-container-id-3 a.estimator_doc_link.fitted {\n",
              "  /* fitted */\n",
              "  border: var(--sklearn-color-fitted-level-1) 1pt solid;\n",
              "  color: var(--sklearn-color-fitted-level-1);\n",
              "}\n",
              "\n",
              "/* On hover */\n",
              "#sk-container-id-3 a.estimator_doc_link:hover {\n",
              "  /* unfitted */\n",
              "  background-color: var(--sklearn-color-unfitted-level-3);\n",
              "  color: var(--sklearn-color-background);\n",
              "  text-decoration: none;\n",
              "}\n",
              "\n",
              "#sk-container-id-3 a.estimator_doc_link.fitted:hover {\n",
              "  /* fitted */\n",
              "  background-color: var(--sklearn-color-fitted-level-3);\n",
              "}\n",
              "</style><div id=\"sk-container-id-3\" class=\"sk-top-container\"><div class=\"sk-text-repr-fallback\"><pre>Pipeline(steps=[(&#x27;kmeans&#x27;, KMeans(n_clusters=50)),\n",
              "                (&#x27;log_reg&#x27;, LogisticRegression())])</pre><b>In a Jupyter environment, please rerun this cell to show the HTML representation or trust the notebook. <br />On GitHub, the HTML representation is unable to render, please try loading this page with nbviewer.org.</b></div><div class=\"sk-container\" hidden><div class=\"sk-item sk-dashed-wrapped\"><div class=\"sk-label-container\"><div class=\"sk-label fitted sk-toggleable\"><input class=\"sk-toggleable__control sk-hidden--visually\" id=\"sk-estimator-id-3\" type=\"checkbox\" ><label for=\"sk-estimator-id-3\" class=\"sk-toggleable__label fitted sk-toggleable__label-arrow\"><div><div>Pipeline</div></div><div><a class=\"sk-estimator-doc-link fitted\" rel=\"noreferrer\" target=\"_blank\" href=\"https://scikit-learn.org/1.6/modules/generated/sklearn.pipeline.Pipeline.html\">?<span>Documentation for Pipeline</span></a><span class=\"sk-estimator-doc-link fitted\">i<span>Fitted</span></span></div></label><div class=\"sk-toggleable__content fitted\"><pre>Pipeline(steps=[(&#x27;kmeans&#x27;, KMeans(n_clusters=50)),\n",
              "                (&#x27;log_reg&#x27;, LogisticRegression())])</pre></div> </div></div><div class=\"sk-serial\"><div class=\"sk-item\"><div class=\"sk-estimator fitted sk-toggleable\"><input class=\"sk-toggleable__control sk-hidden--visually\" id=\"sk-estimator-id-4\" type=\"checkbox\" ><label for=\"sk-estimator-id-4\" class=\"sk-toggleable__label fitted sk-toggleable__label-arrow\"><div><div>KMeans</div></div><div><a class=\"sk-estimator-doc-link fitted\" rel=\"noreferrer\" target=\"_blank\" href=\"https://scikit-learn.org/1.6/modules/generated/sklearn.cluster.KMeans.html\">?<span>Documentation for KMeans</span></a></div></label><div class=\"sk-toggleable__content fitted\"><pre>KMeans(n_clusters=50)</pre></div> </div></div><div class=\"sk-item\"><div class=\"sk-estimator fitted sk-toggleable\"><input class=\"sk-toggleable__control sk-hidden--visually\" id=\"sk-estimator-id-5\" type=\"checkbox\" ><label for=\"sk-estimator-id-5\" class=\"sk-toggleable__label fitted sk-toggleable__label-arrow\"><div><div>LogisticRegression</div></div><div><a class=\"sk-estimator-doc-link fitted\" rel=\"noreferrer\" target=\"_blank\" href=\"https://scikit-learn.org/1.6/modules/generated/sklearn.linear_model.LogisticRegression.html\">?<span>Documentation for LogisticRegression</span></a></div></label><div class=\"sk-toggleable__content fitted\"><pre>LogisticRegression()</pre></div> </div></div></div></div></div></div>"
            ]
          },
          "metadata": {},
          "execution_count": 22
        }
      ]
    },
    {
      "cell_type": "code",
      "source": [
        "pipeline.score(X_test, y_test)"
      ],
      "metadata": {
        "colab": {
          "base_uri": "https://localhost:8080/"
        },
        "id": "MDl6gTqZ5-LN",
        "outputId": "397e068b-e0bd-469e-968b-b1790c9c85ce"
      },
      "execution_count": 23,
      "outputs": [
        {
          "output_type": "execute_result",
          "data": {
            "text/plain": [
              "0.9511111111111111"
            ]
          },
          "metadata": {},
          "execution_count": 23
        }
      ]
    },
    {
      "cell_type": "markdown",
      "source": [
        "클러스터 개수 $k$를 임의로 정하였다. k-평균이 분류 파이프라인의 하나의 전처리 단계이기 때문에 이전보다 좋은 $k$ 값을 찾는 일이 더 쉽다. GridSearchCV를 사용해 최적의 클러스터 개수를 찾아보자."
      ],
      "metadata": {
        "id": "OV7PhEFL59dA"
      }
    },
    {
      "cell_type": "code",
      "source": [
        "from sklearn.model_selection import GridSearchCV\n",
        "\n",
        "param_grid = dict(kmeans__n_clusters=range(2,100))\n",
        "grid_clf = GridSearchCV(pipeline, param_grid, cv=3, verbose=2)\n",
        "grid_clf.fit(X_train,y_train)"
      ],
      "metadata": {
        "colab": {
          "base_uri": "https://localhost:8080/",
          "height": 1000
        },
        "id": "7TsLXJk36QE0",
        "outputId": "7390358c-3c92-4616-9839-60281bea7145"
      },
      "execution_count": 25,
      "outputs": [
        {
          "metadata": {
            "tags": null
          },
          "name": "stdout",
          "output_type": "stream",
          "text": [
            "Fitting 3 folds for each of 98 candidates, totalling 294 fits\n"
          ]
        },
        {
          "metadata": {
            "tags": null
          },
          "name": "stderr",
          "output_type": "stream",
          "text": [
            "/usr/local/lib/python3.12/dist-packages/sklearn/linear_model/_logistic.py:465: ConvergenceWarning: lbfgs failed to converge (status=1):\n",
            "STOP: TOTAL NO. OF ITERATIONS REACHED LIMIT.\n",
            "\n",
            "Increase the number of iterations (max_iter) or scale the data as shown in:\n",
            "    https://scikit-learn.org/stable/modules/preprocessing.html\n",
            "Please also refer to the documentation for alternative solver options:\n",
            "    https://scikit-learn.org/stable/modules/linear_model.html#logistic-regression\n",
            "  n_iter_i = _check_optimize_result(\n"
          ]
        },
        {
          "metadata": {
            "tags": null
          },
          "name": "stdout",
          "output_type": "stream",
          "text": [
            "[CV] END ...............................kmeans__n_clusters=2; total time=   0.2s\n"
          ]
        },
        {
          "metadata": {
            "tags": null
          },
          "name": "stderr",
          "output_type": "stream",
          "text": [
            "/usr/local/lib/python3.12/dist-packages/sklearn/linear_model/_logistic.py:465: ConvergenceWarning: lbfgs failed to converge (status=1):\n",
            "STOP: TOTAL NO. OF ITERATIONS REACHED LIMIT.\n",
            "\n",
            "Increase the number of iterations (max_iter) or scale the data as shown in:\n",
            "    https://scikit-learn.org/stable/modules/preprocessing.html\n",
            "Please also refer to the documentation for alternative solver options:\n",
            "    https://scikit-learn.org/stable/modules/linear_model.html#logistic-regression\n",
            "  n_iter_i = _check_optimize_result(\n"
          ]
        },
        {
          "metadata": {
            "tags": null
          },
          "name": "stdout",
          "output_type": "stream",
          "text": [
            "[CV] END ...............................kmeans__n_clusters=2; total time=   0.2s\n",
            "[CV] END ...............................kmeans__n_clusters=2; total time=   0.2s\n"
          ]
        },
        {
          "metadata": {
            "tags": null
          },
          "name": "stderr",
          "output_type": "stream",
          "text": [
            "/usr/local/lib/python3.12/dist-packages/sklearn/linear_model/_logistic.py:465: ConvergenceWarning: lbfgs failed to converge (status=1):\n",
            "STOP: TOTAL NO. OF ITERATIONS REACHED LIMIT.\n",
            "\n",
            "Increase the number of iterations (max_iter) or scale the data as shown in:\n",
            "    https://scikit-learn.org/stable/modules/preprocessing.html\n",
            "Please also refer to the documentation for alternative solver options:\n",
            "    https://scikit-learn.org/stable/modules/linear_model.html#logistic-regression\n",
            "  n_iter_i = _check_optimize_result(\n",
            "/usr/local/lib/python3.12/dist-packages/sklearn/linear_model/_logistic.py:465: ConvergenceWarning: lbfgs failed to converge (status=1):\n",
            "STOP: TOTAL NO. OF ITERATIONS REACHED LIMIT.\n",
            "\n",
            "Increase the number of iterations (max_iter) or scale the data as shown in:\n",
            "    https://scikit-learn.org/stable/modules/preprocessing.html\n",
            "Please also refer to the documentation for alternative solver options:\n",
            "    https://scikit-learn.org/stable/modules/linear_model.html#logistic-regression\n",
            "  n_iter_i = _check_optimize_result(\n",
            "/usr/local/lib/python3.12/dist-packages/sklearn/linear_model/_logistic.py:465: ConvergenceWarning: lbfgs failed to converge (status=1):\n",
            "STOP: TOTAL NO. OF ITERATIONS REACHED LIMIT.\n",
            "\n",
            "Increase the number of iterations (max_iter) or scale the data as shown in:\n",
            "    https://scikit-learn.org/stable/modules/preprocessing.html\n",
            "Please also refer to the documentation for alternative solver options:\n",
            "    https://scikit-learn.org/stable/modules/linear_model.html#logistic-regression\n",
            "  n_iter_i = _check_optimize_result(\n"
          ]
        },
        {
          "metadata": {
            "tags": null
          },
          "name": "stdout",
          "output_type": "stream",
          "text": [
            "[CV] END ...............................kmeans__n_clusters=3; total time=   0.1s\n",
            "[CV] END ...............................kmeans__n_clusters=3; total time=   0.1s\n",
            "[CV] END ...............................kmeans__n_clusters=3; total time=   0.1s\n"
          ]
        },
        {
          "metadata": {
            "tags": null
          },
          "name": "stderr",
          "output_type": "stream",
          "text": [
            "/usr/local/lib/python3.12/dist-packages/sklearn/linear_model/_logistic.py:465: ConvergenceWarning: lbfgs failed to converge (status=1):\n",
            "STOP: TOTAL NO. OF ITERATIONS REACHED LIMIT.\n",
            "\n",
            "Increase the number of iterations (max_iter) or scale the data as shown in:\n",
            "    https://scikit-learn.org/stable/modules/preprocessing.html\n",
            "Please also refer to the documentation for alternative solver options:\n",
            "    https://scikit-learn.org/stable/modules/linear_model.html#logistic-regression\n",
            "  n_iter_i = _check_optimize_result(\n",
            "/usr/local/lib/python3.12/dist-packages/sklearn/linear_model/_logistic.py:465: ConvergenceWarning: lbfgs failed to converge (status=1):\n",
            "STOP: TOTAL NO. OF ITERATIONS REACHED LIMIT.\n",
            "\n",
            "Increase the number of iterations (max_iter) or scale the data as shown in:\n",
            "    https://scikit-learn.org/stable/modules/preprocessing.html\n",
            "Please also refer to the documentation for alternative solver options:\n",
            "    https://scikit-learn.org/stable/modules/linear_model.html#logistic-regression\n",
            "  n_iter_i = _check_optimize_result(\n",
            "/usr/local/lib/python3.12/dist-packages/sklearn/linear_model/_logistic.py:465: ConvergenceWarning: lbfgs failed to converge (status=1):\n",
            "STOP: TOTAL NO. OF ITERATIONS REACHED LIMIT.\n",
            "\n",
            "Increase the number of iterations (max_iter) or scale the data as shown in:\n",
            "    https://scikit-learn.org/stable/modules/preprocessing.html\n",
            "Please also refer to the documentation for alternative solver options:\n",
            "    https://scikit-learn.org/stable/modules/linear_model.html#logistic-regression\n",
            "  n_iter_i = _check_optimize_result(\n"
          ]
        },
        {
          "metadata": {
            "tags": null
          },
          "name": "stdout",
          "output_type": "stream",
          "text": [
            "[CV] END ...............................kmeans__n_clusters=4; total time=   0.1s\n",
            "[CV] END ...............................kmeans__n_clusters=4; total time=   0.1s\n",
            "[CV] END ...............................kmeans__n_clusters=4; total time=   0.1s\n"
          ]
        },
        {
          "metadata": {
            "tags": null
          },
          "name": "stderr",
          "output_type": "stream",
          "text": [
            "/usr/local/lib/python3.12/dist-packages/sklearn/linear_model/_logistic.py:465: ConvergenceWarning: lbfgs failed to converge (status=1):\n",
            "STOP: TOTAL NO. OF ITERATIONS REACHED LIMIT.\n",
            "\n",
            "Increase the number of iterations (max_iter) or scale the data as shown in:\n",
            "    https://scikit-learn.org/stable/modules/preprocessing.html\n",
            "Please also refer to the documentation for alternative solver options:\n",
            "    https://scikit-learn.org/stable/modules/linear_model.html#logistic-regression\n",
            "  n_iter_i = _check_optimize_result(\n",
            "/usr/local/lib/python3.12/dist-packages/sklearn/linear_model/_logistic.py:465: ConvergenceWarning: lbfgs failed to converge (status=1):\n",
            "STOP: TOTAL NO. OF ITERATIONS REACHED LIMIT.\n",
            "\n",
            "Increase the number of iterations (max_iter) or scale the data as shown in:\n",
            "    https://scikit-learn.org/stable/modules/preprocessing.html\n",
            "Please also refer to the documentation for alternative solver options:\n",
            "    https://scikit-learn.org/stable/modules/linear_model.html#logistic-regression\n",
            "  n_iter_i = _check_optimize_result(\n",
            "/usr/local/lib/python3.12/dist-packages/sklearn/linear_model/_logistic.py:465: ConvergenceWarning: lbfgs failed to converge (status=1):\n",
            "STOP: TOTAL NO. OF ITERATIONS REACHED LIMIT.\n",
            "\n",
            "Increase the number of iterations (max_iter) or scale the data as shown in:\n",
            "    https://scikit-learn.org/stable/modules/preprocessing.html\n",
            "Please also refer to the documentation for alternative solver options:\n",
            "    https://scikit-learn.org/stable/modules/linear_model.html#logistic-regression\n",
            "  n_iter_i = _check_optimize_result(\n"
          ]
        },
        {
          "metadata": {
            "tags": null
          },
          "name": "stdout",
          "output_type": "stream",
          "text": [
            "[CV] END ...............................kmeans__n_clusters=5; total time=   0.1s\n",
            "[CV] END ...............................kmeans__n_clusters=5; total time=   0.1s\n",
            "[CV] END ...............................kmeans__n_clusters=5; total time=   0.1s\n"
          ]
        },
        {
          "metadata": {
            "tags": null
          },
          "name": "stderr",
          "output_type": "stream",
          "text": [
            "/usr/local/lib/python3.12/dist-packages/sklearn/linear_model/_logistic.py:465: ConvergenceWarning: lbfgs failed to converge (status=1):\n",
            "STOP: TOTAL NO. OF ITERATIONS REACHED LIMIT.\n",
            "\n",
            "Increase the number of iterations (max_iter) or scale the data as shown in:\n",
            "    https://scikit-learn.org/stable/modules/preprocessing.html\n",
            "Please also refer to the documentation for alternative solver options:\n",
            "    https://scikit-learn.org/stable/modules/linear_model.html#logistic-regression\n",
            "  n_iter_i = _check_optimize_result(\n",
            "/usr/local/lib/python3.12/dist-packages/sklearn/linear_model/_logistic.py:465: ConvergenceWarning: lbfgs failed to converge (status=1):\n",
            "STOP: TOTAL NO. OF ITERATIONS REACHED LIMIT.\n",
            "\n",
            "Increase the number of iterations (max_iter) or scale the data as shown in:\n",
            "    https://scikit-learn.org/stable/modules/preprocessing.html\n",
            "Please also refer to the documentation for alternative solver options:\n",
            "    https://scikit-learn.org/stable/modules/linear_model.html#logistic-regression\n",
            "  n_iter_i = _check_optimize_result(\n",
            "/usr/local/lib/python3.12/dist-packages/sklearn/linear_model/_logistic.py:465: ConvergenceWarning: lbfgs failed to converge (status=1):\n",
            "STOP: TOTAL NO. OF ITERATIONS REACHED LIMIT.\n",
            "\n",
            "Increase the number of iterations (max_iter) or scale the data as shown in:\n",
            "    https://scikit-learn.org/stable/modules/preprocessing.html\n",
            "Please also refer to the documentation for alternative solver options:\n",
            "    https://scikit-learn.org/stable/modules/linear_model.html#logistic-regression\n",
            "  n_iter_i = _check_optimize_result(\n"
          ]
        },
        {
          "metadata": {
            "tags": null
          },
          "name": "stdout",
          "output_type": "stream",
          "text": [
            "[CV] END ...............................kmeans__n_clusters=6; total time=   0.1s\n",
            "[CV] END ...............................kmeans__n_clusters=6; total time=   0.1s\n",
            "[CV] END ...............................kmeans__n_clusters=6; total time=   0.1s\n"
          ]
        },
        {
          "metadata": {
            "tags": null
          },
          "name": "stderr",
          "output_type": "stream",
          "text": [
            "/usr/local/lib/python3.12/dist-packages/sklearn/linear_model/_logistic.py:465: ConvergenceWarning: lbfgs failed to converge (status=1):\n",
            "STOP: TOTAL NO. OF ITERATIONS REACHED LIMIT.\n",
            "\n",
            "Increase the number of iterations (max_iter) or scale the data as shown in:\n",
            "    https://scikit-learn.org/stable/modules/preprocessing.html\n",
            "Please also refer to the documentation for alternative solver options:\n",
            "    https://scikit-learn.org/stable/modules/linear_model.html#logistic-regression\n",
            "  n_iter_i = _check_optimize_result(\n",
            "/usr/local/lib/python3.12/dist-packages/sklearn/linear_model/_logistic.py:465: ConvergenceWarning: lbfgs failed to converge (status=1):\n",
            "STOP: TOTAL NO. OF ITERATIONS REACHED LIMIT.\n",
            "\n",
            "Increase the number of iterations (max_iter) or scale the data as shown in:\n",
            "    https://scikit-learn.org/stable/modules/preprocessing.html\n",
            "Please also refer to the documentation for alternative solver options:\n",
            "    https://scikit-learn.org/stable/modules/linear_model.html#logistic-regression\n",
            "  n_iter_i = _check_optimize_result(\n",
            "/usr/local/lib/python3.12/dist-packages/sklearn/linear_model/_logistic.py:465: ConvergenceWarning: lbfgs failed to converge (status=1):\n",
            "STOP: TOTAL NO. OF ITERATIONS REACHED LIMIT.\n",
            "\n",
            "Increase the number of iterations (max_iter) or scale the data as shown in:\n",
            "    https://scikit-learn.org/stable/modules/preprocessing.html\n",
            "Please also refer to the documentation for alternative solver options:\n",
            "    https://scikit-learn.org/stable/modules/linear_model.html#logistic-regression\n",
            "  n_iter_i = _check_optimize_result(\n"
          ]
        },
        {
          "metadata": {
            "tags": null
          },
          "name": "stdout",
          "output_type": "stream",
          "text": [
            "[CV] END ...............................kmeans__n_clusters=7; total time=   0.1s\n",
            "[CV] END ...............................kmeans__n_clusters=7; total time=   0.1s\n",
            "[CV] END ...............................kmeans__n_clusters=7; total time=   0.1s\n"
          ]
        },
        {
          "metadata": {
            "tags": null
          },
          "name": "stderr",
          "output_type": "stream",
          "text": [
            "/usr/local/lib/python3.12/dist-packages/sklearn/linear_model/_logistic.py:465: ConvergenceWarning: lbfgs failed to converge (status=1):\n",
            "STOP: TOTAL NO. OF ITERATIONS REACHED LIMIT.\n",
            "\n",
            "Increase the number of iterations (max_iter) or scale the data as shown in:\n",
            "    https://scikit-learn.org/stable/modules/preprocessing.html\n",
            "Please also refer to the documentation for alternative solver options:\n",
            "    https://scikit-learn.org/stable/modules/linear_model.html#logistic-regression\n",
            "  n_iter_i = _check_optimize_result(\n",
            "/usr/local/lib/python3.12/dist-packages/sklearn/linear_model/_logistic.py:465: ConvergenceWarning: lbfgs failed to converge (status=1):\n",
            "STOP: TOTAL NO. OF ITERATIONS REACHED LIMIT.\n",
            "\n",
            "Increase the number of iterations (max_iter) or scale the data as shown in:\n",
            "    https://scikit-learn.org/stable/modules/preprocessing.html\n",
            "Please also refer to the documentation for alternative solver options:\n",
            "    https://scikit-learn.org/stable/modules/linear_model.html#logistic-regression\n",
            "  n_iter_i = _check_optimize_result(\n",
            "/usr/local/lib/python3.12/dist-packages/sklearn/linear_model/_logistic.py:465: ConvergenceWarning: lbfgs failed to converge (status=1):\n",
            "STOP: TOTAL NO. OF ITERATIONS REACHED LIMIT.\n",
            "\n",
            "Increase the number of iterations (max_iter) or scale the data as shown in:\n",
            "    https://scikit-learn.org/stable/modules/preprocessing.html\n",
            "Please also refer to the documentation for alternative solver options:\n",
            "    https://scikit-learn.org/stable/modules/linear_model.html#logistic-regression\n",
            "  n_iter_i = _check_optimize_result(\n"
          ]
        },
        {
          "metadata": {
            "tags": null
          },
          "name": "stdout",
          "output_type": "stream",
          "text": [
            "[CV] END ...............................kmeans__n_clusters=8; total time=   0.1s\n",
            "[CV] END ...............................kmeans__n_clusters=8; total time=   0.1s\n",
            "[CV] END ...............................kmeans__n_clusters=8; total time=   0.1s\n"
          ]
        },
        {
          "metadata": {
            "tags": null
          },
          "name": "stderr",
          "output_type": "stream",
          "text": [
            "/usr/local/lib/python3.12/dist-packages/sklearn/linear_model/_logistic.py:465: ConvergenceWarning: lbfgs failed to converge (status=1):\n",
            "STOP: TOTAL NO. OF ITERATIONS REACHED LIMIT.\n",
            "\n",
            "Increase the number of iterations (max_iter) or scale the data as shown in:\n",
            "    https://scikit-learn.org/stable/modules/preprocessing.html\n",
            "Please also refer to the documentation for alternative solver options:\n",
            "    https://scikit-learn.org/stable/modules/linear_model.html#logistic-regression\n",
            "  n_iter_i = _check_optimize_result(\n",
            "/usr/local/lib/python3.12/dist-packages/sklearn/linear_model/_logistic.py:465: ConvergenceWarning: lbfgs failed to converge (status=1):\n",
            "STOP: TOTAL NO. OF ITERATIONS REACHED LIMIT.\n",
            "\n",
            "Increase the number of iterations (max_iter) or scale the data as shown in:\n",
            "    https://scikit-learn.org/stable/modules/preprocessing.html\n",
            "Please also refer to the documentation for alternative solver options:\n",
            "    https://scikit-learn.org/stable/modules/linear_model.html#logistic-regression\n",
            "  n_iter_i = _check_optimize_result(\n",
            "/usr/local/lib/python3.12/dist-packages/sklearn/linear_model/_logistic.py:465: ConvergenceWarning: lbfgs failed to converge (status=1):\n",
            "STOP: TOTAL NO. OF ITERATIONS REACHED LIMIT.\n",
            "\n",
            "Increase the number of iterations (max_iter) or scale the data as shown in:\n",
            "    https://scikit-learn.org/stable/modules/preprocessing.html\n",
            "Please also refer to the documentation for alternative solver options:\n",
            "    https://scikit-learn.org/stable/modules/linear_model.html#logistic-regression\n",
            "  n_iter_i = _check_optimize_result(\n"
          ]
        },
        {
          "metadata": {
            "tags": null
          },
          "name": "stdout",
          "output_type": "stream",
          "text": [
            "[CV] END ...............................kmeans__n_clusters=9; total time=   0.1s\n",
            "[CV] END ...............................kmeans__n_clusters=9; total time=   0.1s\n"
          ]
        },
        {
          "metadata": {
            "tags": null
          },
          "name": "stderr",
          "output_type": "stream",
          "text": [
            "/usr/local/lib/python3.12/dist-packages/sklearn/linear_model/_logistic.py:465: ConvergenceWarning: lbfgs failed to converge (status=1):\n",
            "STOP: TOTAL NO. OF ITERATIONS REACHED LIMIT.\n",
            "\n",
            "Increase the number of iterations (max_iter) or scale the data as shown in:\n",
            "    https://scikit-learn.org/stable/modules/preprocessing.html\n",
            "Please also refer to the documentation for alternative solver options:\n",
            "    https://scikit-learn.org/stable/modules/linear_model.html#logistic-regression\n",
            "  n_iter_i = _check_optimize_result(\n",
            "/usr/local/lib/python3.12/dist-packages/sklearn/linear_model/_logistic.py:465: ConvergenceWarning: lbfgs failed to converge (status=1):\n",
            "STOP: TOTAL NO. OF ITERATIONS REACHED LIMIT.\n",
            "\n",
            "Increase the number of iterations (max_iter) or scale the data as shown in:\n",
            "    https://scikit-learn.org/stable/modules/preprocessing.html\n",
            "Please also refer to the documentation for alternative solver options:\n",
            "    https://scikit-learn.org/stable/modules/linear_model.html#logistic-regression\n",
            "  n_iter_i = _check_optimize_result(\n"
          ]
        },
        {
          "metadata": {
            "tags": null
          },
          "name": "stdout",
          "output_type": "stream",
          "text": [
            "[CV] END ...............................kmeans__n_clusters=9; total time=   0.1s\n",
            "[CV] END ..............................kmeans__n_clusters=10; total time=   0.1s\n"
          ]
        },
        {
          "metadata": {
            "tags": null
          },
          "name": "stderr",
          "output_type": "stream",
          "text": [
            "/usr/local/lib/python3.12/dist-packages/sklearn/linear_model/_logistic.py:465: ConvergenceWarning: lbfgs failed to converge (status=1):\n",
            "STOP: TOTAL NO. OF ITERATIONS REACHED LIMIT.\n",
            "\n",
            "Increase the number of iterations (max_iter) or scale the data as shown in:\n",
            "    https://scikit-learn.org/stable/modules/preprocessing.html\n",
            "Please also refer to the documentation for alternative solver options:\n",
            "    https://scikit-learn.org/stable/modules/linear_model.html#logistic-regression\n",
            "  n_iter_i = _check_optimize_result(\n",
            "/usr/local/lib/python3.12/dist-packages/sklearn/linear_model/_logistic.py:465: ConvergenceWarning: lbfgs failed to converge (status=1):\n",
            "STOP: TOTAL NO. OF ITERATIONS REACHED LIMIT.\n",
            "\n",
            "Increase the number of iterations (max_iter) or scale the data as shown in:\n",
            "    https://scikit-learn.org/stable/modules/preprocessing.html\n",
            "Please also refer to the documentation for alternative solver options:\n",
            "    https://scikit-learn.org/stable/modules/linear_model.html#logistic-regression\n",
            "  n_iter_i = _check_optimize_result(\n"
          ]
        },
        {
          "metadata": {
            "tags": null
          },
          "name": "stdout",
          "output_type": "stream",
          "text": [
            "[CV] END ..............................kmeans__n_clusters=10; total time=   0.2s\n",
            "[CV] END ..............................kmeans__n_clusters=10; total time=   0.2s\n"
          ]
        },
        {
          "metadata": {
            "tags": null
          },
          "name": "stderr",
          "output_type": "stream",
          "text": [
            "/usr/local/lib/python3.12/dist-packages/sklearn/linear_model/_logistic.py:465: ConvergenceWarning: lbfgs failed to converge (status=1):\n",
            "STOP: TOTAL NO. OF ITERATIONS REACHED LIMIT.\n",
            "\n",
            "Increase the number of iterations (max_iter) or scale the data as shown in:\n",
            "    https://scikit-learn.org/stable/modules/preprocessing.html\n",
            "Please also refer to the documentation for alternative solver options:\n",
            "    https://scikit-learn.org/stable/modules/linear_model.html#logistic-regression\n",
            "  n_iter_i = _check_optimize_result(\n",
            "/usr/local/lib/python3.12/dist-packages/sklearn/linear_model/_logistic.py:465: ConvergenceWarning: lbfgs failed to converge (status=1):\n",
            "STOP: TOTAL NO. OF ITERATIONS REACHED LIMIT.\n",
            "\n",
            "Increase the number of iterations (max_iter) or scale the data as shown in:\n",
            "    https://scikit-learn.org/stable/modules/preprocessing.html\n",
            "Please also refer to the documentation for alternative solver options:\n",
            "    https://scikit-learn.org/stable/modules/linear_model.html#logistic-regression\n",
            "  n_iter_i = _check_optimize_result(\n"
          ]
        },
        {
          "metadata": {
            "tags": null
          },
          "name": "stdout",
          "output_type": "stream",
          "text": [
            "[CV] END ..............................kmeans__n_clusters=11; total time=   0.2s\n",
            "[CV] END ..............................kmeans__n_clusters=11; total time=   0.2s\n"
          ]
        },
        {
          "metadata": {
            "tags": null
          },
          "name": "stderr",
          "output_type": "stream",
          "text": [
            "/usr/local/lib/python3.12/dist-packages/sklearn/linear_model/_logistic.py:465: ConvergenceWarning: lbfgs failed to converge (status=1):\n",
            "STOP: TOTAL NO. OF ITERATIONS REACHED LIMIT.\n",
            "\n",
            "Increase the number of iterations (max_iter) or scale the data as shown in:\n",
            "    https://scikit-learn.org/stable/modules/preprocessing.html\n",
            "Please also refer to the documentation for alternative solver options:\n",
            "    https://scikit-learn.org/stable/modules/linear_model.html#logistic-regression\n",
            "  n_iter_i = _check_optimize_result(\n",
            "/usr/local/lib/python3.12/dist-packages/sklearn/linear_model/_logistic.py:465: ConvergenceWarning: lbfgs failed to converge (status=1):\n",
            "STOP: TOTAL NO. OF ITERATIONS REACHED LIMIT.\n",
            "\n",
            "Increase the number of iterations (max_iter) or scale the data as shown in:\n",
            "    https://scikit-learn.org/stable/modules/preprocessing.html\n",
            "Please also refer to the documentation for alternative solver options:\n",
            "    https://scikit-learn.org/stable/modules/linear_model.html#logistic-regression\n",
            "  n_iter_i = _check_optimize_result(\n"
          ]
        },
        {
          "metadata": {
            "tags": null
          },
          "name": "stdout",
          "output_type": "stream",
          "text": [
            "[CV] END ..............................kmeans__n_clusters=11; total time=   0.2s\n",
            "[CV] END ..............................kmeans__n_clusters=12; total time=   0.2s\n"
          ]
        },
        {
          "metadata": {
            "tags": null
          },
          "name": "stderr",
          "output_type": "stream",
          "text": [
            "/usr/local/lib/python3.12/dist-packages/sklearn/linear_model/_logistic.py:465: ConvergenceWarning: lbfgs failed to converge (status=1):\n",
            "STOP: TOTAL NO. OF ITERATIONS REACHED LIMIT.\n",
            "\n",
            "Increase the number of iterations (max_iter) or scale the data as shown in:\n",
            "    https://scikit-learn.org/stable/modules/preprocessing.html\n",
            "Please also refer to the documentation for alternative solver options:\n",
            "    https://scikit-learn.org/stable/modules/linear_model.html#logistic-regression\n",
            "  n_iter_i = _check_optimize_result(\n",
            "/usr/local/lib/python3.12/dist-packages/sklearn/linear_model/_logistic.py:465: ConvergenceWarning: lbfgs failed to converge (status=1):\n",
            "STOP: TOTAL NO. OF ITERATIONS REACHED LIMIT.\n",
            "\n",
            "Increase the number of iterations (max_iter) or scale the data as shown in:\n",
            "    https://scikit-learn.org/stable/modules/preprocessing.html\n",
            "Please also refer to the documentation for alternative solver options:\n",
            "    https://scikit-learn.org/stable/modules/linear_model.html#logistic-regression\n",
            "  n_iter_i = _check_optimize_result(\n"
          ]
        },
        {
          "metadata": {
            "tags": null
          },
          "name": "stdout",
          "output_type": "stream",
          "text": [
            "[CV] END ..............................kmeans__n_clusters=12; total time=   0.1s\n",
            "[CV] END ..............................kmeans__n_clusters=12; total time=   0.2s\n"
          ]
        },
        {
          "metadata": {
            "tags": null
          },
          "name": "stderr",
          "output_type": "stream",
          "text": [
            "/usr/local/lib/python3.12/dist-packages/sklearn/linear_model/_logistic.py:465: ConvergenceWarning: lbfgs failed to converge (status=1):\n",
            "STOP: TOTAL NO. OF ITERATIONS REACHED LIMIT.\n",
            "\n",
            "Increase the number of iterations (max_iter) or scale the data as shown in:\n",
            "    https://scikit-learn.org/stable/modules/preprocessing.html\n",
            "Please also refer to the documentation for alternative solver options:\n",
            "    https://scikit-learn.org/stable/modules/linear_model.html#logistic-regression\n",
            "  n_iter_i = _check_optimize_result(\n",
            "/usr/local/lib/python3.12/dist-packages/sklearn/linear_model/_logistic.py:465: ConvergenceWarning: lbfgs failed to converge (status=1):\n",
            "STOP: TOTAL NO. OF ITERATIONS REACHED LIMIT.\n",
            "\n",
            "Increase the number of iterations (max_iter) or scale the data as shown in:\n",
            "    https://scikit-learn.org/stable/modules/preprocessing.html\n",
            "Please also refer to the documentation for alternative solver options:\n",
            "    https://scikit-learn.org/stable/modules/linear_model.html#logistic-regression\n",
            "  n_iter_i = _check_optimize_result(\n"
          ]
        },
        {
          "metadata": {
            "tags": null
          },
          "name": "stdout",
          "output_type": "stream",
          "text": [
            "[CV] END ..............................kmeans__n_clusters=13; total time=   0.2s\n",
            "[CV] END ..............................kmeans__n_clusters=13; total time=   0.1s\n"
          ]
        },
        {
          "metadata": {
            "tags": null
          },
          "name": "stderr",
          "output_type": "stream",
          "text": [
            "/usr/local/lib/python3.12/dist-packages/sklearn/linear_model/_logistic.py:465: ConvergenceWarning: lbfgs failed to converge (status=1):\n",
            "STOP: TOTAL NO. OF ITERATIONS REACHED LIMIT.\n",
            "\n",
            "Increase the number of iterations (max_iter) or scale the data as shown in:\n",
            "    https://scikit-learn.org/stable/modules/preprocessing.html\n",
            "Please also refer to the documentation for alternative solver options:\n",
            "    https://scikit-learn.org/stable/modules/linear_model.html#logistic-regression\n",
            "  n_iter_i = _check_optimize_result(\n",
            "/usr/local/lib/python3.12/dist-packages/sklearn/linear_model/_logistic.py:465: ConvergenceWarning: lbfgs failed to converge (status=1):\n",
            "STOP: TOTAL NO. OF ITERATIONS REACHED LIMIT.\n",
            "\n",
            "Increase the number of iterations (max_iter) or scale the data as shown in:\n",
            "    https://scikit-learn.org/stable/modules/preprocessing.html\n",
            "Please also refer to the documentation for alternative solver options:\n",
            "    https://scikit-learn.org/stable/modules/linear_model.html#logistic-regression\n",
            "  n_iter_i = _check_optimize_result(\n"
          ]
        },
        {
          "metadata": {
            "tags": null
          },
          "name": "stdout",
          "output_type": "stream",
          "text": [
            "[CV] END ..............................kmeans__n_clusters=13; total time=   0.1s\n",
            "[CV] END ..............................kmeans__n_clusters=14; total time=   0.2s\n"
          ]
        },
        {
          "metadata": {
            "tags": null
          },
          "name": "stderr",
          "output_type": "stream",
          "text": [
            "/usr/local/lib/python3.12/dist-packages/sklearn/linear_model/_logistic.py:465: ConvergenceWarning: lbfgs failed to converge (status=1):\n",
            "STOP: TOTAL NO. OF ITERATIONS REACHED LIMIT.\n",
            "\n",
            "Increase the number of iterations (max_iter) or scale the data as shown in:\n",
            "    https://scikit-learn.org/stable/modules/preprocessing.html\n",
            "Please also refer to the documentation for alternative solver options:\n",
            "    https://scikit-learn.org/stable/modules/linear_model.html#logistic-regression\n",
            "  n_iter_i = _check_optimize_result(\n",
            "/usr/local/lib/python3.12/dist-packages/sklearn/linear_model/_logistic.py:465: ConvergenceWarning: lbfgs failed to converge (status=1):\n",
            "STOP: TOTAL NO. OF ITERATIONS REACHED LIMIT.\n",
            "\n",
            "Increase the number of iterations (max_iter) or scale the data as shown in:\n",
            "    https://scikit-learn.org/stable/modules/preprocessing.html\n",
            "Please also refer to the documentation for alternative solver options:\n",
            "    https://scikit-learn.org/stable/modules/linear_model.html#logistic-regression\n",
            "  n_iter_i = _check_optimize_result(\n"
          ]
        },
        {
          "metadata": {
            "tags": null
          },
          "name": "stdout",
          "output_type": "stream",
          "text": [
            "[CV] END ..............................kmeans__n_clusters=14; total time=   0.2s\n",
            "[CV] END ..............................kmeans__n_clusters=14; total time=   0.2s\n"
          ]
        },
        {
          "metadata": {
            "tags": null
          },
          "name": "stderr",
          "output_type": "stream",
          "text": [
            "/usr/local/lib/python3.12/dist-packages/sklearn/linear_model/_logistic.py:465: ConvergenceWarning: lbfgs failed to converge (status=1):\n",
            "STOP: TOTAL NO. OF ITERATIONS REACHED LIMIT.\n",
            "\n",
            "Increase the number of iterations (max_iter) or scale the data as shown in:\n",
            "    https://scikit-learn.org/stable/modules/preprocessing.html\n",
            "Please also refer to the documentation for alternative solver options:\n",
            "    https://scikit-learn.org/stable/modules/linear_model.html#logistic-regression\n",
            "  n_iter_i = _check_optimize_result(\n",
            "/usr/local/lib/python3.12/dist-packages/sklearn/linear_model/_logistic.py:465: ConvergenceWarning: lbfgs failed to converge (status=1):\n",
            "STOP: TOTAL NO. OF ITERATIONS REACHED LIMIT.\n",
            "\n",
            "Increase the number of iterations (max_iter) or scale the data as shown in:\n",
            "    https://scikit-learn.org/stable/modules/preprocessing.html\n",
            "Please also refer to the documentation for alternative solver options:\n",
            "    https://scikit-learn.org/stable/modules/linear_model.html#logistic-regression\n",
            "  n_iter_i = _check_optimize_result(\n"
          ]
        },
        {
          "metadata": {
            "tags": null
          },
          "name": "stdout",
          "output_type": "stream",
          "text": [
            "[CV] END ..............................kmeans__n_clusters=15; total time=   0.2s\n",
            "[CV] END ..............................kmeans__n_clusters=15; total time=   0.1s\n"
          ]
        },
        {
          "metadata": {
            "tags": null
          },
          "name": "stderr",
          "output_type": "stream",
          "text": [
            "/usr/local/lib/python3.12/dist-packages/sklearn/linear_model/_logistic.py:465: ConvergenceWarning: lbfgs failed to converge (status=1):\n",
            "STOP: TOTAL NO. OF ITERATIONS REACHED LIMIT.\n",
            "\n",
            "Increase the number of iterations (max_iter) or scale the data as shown in:\n",
            "    https://scikit-learn.org/stable/modules/preprocessing.html\n",
            "Please also refer to the documentation for alternative solver options:\n",
            "    https://scikit-learn.org/stable/modules/linear_model.html#logistic-regression\n",
            "  n_iter_i = _check_optimize_result(\n",
            "/usr/local/lib/python3.12/dist-packages/sklearn/linear_model/_logistic.py:465: ConvergenceWarning: lbfgs failed to converge (status=1):\n",
            "STOP: TOTAL NO. OF ITERATIONS REACHED LIMIT.\n",
            "\n",
            "Increase the number of iterations (max_iter) or scale the data as shown in:\n",
            "    https://scikit-learn.org/stable/modules/preprocessing.html\n",
            "Please also refer to the documentation for alternative solver options:\n",
            "    https://scikit-learn.org/stable/modules/linear_model.html#logistic-regression\n",
            "  n_iter_i = _check_optimize_result(\n"
          ]
        },
        {
          "metadata": {
            "tags": null
          },
          "name": "stdout",
          "output_type": "stream",
          "text": [
            "[CV] END ..............................kmeans__n_clusters=15; total time=   0.2s\n",
            "[CV] END ..............................kmeans__n_clusters=16; total time=   0.2s\n"
          ]
        },
        {
          "metadata": {
            "tags": null
          },
          "name": "stderr",
          "output_type": "stream",
          "text": [
            "/usr/local/lib/python3.12/dist-packages/sklearn/linear_model/_logistic.py:465: ConvergenceWarning: lbfgs failed to converge (status=1):\n",
            "STOP: TOTAL NO. OF ITERATIONS REACHED LIMIT.\n",
            "\n",
            "Increase the number of iterations (max_iter) or scale the data as shown in:\n",
            "    https://scikit-learn.org/stable/modules/preprocessing.html\n",
            "Please also refer to the documentation for alternative solver options:\n",
            "    https://scikit-learn.org/stable/modules/linear_model.html#logistic-regression\n",
            "  n_iter_i = _check_optimize_result(\n",
            "/usr/local/lib/python3.12/dist-packages/sklearn/linear_model/_logistic.py:465: ConvergenceWarning: lbfgs failed to converge (status=1):\n",
            "STOP: TOTAL NO. OF ITERATIONS REACHED LIMIT.\n",
            "\n",
            "Increase the number of iterations (max_iter) or scale the data as shown in:\n",
            "    https://scikit-learn.org/stable/modules/preprocessing.html\n",
            "Please also refer to the documentation for alternative solver options:\n",
            "    https://scikit-learn.org/stable/modules/linear_model.html#logistic-regression\n",
            "  n_iter_i = _check_optimize_result(\n"
          ]
        },
        {
          "metadata": {
            "tags": null
          },
          "name": "stdout",
          "output_type": "stream",
          "text": [
            "[CV] END ..............................kmeans__n_clusters=16; total time=   0.2s\n",
            "[CV] END ..............................kmeans__n_clusters=16; total time=   0.1s\n"
          ]
        },
        {
          "metadata": {
            "tags": null
          },
          "name": "stderr",
          "output_type": "stream",
          "text": [
            "/usr/local/lib/python3.12/dist-packages/sklearn/linear_model/_logistic.py:465: ConvergenceWarning: lbfgs failed to converge (status=1):\n",
            "STOP: TOTAL NO. OF ITERATIONS REACHED LIMIT.\n",
            "\n",
            "Increase the number of iterations (max_iter) or scale the data as shown in:\n",
            "    https://scikit-learn.org/stable/modules/preprocessing.html\n",
            "Please also refer to the documentation for alternative solver options:\n",
            "    https://scikit-learn.org/stable/modules/linear_model.html#logistic-regression\n",
            "  n_iter_i = _check_optimize_result(\n",
            "/usr/local/lib/python3.12/dist-packages/sklearn/linear_model/_logistic.py:465: ConvergenceWarning: lbfgs failed to converge (status=1):\n",
            "STOP: TOTAL NO. OF ITERATIONS REACHED LIMIT.\n",
            "\n",
            "Increase the number of iterations (max_iter) or scale the data as shown in:\n",
            "    https://scikit-learn.org/stable/modules/preprocessing.html\n",
            "Please also refer to the documentation for alternative solver options:\n",
            "    https://scikit-learn.org/stable/modules/linear_model.html#logistic-regression\n",
            "  n_iter_i = _check_optimize_result(\n"
          ]
        },
        {
          "metadata": {
            "tags": null
          },
          "name": "stdout",
          "output_type": "stream",
          "text": [
            "[CV] END ..............................kmeans__n_clusters=17; total time=   0.2s\n",
            "[CV] END ..............................kmeans__n_clusters=17; total time=   0.2s\n"
          ]
        },
        {
          "metadata": {
            "tags": null
          },
          "name": "stderr",
          "output_type": "stream",
          "text": [
            "/usr/local/lib/python3.12/dist-packages/sklearn/linear_model/_logistic.py:465: ConvergenceWarning: lbfgs failed to converge (status=1):\n",
            "STOP: TOTAL NO. OF ITERATIONS REACHED LIMIT.\n",
            "\n",
            "Increase the number of iterations (max_iter) or scale the data as shown in:\n",
            "    https://scikit-learn.org/stable/modules/preprocessing.html\n",
            "Please also refer to the documentation for alternative solver options:\n",
            "    https://scikit-learn.org/stable/modules/linear_model.html#logistic-regression\n",
            "  n_iter_i = _check_optimize_result(\n",
            "/usr/local/lib/python3.12/dist-packages/sklearn/linear_model/_logistic.py:465: ConvergenceWarning: lbfgs failed to converge (status=1):\n",
            "STOP: TOTAL NO. OF ITERATIONS REACHED LIMIT.\n",
            "\n",
            "Increase the number of iterations (max_iter) or scale the data as shown in:\n",
            "    https://scikit-learn.org/stable/modules/preprocessing.html\n",
            "Please also refer to the documentation for alternative solver options:\n",
            "    https://scikit-learn.org/stable/modules/linear_model.html#logistic-regression\n",
            "  n_iter_i = _check_optimize_result(\n"
          ]
        },
        {
          "metadata": {
            "tags": null
          },
          "name": "stdout",
          "output_type": "stream",
          "text": [
            "[CV] END ..............................kmeans__n_clusters=17; total time=   0.2s\n",
            "[CV] END ..............................kmeans__n_clusters=18; total time=   0.2s\n"
          ]
        },
        {
          "metadata": {
            "tags": null
          },
          "name": "stderr",
          "output_type": "stream",
          "text": [
            "/usr/local/lib/python3.12/dist-packages/sklearn/linear_model/_logistic.py:465: ConvergenceWarning: lbfgs failed to converge (status=1):\n",
            "STOP: TOTAL NO. OF ITERATIONS REACHED LIMIT.\n",
            "\n",
            "Increase the number of iterations (max_iter) or scale the data as shown in:\n",
            "    https://scikit-learn.org/stable/modules/preprocessing.html\n",
            "Please also refer to the documentation for alternative solver options:\n",
            "    https://scikit-learn.org/stable/modules/linear_model.html#logistic-regression\n",
            "  n_iter_i = _check_optimize_result(\n"
          ]
        },
        {
          "metadata": {
            "tags": null
          },
          "name": "stdout",
          "output_type": "stream",
          "text": [
            "[CV] END ..............................kmeans__n_clusters=18; total time=   0.2s\n"
          ]
        },
        {
          "metadata": {
            "tags": null
          },
          "name": "stderr",
          "output_type": "stream",
          "text": [
            "/usr/local/lib/python3.12/dist-packages/sklearn/linear_model/_logistic.py:465: ConvergenceWarning: lbfgs failed to converge (status=1):\n",
            "STOP: TOTAL NO. OF ITERATIONS REACHED LIMIT.\n",
            "\n",
            "Increase the number of iterations (max_iter) or scale the data as shown in:\n",
            "    https://scikit-learn.org/stable/modules/preprocessing.html\n",
            "Please also refer to the documentation for alternative solver options:\n",
            "    https://scikit-learn.org/stable/modules/linear_model.html#logistic-regression\n",
            "  n_iter_i = _check_optimize_result(\n"
          ]
        },
        {
          "metadata": {
            "tags": null
          },
          "name": "stdout",
          "output_type": "stream",
          "text": [
            "[CV] END ..............................kmeans__n_clusters=18; total time=   0.2s\n"
          ]
        },
        {
          "metadata": {
            "tags": null
          },
          "name": "stderr",
          "output_type": "stream",
          "text": [
            "/usr/local/lib/python3.12/dist-packages/sklearn/linear_model/_logistic.py:465: ConvergenceWarning: lbfgs failed to converge (status=1):\n",
            "STOP: TOTAL NO. OF ITERATIONS REACHED LIMIT.\n",
            "\n",
            "Increase the number of iterations (max_iter) or scale the data as shown in:\n",
            "    https://scikit-learn.org/stable/modules/preprocessing.html\n",
            "Please also refer to the documentation for alternative solver options:\n",
            "    https://scikit-learn.org/stable/modules/linear_model.html#logistic-regression\n",
            "  n_iter_i = _check_optimize_result(\n"
          ]
        },
        {
          "metadata": {
            "tags": null
          },
          "name": "stdout",
          "output_type": "stream",
          "text": [
            "[CV] END ..............................kmeans__n_clusters=19; total time=   0.3s\n"
          ]
        },
        {
          "metadata": {
            "tags": null
          },
          "name": "stderr",
          "output_type": "stream",
          "text": [
            "/usr/local/lib/python3.12/dist-packages/sklearn/linear_model/_logistic.py:465: ConvergenceWarning: lbfgs failed to converge (status=1):\n",
            "STOP: TOTAL NO. OF ITERATIONS REACHED LIMIT.\n",
            "\n",
            "Increase the number of iterations (max_iter) or scale the data as shown in:\n",
            "    https://scikit-learn.org/stable/modules/preprocessing.html\n",
            "Please also refer to the documentation for alternative solver options:\n",
            "    https://scikit-learn.org/stable/modules/linear_model.html#logistic-regression\n",
            "  n_iter_i = _check_optimize_result(\n"
          ]
        },
        {
          "metadata": {
            "tags": null
          },
          "name": "stdout",
          "output_type": "stream",
          "text": [
            "[CV] END ..............................kmeans__n_clusters=19; total time=   0.7s\n"
          ]
        },
        {
          "metadata": {
            "tags": null
          },
          "name": "stderr",
          "output_type": "stream",
          "text": [
            "/usr/local/lib/python3.12/dist-packages/sklearn/linear_model/_logistic.py:465: ConvergenceWarning: lbfgs failed to converge (status=1):\n",
            "STOP: TOTAL NO. OF ITERATIONS REACHED LIMIT.\n",
            "\n",
            "Increase the number of iterations (max_iter) or scale the data as shown in:\n",
            "    https://scikit-learn.org/stable/modules/preprocessing.html\n",
            "Please also refer to the documentation for alternative solver options:\n",
            "    https://scikit-learn.org/stable/modules/linear_model.html#logistic-regression\n",
            "  n_iter_i = _check_optimize_result(\n"
          ]
        },
        {
          "metadata": {
            "tags": null
          },
          "name": "stdout",
          "output_type": "stream",
          "text": [
            "[CV] END ..............................kmeans__n_clusters=19; total time=   0.5s\n"
          ]
        },
        {
          "metadata": {
            "tags": null
          },
          "name": "stderr",
          "output_type": "stream",
          "text": [
            "/usr/local/lib/python3.12/dist-packages/sklearn/linear_model/_logistic.py:465: ConvergenceWarning: lbfgs failed to converge (status=1):\n",
            "STOP: TOTAL NO. OF ITERATIONS REACHED LIMIT.\n",
            "\n",
            "Increase the number of iterations (max_iter) or scale the data as shown in:\n",
            "    https://scikit-learn.org/stable/modules/preprocessing.html\n",
            "Please also refer to the documentation for alternative solver options:\n",
            "    https://scikit-learn.org/stable/modules/linear_model.html#logistic-regression\n",
            "  n_iter_i = _check_optimize_result(\n"
          ]
        },
        {
          "metadata": {
            "tags": null
          },
          "name": "stdout",
          "output_type": "stream",
          "text": [
            "[CV] END ..............................kmeans__n_clusters=20; total time=   0.4s\n"
          ]
        },
        {
          "metadata": {
            "tags": null
          },
          "name": "stderr",
          "output_type": "stream",
          "text": [
            "/usr/local/lib/python3.12/dist-packages/sklearn/linear_model/_logistic.py:465: ConvergenceWarning: lbfgs failed to converge (status=1):\n",
            "STOP: TOTAL NO. OF ITERATIONS REACHED LIMIT.\n",
            "\n",
            "Increase the number of iterations (max_iter) or scale the data as shown in:\n",
            "    https://scikit-learn.org/stable/modules/preprocessing.html\n",
            "Please also refer to the documentation for alternative solver options:\n",
            "    https://scikit-learn.org/stable/modules/linear_model.html#logistic-regression\n",
            "  n_iter_i = _check_optimize_result(\n"
          ]
        },
        {
          "metadata": {
            "tags": null
          },
          "name": "stdout",
          "output_type": "stream",
          "text": [
            "[CV] END ..............................kmeans__n_clusters=20; total time=   0.4s\n"
          ]
        },
        {
          "metadata": {
            "tags": null
          },
          "name": "stderr",
          "output_type": "stream",
          "text": [
            "/usr/local/lib/python3.12/dist-packages/sklearn/linear_model/_logistic.py:465: ConvergenceWarning: lbfgs failed to converge (status=1):\n",
            "STOP: TOTAL NO. OF ITERATIONS REACHED LIMIT.\n",
            "\n",
            "Increase the number of iterations (max_iter) or scale the data as shown in:\n",
            "    https://scikit-learn.org/stable/modules/preprocessing.html\n",
            "Please also refer to the documentation for alternative solver options:\n",
            "    https://scikit-learn.org/stable/modules/linear_model.html#logistic-regression\n",
            "  n_iter_i = _check_optimize_result(\n"
          ]
        },
        {
          "metadata": {
            "tags": null
          },
          "name": "stdout",
          "output_type": "stream",
          "text": [
            "[CV] END ..............................kmeans__n_clusters=20; total time=   0.4s\n"
          ]
        },
        {
          "metadata": {
            "tags": null
          },
          "name": "stderr",
          "output_type": "stream",
          "text": [
            "/usr/local/lib/python3.12/dist-packages/sklearn/linear_model/_logistic.py:465: ConvergenceWarning: lbfgs failed to converge (status=1):\n",
            "STOP: TOTAL NO. OF ITERATIONS REACHED LIMIT.\n",
            "\n",
            "Increase the number of iterations (max_iter) or scale the data as shown in:\n",
            "    https://scikit-learn.org/stable/modules/preprocessing.html\n",
            "Please also refer to the documentation for alternative solver options:\n",
            "    https://scikit-learn.org/stable/modules/linear_model.html#logistic-regression\n",
            "  n_iter_i = _check_optimize_result(\n"
          ]
        },
        {
          "metadata": {
            "tags": null
          },
          "name": "stdout",
          "output_type": "stream",
          "text": [
            "[CV] END ..............................kmeans__n_clusters=21; total time=   0.8s\n"
          ]
        },
        {
          "metadata": {
            "tags": null
          },
          "name": "stderr",
          "output_type": "stream",
          "text": [
            "/usr/local/lib/python3.12/dist-packages/sklearn/linear_model/_logistic.py:465: ConvergenceWarning: lbfgs failed to converge (status=1):\n",
            "STOP: TOTAL NO. OF ITERATIONS REACHED LIMIT.\n",
            "\n",
            "Increase the number of iterations (max_iter) or scale the data as shown in:\n",
            "    https://scikit-learn.org/stable/modules/preprocessing.html\n",
            "Please also refer to the documentation for alternative solver options:\n",
            "    https://scikit-learn.org/stable/modules/linear_model.html#logistic-regression\n",
            "  n_iter_i = _check_optimize_result(\n"
          ]
        },
        {
          "metadata": {
            "tags": null
          },
          "name": "stdout",
          "output_type": "stream",
          "text": [
            "[CV] END ..............................kmeans__n_clusters=21; total time=   0.9s\n"
          ]
        },
        {
          "metadata": {
            "tags": null
          },
          "name": "stderr",
          "output_type": "stream",
          "text": [
            "/usr/local/lib/python3.12/dist-packages/sklearn/linear_model/_logistic.py:465: ConvergenceWarning: lbfgs failed to converge (status=1):\n",
            "STOP: TOTAL NO. OF ITERATIONS REACHED LIMIT.\n",
            "\n",
            "Increase the number of iterations (max_iter) or scale the data as shown in:\n",
            "    https://scikit-learn.org/stable/modules/preprocessing.html\n",
            "Please also refer to the documentation for alternative solver options:\n",
            "    https://scikit-learn.org/stable/modules/linear_model.html#logistic-regression\n",
            "  n_iter_i = _check_optimize_result(\n"
          ]
        },
        {
          "metadata": {
            "tags": null
          },
          "name": "stdout",
          "output_type": "stream",
          "text": [
            "[CV] END ..............................kmeans__n_clusters=21; total time=   0.4s\n"
          ]
        },
        {
          "metadata": {
            "tags": null
          },
          "name": "stderr",
          "output_type": "stream",
          "text": [
            "/usr/local/lib/python3.12/dist-packages/sklearn/linear_model/_logistic.py:465: ConvergenceWarning: lbfgs failed to converge (status=1):\n",
            "STOP: TOTAL NO. OF ITERATIONS REACHED LIMIT.\n",
            "\n",
            "Increase the number of iterations (max_iter) or scale the data as shown in:\n",
            "    https://scikit-learn.org/stable/modules/preprocessing.html\n",
            "Please also refer to the documentation for alternative solver options:\n",
            "    https://scikit-learn.org/stable/modules/linear_model.html#logistic-regression\n",
            "  n_iter_i = _check_optimize_result(\n"
          ]
        },
        {
          "metadata": {
            "tags": null
          },
          "name": "stdout",
          "output_type": "stream",
          "text": [
            "[CV] END ..............................kmeans__n_clusters=22; total time=   0.9s\n"
          ]
        },
        {
          "metadata": {
            "tags": null
          },
          "name": "stderr",
          "output_type": "stream",
          "text": [
            "/usr/local/lib/python3.12/dist-packages/sklearn/linear_model/_logistic.py:465: ConvergenceWarning: lbfgs failed to converge (status=1):\n",
            "STOP: TOTAL NO. OF ITERATIONS REACHED LIMIT.\n",
            "\n",
            "Increase the number of iterations (max_iter) or scale the data as shown in:\n",
            "    https://scikit-learn.org/stable/modules/preprocessing.html\n",
            "Please also refer to the documentation for alternative solver options:\n",
            "    https://scikit-learn.org/stable/modules/linear_model.html#logistic-regression\n",
            "  n_iter_i = _check_optimize_result(\n",
            "/usr/local/lib/python3.12/dist-packages/sklearn/linear_model/_logistic.py:465: ConvergenceWarning: lbfgs failed to converge (status=1):\n",
            "STOP: TOTAL NO. OF ITERATIONS REACHED LIMIT.\n",
            "\n",
            "Increase the number of iterations (max_iter) or scale the data as shown in:\n",
            "    https://scikit-learn.org/stable/modules/preprocessing.html\n",
            "Please also refer to the documentation for alternative solver options:\n",
            "    https://scikit-learn.org/stable/modules/linear_model.html#logistic-regression\n",
            "  n_iter_i = _check_optimize_result(\n"
          ]
        },
        {
          "metadata": {
            "tags": null
          },
          "name": "stdout",
          "output_type": "stream",
          "text": [
            "[CV] END ..............................kmeans__n_clusters=22; total time=   0.2s\n",
            "[CV] END ..............................kmeans__n_clusters=22; total time=   0.2s\n"
          ]
        },
        {
          "metadata": {
            "tags": null
          },
          "name": "stderr",
          "output_type": "stream",
          "text": [
            "/usr/local/lib/python3.12/dist-packages/sklearn/linear_model/_logistic.py:465: ConvergenceWarning: lbfgs failed to converge (status=1):\n",
            "STOP: TOTAL NO. OF ITERATIONS REACHED LIMIT.\n",
            "\n",
            "Increase the number of iterations (max_iter) or scale the data as shown in:\n",
            "    https://scikit-learn.org/stable/modules/preprocessing.html\n",
            "Please also refer to the documentation for alternative solver options:\n",
            "    https://scikit-learn.org/stable/modules/linear_model.html#logistic-regression\n",
            "  n_iter_i = _check_optimize_result(\n"
          ]
        },
        {
          "metadata": {
            "tags": null
          },
          "name": "stdout",
          "output_type": "stream",
          "text": [
            "[CV] END ..............................kmeans__n_clusters=23; total time=   0.3s\n"
          ]
        },
        {
          "metadata": {
            "tags": null
          },
          "name": "stderr",
          "output_type": "stream",
          "text": [
            "/usr/local/lib/python3.12/dist-packages/sklearn/linear_model/_logistic.py:465: ConvergenceWarning: lbfgs failed to converge (status=1):\n",
            "STOP: TOTAL NO. OF ITERATIONS REACHED LIMIT.\n",
            "\n",
            "Increase the number of iterations (max_iter) or scale the data as shown in:\n",
            "    https://scikit-learn.org/stable/modules/preprocessing.html\n",
            "Please also refer to the documentation for alternative solver options:\n",
            "    https://scikit-learn.org/stable/modules/linear_model.html#logistic-regression\n",
            "  n_iter_i = _check_optimize_result(\n"
          ]
        },
        {
          "metadata": {
            "tags": null
          },
          "name": "stdout",
          "output_type": "stream",
          "text": [
            "[CV] END ..............................kmeans__n_clusters=23; total time=   0.4s\n"
          ]
        },
        {
          "metadata": {
            "tags": null
          },
          "name": "stderr",
          "output_type": "stream",
          "text": [
            "/usr/local/lib/python3.12/dist-packages/sklearn/linear_model/_logistic.py:465: ConvergenceWarning: lbfgs failed to converge (status=1):\n",
            "STOP: TOTAL NO. OF ITERATIONS REACHED LIMIT.\n",
            "\n",
            "Increase the number of iterations (max_iter) or scale the data as shown in:\n",
            "    https://scikit-learn.org/stable/modules/preprocessing.html\n",
            "Please also refer to the documentation for alternative solver options:\n",
            "    https://scikit-learn.org/stable/modules/linear_model.html#logistic-regression\n",
            "  n_iter_i = _check_optimize_result(\n"
          ]
        },
        {
          "metadata": {
            "tags": null
          },
          "name": "stdout",
          "output_type": "stream",
          "text": [
            "[CV] END ..............................kmeans__n_clusters=23; total time=   0.5s\n"
          ]
        },
        {
          "metadata": {
            "tags": null
          },
          "name": "stderr",
          "output_type": "stream",
          "text": [
            "/usr/local/lib/python3.12/dist-packages/sklearn/linear_model/_logistic.py:465: ConvergenceWarning: lbfgs failed to converge (status=1):\n",
            "STOP: TOTAL NO. OF ITERATIONS REACHED LIMIT.\n",
            "\n",
            "Increase the number of iterations (max_iter) or scale the data as shown in:\n",
            "    https://scikit-learn.org/stable/modules/preprocessing.html\n",
            "Please also refer to the documentation for alternative solver options:\n",
            "    https://scikit-learn.org/stable/modules/linear_model.html#logistic-regression\n",
            "  n_iter_i = _check_optimize_result(\n"
          ]
        },
        {
          "metadata": {
            "tags": null
          },
          "name": "stdout",
          "output_type": "stream",
          "text": [
            "[CV] END ..............................kmeans__n_clusters=24; total time=   0.9s\n"
          ]
        },
        {
          "metadata": {
            "tags": null
          },
          "name": "stderr",
          "output_type": "stream",
          "text": [
            "/usr/local/lib/python3.12/dist-packages/sklearn/linear_model/_logistic.py:465: ConvergenceWarning: lbfgs failed to converge (status=1):\n",
            "STOP: TOTAL NO. OF ITERATIONS REACHED LIMIT.\n",
            "\n",
            "Increase the number of iterations (max_iter) or scale the data as shown in:\n",
            "    https://scikit-learn.org/stable/modules/preprocessing.html\n",
            "Please also refer to the documentation for alternative solver options:\n",
            "    https://scikit-learn.org/stable/modules/linear_model.html#logistic-regression\n",
            "  n_iter_i = _check_optimize_result(\n"
          ]
        },
        {
          "metadata": {
            "tags": null
          },
          "name": "stdout",
          "output_type": "stream",
          "text": [
            "[CV] END ..............................kmeans__n_clusters=24; total time=   0.4s\n"
          ]
        },
        {
          "metadata": {
            "tags": null
          },
          "name": "stderr",
          "output_type": "stream",
          "text": [
            "/usr/local/lib/python3.12/dist-packages/sklearn/linear_model/_logistic.py:465: ConvergenceWarning: lbfgs failed to converge (status=1):\n",
            "STOP: TOTAL NO. OF ITERATIONS REACHED LIMIT.\n",
            "\n",
            "Increase the number of iterations (max_iter) or scale the data as shown in:\n",
            "    https://scikit-learn.org/stable/modules/preprocessing.html\n",
            "Please also refer to the documentation for alternative solver options:\n",
            "    https://scikit-learn.org/stable/modules/linear_model.html#logistic-regression\n",
            "  n_iter_i = _check_optimize_result(\n"
          ]
        },
        {
          "metadata": {
            "tags": null
          },
          "name": "stdout",
          "output_type": "stream",
          "text": [
            "[CV] END ..............................kmeans__n_clusters=24; total time=   0.8s\n"
          ]
        },
        {
          "metadata": {
            "tags": null
          },
          "name": "stderr",
          "output_type": "stream",
          "text": [
            "/usr/local/lib/python3.12/dist-packages/sklearn/linear_model/_logistic.py:465: ConvergenceWarning: lbfgs failed to converge (status=1):\n",
            "STOP: TOTAL NO. OF ITERATIONS REACHED LIMIT.\n",
            "\n",
            "Increase the number of iterations (max_iter) or scale the data as shown in:\n",
            "    https://scikit-learn.org/stable/modules/preprocessing.html\n",
            "Please also refer to the documentation for alternative solver options:\n",
            "    https://scikit-learn.org/stable/modules/linear_model.html#logistic-regression\n",
            "  n_iter_i = _check_optimize_result(\n"
          ]
        },
        {
          "metadata": {
            "tags": null
          },
          "name": "stdout",
          "output_type": "stream",
          "text": [
            "[CV] END ..............................kmeans__n_clusters=25; total time=   0.7s\n"
          ]
        },
        {
          "metadata": {
            "tags": null
          },
          "name": "stderr",
          "output_type": "stream",
          "text": [
            "/usr/local/lib/python3.12/dist-packages/sklearn/linear_model/_logistic.py:465: ConvergenceWarning: lbfgs failed to converge (status=1):\n",
            "STOP: TOTAL NO. OF ITERATIONS REACHED LIMIT.\n",
            "\n",
            "Increase the number of iterations (max_iter) or scale the data as shown in:\n",
            "    https://scikit-learn.org/stable/modules/preprocessing.html\n",
            "Please also refer to the documentation for alternative solver options:\n",
            "    https://scikit-learn.org/stable/modules/linear_model.html#logistic-regression\n",
            "  n_iter_i = _check_optimize_result(\n"
          ]
        },
        {
          "metadata": {
            "tags": null
          },
          "name": "stdout",
          "output_type": "stream",
          "text": [
            "[CV] END ..............................kmeans__n_clusters=25; total time=   0.8s\n"
          ]
        },
        {
          "metadata": {
            "tags": null
          },
          "name": "stderr",
          "output_type": "stream",
          "text": [
            "/usr/local/lib/python3.12/dist-packages/sklearn/linear_model/_logistic.py:465: ConvergenceWarning: lbfgs failed to converge (status=1):\n",
            "STOP: TOTAL NO. OF ITERATIONS REACHED LIMIT.\n",
            "\n",
            "Increase the number of iterations (max_iter) or scale the data as shown in:\n",
            "    https://scikit-learn.org/stable/modules/preprocessing.html\n",
            "Please also refer to the documentation for alternative solver options:\n",
            "    https://scikit-learn.org/stable/modules/linear_model.html#logistic-regression\n",
            "  n_iter_i = _check_optimize_result(\n"
          ]
        },
        {
          "metadata": {
            "tags": null
          },
          "name": "stdout",
          "output_type": "stream",
          "text": [
            "[CV] END ..............................kmeans__n_clusters=25; total time=   0.7s\n"
          ]
        },
        {
          "metadata": {
            "tags": null
          },
          "name": "stderr",
          "output_type": "stream",
          "text": [
            "/usr/local/lib/python3.12/dist-packages/sklearn/linear_model/_logistic.py:465: ConvergenceWarning: lbfgs failed to converge (status=1):\n",
            "STOP: TOTAL NO. OF ITERATIONS REACHED LIMIT.\n",
            "\n",
            "Increase the number of iterations (max_iter) or scale the data as shown in:\n",
            "    https://scikit-learn.org/stable/modules/preprocessing.html\n",
            "Please also refer to the documentation for alternative solver options:\n",
            "    https://scikit-learn.org/stable/modules/linear_model.html#logistic-regression\n",
            "  n_iter_i = _check_optimize_result(\n"
          ]
        },
        {
          "metadata": {
            "tags": null
          },
          "name": "stdout",
          "output_type": "stream",
          "text": [
            "[CV] END ..............................kmeans__n_clusters=26; total time=   0.4s\n"
          ]
        },
        {
          "metadata": {
            "tags": null
          },
          "name": "stderr",
          "output_type": "stream",
          "text": [
            "/usr/local/lib/python3.12/dist-packages/sklearn/linear_model/_logistic.py:465: ConvergenceWarning: lbfgs failed to converge (status=1):\n",
            "STOP: TOTAL NO. OF ITERATIONS REACHED LIMIT.\n",
            "\n",
            "Increase the number of iterations (max_iter) or scale the data as shown in:\n",
            "    https://scikit-learn.org/stable/modules/preprocessing.html\n",
            "Please also refer to the documentation for alternative solver options:\n",
            "    https://scikit-learn.org/stable/modules/linear_model.html#logistic-regression\n",
            "  n_iter_i = _check_optimize_result(\n"
          ]
        },
        {
          "metadata": {
            "tags": null
          },
          "name": "stdout",
          "output_type": "stream",
          "text": [
            "[CV] END ..............................kmeans__n_clusters=26; total time=   0.6s\n"
          ]
        },
        {
          "metadata": {
            "tags": null
          },
          "name": "stderr",
          "output_type": "stream",
          "text": [
            "/usr/local/lib/python3.12/dist-packages/sklearn/linear_model/_logistic.py:465: ConvergenceWarning: lbfgs failed to converge (status=1):\n",
            "STOP: TOTAL NO. OF ITERATIONS REACHED LIMIT.\n",
            "\n",
            "Increase the number of iterations (max_iter) or scale the data as shown in:\n",
            "    https://scikit-learn.org/stable/modules/preprocessing.html\n",
            "Please also refer to the documentation for alternative solver options:\n",
            "    https://scikit-learn.org/stable/modules/linear_model.html#logistic-regression\n",
            "  n_iter_i = _check_optimize_result(\n"
          ]
        },
        {
          "metadata": {
            "tags": null
          },
          "name": "stdout",
          "output_type": "stream",
          "text": [
            "[CV] END ..............................kmeans__n_clusters=26; total time=   0.4s\n"
          ]
        },
        {
          "metadata": {
            "tags": null
          },
          "name": "stderr",
          "output_type": "stream",
          "text": [
            "/usr/local/lib/python3.12/dist-packages/sklearn/linear_model/_logistic.py:465: ConvergenceWarning: lbfgs failed to converge (status=1):\n",
            "STOP: TOTAL NO. OF ITERATIONS REACHED LIMIT.\n",
            "\n",
            "Increase the number of iterations (max_iter) or scale the data as shown in:\n",
            "    https://scikit-learn.org/stable/modules/preprocessing.html\n",
            "Please also refer to the documentation for alternative solver options:\n",
            "    https://scikit-learn.org/stable/modules/linear_model.html#logistic-regression\n",
            "  n_iter_i = _check_optimize_result(\n"
          ]
        },
        {
          "metadata": {
            "tags": null
          },
          "name": "stdout",
          "output_type": "stream",
          "text": [
            "[CV] END ..............................kmeans__n_clusters=27; total time=   1.2s\n"
          ]
        },
        {
          "metadata": {
            "tags": null
          },
          "name": "stderr",
          "output_type": "stream",
          "text": [
            "/usr/local/lib/python3.12/dist-packages/sklearn/linear_model/_logistic.py:465: ConvergenceWarning: lbfgs failed to converge (status=1):\n",
            "STOP: TOTAL NO. OF ITERATIONS REACHED LIMIT.\n",
            "\n",
            "Increase the number of iterations (max_iter) or scale the data as shown in:\n",
            "    https://scikit-learn.org/stable/modules/preprocessing.html\n",
            "Please also refer to the documentation for alternative solver options:\n",
            "    https://scikit-learn.org/stable/modules/linear_model.html#logistic-regression\n",
            "  n_iter_i = _check_optimize_result(\n"
          ]
        },
        {
          "metadata": {
            "tags": null
          },
          "name": "stdout",
          "output_type": "stream",
          "text": [
            "[CV] END ..............................kmeans__n_clusters=27; total time=   1.0s\n"
          ]
        },
        {
          "metadata": {
            "tags": null
          },
          "name": "stderr",
          "output_type": "stream",
          "text": [
            "/usr/local/lib/python3.12/dist-packages/sklearn/linear_model/_logistic.py:465: ConvergenceWarning: lbfgs failed to converge (status=1):\n",
            "STOP: TOTAL NO. OF ITERATIONS REACHED LIMIT.\n",
            "\n",
            "Increase the number of iterations (max_iter) or scale the data as shown in:\n",
            "    https://scikit-learn.org/stable/modules/preprocessing.html\n",
            "Please also refer to the documentation for alternative solver options:\n",
            "    https://scikit-learn.org/stable/modules/linear_model.html#logistic-regression\n",
            "  n_iter_i = _check_optimize_result(\n"
          ]
        },
        {
          "metadata": {
            "tags": null
          },
          "name": "stdout",
          "output_type": "stream",
          "text": [
            "[CV] END ..............................kmeans__n_clusters=27; total time=   0.6s\n"
          ]
        },
        {
          "metadata": {
            "tags": null
          },
          "name": "stderr",
          "output_type": "stream",
          "text": [
            "/usr/local/lib/python3.12/dist-packages/sklearn/linear_model/_logistic.py:465: ConvergenceWarning: lbfgs failed to converge (status=1):\n",
            "STOP: TOTAL NO. OF ITERATIONS REACHED LIMIT.\n",
            "\n",
            "Increase the number of iterations (max_iter) or scale the data as shown in:\n",
            "    https://scikit-learn.org/stable/modules/preprocessing.html\n",
            "Please also refer to the documentation for alternative solver options:\n",
            "    https://scikit-learn.org/stable/modules/linear_model.html#logistic-regression\n",
            "  n_iter_i = _check_optimize_result(\n"
          ]
        },
        {
          "metadata": {
            "tags": null
          },
          "name": "stdout",
          "output_type": "stream",
          "text": [
            "[CV] END ..............................kmeans__n_clusters=28; total time=   0.8s\n"
          ]
        },
        {
          "metadata": {
            "tags": null
          },
          "name": "stderr",
          "output_type": "stream",
          "text": [
            "/usr/local/lib/python3.12/dist-packages/sklearn/linear_model/_logistic.py:465: ConvergenceWarning: lbfgs failed to converge (status=1):\n",
            "STOP: TOTAL NO. OF ITERATIONS REACHED LIMIT.\n",
            "\n",
            "Increase the number of iterations (max_iter) or scale the data as shown in:\n",
            "    https://scikit-learn.org/stable/modules/preprocessing.html\n",
            "Please also refer to the documentation for alternative solver options:\n",
            "    https://scikit-learn.org/stable/modules/linear_model.html#logistic-regression\n",
            "  n_iter_i = _check_optimize_result(\n"
          ]
        },
        {
          "metadata": {
            "tags": null
          },
          "name": "stdout",
          "output_type": "stream",
          "text": [
            "[CV] END ..............................kmeans__n_clusters=28; total time=   0.5s\n"
          ]
        },
        {
          "metadata": {
            "tags": null
          },
          "name": "stderr",
          "output_type": "stream",
          "text": [
            "/usr/local/lib/python3.12/dist-packages/sklearn/linear_model/_logistic.py:465: ConvergenceWarning: lbfgs failed to converge (status=1):\n",
            "STOP: TOTAL NO. OF ITERATIONS REACHED LIMIT.\n",
            "\n",
            "Increase the number of iterations (max_iter) or scale the data as shown in:\n",
            "    https://scikit-learn.org/stable/modules/preprocessing.html\n",
            "Please also refer to the documentation for alternative solver options:\n",
            "    https://scikit-learn.org/stable/modules/linear_model.html#logistic-regression\n",
            "  n_iter_i = _check_optimize_result(\n"
          ]
        },
        {
          "metadata": {
            "tags": null
          },
          "name": "stdout",
          "output_type": "stream",
          "text": [
            "[CV] END ..............................kmeans__n_clusters=28; total time=   0.6s\n"
          ]
        },
        {
          "metadata": {
            "tags": null
          },
          "name": "stderr",
          "output_type": "stream",
          "text": [
            "/usr/local/lib/python3.12/dist-packages/sklearn/linear_model/_logistic.py:465: ConvergenceWarning: lbfgs failed to converge (status=1):\n",
            "STOP: TOTAL NO. OF ITERATIONS REACHED LIMIT.\n",
            "\n",
            "Increase the number of iterations (max_iter) or scale the data as shown in:\n",
            "    https://scikit-learn.org/stable/modules/preprocessing.html\n",
            "Please also refer to the documentation for alternative solver options:\n",
            "    https://scikit-learn.org/stable/modules/linear_model.html#logistic-regression\n",
            "  n_iter_i = _check_optimize_result(\n"
          ]
        },
        {
          "metadata": {
            "tags": null
          },
          "name": "stdout",
          "output_type": "stream",
          "text": [
            "[CV] END ..............................kmeans__n_clusters=29; total time=   0.4s\n"
          ]
        },
        {
          "metadata": {
            "tags": null
          },
          "name": "stderr",
          "output_type": "stream",
          "text": [
            "/usr/local/lib/python3.12/dist-packages/sklearn/linear_model/_logistic.py:465: ConvergenceWarning: lbfgs failed to converge (status=1):\n",
            "STOP: TOTAL NO. OF ITERATIONS REACHED LIMIT.\n",
            "\n",
            "Increase the number of iterations (max_iter) or scale the data as shown in:\n",
            "    https://scikit-learn.org/stable/modules/preprocessing.html\n",
            "Please also refer to the documentation for alternative solver options:\n",
            "    https://scikit-learn.org/stable/modules/linear_model.html#logistic-regression\n",
            "  n_iter_i = _check_optimize_result(\n"
          ]
        },
        {
          "metadata": {
            "tags": null
          },
          "name": "stdout",
          "output_type": "stream",
          "text": [
            "[CV] END ..............................kmeans__n_clusters=29; total time=   0.2s\n"
          ]
        },
        {
          "metadata": {
            "tags": null
          },
          "name": "stderr",
          "output_type": "stream",
          "text": [
            "/usr/local/lib/python3.12/dist-packages/sklearn/linear_model/_logistic.py:465: ConvergenceWarning: lbfgs failed to converge (status=1):\n",
            "STOP: TOTAL NO. OF ITERATIONS REACHED LIMIT.\n",
            "\n",
            "Increase the number of iterations (max_iter) or scale the data as shown in:\n",
            "    https://scikit-learn.org/stable/modules/preprocessing.html\n",
            "Please also refer to the documentation for alternative solver options:\n",
            "    https://scikit-learn.org/stable/modules/linear_model.html#logistic-regression\n",
            "  n_iter_i = _check_optimize_result(\n",
            "/usr/local/lib/python3.12/dist-packages/sklearn/linear_model/_logistic.py:465: ConvergenceWarning: lbfgs failed to converge (status=1):\n",
            "STOP: TOTAL NO. OF ITERATIONS REACHED LIMIT.\n",
            "\n",
            "Increase the number of iterations (max_iter) or scale the data as shown in:\n",
            "    https://scikit-learn.org/stable/modules/preprocessing.html\n",
            "Please also refer to the documentation for alternative solver options:\n",
            "    https://scikit-learn.org/stable/modules/linear_model.html#logistic-regression\n",
            "  n_iter_i = _check_optimize_result(\n"
          ]
        },
        {
          "metadata": {
            "tags": null
          },
          "name": "stdout",
          "output_type": "stream",
          "text": [
            "[CV] END ..............................kmeans__n_clusters=29; total time=   0.3s\n",
            "[CV] END ..............................kmeans__n_clusters=30; total time=   0.2s\n"
          ]
        },
        {
          "metadata": {
            "tags": null
          },
          "name": "stderr",
          "output_type": "stream",
          "text": [
            "/usr/local/lib/python3.12/dist-packages/sklearn/linear_model/_logistic.py:465: ConvergenceWarning: lbfgs failed to converge (status=1):\n",
            "STOP: TOTAL NO. OF ITERATIONS REACHED LIMIT.\n",
            "\n",
            "Increase the number of iterations (max_iter) or scale the data as shown in:\n",
            "    https://scikit-learn.org/stable/modules/preprocessing.html\n",
            "Please also refer to the documentation for alternative solver options:\n",
            "    https://scikit-learn.org/stable/modules/linear_model.html#logistic-regression\n",
            "  n_iter_i = _check_optimize_result(\n"
          ]
        },
        {
          "metadata": {
            "tags": null
          },
          "name": "stdout",
          "output_type": "stream",
          "text": [
            "[CV] END ..............................kmeans__n_clusters=30; total time=   0.3s\n"
          ]
        },
        {
          "metadata": {
            "tags": null
          },
          "name": "stderr",
          "output_type": "stream",
          "text": [
            "/usr/local/lib/python3.12/dist-packages/sklearn/linear_model/_logistic.py:465: ConvergenceWarning: lbfgs failed to converge (status=1):\n",
            "STOP: TOTAL NO. OF ITERATIONS REACHED LIMIT.\n",
            "\n",
            "Increase the number of iterations (max_iter) or scale the data as shown in:\n",
            "    https://scikit-learn.org/stable/modules/preprocessing.html\n",
            "Please also refer to the documentation for alternative solver options:\n",
            "    https://scikit-learn.org/stable/modules/linear_model.html#logistic-regression\n",
            "  n_iter_i = _check_optimize_result(\n"
          ]
        },
        {
          "metadata": {
            "tags": null
          },
          "name": "stdout",
          "output_type": "stream",
          "text": [
            "[CV] END ..............................kmeans__n_clusters=30; total time=   0.4s\n"
          ]
        },
        {
          "metadata": {
            "tags": null
          },
          "name": "stderr",
          "output_type": "stream",
          "text": [
            "/usr/local/lib/python3.12/dist-packages/sklearn/linear_model/_logistic.py:465: ConvergenceWarning: lbfgs failed to converge (status=1):\n",
            "STOP: TOTAL NO. OF ITERATIONS REACHED LIMIT.\n",
            "\n",
            "Increase the number of iterations (max_iter) or scale the data as shown in:\n",
            "    https://scikit-learn.org/stable/modules/preprocessing.html\n",
            "Please also refer to the documentation for alternative solver options:\n",
            "    https://scikit-learn.org/stable/modules/linear_model.html#logistic-regression\n",
            "  n_iter_i = _check_optimize_result(\n"
          ]
        },
        {
          "metadata": {
            "tags": null
          },
          "name": "stdout",
          "output_type": "stream",
          "text": [
            "[CV] END ..............................kmeans__n_clusters=31; total time=   0.5s\n"
          ]
        },
        {
          "metadata": {
            "tags": null
          },
          "name": "stderr",
          "output_type": "stream",
          "text": [
            "/usr/local/lib/python3.12/dist-packages/sklearn/linear_model/_logistic.py:465: ConvergenceWarning: lbfgs failed to converge (status=1):\n",
            "STOP: TOTAL NO. OF ITERATIONS REACHED LIMIT.\n",
            "\n",
            "Increase the number of iterations (max_iter) or scale the data as shown in:\n",
            "    https://scikit-learn.org/stable/modules/preprocessing.html\n",
            "Please also refer to the documentation for alternative solver options:\n",
            "    https://scikit-learn.org/stable/modules/linear_model.html#logistic-regression\n",
            "  n_iter_i = _check_optimize_result(\n"
          ]
        },
        {
          "metadata": {
            "tags": null
          },
          "name": "stdout",
          "output_type": "stream",
          "text": [
            "[CV] END ..............................kmeans__n_clusters=31; total time=   0.3s\n"
          ]
        },
        {
          "metadata": {
            "tags": null
          },
          "name": "stderr",
          "output_type": "stream",
          "text": [
            "/usr/local/lib/python3.12/dist-packages/sklearn/linear_model/_logistic.py:465: ConvergenceWarning: lbfgs failed to converge (status=1):\n",
            "STOP: TOTAL NO. OF ITERATIONS REACHED LIMIT.\n",
            "\n",
            "Increase the number of iterations (max_iter) or scale the data as shown in:\n",
            "    https://scikit-learn.org/stable/modules/preprocessing.html\n",
            "Please also refer to the documentation for alternative solver options:\n",
            "    https://scikit-learn.org/stable/modules/linear_model.html#logistic-regression\n",
            "  n_iter_i = _check_optimize_result(\n"
          ]
        },
        {
          "metadata": {
            "tags": null
          },
          "name": "stdout",
          "output_type": "stream",
          "text": [
            "[CV] END ..............................kmeans__n_clusters=31; total time=   0.3s\n"
          ]
        },
        {
          "metadata": {
            "tags": null
          },
          "name": "stderr",
          "output_type": "stream",
          "text": [
            "/usr/local/lib/python3.12/dist-packages/sklearn/linear_model/_logistic.py:465: ConvergenceWarning: lbfgs failed to converge (status=1):\n",
            "STOP: TOTAL NO. OF ITERATIONS REACHED LIMIT.\n",
            "\n",
            "Increase the number of iterations (max_iter) or scale the data as shown in:\n",
            "    https://scikit-learn.org/stable/modules/preprocessing.html\n",
            "Please also refer to the documentation for alternative solver options:\n",
            "    https://scikit-learn.org/stable/modules/linear_model.html#logistic-regression\n",
            "  n_iter_i = _check_optimize_result(\n"
          ]
        },
        {
          "metadata": {
            "tags": null
          },
          "name": "stdout",
          "output_type": "stream",
          "text": [
            "[CV] END ..............................kmeans__n_clusters=32; total time=   0.4s\n"
          ]
        },
        {
          "metadata": {
            "tags": null
          },
          "name": "stderr",
          "output_type": "stream",
          "text": [
            "/usr/local/lib/python3.12/dist-packages/sklearn/linear_model/_logistic.py:465: ConvergenceWarning: lbfgs failed to converge (status=1):\n",
            "STOP: TOTAL NO. OF ITERATIONS REACHED LIMIT.\n",
            "\n",
            "Increase the number of iterations (max_iter) or scale the data as shown in:\n",
            "    https://scikit-learn.org/stable/modules/preprocessing.html\n",
            "Please also refer to the documentation for alternative solver options:\n",
            "    https://scikit-learn.org/stable/modules/linear_model.html#logistic-regression\n",
            "  n_iter_i = _check_optimize_result(\n"
          ]
        },
        {
          "metadata": {
            "tags": null
          },
          "name": "stdout",
          "output_type": "stream",
          "text": [
            "[CV] END ..............................kmeans__n_clusters=32; total time=   0.6s\n"
          ]
        },
        {
          "metadata": {
            "tags": null
          },
          "name": "stderr",
          "output_type": "stream",
          "text": [
            "/usr/local/lib/python3.12/dist-packages/sklearn/linear_model/_logistic.py:465: ConvergenceWarning: lbfgs failed to converge (status=1):\n",
            "STOP: TOTAL NO. OF ITERATIONS REACHED LIMIT.\n",
            "\n",
            "Increase the number of iterations (max_iter) or scale the data as shown in:\n",
            "    https://scikit-learn.org/stable/modules/preprocessing.html\n",
            "Please also refer to the documentation for alternative solver options:\n",
            "    https://scikit-learn.org/stable/modules/linear_model.html#logistic-regression\n",
            "  n_iter_i = _check_optimize_result(\n"
          ]
        },
        {
          "metadata": {
            "tags": null
          },
          "name": "stdout",
          "output_type": "stream",
          "text": [
            "[CV] END ..............................kmeans__n_clusters=32; total time=   0.4s\n"
          ]
        },
        {
          "metadata": {
            "tags": null
          },
          "name": "stderr",
          "output_type": "stream",
          "text": [
            "/usr/local/lib/python3.12/dist-packages/sklearn/linear_model/_logistic.py:465: ConvergenceWarning: lbfgs failed to converge (status=1):\n",
            "STOP: TOTAL NO. OF ITERATIONS REACHED LIMIT.\n",
            "\n",
            "Increase the number of iterations (max_iter) or scale the data as shown in:\n",
            "    https://scikit-learn.org/stable/modules/preprocessing.html\n",
            "Please also refer to the documentation for alternative solver options:\n",
            "    https://scikit-learn.org/stable/modules/linear_model.html#logistic-regression\n",
            "  n_iter_i = _check_optimize_result(\n"
          ]
        },
        {
          "metadata": {
            "tags": null
          },
          "name": "stdout",
          "output_type": "stream",
          "text": [
            "[CV] END ..............................kmeans__n_clusters=33; total time=   0.5s\n"
          ]
        },
        {
          "metadata": {
            "tags": null
          },
          "name": "stderr",
          "output_type": "stream",
          "text": [
            "/usr/local/lib/python3.12/dist-packages/sklearn/linear_model/_logistic.py:465: ConvergenceWarning: lbfgs failed to converge (status=1):\n",
            "STOP: TOTAL NO. OF ITERATIONS REACHED LIMIT.\n",
            "\n",
            "Increase the number of iterations (max_iter) or scale the data as shown in:\n",
            "    https://scikit-learn.org/stable/modules/preprocessing.html\n",
            "Please also refer to the documentation for alternative solver options:\n",
            "    https://scikit-learn.org/stable/modules/linear_model.html#logistic-regression\n",
            "  n_iter_i = _check_optimize_result(\n"
          ]
        },
        {
          "metadata": {
            "tags": null
          },
          "name": "stdout",
          "output_type": "stream",
          "text": [
            "[CV] END ..............................kmeans__n_clusters=33; total time=   0.4s\n"
          ]
        },
        {
          "metadata": {
            "tags": null
          },
          "name": "stderr",
          "output_type": "stream",
          "text": [
            "/usr/local/lib/python3.12/dist-packages/sklearn/linear_model/_logistic.py:465: ConvergenceWarning: lbfgs failed to converge (status=1):\n",
            "STOP: TOTAL NO. OF ITERATIONS REACHED LIMIT.\n",
            "\n",
            "Increase the number of iterations (max_iter) or scale the data as shown in:\n",
            "    https://scikit-learn.org/stable/modules/preprocessing.html\n",
            "Please also refer to the documentation for alternative solver options:\n",
            "    https://scikit-learn.org/stable/modules/linear_model.html#logistic-regression\n",
            "  n_iter_i = _check_optimize_result(\n"
          ]
        },
        {
          "metadata": {
            "tags": null
          },
          "name": "stdout",
          "output_type": "stream",
          "text": [
            "[CV] END ..............................kmeans__n_clusters=33; total time=   0.5s\n"
          ]
        },
        {
          "metadata": {
            "tags": null
          },
          "name": "stderr",
          "output_type": "stream",
          "text": [
            "/usr/local/lib/python3.12/dist-packages/sklearn/linear_model/_logistic.py:465: ConvergenceWarning: lbfgs failed to converge (status=1):\n",
            "STOP: TOTAL NO. OF ITERATIONS REACHED LIMIT.\n",
            "\n",
            "Increase the number of iterations (max_iter) or scale the data as shown in:\n",
            "    https://scikit-learn.org/stable/modules/preprocessing.html\n",
            "Please also refer to the documentation for alternative solver options:\n",
            "    https://scikit-learn.org/stable/modules/linear_model.html#logistic-regression\n",
            "  n_iter_i = _check_optimize_result(\n"
          ]
        },
        {
          "metadata": {
            "tags": null
          },
          "name": "stdout",
          "output_type": "stream",
          "text": [
            "[CV] END ..............................kmeans__n_clusters=34; total time=   0.4s\n"
          ]
        },
        {
          "metadata": {
            "tags": null
          },
          "name": "stderr",
          "output_type": "stream",
          "text": [
            "/usr/local/lib/python3.12/dist-packages/sklearn/linear_model/_logistic.py:465: ConvergenceWarning: lbfgs failed to converge (status=1):\n",
            "STOP: TOTAL NO. OF ITERATIONS REACHED LIMIT.\n",
            "\n",
            "Increase the number of iterations (max_iter) or scale the data as shown in:\n",
            "    https://scikit-learn.org/stable/modules/preprocessing.html\n",
            "Please also refer to the documentation for alternative solver options:\n",
            "    https://scikit-learn.org/stable/modules/linear_model.html#logistic-regression\n",
            "  n_iter_i = _check_optimize_result(\n"
          ]
        },
        {
          "metadata": {
            "tags": null
          },
          "name": "stdout",
          "output_type": "stream",
          "text": [
            "[CV] END ..............................kmeans__n_clusters=34; total time=   0.5s\n"
          ]
        },
        {
          "metadata": {
            "tags": null
          },
          "name": "stderr",
          "output_type": "stream",
          "text": [
            "/usr/local/lib/python3.12/dist-packages/sklearn/linear_model/_logistic.py:465: ConvergenceWarning: lbfgs failed to converge (status=1):\n",
            "STOP: TOTAL NO. OF ITERATIONS REACHED LIMIT.\n",
            "\n",
            "Increase the number of iterations (max_iter) or scale the data as shown in:\n",
            "    https://scikit-learn.org/stable/modules/preprocessing.html\n",
            "Please also refer to the documentation for alternative solver options:\n",
            "    https://scikit-learn.org/stable/modules/linear_model.html#logistic-regression\n",
            "  n_iter_i = _check_optimize_result(\n"
          ]
        },
        {
          "metadata": {
            "tags": null
          },
          "name": "stdout",
          "output_type": "stream",
          "text": [
            "[CV] END ..............................kmeans__n_clusters=34; total time=   0.4s\n"
          ]
        },
        {
          "metadata": {
            "tags": null
          },
          "name": "stderr",
          "output_type": "stream",
          "text": [
            "/usr/local/lib/python3.12/dist-packages/sklearn/linear_model/_logistic.py:465: ConvergenceWarning: lbfgs failed to converge (status=1):\n",
            "STOP: TOTAL NO. OF ITERATIONS REACHED LIMIT.\n",
            "\n",
            "Increase the number of iterations (max_iter) or scale the data as shown in:\n",
            "    https://scikit-learn.org/stable/modules/preprocessing.html\n",
            "Please also refer to the documentation for alternative solver options:\n",
            "    https://scikit-learn.org/stable/modules/linear_model.html#logistic-regression\n",
            "  n_iter_i = _check_optimize_result(\n"
          ]
        },
        {
          "metadata": {
            "tags": null
          },
          "name": "stdout",
          "output_type": "stream",
          "text": [
            "[CV] END ..............................kmeans__n_clusters=35; total time=   0.3s\n"
          ]
        },
        {
          "metadata": {
            "tags": null
          },
          "name": "stderr",
          "output_type": "stream",
          "text": [
            "/usr/local/lib/python3.12/dist-packages/sklearn/linear_model/_logistic.py:465: ConvergenceWarning: lbfgs failed to converge (status=1):\n",
            "STOP: TOTAL NO. OF ITERATIONS REACHED LIMIT.\n",
            "\n",
            "Increase the number of iterations (max_iter) or scale the data as shown in:\n",
            "    https://scikit-learn.org/stable/modules/preprocessing.html\n",
            "Please also refer to the documentation for alternative solver options:\n",
            "    https://scikit-learn.org/stable/modules/linear_model.html#logistic-regression\n",
            "  n_iter_i = _check_optimize_result(\n"
          ]
        },
        {
          "metadata": {
            "tags": null
          },
          "name": "stdout",
          "output_type": "stream",
          "text": [
            "[CV] END ..............................kmeans__n_clusters=35; total time=   0.3s\n"
          ]
        },
        {
          "metadata": {
            "tags": null
          },
          "name": "stderr",
          "output_type": "stream",
          "text": [
            "/usr/local/lib/python3.12/dist-packages/sklearn/linear_model/_logistic.py:465: ConvergenceWarning: lbfgs failed to converge (status=1):\n",
            "STOP: TOTAL NO. OF ITERATIONS REACHED LIMIT.\n",
            "\n",
            "Increase the number of iterations (max_iter) or scale the data as shown in:\n",
            "    https://scikit-learn.org/stable/modules/preprocessing.html\n",
            "Please also refer to the documentation for alternative solver options:\n",
            "    https://scikit-learn.org/stable/modules/linear_model.html#logistic-regression\n",
            "  n_iter_i = _check_optimize_result(\n"
          ]
        },
        {
          "metadata": {
            "tags": null
          },
          "name": "stdout",
          "output_type": "stream",
          "text": [
            "[CV] END ..............................kmeans__n_clusters=35; total time=   0.3s\n"
          ]
        },
        {
          "metadata": {
            "tags": null
          },
          "name": "stderr",
          "output_type": "stream",
          "text": [
            "/usr/local/lib/python3.12/dist-packages/sklearn/linear_model/_logistic.py:465: ConvergenceWarning: lbfgs failed to converge (status=1):\n",
            "STOP: TOTAL NO. OF ITERATIONS REACHED LIMIT.\n",
            "\n",
            "Increase the number of iterations (max_iter) or scale the data as shown in:\n",
            "    https://scikit-learn.org/stable/modules/preprocessing.html\n",
            "Please also refer to the documentation for alternative solver options:\n",
            "    https://scikit-learn.org/stable/modules/linear_model.html#logistic-regression\n",
            "  n_iter_i = _check_optimize_result(\n"
          ]
        },
        {
          "metadata": {
            "tags": null
          },
          "name": "stdout",
          "output_type": "stream",
          "text": [
            "[CV] END ..............................kmeans__n_clusters=36; total time=   0.3s\n"
          ]
        },
        {
          "metadata": {
            "tags": null
          },
          "name": "stderr",
          "output_type": "stream",
          "text": [
            "/usr/local/lib/python3.12/dist-packages/sklearn/linear_model/_logistic.py:465: ConvergenceWarning: lbfgs failed to converge (status=1):\n",
            "STOP: TOTAL NO. OF ITERATIONS REACHED LIMIT.\n",
            "\n",
            "Increase the number of iterations (max_iter) or scale the data as shown in:\n",
            "    https://scikit-learn.org/stable/modules/preprocessing.html\n",
            "Please also refer to the documentation for alternative solver options:\n",
            "    https://scikit-learn.org/stable/modules/linear_model.html#logistic-regression\n",
            "  n_iter_i = _check_optimize_result(\n"
          ]
        },
        {
          "metadata": {
            "tags": null
          },
          "name": "stdout",
          "output_type": "stream",
          "text": [
            "[CV] END ..............................kmeans__n_clusters=36; total time=   0.4s\n"
          ]
        },
        {
          "metadata": {
            "tags": null
          },
          "name": "stderr",
          "output_type": "stream",
          "text": [
            "/usr/local/lib/python3.12/dist-packages/sklearn/linear_model/_logistic.py:465: ConvergenceWarning: lbfgs failed to converge (status=1):\n",
            "STOP: TOTAL NO. OF ITERATIONS REACHED LIMIT.\n",
            "\n",
            "Increase the number of iterations (max_iter) or scale the data as shown in:\n",
            "    https://scikit-learn.org/stable/modules/preprocessing.html\n",
            "Please also refer to the documentation for alternative solver options:\n",
            "    https://scikit-learn.org/stable/modules/linear_model.html#logistic-regression\n",
            "  n_iter_i = _check_optimize_result(\n"
          ]
        },
        {
          "metadata": {
            "tags": null
          },
          "name": "stdout",
          "output_type": "stream",
          "text": [
            "[CV] END ..............................kmeans__n_clusters=36; total time=   0.8s\n"
          ]
        },
        {
          "metadata": {
            "tags": null
          },
          "name": "stderr",
          "output_type": "stream",
          "text": [
            "/usr/local/lib/python3.12/dist-packages/sklearn/linear_model/_logistic.py:465: ConvergenceWarning: lbfgs failed to converge (status=1):\n",
            "STOP: TOTAL NO. OF ITERATIONS REACHED LIMIT.\n",
            "\n",
            "Increase the number of iterations (max_iter) or scale the data as shown in:\n",
            "    https://scikit-learn.org/stable/modules/preprocessing.html\n",
            "Please also refer to the documentation for alternative solver options:\n",
            "    https://scikit-learn.org/stable/modules/linear_model.html#logistic-regression\n",
            "  n_iter_i = _check_optimize_result(\n"
          ]
        },
        {
          "metadata": {
            "tags": null
          },
          "name": "stdout",
          "output_type": "stream",
          "text": [
            "[CV] END ..............................kmeans__n_clusters=37; total time=   1.3s\n"
          ]
        },
        {
          "metadata": {
            "tags": null
          },
          "name": "stderr",
          "output_type": "stream",
          "text": [
            "/usr/local/lib/python3.12/dist-packages/sklearn/linear_model/_logistic.py:465: ConvergenceWarning: lbfgs failed to converge (status=1):\n",
            "STOP: TOTAL NO. OF ITERATIONS REACHED LIMIT.\n",
            "\n",
            "Increase the number of iterations (max_iter) or scale the data as shown in:\n",
            "    https://scikit-learn.org/stable/modules/preprocessing.html\n",
            "Please also refer to the documentation for alternative solver options:\n",
            "    https://scikit-learn.org/stable/modules/linear_model.html#logistic-regression\n",
            "  n_iter_i = _check_optimize_result(\n"
          ]
        },
        {
          "metadata": {
            "tags": null
          },
          "name": "stdout",
          "output_type": "stream",
          "text": [
            "[CV] END ..............................kmeans__n_clusters=37; total time=   0.7s\n"
          ]
        },
        {
          "metadata": {
            "tags": null
          },
          "name": "stderr",
          "output_type": "stream",
          "text": [
            "/usr/local/lib/python3.12/dist-packages/sklearn/linear_model/_logistic.py:465: ConvergenceWarning: lbfgs failed to converge (status=1):\n",
            "STOP: TOTAL NO. OF ITERATIONS REACHED LIMIT.\n",
            "\n",
            "Increase the number of iterations (max_iter) or scale the data as shown in:\n",
            "    https://scikit-learn.org/stable/modules/preprocessing.html\n",
            "Please also refer to the documentation for alternative solver options:\n",
            "    https://scikit-learn.org/stable/modules/linear_model.html#logistic-regression\n",
            "  n_iter_i = _check_optimize_result(\n"
          ]
        },
        {
          "metadata": {
            "tags": null
          },
          "name": "stdout",
          "output_type": "stream",
          "text": [
            "[CV] END ..............................kmeans__n_clusters=37; total time=   0.8s\n"
          ]
        },
        {
          "metadata": {
            "tags": null
          },
          "name": "stderr",
          "output_type": "stream",
          "text": [
            "/usr/local/lib/python3.12/dist-packages/sklearn/linear_model/_logistic.py:465: ConvergenceWarning: lbfgs failed to converge (status=1):\n",
            "STOP: TOTAL NO. OF ITERATIONS REACHED LIMIT.\n",
            "\n",
            "Increase the number of iterations (max_iter) or scale the data as shown in:\n",
            "    https://scikit-learn.org/stable/modules/preprocessing.html\n",
            "Please also refer to the documentation for alternative solver options:\n",
            "    https://scikit-learn.org/stable/modules/linear_model.html#logistic-regression\n",
            "  n_iter_i = _check_optimize_result(\n"
          ]
        },
        {
          "metadata": {
            "tags": null
          },
          "name": "stdout",
          "output_type": "stream",
          "text": [
            "[CV] END ..............................kmeans__n_clusters=38; total time=   0.6s\n"
          ]
        },
        {
          "metadata": {
            "tags": null
          },
          "name": "stderr",
          "output_type": "stream",
          "text": [
            "/usr/local/lib/python3.12/dist-packages/sklearn/linear_model/_logistic.py:465: ConvergenceWarning: lbfgs failed to converge (status=1):\n",
            "STOP: TOTAL NO. OF ITERATIONS REACHED LIMIT.\n",
            "\n",
            "Increase the number of iterations (max_iter) or scale the data as shown in:\n",
            "    https://scikit-learn.org/stable/modules/preprocessing.html\n",
            "Please also refer to the documentation for alternative solver options:\n",
            "    https://scikit-learn.org/stable/modules/linear_model.html#logistic-regression\n",
            "  n_iter_i = _check_optimize_result(\n"
          ]
        },
        {
          "metadata": {
            "tags": null
          },
          "name": "stdout",
          "output_type": "stream",
          "text": [
            "[CV] END ..............................kmeans__n_clusters=38; total time=   0.5s\n"
          ]
        },
        {
          "metadata": {
            "tags": null
          },
          "name": "stderr",
          "output_type": "stream",
          "text": [
            "/usr/local/lib/python3.12/dist-packages/sklearn/linear_model/_logistic.py:465: ConvergenceWarning: lbfgs failed to converge (status=1):\n",
            "STOP: TOTAL NO. OF ITERATIONS REACHED LIMIT.\n",
            "\n",
            "Increase the number of iterations (max_iter) or scale the data as shown in:\n",
            "    https://scikit-learn.org/stable/modules/preprocessing.html\n",
            "Please also refer to the documentation for alternative solver options:\n",
            "    https://scikit-learn.org/stable/modules/linear_model.html#logistic-regression\n",
            "  n_iter_i = _check_optimize_result(\n"
          ]
        },
        {
          "metadata": {
            "tags": null
          },
          "name": "stdout",
          "output_type": "stream",
          "text": [
            "[CV] END ..............................kmeans__n_clusters=38; total time=   0.6s\n"
          ]
        },
        {
          "metadata": {
            "tags": null
          },
          "name": "stderr",
          "output_type": "stream",
          "text": [
            "/usr/local/lib/python3.12/dist-packages/sklearn/linear_model/_logistic.py:465: ConvergenceWarning: lbfgs failed to converge (status=1):\n",
            "STOP: TOTAL NO. OF ITERATIONS REACHED LIMIT.\n",
            "\n",
            "Increase the number of iterations (max_iter) or scale the data as shown in:\n",
            "    https://scikit-learn.org/stable/modules/preprocessing.html\n",
            "Please also refer to the documentation for alternative solver options:\n",
            "    https://scikit-learn.org/stable/modules/linear_model.html#logistic-regression\n",
            "  n_iter_i = _check_optimize_result(\n"
          ]
        },
        {
          "metadata": {
            "tags": null
          },
          "name": "stdout",
          "output_type": "stream",
          "text": [
            "[CV] END ..............................kmeans__n_clusters=39; total time=   0.3s\n"
          ]
        },
        {
          "metadata": {
            "tags": null
          },
          "name": "stderr",
          "output_type": "stream",
          "text": [
            "/usr/local/lib/python3.12/dist-packages/sklearn/linear_model/_logistic.py:465: ConvergenceWarning: lbfgs failed to converge (status=1):\n",
            "STOP: TOTAL NO. OF ITERATIONS REACHED LIMIT.\n",
            "\n",
            "Increase the number of iterations (max_iter) or scale the data as shown in:\n",
            "    https://scikit-learn.org/stable/modules/preprocessing.html\n",
            "Please also refer to the documentation for alternative solver options:\n",
            "    https://scikit-learn.org/stable/modules/linear_model.html#logistic-regression\n",
            "  n_iter_i = _check_optimize_result(\n"
          ]
        },
        {
          "metadata": {
            "tags": null
          },
          "name": "stdout",
          "output_type": "stream",
          "text": [
            "[CV] END ..............................kmeans__n_clusters=39; total time=   0.3s\n",
            "[CV] END ..............................kmeans__n_clusters=39; total time=   0.2s\n"
          ]
        },
        {
          "metadata": {
            "tags": null
          },
          "name": "stderr",
          "output_type": "stream",
          "text": [
            "/usr/local/lib/python3.12/dist-packages/sklearn/linear_model/_logistic.py:465: ConvergenceWarning: lbfgs failed to converge (status=1):\n",
            "STOP: TOTAL NO. OF ITERATIONS REACHED LIMIT.\n",
            "\n",
            "Increase the number of iterations (max_iter) or scale the data as shown in:\n",
            "    https://scikit-learn.org/stable/modules/preprocessing.html\n",
            "Please also refer to the documentation for alternative solver options:\n",
            "    https://scikit-learn.org/stable/modules/linear_model.html#logistic-regression\n",
            "  n_iter_i = _check_optimize_result(\n",
            "/usr/local/lib/python3.12/dist-packages/sklearn/linear_model/_logistic.py:465: ConvergenceWarning: lbfgs failed to converge (status=1):\n",
            "STOP: TOTAL NO. OF ITERATIONS REACHED LIMIT.\n",
            "\n",
            "Increase the number of iterations (max_iter) or scale the data as shown in:\n",
            "    https://scikit-learn.org/stable/modules/preprocessing.html\n",
            "Please also refer to the documentation for alternative solver options:\n",
            "    https://scikit-learn.org/stable/modules/linear_model.html#logistic-regression\n",
            "  n_iter_i = _check_optimize_result(\n"
          ]
        },
        {
          "metadata": {
            "tags": null
          },
          "name": "stdout",
          "output_type": "stream",
          "text": [
            "[CV] END ..............................kmeans__n_clusters=40; total time=   0.2s\n"
          ]
        },
        {
          "metadata": {
            "tags": null
          },
          "name": "stderr",
          "output_type": "stream",
          "text": [
            "/usr/local/lib/python3.12/dist-packages/sklearn/linear_model/_logistic.py:465: ConvergenceWarning: lbfgs failed to converge (status=1):\n",
            "STOP: TOTAL NO. OF ITERATIONS REACHED LIMIT.\n",
            "\n",
            "Increase the number of iterations (max_iter) or scale the data as shown in:\n",
            "    https://scikit-learn.org/stable/modules/preprocessing.html\n",
            "Please also refer to the documentation for alternative solver options:\n",
            "    https://scikit-learn.org/stable/modules/linear_model.html#logistic-regression\n",
            "  n_iter_i = _check_optimize_result(\n",
            "/usr/local/lib/python3.12/dist-packages/sklearn/linear_model/_logistic.py:465: ConvergenceWarning: lbfgs failed to converge (status=1):\n",
            "STOP: TOTAL NO. OF ITERATIONS REACHED LIMIT.\n",
            "\n",
            "Increase the number of iterations (max_iter) or scale the data as shown in:\n",
            "    https://scikit-learn.org/stable/modules/preprocessing.html\n",
            "Please also refer to the documentation for alternative solver options:\n",
            "    https://scikit-learn.org/stable/modules/linear_model.html#logistic-regression\n",
            "  n_iter_i = _check_optimize_result(\n"
          ]
        },
        {
          "metadata": {
            "tags": null
          },
          "name": "stdout",
          "output_type": "stream",
          "text": [
            "[CV] END ..............................kmeans__n_clusters=40; total time=   0.2s\n",
            "[CV] END ..............................kmeans__n_clusters=40; total time=   0.2s\n"
          ]
        },
        {
          "metadata": {
            "tags": null
          },
          "name": "stderr",
          "output_type": "stream",
          "text": [
            "/usr/local/lib/python3.12/dist-packages/sklearn/linear_model/_logistic.py:465: ConvergenceWarning: lbfgs failed to converge (status=1):\n",
            "STOP: TOTAL NO. OF ITERATIONS REACHED LIMIT.\n",
            "\n",
            "Increase the number of iterations (max_iter) or scale the data as shown in:\n",
            "    https://scikit-learn.org/stable/modules/preprocessing.html\n",
            "Please also refer to the documentation for alternative solver options:\n",
            "    https://scikit-learn.org/stable/modules/linear_model.html#logistic-regression\n",
            "  n_iter_i = _check_optimize_result(\n"
          ]
        },
        {
          "metadata": {
            "tags": null
          },
          "name": "stdout",
          "output_type": "stream",
          "text": [
            "[CV] END ..............................kmeans__n_clusters=41; total time=   0.3s\n"
          ]
        },
        {
          "metadata": {
            "tags": null
          },
          "name": "stderr",
          "output_type": "stream",
          "text": [
            "/usr/local/lib/python3.12/dist-packages/sklearn/linear_model/_logistic.py:465: ConvergenceWarning: lbfgs failed to converge (status=1):\n",
            "STOP: TOTAL NO. OF ITERATIONS REACHED LIMIT.\n",
            "\n",
            "Increase the number of iterations (max_iter) or scale the data as shown in:\n",
            "    https://scikit-learn.org/stable/modules/preprocessing.html\n",
            "Please also refer to the documentation for alternative solver options:\n",
            "    https://scikit-learn.org/stable/modules/linear_model.html#logistic-regression\n",
            "  n_iter_i = _check_optimize_result(\n"
          ]
        },
        {
          "metadata": {
            "tags": null
          },
          "name": "stdout",
          "output_type": "stream",
          "text": [
            "[CV] END ..............................kmeans__n_clusters=41; total time=   0.2s\n"
          ]
        },
        {
          "metadata": {
            "tags": null
          },
          "name": "stderr",
          "output_type": "stream",
          "text": [
            "/usr/local/lib/python3.12/dist-packages/sklearn/linear_model/_logistic.py:465: ConvergenceWarning: lbfgs failed to converge (status=1):\n",
            "STOP: TOTAL NO. OF ITERATIONS REACHED LIMIT.\n",
            "\n",
            "Increase the number of iterations (max_iter) or scale the data as shown in:\n",
            "    https://scikit-learn.org/stable/modules/preprocessing.html\n",
            "Please also refer to the documentation for alternative solver options:\n",
            "    https://scikit-learn.org/stable/modules/linear_model.html#logistic-regression\n",
            "  n_iter_i = _check_optimize_result(\n",
            "/usr/local/lib/python3.12/dist-packages/sklearn/linear_model/_logistic.py:465: ConvergenceWarning: lbfgs failed to converge (status=1):\n",
            "STOP: TOTAL NO. OF ITERATIONS REACHED LIMIT.\n",
            "\n",
            "Increase the number of iterations (max_iter) or scale the data as shown in:\n",
            "    https://scikit-learn.org/stable/modules/preprocessing.html\n",
            "Please also refer to the documentation for alternative solver options:\n",
            "    https://scikit-learn.org/stable/modules/linear_model.html#logistic-regression\n",
            "  n_iter_i = _check_optimize_result(\n"
          ]
        },
        {
          "metadata": {
            "tags": null
          },
          "name": "stdout",
          "output_type": "stream",
          "text": [
            "[CV] END ..............................kmeans__n_clusters=41; total time=   0.2s\n",
            "[CV] END ..............................kmeans__n_clusters=42; total time=   0.2s\n"
          ]
        },
        {
          "metadata": {
            "tags": null
          },
          "name": "stderr",
          "output_type": "stream",
          "text": [
            "/usr/local/lib/python3.12/dist-packages/sklearn/linear_model/_logistic.py:465: ConvergenceWarning: lbfgs failed to converge (status=1):\n",
            "STOP: TOTAL NO. OF ITERATIONS REACHED LIMIT.\n",
            "\n",
            "Increase the number of iterations (max_iter) or scale the data as shown in:\n",
            "    https://scikit-learn.org/stable/modules/preprocessing.html\n",
            "Please also refer to the documentation for alternative solver options:\n",
            "    https://scikit-learn.org/stable/modules/linear_model.html#logistic-regression\n",
            "  n_iter_i = _check_optimize_result(\n",
            "/usr/local/lib/python3.12/dist-packages/sklearn/linear_model/_logistic.py:465: ConvergenceWarning: lbfgs failed to converge (status=1):\n",
            "STOP: TOTAL NO. OF ITERATIONS REACHED LIMIT.\n",
            "\n",
            "Increase the number of iterations (max_iter) or scale the data as shown in:\n",
            "    https://scikit-learn.org/stable/modules/preprocessing.html\n",
            "Please also refer to the documentation for alternative solver options:\n",
            "    https://scikit-learn.org/stable/modules/linear_model.html#logistic-regression\n",
            "  n_iter_i = _check_optimize_result(\n"
          ]
        },
        {
          "metadata": {
            "tags": null
          },
          "name": "stdout",
          "output_type": "stream",
          "text": [
            "[CV] END ..............................kmeans__n_clusters=42; total time=   0.2s\n",
            "[CV] END ..............................kmeans__n_clusters=42; total time=   0.2s\n"
          ]
        },
        {
          "metadata": {
            "tags": null
          },
          "name": "stderr",
          "output_type": "stream",
          "text": [
            "/usr/local/lib/python3.12/dist-packages/sklearn/linear_model/_logistic.py:465: ConvergenceWarning: lbfgs failed to converge (status=1):\n",
            "STOP: TOTAL NO. OF ITERATIONS REACHED LIMIT.\n",
            "\n",
            "Increase the number of iterations (max_iter) or scale the data as shown in:\n",
            "    https://scikit-learn.org/stable/modules/preprocessing.html\n",
            "Please also refer to the documentation for alternative solver options:\n",
            "    https://scikit-learn.org/stable/modules/linear_model.html#logistic-regression\n",
            "  n_iter_i = _check_optimize_result(\n"
          ]
        },
        {
          "metadata": {
            "tags": null
          },
          "name": "stdout",
          "output_type": "stream",
          "text": [
            "[CV] END ..............................kmeans__n_clusters=43; total time=   0.3s\n"
          ]
        },
        {
          "metadata": {
            "tags": null
          },
          "name": "stderr",
          "output_type": "stream",
          "text": [
            "/usr/local/lib/python3.12/dist-packages/sklearn/linear_model/_logistic.py:465: ConvergenceWarning: lbfgs failed to converge (status=1):\n",
            "STOP: TOTAL NO. OF ITERATIONS REACHED LIMIT.\n",
            "\n",
            "Increase the number of iterations (max_iter) or scale the data as shown in:\n",
            "    https://scikit-learn.org/stable/modules/preprocessing.html\n",
            "Please also refer to the documentation for alternative solver options:\n",
            "    https://scikit-learn.org/stable/modules/linear_model.html#logistic-regression\n",
            "  n_iter_i = _check_optimize_result(\n",
            "/usr/local/lib/python3.12/dist-packages/sklearn/linear_model/_logistic.py:465: ConvergenceWarning: lbfgs failed to converge (status=1):\n",
            "STOP: TOTAL NO. OF ITERATIONS REACHED LIMIT.\n",
            "\n",
            "Increase the number of iterations (max_iter) or scale the data as shown in:\n",
            "    https://scikit-learn.org/stable/modules/preprocessing.html\n",
            "Please also refer to the documentation for alternative solver options:\n",
            "    https://scikit-learn.org/stable/modules/linear_model.html#logistic-regression\n",
            "  n_iter_i = _check_optimize_result(\n"
          ]
        },
        {
          "metadata": {
            "tags": null
          },
          "name": "stdout",
          "output_type": "stream",
          "text": [
            "[CV] END ..............................kmeans__n_clusters=43; total time=   0.2s\n",
            "[CV] END ..............................kmeans__n_clusters=43; total time=   0.2s\n"
          ]
        },
        {
          "metadata": {
            "tags": null
          },
          "name": "stderr",
          "output_type": "stream",
          "text": [
            "/usr/local/lib/python3.12/dist-packages/sklearn/linear_model/_logistic.py:465: ConvergenceWarning: lbfgs failed to converge (status=1):\n",
            "STOP: TOTAL NO. OF ITERATIONS REACHED LIMIT.\n",
            "\n",
            "Increase the number of iterations (max_iter) or scale the data as shown in:\n",
            "    https://scikit-learn.org/stable/modules/preprocessing.html\n",
            "Please also refer to the documentation for alternative solver options:\n",
            "    https://scikit-learn.org/stable/modules/linear_model.html#logistic-regression\n",
            "  n_iter_i = _check_optimize_result(\n"
          ]
        },
        {
          "metadata": {
            "tags": null
          },
          "name": "stdout",
          "output_type": "stream",
          "text": [
            "[CV] END ..............................kmeans__n_clusters=44; total time=   0.2s\n"
          ]
        },
        {
          "metadata": {
            "tags": null
          },
          "name": "stderr",
          "output_type": "stream",
          "text": [
            "/usr/local/lib/python3.12/dist-packages/sklearn/linear_model/_logistic.py:465: ConvergenceWarning: lbfgs failed to converge (status=1):\n",
            "STOP: TOTAL NO. OF ITERATIONS REACHED LIMIT.\n",
            "\n",
            "Increase the number of iterations (max_iter) or scale the data as shown in:\n",
            "    https://scikit-learn.org/stable/modules/preprocessing.html\n",
            "Please also refer to the documentation for alternative solver options:\n",
            "    https://scikit-learn.org/stable/modules/linear_model.html#logistic-regression\n",
            "  n_iter_i = _check_optimize_result(\n"
          ]
        },
        {
          "metadata": {
            "tags": null
          },
          "name": "stdout",
          "output_type": "stream",
          "text": [
            "[CV] END ..............................kmeans__n_clusters=44; total time=   0.3s\n"
          ]
        },
        {
          "metadata": {
            "tags": null
          },
          "name": "stderr",
          "output_type": "stream",
          "text": [
            "/usr/local/lib/python3.12/dist-packages/sklearn/linear_model/_logistic.py:465: ConvergenceWarning: lbfgs failed to converge (status=1):\n",
            "STOP: TOTAL NO. OF ITERATIONS REACHED LIMIT.\n",
            "\n",
            "Increase the number of iterations (max_iter) or scale the data as shown in:\n",
            "    https://scikit-learn.org/stable/modules/preprocessing.html\n",
            "Please also refer to the documentation for alternative solver options:\n",
            "    https://scikit-learn.org/stable/modules/linear_model.html#logistic-regression\n",
            "  n_iter_i = _check_optimize_result(\n"
          ]
        },
        {
          "metadata": {
            "tags": null
          },
          "name": "stdout",
          "output_type": "stream",
          "text": [
            "[CV] END ..............................kmeans__n_clusters=44; total time=   0.3s\n"
          ]
        },
        {
          "metadata": {
            "tags": null
          },
          "name": "stderr",
          "output_type": "stream",
          "text": [
            "/usr/local/lib/python3.12/dist-packages/sklearn/linear_model/_logistic.py:465: ConvergenceWarning: lbfgs failed to converge (status=1):\n",
            "STOP: TOTAL NO. OF ITERATIONS REACHED LIMIT.\n",
            "\n",
            "Increase the number of iterations (max_iter) or scale the data as shown in:\n",
            "    https://scikit-learn.org/stable/modules/preprocessing.html\n",
            "Please also refer to the documentation for alternative solver options:\n",
            "    https://scikit-learn.org/stable/modules/linear_model.html#logistic-regression\n",
            "  n_iter_i = _check_optimize_result(\n"
          ]
        },
        {
          "metadata": {
            "tags": null
          },
          "name": "stdout",
          "output_type": "stream",
          "text": [
            "[CV] END ..............................kmeans__n_clusters=45; total time=   0.3s\n"
          ]
        },
        {
          "metadata": {
            "tags": null
          },
          "name": "stderr",
          "output_type": "stream",
          "text": [
            "/usr/local/lib/python3.12/dist-packages/sklearn/linear_model/_logistic.py:465: ConvergenceWarning: lbfgs failed to converge (status=1):\n",
            "STOP: TOTAL NO. OF ITERATIONS REACHED LIMIT.\n",
            "\n",
            "Increase the number of iterations (max_iter) or scale the data as shown in:\n",
            "    https://scikit-learn.org/stable/modules/preprocessing.html\n",
            "Please also refer to the documentation for alternative solver options:\n",
            "    https://scikit-learn.org/stable/modules/linear_model.html#logistic-regression\n",
            "  n_iter_i = _check_optimize_result(\n",
            "/usr/local/lib/python3.12/dist-packages/sklearn/linear_model/_logistic.py:465: ConvergenceWarning: lbfgs failed to converge (status=1):\n",
            "STOP: TOTAL NO. OF ITERATIONS REACHED LIMIT.\n",
            "\n",
            "Increase the number of iterations (max_iter) or scale the data as shown in:\n",
            "    https://scikit-learn.org/stable/modules/preprocessing.html\n",
            "Please also refer to the documentation for alternative solver options:\n",
            "    https://scikit-learn.org/stable/modules/linear_model.html#logistic-regression\n",
            "  n_iter_i = _check_optimize_result(\n"
          ]
        },
        {
          "metadata": {
            "tags": null
          },
          "name": "stdout",
          "output_type": "stream",
          "text": [
            "[CV] END ..............................kmeans__n_clusters=45; total time=   0.2s\n",
            "[CV] END ..............................kmeans__n_clusters=45; total time=   0.2s\n"
          ]
        },
        {
          "metadata": {
            "tags": null
          },
          "name": "stderr",
          "output_type": "stream",
          "text": [
            "/usr/local/lib/python3.12/dist-packages/sklearn/linear_model/_logistic.py:465: ConvergenceWarning: lbfgs failed to converge (status=1):\n",
            "STOP: TOTAL NO. OF ITERATIONS REACHED LIMIT.\n",
            "\n",
            "Increase the number of iterations (max_iter) or scale the data as shown in:\n",
            "    https://scikit-learn.org/stable/modules/preprocessing.html\n",
            "Please also refer to the documentation for alternative solver options:\n",
            "    https://scikit-learn.org/stable/modules/linear_model.html#logistic-regression\n",
            "  n_iter_i = _check_optimize_result(\n",
            "/usr/local/lib/python3.12/dist-packages/sklearn/linear_model/_logistic.py:465: ConvergenceWarning: lbfgs failed to converge (status=1):\n",
            "STOP: TOTAL NO. OF ITERATIONS REACHED LIMIT.\n",
            "\n",
            "Increase the number of iterations (max_iter) or scale the data as shown in:\n",
            "    https://scikit-learn.org/stable/modules/preprocessing.html\n",
            "Please also refer to the documentation for alternative solver options:\n",
            "    https://scikit-learn.org/stable/modules/linear_model.html#logistic-regression\n",
            "  n_iter_i = _check_optimize_result(\n"
          ]
        },
        {
          "metadata": {
            "tags": null
          },
          "name": "stdout",
          "output_type": "stream",
          "text": [
            "[CV] END ..............................kmeans__n_clusters=46; total time=   0.2s\n",
            "[CV] END ..............................kmeans__n_clusters=46; total time=   0.2s\n"
          ]
        },
        {
          "metadata": {
            "tags": null
          },
          "name": "stderr",
          "output_type": "stream",
          "text": [
            "/usr/local/lib/python3.12/dist-packages/sklearn/linear_model/_logistic.py:465: ConvergenceWarning: lbfgs failed to converge (status=1):\n",
            "STOP: TOTAL NO. OF ITERATIONS REACHED LIMIT.\n",
            "\n",
            "Increase the number of iterations (max_iter) or scale the data as shown in:\n",
            "    https://scikit-learn.org/stable/modules/preprocessing.html\n",
            "Please also refer to the documentation for alternative solver options:\n",
            "    https://scikit-learn.org/stable/modules/linear_model.html#logistic-regression\n",
            "  n_iter_i = _check_optimize_result(\n",
            "/usr/local/lib/python3.12/dist-packages/sklearn/linear_model/_logistic.py:465: ConvergenceWarning: lbfgs failed to converge (status=1):\n",
            "STOP: TOTAL NO. OF ITERATIONS REACHED LIMIT.\n",
            "\n",
            "Increase the number of iterations (max_iter) or scale the data as shown in:\n",
            "    https://scikit-learn.org/stable/modules/preprocessing.html\n",
            "Please also refer to the documentation for alternative solver options:\n",
            "    https://scikit-learn.org/stable/modules/linear_model.html#logistic-regression\n",
            "  n_iter_i = _check_optimize_result(\n"
          ]
        },
        {
          "metadata": {
            "tags": null
          },
          "name": "stdout",
          "output_type": "stream",
          "text": [
            "[CV] END ..............................kmeans__n_clusters=46; total time=   0.2s\n",
            "[CV] END ..............................kmeans__n_clusters=47; total time=   0.2s\n"
          ]
        },
        {
          "metadata": {
            "tags": null
          },
          "name": "stderr",
          "output_type": "stream",
          "text": [
            "/usr/local/lib/python3.12/dist-packages/sklearn/linear_model/_logistic.py:465: ConvergenceWarning: lbfgs failed to converge (status=1):\n",
            "STOP: TOTAL NO. OF ITERATIONS REACHED LIMIT.\n",
            "\n",
            "Increase the number of iterations (max_iter) or scale the data as shown in:\n",
            "    https://scikit-learn.org/stable/modules/preprocessing.html\n",
            "Please also refer to the documentation for alternative solver options:\n",
            "    https://scikit-learn.org/stable/modules/linear_model.html#logistic-regression\n",
            "  n_iter_i = _check_optimize_result(\n",
            "/usr/local/lib/python3.12/dist-packages/sklearn/linear_model/_logistic.py:465: ConvergenceWarning: lbfgs failed to converge (status=1):\n",
            "STOP: TOTAL NO. OF ITERATIONS REACHED LIMIT.\n",
            "\n",
            "Increase the number of iterations (max_iter) or scale the data as shown in:\n",
            "    https://scikit-learn.org/stable/modules/preprocessing.html\n",
            "Please also refer to the documentation for alternative solver options:\n",
            "    https://scikit-learn.org/stable/modules/linear_model.html#logistic-regression\n",
            "  n_iter_i = _check_optimize_result(\n"
          ]
        },
        {
          "metadata": {
            "tags": null
          },
          "name": "stdout",
          "output_type": "stream",
          "text": [
            "[CV] END ..............................kmeans__n_clusters=47; total time=   0.2s\n",
            "[CV] END ..............................kmeans__n_clusters=47; total time=   0.2s\n",
            "[CV] END ..............................kmeans__n_clusters=48; total time=   0.2s\n"
          ]
        },
        {
          "metadata": {
            "tags": null
          },
          "name": "stderr",
          "output_type": "stream",
          "text": [
            "/usr/local/lib/python3.12/dist-packages/sklearn/linear_model/_logistic.py:465: ConvergenceWarning: lbfgs failed to converge (status=1):\n",
            "STOP: TOTAL NO. OF ITERATIONS REACHED LIMIT.\n",
            "\n",
            "Increase the number of iterations (max_iter) or scale the data as shown in:\n",
            "    https://scikit-learn.org/stable/modules/preprocessing.html\n",
            "Please also refer to the documentation for alternative solver options:\n",
            "    https://scikit-learn.org/stable/modules/linear_model.html#logistic-regression\n",
            "  n_iter_i = _check_optimize_result(\n",
            "/usr/local/lib/python3.12/dist-packages/sklearn/linear_model/_logistic.py:465: ConvergenceWarning: lbfgs failed to converge (status=1):\n",
            "STOP: TOTAL NO. OF ITERATIONS REACHED LIMIT.\n",
            "\n",
            "Increase the number of iterations (max_iter) or scale the data as shown in:\n",
            "    https://scikit-learn.org/stable/modules/preprocessing.html\n",
            "Please also refer to the documentation for alternative solver options:\n",
            "    https://scikit-learn.org/stable/modules/linear_model.html#logistic-regression\n",
            "  n_iter_i = _check_optimize_result(\n",
            "/usr/local/lib/python3.12/dist-packages/sklearn/linear_model/_logistic.py:465: ConvergenceWarning: lbfgs failed to converge (status=1):\n",
            "STOP: TOTAL NO. OF ITERATIONS REACHED LIMIT.\n",
            "\n",
            "Increase the number of iterations (max_iter) or scale the data as shown in:\n",
            "    https://scikit-learn.org/stable/modules/preprocessing.html\n",
            "Please also refer to the documentation for alternative solver options:\n",
            "    https://scikit-learn.org/stable/modules/linear_model.html#logistic-regression\n",
            "  n_iter_i = _check_optimize_result(\n"
          ]
        },
        {
          "metadata": {
            "tags": null
          },
          "name": "stdout",
          "output_type": "stream",
          "text": [
            "[CV] END ..............................kmeans__n_clusters=48; total time=   0.2s\n",
            "[CV] END ..............................kmeans__n_clusters=48; total time=   0.2s\n"
          ]
        },
        {
          "metadata": {
            "tags": null
          },
          "name": "stderr",
          "output_type": "stream",
          "text": [
            "/usr/local/lib/python3.12/dist-packages/sklearn/linear_model/_logistic.py:465: ConvergenceWarning: lbfgs failed to converge (status=1):\n",
            "STOP: TOTAL NO. OF ITERATIONS REACHED LIMIT.\n",
            "\n",
            "Increase the number of iterations (max_iter) or scale the data as shown in:\n",
            "    https://scikit-learn.org/stable/modules/preprocessing.html\n",
            "Please also refer to the documentation for alternative solver options:\n",
            "    https://scikit-learn.org/stable/modules/linear_model.html#logistic-regression\n",
            "  n_iter_i = _check_optimize_result(\n"
          ]
        },
        {
          "metadata": {
            "tags": null
          },
          "name": "stdout",
          "output_type": "stream",
          "text": [
            "[CV] END ..............................kmeans__n_clusters=49; total time=   0.3s\n"
          ]
        },
        {
          "metadata": {
            "tags": null
          },
          "name": "stderr",
          "output_type": "stream",
          "text": [
            "/usr/local/lib/python3.12/dist-packages/sklearn/linear_model/_logistic.py:465: ConvergenceWarning: lbfgs failed to converge (status=1):\n",
            "STOP: TOTAL NO. OF ITERATIONS REACHED LIMIT.\n",
            "\n",
            "Increase the number of iterations (max_iter) or scale the data as shown in:\n",
            "    https://scikit-learn.org/stable/modules/preprocessing.html\n",
            "Please also refer to the documentation for alternative solver options:\n",
            "    https://scikit-learn.org/stable/modules/linear_model.html#logistic-regression\n",
            "  n_iter_i = _check_optimize_result(\n"
          ]
        },
        {
          "metadata": {
            "tags": null
          },
          "name": "stdout",
          "output_type": "stream",
          "text": [
            "[CV] END ..............................kmeans__n_clusters=49; total time=   0.3s\n"
          ]
        },
        {
          "metadata": {
            "tags": null
          },
          "name": "stderr",
          "output_type": "stream",
          "text": [
            "/usr/local/lib/python3.12/dist-packages/sklearn/linear_model/_logistic.py:465: ConvergenceWarning: lbfgs failed to converge (status=1):\n",
            "STOP: TOTAL NO. OF ITERATIONS REACHED LIMIT.\n",
            "\n",
            "Increase the number of iterations (max_iter) or scale the data as shown in:\n",
            "    https://scikit-learn.org/stable/modules/preprocessing.html\n",
            "Please also refer to the documentation for alternative solver options:\n",
            "    https://scikit-learn.org/stable/modules/linear_model.html#logistic-regression\n",
            "  n_iter_i = _check_optimize_result(\n"
          ]
        },
        {
          "metadata": {
            "tags": null
          },
          "name": "stdout",
          "output_type": "stream",
          "text": [
            "[CV] END ..............................kmeans__n_clusters=49; total time=   0.2s\n"
          ]
        },
        {
          "metadata": {
            "tags": null
          },
          "name": "stderr",
          "output_type": "stream",
          "text": [
            "/usr/local/lib/python3.12/dist-packages/sklearn/linear_model/_logistic.py:465: ConvergenceWarning: lbfgs failed to converge (status=1):\n",
            "STOP: TOTAL NO. OF ITERATIONS REACHED LIMIT.\n",
            "\n",
            "Increase the number of iterations (max_iter) or scale the data as shown in:\n",
            "    https://scikit-learn.org/stable/modules/preprocessing.html\n",
            "Please also refer to the documentation for alternative solver options:\n",
            "    https://scikit-learn.org/stable/modules/linear_model.html#logistic-regression\n",
            "  n_iter_i = _check_optimize_result(\n"
          ]
        },
        {
          "metadata": {
            "tags": null
          },
          "name": "stdout",
          "output_type": "stream",
          "text": [
            "[CV] END ..............................kmeans__n_clusters=50; total time=   0.3s\n"
          ]
        },
        {
          "metadata": {
            "tags": null
          },
          "name": "stderr",
          "output_type": "stream",
          "text": [
            "/usr/local/lib/python3.12/dist-packages/sklearn/linear_model/_logistic.py:465: ConvergenceWarning: lbfgs failed to converge (status=1):\n",
            "STOP: TOTAL NO. OF ITERATIONS REACHED LIMIT.\n",
            "\n",
            "Increase the number of iterations (max_iter) or scale the data as shown in:\n",
            "    https://scikit-learn.org/stable/modules/preprocessing.html\n",
            "Please also refer to the documentation for alternative solver options:\n",
            "    https://scikit-learn.org/stable/modules/linear_model.html#logistic-regression\n",
            "  n_iter_i = _check_optimize_result(\n"
          ]
        },
        {
          "metadata": {
            "tags": null
          },
          "name": "stdout",
          "output_type": "stream",
          "text": [
            "[CV] END ..............................kmeans__n_clusters=50; total time=   0.4s\n"
          ]
        },
        {
          "metadata": {
            "tags": null
          },
          "name": "stderr",
          "output_type": "stream",
          "text": [
            "/usr/local/lib/python3.12/dist-packages/sklearn/linear_model/_logistic.py:465: ConvergenceWarning: lbfgs failed to converge (status=1):\n",
            "STOP: TOTAL NO. OF ITERATIONS REACHED LIMIT.\n",
            "\n",
            "Increase the number of iterations (max_iter) or scale the data as shown in:\n",
            "    https://scikit-learn.org/stable/modules/preprocessing.html\n",
            "Please also refer to the documentation for alternative solver options:\n",
            "    https://scikit-learn.org/stable/modules/linear_model.html#logistic-regression\n",
            "  n_iter_i = _check_optimize_result(\n"
          ]
        },
        {
          "metadata": {
            "tags": null
          },
          "name": "stdout",
          "output_type": "stream",
          "text": [
            "[CV] END ..............................kmeans__n_clusters=50; total time=   0.9s\n"
          ]
        },
        {
          "metadata": {
            "tags": null
          },
          "name": "stderr",
          "output_type": "stream",
          "text": [
            "/usr/local/lib/python3.12/dist-packages/sklearn/linear_model/_logistic.py:465: ConvergenceWarning: lbfgs failed to converge (status=1):\n",
            "STOP: TOTAL NO. OF ITERATIONS REACHED LIMIT.\n",
            "\n",
            "Increase the number of iterations (max_iter) or scale the data as shown in:\n",
            "    https://scikit-learn.org/stable/modules/preprocessing.html\n",
            "Please also refer to the documentation for alternative solver options:\n",
            "    https://scikit-learn.org/stable/modules/linear_model.html#logistic-regression\n",
            "  n_iter_i = _check_optimize_result(\n"
          ]
        },
        {
          "metadata": {
            "tags": null
          },
          "name": "stdout",
          "output_type": "stream",
          "text": [
            "[CV] END ..............................kmeans__n_clusters=51; total time=   0.4s\n"
          ]
        },
        {
          "metadata": {
            "tags": null
          },
          "name": "stderr",
          "output_type": "stream",
          "text": [
            "/usr/local/lib/python3.12/dist-packages/sklearn/linear_model/_logistic.py:465: ConvergenceWarning: lbfgs failed to converge (status=1):\n",
            "STOP: TOTAL NO. OF ITERATIONS REACHED LIMIT.\n",
            "\n",
            "Increase the number of iterations (max_iter) or scale the data as shown in:\n",
            "    https://scikit-learn.org/stable/modules/preprocessing.html\n",
            "Please also refer to the documentation for alternative solver options:\n",
            "    https://scikit-learn.org/stable/modules/linear_model.html#logistic-regression\n",
            "  n_iter_i = _check_optimize_result(\n"
          ]
        },
        {
          "metadata": {
            "tags": null
          },
          "name": "stdout",
          "output_type": "stream",
          "text": [
            "[CV] END ..............................kmeans__n_clusters=51; total time=   0.5s\n"
          ]
        },
        {
          "metadata": {
            "tags": null
          },
          "name": "stderr",
          "output_type": "stream",
          "text": [
            "/usr/local/lib/python3.12/dist-packages/sklearn/linear_model/_logistic.py:465: ConvergenceWarning: lbfgs failed to converge (status=1):\n",
            "STOP: TOTAL NO. OF ITERATIONS REACHED LIMIT.\n",
            "\n",
            "Increase the number of iterations (max_iter) or scale the data as shown in:\n",
            "    https://scikit-learn.org/stable/modules/preprocessing.html\n",
            "Please also refer to the documentation for alternative solver options:\n",
            "    https://scikit-learn.org/stable/modules/linear_model.html#logistic-regression\n",
            "  n_iter_i = _check_optimize_result(\n"
          ]
        },
        {
          "metadata": {
            "tags": null
          },
          "name": "stdout",
          "output_type": "stream",
          "text": [
            "[CV] END ..............................kmeans__n_clusters=51; total time=   0.5s\n"
          ]
        },
        {
          "metadata": {
            "tags": null
          },
          "name": "stderr",
          "output_type": "stream",
          "text": [
            "/usr/local/lib/python3.12/dist-packages/sklearn/linear_model/_logistic.py:465: ConvergenceWarning: lbfgs failed to converge (status=1):\n",
            "STOP: TOTAL NO. OF ITERATIONS REACHED LIMIT.\n",
            "\n",
            "Increase the number of iterations (max_iter) or scale the data as shown in:\n",
            "    https://scikit-learn.org/stable/modules/preprocessing.html\n",
            "Please also refer to the documentation for alternative solver options:\n",
            "    https://scikit-learn.org/stable/modules/linear_model.html#logistic-regression\n",
            "  n_iter_i = _check_optimize_result(\n"
          ]
        },
        {
          "metadata": {
            "tags": null
          },
          "name": "stdout",
          "output_type": "stream",
          "text": [
            "[CV] END ..............................kmeans__n_clusters=52; total time=   0.5s\n"
          ]
        },
        {
          "metadata": {
            "tags": null
          },
          "name": "stderr",
          "output_type": "stream",
          "text": [
            "/usr/local/lib/python3.12/dist-packages/sklearn/linear_model/_logistic.py:465: ConvergenceWarning: lbfgs failed to converge (status=1):\n",
            "STOP: TOTAL NO. OF ITERATIONS REACHED LIMIT.\n",
            "\n",
            "Increase the number of iterations (max_iter) or scale the data as shown in:\n",
            "    https://scikit-learn.org/stable/modules/preprocessing.html\n",
            "Please also refer to the documentation for alternative solver options:\n",
            "    https://scikit-learn.org/stable/modules/linear_model.html#logistic-regression\n",
            "  n_iter_i = _check_optimize_result(\n"
          ]
        },
        {
          "metadata": {
            "tags": null
          },
          "name": "stdout",
          "output_type": "stream",
          "text": [
            "[CV] END ..............................kmeans__n_clusters=52; total time=   0.3s\n"
          ]
        },
        {
          "metadata": {
            "tags": null
          },
          "name": "stderr",
          "output_type": "stream",
          "text": [
            "/usr/local/lib/python3.12/dist-packages/sklearn/linear_model/_logistic.py:465: ConvergenceWarning: lbfgs failed to converge (status=1):\n",
            "STOP: TOTAL NO. OF ITERATIONS REACHED LIMIT.\n",
            "\n",
            "Increase the number of iterations (max_iter) or scale the data as shown in:\n",
            "    https://scikit-learn.org/stable/modules/preprocessing.html\n",
            "Please also refer to the documentation for alternative solver options:\n",
            "    https://scikit-learn.org/stable/modules/linear_model.html#logistic-regression\n",
            "  n_iter_i = _check_optimize_result(\n"
          ]
        },
        {
          "metadata": {
            "tags": null
          },
          "name": "stdout",
          "output_type": "stream",
          "text": [
            "[CV] END ..............................kmeans__n_clusters=52; total time=   0.2s\n"
          ]
        },
        {
          "metadata": {
            "tags": null
          },
          "name": "stderr",
          "output_type": "stream",
          "text": [
            "/usr/local/lib/python3.12/dist-packages/sklearn/linear_model/_logistic.py:465: ConvergenceWarning: lbfgs failed to converge (status=1):\n",
            "STOP: TOTAL NO. OF ITERATIONS REACHED LIMIT.\n",
            "\n",
            "Increase the number of iterations (max_iter) or scale the data as shown in:\n",
            "    https://scikit-learn.org/stable/modules/preprocessing.html\n",
            "Please also refer to the documentation for alternative solver options:\n",
            "    https://scikit-learn.org/stable/modules/linear_model.html#logistic-regression\n",
            "  n_iter_i = _check_optimize_result(\n"
          ]
        },
        {
          "metadata": {
            "tags": null
          },
          "name": "stdout",
          "output_type": "stream",
          "text": [
            "[CV] END ..............................kmeans__n_clusters=53; total time=   0.2s\n"
          ]
        },
        {
          "metadata": {
            "tags": null
          },
          "name": "stderr",
          "output_type": "stream",
          "text": [
            "/usr/local/lib/python3.12/dist-packages/sklearn/linear_model/_logistic.py:465: ConvergenceWarning: lbfgs failed to converge (status=1):\n",
            "STOP: TOTAL NO. OF ITERATIONS REACHED LIMIT.\n",
            "\n",
            "Increase the number of iterations (max_iter) or scale the data as shown in:\n",
            "    https://scikit-learn.org/stable/modules/preprocessing.html\n",
            "Please also refer to the documentation for alternative solver options:\n",
            "    https://scikit-learn.org/stable/modules/linear_model.html#logistic-regression\n",
            "  n_iter_i = _check_optimize_result(\n",
            "/usr/local/lib/python3.12/dist-packages/sklearn/linear_model/_logistic.py:465: ConvergenceWarning: lbfgs failed to converge (status=1):\n",
            "STOP: TOTAL NO. OF ITERATIONS REACHED LIMIT.\n",
            "\n",
            "Increase the number of iterations (max_iter) or scale the data as shown in:\n",
            "    https://scikit-learn.org/stable/modules/preprocessing.html\n",
            "Please also refer to the documentation for alternative solver options:\n",
            "    https://scikit-learn.org/stable/modules/linear_model.html#logistic-regression\n",
            "  n_iter_i = _check_optimize_result(\n"
          ]
        },
        {
          "metadata": {
            "tags": null
          },
          "name": "stdout",
          "output_type": "stream",
          "text": [
            "[CV] END ..............................kmeans__n_clusters=53; total time=   0.3s\n",
            "[CV] END ..............................kmeans__n_clusters=53; total time=   0.2s\n"
          ]
        },
        {
          "metadata": {
            "tags": null
          },
          "name": "stderr",
          "output_type": "stream",
          "text": [
            "/usr/local/lib/python3.12/dist-packages/sklearn/linear_model/_logistic.py:465: ConvergenceWarning: lbfgs failed to converge (status=1):\n",
            "STOP: TOTAL NO. OF ITERATIONS REACHED LIMIT.\n",
            "\n",
            "Increase the number of iterations (max_iter) or scale the data as shown in:\n",
            "    https://scikit-learn.org/stable/modules/preprocessing.html\n",
            "Please also refer to the documentation for alternative solver options:\n",
            "    https://scikit-learn.org/stable/modules/linear_model.html#logistic-regression\n",
            "  n_iter_i = _check_optimize_result(\n"
          ]
        },
        {
          "metadata": {
            "tags": null
          },
          "name": "stdout",
          "output_type": "stream",
          "text": [
            "[CV] END ..............................kmeans__n_clusters=54; total time=   0.3s\n"
          ]
        },
        {
          "metadata": {
            "tags": null
          },
          "name": "stderr",
          "output_type": "stream",
          "text": [
            "/usr/local/lib/python3.12/dist-packages/sklearn/linear_model/_logistic.py:465: ConvergenceWarning: lbfgs failed to converge (status=1):\n",
            "STOP: TOTAL NO. OF ITERATIONS REACHED LIMIT.\n",
            "\n",
            "Increase the number of iterations (max_iter) or scale the data as shown in:\n",
            "    https://scikit-learn.org/stable/modules/preprocessing.html\n",
            "Please also refer to the documentation for alternative solver options:\n",
            "    https://scikit-learn.org/stable/modules/linear_model.html#logistic-regression\n",
            "  n_iter_i = _check_optimize_result(\n"
          ]
        },
        {
          "metadata": {
            "tags": null
          },
          "name": "stdout",
          "output_type": "stream",
          "text": [
            "[CV] END ..............................kmeans__n_clusters=54; total time=   0.3s\n"
          ]
        },
        {
          "metadata": {
            "tags": null
          },
          "name": "stderr",
          "output_type": "stream",
          "text": [
            "/usr/local/lib/python3.12/dist-packages/sklearn/linear_model/_logistic.py:465: ConvergenceWarning: lbfgs failed to converge (status=1):\n",
            "STOP: TOTAL NO. OF ITERATIONS REACHED LIMIT.\n",
            "\n",
            "Increase the number of iterations (max_iter) or scale the data as shown in:\n",
            "    https://scikit-learn.org/stable/modules/preprocessing.html\n",
            "Please also refer to the documentation for alternative solver options:\n",
            "    https://scikit-learn.org/stable/modules/linear_model.html#logistic-regression\n",
            "  n_iter_i = _check_optimize_result(\n"
          ]
        },
        {
          "metadata": {
            "tags": null
          },
          "name": "stdout",
          "output_type": "stream",
          "text": [
            "[CV] END ..............................kmeans__n_clusters=54; total time=   0.3s\n"
          ]
        },
        {
          "metadata": {
            "tags": null
          },
          "name": "stderr",
          "output_type": "stream",
          "text": [
            "/usr/local/lib/python3.12/dist-packages/sklearn/linear_model/_logistic.py:465: ConvergenceWarning: lbfgs failed to converge (status=1):\n",
            "STOP: TOTAL NO. OF ITERATIONS REACHED LIMIT.\n",
            "\n",
            "Increase the number of iterations (max_iter) or scale the data as shown in:\n",
            "    https://scikit-learn.org/stable/modules/preprocessing.html\n",
            "Please also refer to the documentation for alternative solver options:\n",
            "    https://scikit-learn.org/stable/modules/linear_model.html#logistic-regression\n",
            "  n_iter_i = _check_optimize_result(\n"
          ]
        },
        {
          "metadata": {
            "tags": null
          },
          "name": "stdout",
          "output_type": "stream",
          "text": [
            "[CV] END ..............................kmeans__n_clusters=55; total time=   0.2s\n"
          ]
        },
        {
          "metadata": {
            "tags": null
          },
          "name": "stderr",
          "output_type": "stream",
          "text": [
            "/usr/local/lib/python3.12/dist-packages/sklearn/linear_model/_logistic.py:465: ConvergenceWarning: lbfgs failed to converge (status=1):\n",
            "STOP: TOTAL NO. OF ITERATIONS REACHED LIMIT.\n",
            "\n",
            "Increase the number of iterations (max_iter) or scale the data as shown in:\n",
            "    https://scikit-learn.org/stable/modules/preprocessing.html\n",
            "Please also refer to the documentation for alternative solver options:\n",
            "    https://scikit-learn.org/stable/modules/linear_model.html#logistic-regression\n",
            "  n_iter_i = _check_optimize_result(\n"
          ]
        },
        {
          "metadata": {
            "tags": null
          },
          "name": "stdout",
          "output_type": "stream",
          "text": [
            "[CV] END ..............................kmeans__n_clusters=55; total time=   0.2s\n"
          ]
        },
        {
          "metadata": {
            "tags": null
          },
          "name": "stderr",
          "output_type": "stream",
          "text": [
            "/usr/local/lib/python3.12/dist-packages/sklearn/linear_model/_logistic.py:465: ConvergenceWarning: lbfgs failed to converge (status=1):\n",
            "STOP: TOTAL NO. OF ITERATIONS REACHED LIMIT.\n",
            "\n",
            "Increase the number of iterations (max_iter) or scale the data as shown in:\n",
            "    https://scikit-learn.org/stable/modules/preprocessing.html\n",
            "Please also refer to the documentation for alternative solver options:\n",
            "    https://scikit-learn.org/stable/modules/linear_model.html#logistic-regression\n",
            "  n_iter_i = _check_optimize_result(\n"
          ]
        },
        {
          "metadata": {
            "tags": null
          },
          "name": "stdout",
          "output_type": "stream",
          "text": [
            "[CV] END ..............................kmeans__n_clusters=55; total time=   0.3s\n"
          ]
        },
        {
          "metadata": {
            "tags": null
          },
          "name": "stderr",
          "output_type": "stream",
          "text": [
            "/usr/local/lib/python3.12/dist-packages/sklearn/linear_model/_logistic.py:465: ConvergenceWarning: lbfgs failed to converge (status=1):\n",
            "STOP: TOTAL NO. OF ITERATIONS REACHED LIMIT.\n",
            "\n",
            "Increase the number of iterations (max_iter) or scale the data as shown in:\n",
            "    https://scikit-learn.org/stable/modules/preprocessing.html\n",
            "Please also refer to the documentation for alternative solver options:\n",
            "    https://scikit-learn.org/stable/modules/linear_model.html#logistic-regression\n",
            "  n_iter_i = _check_optimize_result(\n"
          ]
        },
        {
          "metadata": {
            "tags": null
          },
          "name": "stdout",
          "output_type": "stream",
          "text": [
            "[CV] END ..............................kmeans__n_clusters=56; total time=   0.3s\n"
          ]
        },
        {
          "metadata": {
            "tags": null
          },
          "name": "stderr",
          "output_type": "stream",
          "text": [
            "/usr/local/lib/python3.12/dist-packages/sklearn/linear_model/_logistic.py:465: ConvergenceWarning: lbfgs failed to converge (status=1):\n",
            "STOP: TOTAL NO. OF ITERATIONS REACHED LIMIT.\n",
            "\n",
            "Increase the number of iterations (max_iter) or scale the data as shown in:\n",
            "    https://scikit-learn.org/stable/modules/preprocessing.html\n",
            "Please also refer to the documentation for alternative solver options:\n",
            "    https://scikit-learn.org/stable/modules/linear_model.html#logistic-regression\n",
            "  n_iter_i = _check_optimize_result(\n"
          ]
        },
        {
          "metadata": {
            "tags": null
          },
          "name": "stdout",
          "output_type": "stream",
          "text": [
            "[CV] END ..............................kmeans__n_clusters=56; total time=   0.3s\n"
          ]
        },
        {
          "metadata": {
            "tags": null
          },
          "name": "stderr",
          "output_type": "stream",
          "text": [
            "/usr/local/lib/python3.12/dist-packages/sklearn/linear_model/_logistic.py:465: ConvergenceWarning: lbfgs failed to converge (status=1):\n",
            "STOP: TOTAL NO. OF ITERATIONS REACHED LIMIT.\n",
            "\n",
            "Increase the number of iterations (max_iter) or scale the data as shown in:\n",
            "    https://scikit-learn.org/stable/modules/preprocessing.html\n",
            "Please also refer to the documentation for alternative solver options:\n",
            "    https://scikit-learn.org/stable/modules/linear_model.html#logistic-regression\n",
            "  n_iter_i = _check_optimize_result(\n"
          ]
        },
        {
          "metadata": {
            "tags": null
          },
          "name": "stdout",
          "output_type": "stream",
          "text": [
            "[CV] END ..............................kmeans__n_clusters=56; total time=   0.3s\n"
          ]
        },
        {
          "metadata": {
            "tags": null
          },
          "name": "stderr",
          "output_type": "stream",
          "text": [
            "/usr/local/lib/python3.12/dist-packages/sklearn/linear_model/_logistic.py:465: ConvergenceWarning: lbfgs failed to converge (status=1):\n",
            "STOP: TOTAL NO. OF ITERATIONS REACHED LIMIT.\n",
            "\n",
            "Increase the number of iterations (max_iter) or scale the data as shown in:\n",
            "    https://scikit-learn.org/stable/modules/preprocessing.html\n",
            "Please also refer to the documentation for alternative solver options:\n",
            "    https://scikit-learn.org/stable/modules/linear_model.html#logistic-regression\n",
            "  n_iter_i = _check_optimize_result(\n"
          ]
        },
        {
          "metadata": {
            "tags": null
          },
          "name": "stdout",
          "output_type": "stream",
          "text": [
            "[CV] END ..............................kmeans__n_clusters=57; total time=   0.3s\n"
          ]
        },
        {
          "metadata": {
            "tags": null
          },
          "name": "stderr",
          "output_type": "stream",
          "text": [
            "/usr/local/lib/python3.12/dist-packages/sklearn/linear_model/_logistic.py:465: ConvergenceWarning: lbfgs failed to converge (status=1):\n",
            "STOP: TOTAL NO. OF ITERATIONS REACHED LIMIT.\n",
            "\n",
            "Increase the number of iterations (max_iter) or scale the data as shown in:\n",
            "    https://scikit-learn.org/stable/modules/preprocessing.html\n",
            "Please also refer to the documentation for alternative solver options:\n",
            "    https://scikit-learn.org/stable/modules/linear_model.html#logistic-regression\n",
            "  n_iter_i = _check_optimize_result(\n"
          ]
        },
        {
          "metadata": {
            "tags": null
          },
          "name": "stdout",
          "output_type": "stream",
          "text": [
            "[CV] END ..............................kmeans__n_clusters=57; total time=   0.3s\n"
          ]
        },
        {
          "metadata": {
            "tags": null
          },
          "name": "stderr",
          "output_type": "stream",
          "text": [
            "/usr/local/lib/python3.12/dist-packages/sklearn/linear_model/_logistic.py:465: ConvergenceWarning: lbfgs failed to converge (status=1):\n",
            "STOP: TOTAL NO. OF ITERATIONS REACHED LIMIT.\n",
            "\n",
            "Increase the number of iterations (max_iter) or scale the data as shown in:\n",
            "    https://scikit-learn.org/stable/modules/preprocessing.html\n",
            "Please also refer to the documentation for alternative solver options:\n",
            "    https://scikit-learn.org/stable/modules/linear_model.html#logistic-regression\n",
            "  n_iter_i = _check_optimize_result(\n"
          ]
        },
        {
          "metadata": {
            "tags": null
          },
          "name": "stdout",
          "output_type": "stream",
          "text": [
            "[CV] END ..............................kmeans__n_clusters=57; total time=   0.2s\n"
          ]
        },
        {
          "metadata": {
            "tags": null
          },
          "name": "stderr",
          "output_type": "stream",
          "text": [
            "/usr/local/lib/python3.12/dist-packages/sklearn/linear_model/_logistic.py:465: ConvergenceWarning: lbfgs failed to converge (status=1):\n",
            "STOP: TOTAL NO. OF ITERATIONS REACHED LIMIT.\n",
            "\n",
            "Increase the number of iterations (max_iter) or scale the data as shown in:\n",
            "    https://scikit-learn.org/stable/modules/preprocessing.html\n",
            "Please also refer to the documentation for alternative solver options:\n",
            "    https://scikit-learn.org/stable/modules/linear_model.html#logistic-regression\n",
            "  n_iter_i = _check_optimize_result(\n"
          ]
        },
        {
          "metadata": {
            "tags": null
          },
          "name": "stdout",
          "output_type": "stream",
          "text": [
            "[CV] END ..............................kmeans__n_clusters=58; total time=   0.2s\n"
          ]
        },
        {
          "metadata": {
            "tags": null
          },
          "name": "stderr",
          "output_type": "stream",
          "text": [
            "/usr/local/lib/python3.12/dist-packages/sklearn/linear_model/_logistic.py:465: ConvergenceWarning: lbfgs failed to converge (status=1):\n",
            "STOP: TOTAL NO. OF ITERATIONS REACHED LIMIT.\n",
            "\n",
            "Increase the number of iterations (max_iter) or scale the data as shown in:\n",
            "    https://scikit-learn.org/stable/modules/preprocessing.html\n",
            "Please also refer to the documentation for alternative solver options:\n",
            "    https://scikit-learn.org/stable/modules/linear_model.html#logistic-regression\n",
            "  n_iter_i = _check_optimize_result(\n"
          ]
        },
        {
          "metadata": {
            "tags": null
          },
          "name": "stdout",
          "output_type": "stream",
          "text": [
            "[CV] END ..............................kmeans__n_clusters=58; total time=   0.3s\n"
          ]
        },
        {
          "metadata": {
            "tags": null
          },
          "name": "stderr",
          "output_type": "stream",
          "text": [
            "/usr/local/lib/python3.12/dist-packages/sklearn/linear_model/_logistic.py:465: ConvergenceWarning: lbfgs failed to converge (status=1):\n",
            "STOP: TOTAL NO. OF ITERATIONS REACHED LIMIT.\n",
            "\n",
            "Increase the number of iterations (max_iter) or scale the data as shown in:\n",
            "    https://scikit-learn.org/stable/modules/preprocessing.html\n",
            "Please also refer to the documentation for alternative solver options:\n",
            "    https://scikit-learn.org/stable/modules/linear_model.html#logistic-regression\n",
            "  n_iter_i = _check_optimize_result(\n"
          ]
        },
        {
          "metadata": {
            "tags": null
          },
          "name": "stdout",
          "output_type": "stream",
          "text": [
            "[CV] END ..............................kmeans__n_clusters=58; total time=   0.3s\n"
          ]
        },
        {
          "metadata": {
            "tags": null
          },
          "name": "stderr",
          "output_type": "stream",
          "text": [
            "/usr/local/lib/python3.12/dist-packages/sklearn/linear_model/_logistic.py:465: ConvergenceWarning: lbfgs failed to converge (status=1):\n",
            "STOP: TOTAL NO. OF ITERATIONS REACHED LIMIT.\n",
            "\n",
            "Increase the number of iterations (max_iter) or scale the data as shown in:\n",
            "    https://scikit-learn.org/stable/modules/preprocessing.html\n",
            "Please also refer to the documentation for alternative solver options:\n",
            "    https://scikit-learn.org/stable/modules/linear_model.html#logistic-regression\n",
            "  n_iter_i = _check_optimize_result(\n"
          ]
        },
        {
          "metadata": {
            "tags": null
          },
          "name": "stdout",
          "output_type": "stream",
          "text": [
            "[CV] END ..............................kmeans__n_clusters=59; total time=   1.8s\n"
          ]
        },
        {
          "metadata": {
            "tags": null
          },
          "name": "stderr",
          "output_type": "stream",
          "text": [
            "/usr/local/lib/python3.12/dist-packages/sklearn/linear_model/_logistic.py:465: ConvergenceWarning: lbfgs failed to converge (status=1):\n",
            "STOP: TOTAL NO. OF ITERATIONS REACHED LIMIT.\n",
            "\n",
            "Increase the number of iterations (max_iter) or scale the data as shown in:\n",
            "    https://scikit-learn.org/stable/modules/preprocessing.html\n",
            "Please also refer to the documentation for alternative solver options:\n",
            "    https://scikit-learn.org/stable/modules/linear_model.html#logistic-regression\n",
            "  n_iter_i = _check_optimize_result(\n"
          ]
        },
        {
          "metadata": {
            "tags": null
          },
          "name": "stdout",
          "output_type": "stream",
          "text": [
            "[CV] END ..............................kmeans__n_clusters=59; total time=   1.8s\n"
          ]
        },
        {
          "metadata": {
            "tags": null
          },
          "name": "stderr",
          "output_type": "stream",
          "text": [
            "/usr/local/lib/python3.12/dist-packages/sklearn/linear_model/_logistic.py:465: ConvergenceWarning: lbfgs failed to converge (status=1):\n",
            "STOP: TOTAL NO. OF ITERATIONS REACHED LIMIT.\n",
            "\n",
            "Increase the number of iterations (max_iter) or scale the data as shown in:\n",
            "    https://scikit-learn.org/stable/modules/preprocessing.html\n",
            "Please also refer to the documentation for alternative solver options:\n",
            "    https://scikit-learn.org/stable/modules/linear_model.html#logistic-regression\n",
            "  n_iter_i = _check_optimize_result(\n"
          ]
        },
        {
          "metadata": {
            "tags": null
          },
          "name": "stdout",
          "output_type": "stream",
          "text": [
            "[CV] END ..............................kmeans__n_clusters=59; total time=   2.8s\n"
          ]
        },
        {
          "metadata": {
            "tags": null
          },
          "name": "stderr",
          "output_type": "stream",
          "text": [
            "/usr/local/lib/python3.12/dist-packages/sklearn/linear_model/_logistic.py:465: ConvergenceWarning: lbfgs failed to converge (status=1):\n",
            "STOP: TOTAL NO. OF ITERATIONS REACHED LIMIT.\n",
            "\n",
            "Increase the number of iterations (max_iter) or scale the data as shown in:\n",
            "    https://scikit-learn.org/stable/modules/preprocessing.html\n",
            "Please also refer to the documentation for alternative solver options:\n",
            "    https://scikit-learn.org/stable/modules/linear_model.html#logistic-regression\n",
            "  n_iter_i = _check_optimize_result(\n"
          ]
        },
        {
          "metadata": {
            "tags": null
          },
          "name": "stdout",
          "output_type": "stream",
          "text": [
            "[CV] END ..............................kmeans__n_clusters=60; total time=   2.0s\n"
          ]
        },
        {
          "metadata": {
            "tags": null
          },
          "name": "stderr",
          "output_type": "stream",
          "text": [
            "/usr/local/lib/python3.12/dist-packages/sklearn/linear_model/_logistic.py:465: ConvergenceWarning: lbfgs failed to converge (status=1):\n",
            "STOP: TOTAL NO. OF ITERATIONS REACHED LIMIT.\n",
            "\n",
            "Increase the number of iterations (max_iter) or scale the data as shown in:\n",
            "    https://scikit-learn.org/stable/modules/preprocessing.html\n",
            "Please also refer to the documentation for alternative solver options:\n",
            "    https://scikit-learn.org/stable/modules/linear_model.html#logistic-regression\n",
            "  n_iter_i = _check_optimize_result(\n"
          ]
        },
        {
          "metadata": {
            "tags": null
          },
          "name": "stdout",
          "output_type": "stream",
          "text": [
            "[CV] END ..............................kmeans__n_clusters=60; total time=   1.5s\n"
          ]
        },
        {
          "metadata": {
            "tags": null
          },
          "name": "stderr",
          "output_type": "stream",
          "text": [
            "/usr/local/lib/python3.12/dist-packages/sklearn/linear_model/_logistic.py:465: ConvergenceWarning: lbfgs failed to converge (status=1):\n",
            "STOP: TOTAL NO. OF ITERATIONS REACHED LIMIT.\n",
            "\n",
            "Increase the number of iterations (max_iter) or scale the data as shown in:\n",
            "    https://scikit-learn.org/stable/modules/preprocessing.html\n",
            "Please also refer to the documentation for alternative solver options:\n",
            "    https://scikit-learn.org/stable/modules/linear_model.html#logistic-regression\n",
            "  n_iter_i = _check_optimize_result(\n"
          ]
        },
        {
          "metadata": {
            "tags": null
          },
          "name": "stdout",
          "output_type": "stream",
          "text": [
            "[CV] END ..............................kmeans__n_clusters=60; total time=   1.6s\n"
          ]
        },
        {
          "metadata": {
            "tags": null
          },
          "name": "stderr",
          "output_type": "stream",
          "text": [
            "/usr/local/lib/python3.12/dist-packages/sklearn/linear_model/_logistic.py:465: ConvergenceWarning: lbfgs failed to converge (status=1):\n",
            "STOP: TOTAL NO. OF ITERATIONS REACHED LIMIT.\n",
            "\n",
            "Increase the number of iterations (max_iter) or scale the data as shown in:\n",
            "    https://scikit-learn.org/stable/modules/preprocessing.html\n",
            "Please also refer to the documentation for alternative solver options:\n",
            "    https://scikit-learn.org/stable/modules/linear_model.html#logistic-regression\n",
            "  n_iter_i = _check_optimize_result(\n"
          ]
        },
        {
          "metadata": {
            "tags": null
          },
          "name": "stdout",
          "output_type": "stream",
          "text": [
            "[CV] END ..............................kmeans__n_clusters=61; total time=   2.0s\n"
          ]
        },
        {
          "metadata": {
            "tags": null
          },
          "name": "stderr",
          "output_type": "stream",
          "text": [
            "/usr/local/lib/python3.12/dist-packages/sklearn/linear_model/_logistic.py:465: ConvergenceWarning: lbfgs failed to converge (status=1):\n",
            "STOP: TOTAL NO. OF ITERATIONS REACHED LIMIT.\n",
            "\n",
            "Increase the number of iterations (max_iter) or scale the data as shown in:\n",
            "    https://scikit-learn.org/stable/modules/preprocessing.html\n",
            "Please also refer to the documentation for alternative solver options:\n",
            "    https://scikit-learn.org/stable/modules/linear_model.html#logistic-regression\n",
            "  n_iter_i = _check_optimize_result(\n"
          ]
        },
        {
          "metadata": {
            "tags": null
          },
          "name": "stdout",
          "output_type": "stream",
          "text": [
            "[CV] END ..............................kmeans__n_clusters=61; total time=   1.7s\n"
          ]
        },
        {
          "metadata": {
            "tags": null
          },
          "name": "stderr",
          "output_type": "stream",
          "text": [
            "/usr/local/lib/python3.12/dist-packages/sklearn/linear_model/_logistic.py:465: ConvergenceWarning: lbfgs failed to converge (status=1):\n",
            "STOP: TOTAL NO. OF ITERATIONS REACHED LIMIT.\n",
            "\n",
            "Increase the number of iterations (max_iter) or scale the data as shown in:\n",
            "    https://scikit-learn.org/stable/modules/preprocessing.html\n",
            "Please also refer to the documentation for alternative solver options:\n",
            "    https://scikit-learn.org/stable/modules/linear_model.html#logistic-regression\n",
            "  n_iter_i = _check_optimize_result(\n"
          ]
        },
        {
          "metadata": {
            "tags": null
          },
          "name": "stdout",
          "output_type": "stream",
          "text": [
            "[CV] END ..............................kmeans__n_clusters=61; total time=   1.5s\n"
          ]
        },
        {
          "metadata": {
            "tags": null
          },
          "name": "stderr",
          "output_type": "stream",
          "text": [
            "/usr/local/lib/python3.12/dist-packages/sklearn/linear_model/_logistic.py:465: ConvergenceWarning: lbfgs failed to converge (status=1):\n",
            "STOP: TOTAL NO. OF ITERATIONS REACHED LIMIT.\n",
            "\n",
            "Increase the number of iterations (max_iter) or scale the data as shown in:\n",
            "    https://scikit-learn.org/stable/modules/preprocessing.html\n",
            "Please also refer to the documentation for alternative solver options:\n",
            "    https://scikit-learn.org/stable/modules/linear_model.html#logistic-regression\n",
            "  n_iter_i = _check_optimize_result(\n"
          ]
        },
        {
          "metadata": {
            "tags": null
          },
          "name": "stdout",
          "output_type": "stream",
          "text": [
            "[CV] END ..............................kmeans__n_clusters=62; total time=   1.7s\n"
          ]
        },
        {
          "metadata": {
            "tags": null
          },
          "name": "stderr",
          "output_type": "stream",
          "text": [
            "/usr/local/lib/python3.12/dist-packages/sklearn/linear_model/_logistic.py:465: ConvergenceWarning: lbfgs failed to converge (status=1):\n",
            "STOP: TOTAL NO. OF ITERATIONS REACHED LIMIT.\n",
            "\n",
            "Increase the number of iterations (max_iter) or scale the data as shown in:\n",
            "    https://scikit-learn.org/stable/modules/preprocessing.html\n",
            "Please also refer to the documentation for alternative solver options:\n",
            "    https://scikit-learn.org/stable/modules/linear_model.html#logistic-regression\n",
            "  n_iter_i = _check_optimize_result(\n"
          ]
        },
        {
          "metadata": {
            "tags": null
          },
          "name": "stdout",
          "output_type": "stream",
          "text": [
            "[CV] END ..............................kmeans__n_clusters=62; total time=   2.8s\n"
          ]
        },
        {
          "metadata": {
            "tags": null
          },
          "name": "stderr",
          "output_type": "stream",
          "text": [
            "/usr/local/lib/python3.12/dist-packages/sklearn/linear_model/_logistic.py:465: ConvergenceWarning: lbfgs failed to converge (status=1):\n",
            "STOP: TOTAL NO. OF ITERATIONS REACHED LIMIT.\n",
            "\n",
            "Increase the number of iterations (max_iter) or scale the data as shown in:\n",
            "    https://scikit-learn.org/stable/modules/preprocessing.html\n",
            "Please also refer to the documentation for alternative solver options:\n",
            "    https://scikit-learn.org/stable/modules/linear_model.html#logistic-regression\n",
            "  n_iter_i = _check_optimize_result(\n"
          ]
        },
        {
          "metadata": {
            "tags": null
          },
          "name": "stdout",
          "output_type": "stream",
          "text": [
            "[CV] END ..............................kmeans__n_clusters=62; total time=   1.9s\n"
          ]
        },
        {
          "metadata": {
            "tags": null
          },
          "name": "stderr",
          "output_type": "stream",
          "text": [
            "/usr/local/lib/python3.12/dist-packages/sklearn/linear_model/_logistic.py:465: ConvergenceWarning: lbfgs failed to converge (status=1):\n",
            "STOP: TOTAL NO. OF ITERATIONS REACHED LIMIT.\n",
            "\n",
            "Increase the number of iterations (max_iter) or scale the data as shown in:\n",
            "    https://scikit-learn.org/stable/modules/preprocessing.html\n",
            "Please also refer to the documentation for alternative solver options:\n",
            "    https://scikit-learn.org/stable/modules/linear_model.html#logistic-regression\n",
            "  n_iter_i = _check_optimize_result(\n"
          ]
        },
        {
          "metadata": {
            "tags": null
          },
          "name": "stdout",
          "output_type": "stream",
          "text": [
            "[CV] END ..............................kmeans__n_clusters=63; total time=   2.3s\n"
          ]
        },
        {
          "metadata": {
            "tags": null
          },
          "name": "stderr",
          "output_type": "stream",
          "text": [
            "/usr/local/lib/python3.12/dist-packages/sklearn/linear_model/_logistic.py:465: ConvergenceWarning: lbfgs failed to converge (status=1):\n",
            "STOP: TOTAL NO. OF ITERATIONS REACHED LIMIT.\n",
            "\n",
            "Increase the number of iterations (max_iter) or scale the data as shown in:\n",
            "    https://scikit-learn.org/stable/modules/preprocessing.html\n",
            "Please also refer to the documentation for alternative solver options:\n",
            "    https://scikit-learn.org/stable/modules/linear_model.html#logistic-regression\n",
            "  n_iter_i = _check_optimize_result(\n"
          ]
        },
        {
          "metadata": {
            "tags": null
          },
          "name": "stdout",
          "output_type": "stream",
          "text": [
            "[CV] END ..............................kmeans__n_clusters=63; total time=   2.2s\n"
          ]
        },
        {
          "metadata": {
            "tags": null
          },
          "name": "stderr",
          "output_type": "stream",
          "text": [
            "/usr/local/lib/python3.12/dist-packages/sklearn/linear_model/_logistic.py:465: ConvergenceWarning: lbfgs failed to converge (status=1):\n",
            "STOP: TOTAL NO. OF ITERATIONS REACHED LIMIT.\n",
            "\n",
            "Increase the number of iterations (max_iter) or scale the data as shown in:\n",
            "    https://scikit-learn.org/stable/modules/preprocessing.html\n",
            "Please also refer to the documentation for alternative solver options:\n",
            "    https://scikit-learn.org/stable/modules/linear_model.html#logistic-regression\n",
            "  n_iter_i = _check_optimize_result(\n"
          ]
        },
        {
          "metadata": {
            "tags": null
          },
          "name": "stdout",
          "output_type": "stream",
          "text": [
            "[CV] END ..............................kmeans__n_clusters=63; total time=   2.1s\n"
          ]
        },
        {
          "metadata": {
            "tags": null
          },
          "name": "stderr",
          "output_type": "stream",
          "text": [
            "/usr/local/lib/python3.12/dist-packages/sklearn/linear_model/_logistic.py:465: ConvergenceWarning: lbfgs failed to converge (status=1):\n",
            "STOP: TOTAL NO. OF ITERATIONS REACHED LIMIT.\n",
            "\n",
            "Increase the number of iterations (max_iter) or scale the data as shown in:\n",
            "    https://scikit-learn.org/stable/modules/preprocessing.html\n",
            "Please also refer to the documentation for alternative solver options:\n",
            "    https://scikit-learn.org/stable/modules/linear_model.html#logistic-regression\n",
            "  n_iter_i = _check_optimize_result(\n"
          ]
        },
        {
          "metadata": {
            "tags": null
          },
          "name": "stdout",
          "output_type": "stream",
          "text": [
            "[CV] END ..............................kmeans__n_clusters=64; total time=   1.4s\n"
          ]
        },
        {
          "metadata": {
            "tags": null
          },
          "name": "stderr",
          "output_type": "stream",
          "text": [
            "/usr/local/lib/python3.12/dist-packages/sklearn/linear_model/_logistic.py:465: ConvergenceWarning: lbfgs failed to converge (status=1):\n",
            "STOP: TOTAL NO. OF ITERATIONS REACHED LIMIT.\n",
            "\n",
            "Increase the number of iterations (max_iter) or scale the data as shown in:\n",
            "    https://scikit-learn.org/stable/modules/preprocessing.html\n",
            "Please also refer to the documentation for alternative solver options:\n",
            "    https://scikit-learn.org/stable/modules/linear_model.html#logistic-regression\n",
            "  n_iter_i = _check_optimize_result(\n"
          ]
        },
        {
          "metadata": {
            "tags": null
          },
          "name": "stdout",
          "output_type": "stream",
          "text": [
            "[CV] END ..............................kmeans__n_clusters=64; total time=   3.3s\n"
          ]
        },
        {
          "metadata": {
            "tags": null
          },
          "name": "stderr",
          "output_type": "stream",
          "text": [
            "/usr/local/lib/python3.12/dist-packages/sklearn/linear_model/_logistic.py:465: ConvergenceWarning: lbfgs failed to converge (status=1):\n",
            "STOP: TOTAL NO. OF ITERATIONS REACHED LIMIT.\n",
            "\n",
            "Increase the number of iterations (max_iter) or scale the data as shown in:\n",
            "    https://scikit-learn.org/stable/modules/preprocessing.html\n",
            "Please also refer to the documentation for alternative solver options:\n",
            "    https://scikit-learn.org/stable/modules/linear_model.html#logistic-regression\n",
            "  n_iter_i = _check_optimize_result(\n"
          ]
        },
        {
          "metadata": {
            "tags": null
          },
          "name": "stdout",
          "output_type": "stream",
          "text": [
            "[CV] END ..............................kmeans__n_clusters=64; total time=   2.0s\n"
          ]
        },
        {
          "metadata": {
            "tags": null
          },
          "name": "stderr",
          "output_type": "stream",
          "text": [
            "/usr/local/lib/python3.12/dist-packages/sklearn/linear_model/_logistic.py:465: ConvergenceWarning: lbfgs failed to converge (status=1):\n",
            "STOP: TOTAL NO. OF ITERATIONS REACHED LIMIT.\n",
            "\n",
            "Increase the number of iterations (max_iter) or scale the data as shown in:\n",
            "    https://scikit-learn.org/stable/modules/preprocessing.html\n",
            "Please also refer to the documentation for alternative solver options:\n",
            "    https://scikit-learn.org/stable/modules/linear_model.html#logistic-regression\n",
            "  n_iter_i = _check_optimize_result(\n"
          ]
        },
        {
          "metadata": {
            "tags": null
          },
          "name": "stdout",
          "output_type": "stream",
          "text": [
            "[CV] END ..............................kmeans__n_clusters=65; total time=   1.6s\n"
          ]
        },
        {
          "metadata": {
            "tags": null
          },
          "name": "stderr",
          "output_type": "stream",
          "text": [
            "/usr/local/lib/python3.12/dist-packages/sklearn/linear_model/_logistic.py:465: ConvergenceWarning: lbfgs failed to converge (status=1):\n",
            "STOP: TOTAL NO. OF ITERATIONS REACHED LIMIT.\n",
            "\n",
            "Increase the number of iterations (max_iter) or scale the data as shown in:\n",
            "    https://scikit-learn.org/stable/modules/preprocessing.html\n",
            "Please also refer to the documentation for alternative solver options:\n",
            "    https://scikit-learn.org/stable/modules/linear_model.html#logistic-regression\n",
            "  n_iter_i = _check_optimize_result(\n"
          ]
        },
        {
          "metadata": {
            "tags": null
          },
          "name": "stdout",
          "output_type": "stream",
          "text": [
            "[CV] END ..............................kmeans__n_clusters=65; total time=   1.9s\n"
          ]
        },
        {
          "metadata": {
            "tags": null
          },
          "name": "stderr",
          "output_type": "stream",
          "text": [
            "/usr/local/lib/python3.12/dist-packages/sklearn/linear_model/_logistic.py:465: ConvergenceWarning: lbfgs failed to converge (status=1):\n",
            "STOP: TOTAL NO. OF ITERATIONS REACHED LIMIT.\n",
            "\n",
            "Increase the number of iterations (max_iter) or scale the data as shown in:\n",
            "    https://scikit-learn.org/stable/modules/preprocessing.html\n",
            "Please also refer to the documentation for alternative solver options:\n",
            "    https://scikit-learn.org/stable/modules/linear_model.html#logistic-regression\n",
            "  n_iter_i = _check_optimize_result(\n"
          ]
        },
        {
          "metadata": {
            "tags": null
          },
          "name": "stdout",
          "output_type": "stream",
          "text": [
            "[CV] END ..............................kmeans__n_clusters=65; total time=   2.0s\n"
          ]
        },
        {
          "metadata": {
            "tags": null
          },
          "name": "stderr",
          "output_type": "stream",
          "text": [
            "/usr/local/lib/python3.12/dist-packages/sklearn/linear_model/_logistic.py:465: ConvergenceWarning: lbfgs failed to converge (status=1):\n",
            "STOP: TOTAL NO. OF ITERATIONS REACHED LIMIT.\n",
            "\n",
            "Increase the number of iterations (max_iter) or scale the data as shown in:\n",
            "    https://scikit-learn.org/stable/modules/preprocessing.html\n",
            "Please also refer to the documentation for alternative solver options:\n",
            "    https://scikit-learn.org/stable/modules/linear_model.html#logistic-regression\n",
            "  n_iter_i = _check_optimize_result(\n"
          ]
        },
        {
          "metadata": {
            "tags": null
          },
          "name": "stdout",
          "output_type": "stream",
          "text": [
            "[CV] END ..............................kmeans__n_clusters=66; total time=   1.6s\n"
          ]
        },
        {
          "metadata": {
            "tags": null
          },
          "name": "stderr",
          "output_type": "stream",
          "text": [
            "/usr/local/lib/python3.12/dist-packages/sklearn/linear_model/_logistic.py:465: ConvergenceWarning: lbfgs failed to converge (status=1):\n",
            "STOP: TOTAL NO. OF ITERATIONS REACHED LIMIT.\n",
            "\n",
            "Increase the number of iterations (max_iter) or scale the data as shown in:\n",
            "    https://scikit-learn.org/stable/modules/preprocessing.html\n",
            "Please also refer to the documentation for alternative solver options:\n",
            "    https://scikit-learn.org/stable/modules/linear_model.html#logistic-regression\n",
            "  n_iter_i = _check_optimize_result(\n"
          ]
        },
        {
          "metadata": {
            "tags": null
          },
          "name": "stdout",
          "output_type": "stream",
          "text": [
            "[CV] END ..............................kmeans__n_clusters=66; total time=   3.1s\n"
          ]
        },
        {
          "metadata": {
            "tags": null
          },
          "name": "stderr",
          "output_type": "stream",
          "text": [
            "/usr/local/lib/python3.12/dist-packages/sklearn/linear_model/_logistic.py:465: ConvergenceWarning: lbfgs failed to converge (status=1):\n",
            "STOP: TOTAL NO. OF ITERATIONS REACHED LIMIT.\n",
            "\n",
            "Increase the number of iterations (max_iter) or scale the data as shown in:\n",
            "    https://scikit-learn.org/stable/modules/preprocessing.html\n",
            "Please also refer to the documentation for alternative solver options:\n",
            "    https://scikit-learn.org/stable/modules/linear_model.html#logistic-regression\n",
            "  n_iter_i = _check_optimize_result(\n"
          ]
        },
        {
          "metadata": {
            "tags": null
          },
          "name": "stdout",
          "output_type": "stream",
          "text": [
            "[CV] END ..............................kmeans__n_clusters=66; total time=   2.2s\n"
          ]
        },
        {
          "metadata": {
            "tags": null
          },
          "name": "stderr",
          "output_type": "stream",
          "text": [
            "/usr/local/lib/python3.12/dist-packages/sklearn/linear_model/_logistic.py:465: ConvergenceWarning: lbfgs failed to converge (status=1):\n",
            "STOP: TOTAL NO. OF ITERATIONS REACHED LIMIT.\n",
            "\n",
            "Increase the number of iterations (max_iter) or scale the data as shown in:\n",
            "    https://scikit-learn.org/stable/modules/preprocessing.html\n",
            "Please also refer to the documentation for alternative solver options:\n",
            "    https://scikit-learn.org/stable/modules/linear_model.html#logistic-regression\n",
            "  n_iter_i = _check_optimize_result(\n"
          ]
        },
        {
          "metadata": {
            "tags": null
          },
          "name": "stdout",
          "output_type": "stream",
          "text": [
            "[CV] END ..............................kmeans__n_clusters=67; total time=   1.6s\n"
          ]
        },
        {
          "metadata": {
            "tags": null
          },
          "name": "stderr",
          "output_type": "stream",
          "text": [
            "/usr/local/lib/python3.12/dist-packages/sklearn/linear_model/_logistic.py:465: ConvergenceWarning: lbfgs failed to converge (status=1):\n",
            "STOP: TOTAL NO. OF ITERATIONS REACHED LIMIT.\n",
            "\n",
            "Increase the number of iterations (max_iter) or scale the data as shown in:\n",
            "    https://scikit-learn.org/stable/modules/preprocessing.html\n",
            "Please also refer to the documentation for alternative solver options:\n",
            "    https://scikit-learn.org/stable/modules/linear_model.html#logistic-regression\n",
            "  n_iter_i = _check_optimize_result(\n"
          ]
        },
        {
          "metadata": {
            "tags": null
          },
          "name": "stdout",
          "output_type": "stream",
          "text": [
            "[CV] END ..............................kmeans__n_clusters=67; total time=   1.6s\n"
          ]
        },
        {
          "metadata": {
            "tags": null
          },
          "name": "stderr",
          "output_type": "stream",
          "text": [
            "/usr/local/lib/python3.12/dist-packages/sklearn/linear_model/_logistic.py:465: ConvergenceWarning: lbfgs failed to converge (status=1):\n",
            "STOP: TOTAL NO. OF ITERATIONS REACHED LIMIT.\n",
            "\n",
            "Increase the number of iterations (max_iter) or scale the data as shown in:\n",
            "    https://scikit-learn.org/stable/modules/preprocessing.html\n",
            "Please also refer to the documentation for alternative solver options:\n",
            "    https://scikit-learn.org/stable/modules/linear_model.html#logistic-regression\n",
            "  n_iter_i = _check_optimize_result(\n"
          ]
        },
        {
          "metadata": {
            "tags": null
          },
          "name": "stdout",
          "output_type": "stream",
          "text": [
            "[CV] END ..............................kmeans__n_clusters=67; total time=   1.9s\n"
          ]
        },
        {
          "metadata": {
            "tags": null
          },
          "name": "stderr",
          "output_type": "stream",
          "text": [
            "/usr/local/lib/python3.12/dist-packages/sklearn/linear_model/_logistic.py:465: ConvergenceWarning: lbfgs failed to converge (status=1):\n",
            "STOP: TOTAL NO. OF ITERATIONS REACHED LIMIT.\n",
            "\n",
            "Increase the number of iterations (max_iter) or scale the data as shown in:\n",
            "    https://scikit-learn.org/stable/modules/preprocessing.html\n",
            "Please also refer to the documentation for alternative solver options:\n",
            "    https://scikit-learn.org/stable/modules/linear_model.html#logistic-regression\n",
            "  n_iter_i = _check_optimize_result(\n"
          ]
        },
        {
          "metadata": {
            "tags": null
          },
          "name": "stdout",
          "output_type": "stream",
          "text": [
            "[CV] END ..............................kmeans__n_clusters=68; total time=   1.7s\n"
          ]
        },
        {
          "metadata": {
            "tags": null
          },
          "name": "stderr",
          "output_type": "stream",
          "text": [
            "/usr/local/lib/python3.12/dist-packages/sklearn/linear_model/_logistic.py:465: ConvergenceWarning: lbfgs failed to converge (status=1):\n",
            "STOP: TOTAL NO. OF ITERATIONS REACHED LIMIT.\n",
            "\n",
            "Increase the number of iterations (max_iter) or scale the data as shown in:\n",
            "    https://scikit-learn.org/stable/modules/preprocessing.html\n",
            "Please also refer to the documentation for alternative solver options:\n",
            "    https://scikit-learn.org/stable/modules/linear_model.html#logistic-regression\n",
            "  n_iter_i = _check_optimize_result(\n"
          ]
        },
        {
          "metadata": {
            "tags": null
          },
          "name": "stdout",
          "output_type": "stream",
          "text": [
            "[CV] END ..............................kmeans__n_clusters=68; total time=   2.1s\n"
          ]
        },
        {
          "metadata": {
            "tags": null
          },
          "name": "stderr",
          "output_type": "stream",
          "text": [
            "/usr/local/lib/python3.12/dist-packages/sklearn/linear_model/_logistic.py:465: ConvergenceWarning: lbfgs failed to converge (status=1):\n",
            "STOP: TOTAL NO. OF ITERATIONS REACHED LIMIT.\n",
            "\n",
            "Increase the number of iterations (max_iter) or scale the data as shown in:\n",
            "    https://scikit-learn.org/stable/modules/preprocessing.html\n",
            "Please also refer to the documentation for alternative solver options:\n",
            "    https://scikit-learn.org/stable/modules/linear_model.html#logistic-regression\n",
            "  n_iter_i = _check_optimize_result(\n"
          ]
        },
        {
          "metadata": {
            "tags": null
          },
          "name": "stdout",
          "output_type": "stream",
          "text": [
            "[CV] END ..............................kmeans__n_clusters=68; total time=   2.4s\n"
          ]
        },
        {
          "metadata": {
            "tags": null
          },
          "name": "stderr",
          "output_type": "stream",
          "text": [
            "/usr/local/lib/python3.12/dist-packages/sklearn/linear_model/_logistic.py:465: ConvergenceWarning: lbfgs failed to converge (status=1):\n",
            "STOP: TOTAL NO. OF ITERATIONS REACHED LIMIT.\n",
            "\n",
            "Increase the number of iterations (max_iter) or scale the data as shown in:\n",
            "    https://scikit-learn.org/stable/modules/preprocessing.html\n",
            "Please also refer to the documentation for alternative solver options:\n",
            "    https://scikit-learn.org/stable/modules/linear_model.html#logistic-regression\n",
            "  n_iter_i = _check_optimize_result(\n"
          ]
        },
        {
          "metadata": {
            "tags": null
          },
          "name": "stdout",
          "output_type": "stream",
          "text": [
            "[CV] END ..............................kmeans__n_clusters=69; total time=   2.0s\n"
          ]
        },
        {
          "metadata": {
            "tags": null
          },
          "name": "stderr",
          "output_type": "stream",
          "text": [
            "/usr/local/lib/python3.12/dist-packages/sklearn/linear_model/_logistic.py:465: ConvergenceWarning: lbfgs failed to converge (status=1):\n",
            "STOP: TOTAL NO. OF ITERATIONS REACHED LIMIT.\n",
            "\n",
            "Increase the number of iterations (max_iter) or scale the data as shown in:\n",
            "    https://scikit-learn.org/stable/modules/preprocessing.html\n",
            "Please also refer to the documentation for alternative solver options:\n",
            "    https://scikit-learn.org/stable/modules/linear_model.html#logistic-regression\n",
            "  n_iter_i = _check_optimize_result(\n"
          ]
        },
        {
          "metadata": {
            "tags": null
          },
          "name": "stdout",
          "output_type": "stream",
          "text": [
            "[CV] END ..............................kmeans__n_clusters=69; total time=   1.5s\n"
          ]
        },
        {
          "metadata": {
            "tags": null
          },
          "name": "stderr",
          "output_type": "stream",
          "text": [
            "/usr/local/lib/python3.12/dist-packages/sklearn/linear_model/_logistic.py:465: ConvergenceWarning: lbfgs failed to converge (status=1):\n",
            "STOP: TOTAL NO. OF ITERATIONS REACHED LIMIT.\n",
            "\n",
            "Increase the number of iterations (max_iter) or scale the data as shown in:\n",
            "    https://scikit-learn.org/stable/modules/preprocessing.html\n",
            "Please also refer to the documentation for alternative solver options:\n",
            "    https://scikit-learn.org/stable/modules/linear_model.html#logistic-regression\n",
            "  n_iter_i = _check_optimize_result(\n"
          ]
        },
        {
          "metadata": {
            "tags": null
          },
          "name": "stdout",
          "output_type": "stream",
          "text": [
            "[CV] END ..............................kmeans__n_clusters=69; total time=   1.6s\n"
          ]
        },
        {
          "metadata": {
            "tags": null
          },
          "name": "stderr",
          "output_type": "stream",
          "text": [
            "/usr/local/lib/python3.12/dist-packages/sklearn/linear_model/_logistic.py:465: ConvergenceWarning: lbfgs failed to converge (status=1):\n",
            "STOP: TOTAL NO. OF ITERATIONS REACHED LIMIT.\n",
            "\n",
            "Increase the number of iterations (max_iter) or scale the data as shown in:\n",
            "    https://scikit-learn.org/stable/modules/preprocessing.html\n",
            "Please also refer to the documentation for alternative solver options:\n",
            "    https://scikit-learn.org/stable/modules/linear_model.html#logistic-regression\n",
            "  n_iter_i = _check_optimize_result(\n"
          ]
        },
        {
          "metadata": {
            "tags": null
          },
          "name": "stdout",
          "output_type": "stream",
          "text": [
            "[CV] END ..............................kmeans__n_clusters=70; total time=   1.5s\n"
          ]
        },
        {
          "metadata": {
            "tags": null
          },
          "name": "stderr",
          "output_type": "stream",
          "text": [
            "/usr/local/lib/python3.12/dist-packages/sklearn/linear_model/_logistic.py:465: ConvergenceWarning: lbfgs failed to converge (status=1):\n",
            "STOP: TOTAL NO. OF ITERATIONS REACHED LIMIT.\n",
            "\n",
            "Increase the number of iterations (max_iter) or scale the data as shown in:\n",
            "    https://scikit-learn.org/stable/modules/preprocessing.html\n",
            "Please also refer to the documentation for alternative solver options:\n",
            "    https://scikit-learn.org/stable/modules/linear_model.html#logistic-regression\n",
            "  n_iter_i = _check_optimize_result(\n"
          ]
        },
        {
          "metadata": {
            "tags": null
          },
          "name": "stdout",
          "output_type": "stream",
          "text": [
            "[CV] END ..............................kmeans__n_clusters=70; total time=   1.6s\n"
          ]
        },
        {
          "metadata": {
            "tags": null
          },
          "name": "stderr",
          "output_type": "stream",
          "text": [
            "/usr/local/lib/python3.12/dist-packages/sklearn/linear_model/_logistic.py:465: ConvergenceWarning: lbfgs failed to converge (status=1):\n",
            "STOP: TOTAL NO. OF ITERATIONS REACHED LIMIT.\n",
            "\n",
            "Increase the number of iterations (max_iter) or scale the data as shown in:\n",
            "    https://scikit-learn.org/stable/modules/preprocessing.html\n",
            "Please also refer to the documentation for alternative solver options:\n",
            "    https://scikit-learn.org/stable/modules/linear_model.html#logistic-regression\n",
            "  n_iter_i = _check_optimize_result(\n"
          ]
        },
        {
          "metadata": {
            "tags": null
          },
          "name": "stdout",
          "output_type": "stream",
          "text": [
            "[CV] END ..............................kmeans__n_clusters=70; total time=   2.5s\n"
          ]
        },
        {
          "metadata": {
            "tags": null
          },
          "name": "stderr",
          "output_type": "stream",
          "text": [
            "/usr/local/lib/python3.12/dist-packages/sklearn/linear_model/_logistic.py:465: ConvergenceWarning: lbfgs failed to converge (status=1):\n",
            "STOP: TOTAL NO. OF ITERATIONS REACHED LIMIT.\n",
            "\n",
            "Increase the number of iterations (max_iter) or scale the data as shown in:\n",
            "    https://scikit-learn.org/stable/modules/preprocessing.html\n",
            "Please also refer to the documentation for alternative solver options:\n",
            "    https://scikit-learn.org/stable/modules/linear_model.html#logistic-regression\n",
            "  n_iter_i = _check_optimize_result(\n"
          ]
        },
        {
          "metadata": {
            "tags": null
          },
          "name": "stdout",
          "output_type": "stream",
          "text": [
            "[CV] END ..............................kmeans__n_clusters=71; total time=   3.1s\n"
          ]
        },
        {
          "metadata": {
            "tags": null
          },
          "name": "stderr",
          "output_type": "stream",
          "text": [
            "/usr/local/lib/python3.12/dist-packages/sklearn/linear_model/_logistic.py:465: ConvergenceWarning: lbfgs failed to converge (status=1):\n",
            "STOP: TOTAL NO. OF ITERATIONS REACHED LIMIT.\n",
            "\n",
            "Increase the number of iterations (max_iter) or scale the data as shown in:\n",
            "    https://scikit-learn.org/stable/modules/preprocessing.html\n",
            "Please also refer to the documentation for alternative solver options:\n",
            "    https://scikit-learn.org/stable/modules/linear_model.html#logistic-regression\n",
            "  n_iter_i = _check_optimize_result(\n"
          ]
        },
        {
          "metadata": {
            "tags": null
          },
          "name": "stdout",
          "output_type": "stream",
          "text": [
            "[CV] END ..............................kmeans__n_clusters=71; total time=   1.6s\n"
          ]
        },
        {
          "metadata": {
            "tags": null
          },
          "name": "stderr",
          "output_type": "stream",
          "text": [
            "/usr/local/lib/python3.12/dist-packages/sklearn/linear_model/_logistic.py:465: ConvergenceWarning: lbfgs failed to converge (status=1):\n",
            "STOP: TOTAL NO. OF ITERATIONS REACHED LIMIT.\n",
            "\n",
            "Increase the number of iterations (max_iter) or scale the data as shown in:\n",
            "    https://scikit-learn.org/stable/modules/preprocessing.html\n",
            "Please also refer to the documentation for alternative solver options:\n",
            "    https://scikit-learn.org/stable/modules/linear_model.html#logistic-regression\n",
            "  n_iter_i = _check_optimize_result(\n"
          ]
        },
        {
          "metadata": {
            "tags": null
          },
          "name": "stdout",
          "output_type": "stream",
          "text": [
            "[CV] END ..............................kmeans__n_clusters=71; total time=   2.1s\n"
          ]
        },
        {
          "metadata": {
            "tags": null
          },
          "name": "stderr",
          "output_type": "stream",
          "text": [
            "/usr/local/lib/python3.12/dist-packages/sklearn/linear_model/_logistic.py:465: ConvergenceWarning: lbfgs failed to converge (status=1):\n",
            "STOP: TOTAL NO. OF ITERATIONS REACHED LIMIT.\n",
            "\n",
            "Increase the number of iterations (max_iter) or scale the data as shown in:\n",
            "    https://scikit-learn.org/stable/modules/preprocessing.html\n",
            "Please also refer to the documentation for alternative solver options:\n",
            "    https://scikit-learn.org/stable/modules/linear_model.html#logistic-regression\n",
            "  n_iter_i = _check_optimize_result(\n"
          ]
        },
        {
          "metadata": {
            "tags": null
          },
          "name": "stdout",
          "output_type": "stream",
          "text": [
            "[CV] END ..............................kmeans__n_clusters=72; total time=   1.8s\n"
          ]
        },
        {
          "metadata": {
            "tags": null
          },
          "name": "stderr",
          "output_type": "stream",
          "text": [
            "/usr/local/lib/python3.12/dist-packages/sklearn/linear_model/_logistic.py:465: ConvergenceWarning: lbfgs failed to converge (status=1):\n",
            "STOP: TOTAL NO. OF ITERATIONS REACHED LIMIT.\n",
            "\n",
            "Increase the number of iterations (max_iter) or scale the data as shown in:\n",
            "    https://scikit-learn.org/stable/modules/preprocessing.html\n",
            "Please also refer to the documentation for alternative solver options:\n",
            "    https://scikit-learn.org/stable/modules/linear_model.html#logistic-regression\n",
            "  n_iter_i = _check_optimize_result(\n"
          ]
        },
        {
          "metadata": {
            "tags": null
          },
          "name": "stdout",
          "output_type": "stream",
          "text": [
            "[CV] END ..............................kmeans__n_clusters=72; total time=   1.4s\n"
          ]
        },
        {
          "metadata": {
            "tags": null
          },
          "name": "stderr",
          "output_type": "stream",
          "text": [
            "/usr/local/lib/python3.12/dist-packages/sklearn/linear_model/_logistic.py:465: ConvergenceWarning: lbfgs failed to converge (status=1):\n",
            "STOP: TOTAL NO. OF ITERATIONS REACHED LIMIT.\n",
            "\n",
            "Increase the number of iterations (max_iter) or scale the data as shown in:\n",
            "    https://scikit-learn.org/stable/modules/preprocessing.html\n",
            "Please also refer to the documentation for alternative solver options:\n",
            "    https://scikit-learn.org/stable/modules/linear_model.html#logistic-regression\n",
            "  n_iter_i = _check_optimize_result(\n"
          ]
        },
        {
          "metadata": {
            "tags": null
          },
          "name": "stdout",
          "output_type": "stream",
          "text": [
            "[CV] END ..............................kmeans__n_clusters=72; total time=   1.5s\n"
          ]
        },
        {
          "metadata": {
            "tags": null
          },
          "name": "stderr",
          "output_type": "stream",
          "text": [
            "/usr/local/lib/python3.12/dist-packages/sklearn/linear_model/_logistic.py:465: ConvergenceWarning: lbfgs failed to converge (status=1):\n",
            "STOP: TOTAL NO. OF ITERATIONS REACHED LIMIT.\n",
            "\n",
            "Increase the number of iterations (max_iter) or scale the data as shown in:\n",
            "    https://scikit-learn.org/stable/modules/preprocessing.html\n",
            "Please also refer to the documentation for alternative solver options:\n",
            "    https://scikit-learn.org/stable/modules/linear_model.html#logistic-regression\n",
            "  n_iter_i = _check_optimize_result(\n"
          ]
        },
        {
          "metadata": {
            "tags": null
          },
          "name": "stdout",
          "output_type": "stream",
          "text": [
            "[CV] END ..............................kmeans__n_clusters=73; total time=   2.8s\n"
          ]
        },
        {
          "metadata": {
            "tags": null
          },
          "name": "stderr",
          "output_type": "stream",
          "text": [
            "/usr/local/lib/python3.12/dist-packages/sklearn/linear_model/_logistic.py:465: ConvergenceWarning: lbfgs failed to converge (status=1):\n",
            "STOP: TOTAL NO. OF ITERATIONS REACHED LIMIT.\n",
            "\n",
            "Increase the number of iterations (max_iter) or scale the data as shown in:\n",
            "    https://scikit-learn.org/stable/modules/preprocessing.html\n",
            "Please also refer to the documentation for alternative solver options:\n",
            "    https://scikit-learn.org/stable/modules/linear_model.html#logistic-regression\n",
            "  n_iter_i = _check_optimize_result(\n"
          ]
        },
        {
          "metadata": {
            "tags": null
          },
          "name": "stdout",
          "output_type": "stream",
          "text": [
            "[CV] END ..............................kmeans__n_clusters=73; total time=   2.0s\n"
          ]
        },
        {
          "metadata": {
            "tags": null
          },
          "name": "stderr",
          "output_type": "stream",
          "text": [
            "/usr/local/lib/python3.12/dist-packages/sklearn/linear_model/_logistic.py:465: ConvergenceWarning: lbfgs failed to converge (status=1):\n",
            "STOP: TOTAL NO. OF ITERATIONS REACHED LIMIT.\n",
            "\n",
            "Increase the number of iterations (max_iter) or scale the data as shown in:\n",
            "    https://scikit-learn.org/stable/modules/preprocessing.html\n",
            "Please also refer to the documentation for alternative solver options:\n",
            "    https://scikit-learn.org/stable/modules/linear_model.html#logistic-regression\n",
            "  n_iter_i = _check_optimize_result(\n"
          ]
        },
        {
          "metadata": {
            "tags": null
          },
          "name": "stdout",
          "output_type": "stream",
          "text": [
            "[CV] END ..............................kmeans__n_clusters=73; total time=   1.4s\n"
          ]
        },
        {
          "metadata": {
            "tags": null
          },
          "name": "stderr",
          "output_type": "stream",
          "text": [
            "/usr/local/lib/python3.12/dist-packages/sklearn/linear_model/_logistic.py:465: ConvergenceWarning: lbfgs failed to converge (status=1):\n",
            "STOP: TOTAL NO. OF ITERATIONS REACHED LIMIT.\n",
            "\n",
            "Increase the number of iterations (max_iter) or scale the data as shown in:\n",
            "    https://scikit-learn.org/stable/modules/preprocessing.html\n",
            "Please also refer to the documentation for alternative solver options:\n",
            "    https://scikit-learn.org/stable/modules/linear_model.html#logistic-regression\n",
            "  n_iter_i = _check_optimize_result(\n"
          ]
        },
        {
          "metadata": {
            "tags": null
          },
          "name": "stdout",
          "output_type": "stream",
          "text": [
            "[CV] END ..............................kmeans__n_clusters=74; total time=   1.8s\n"
          ]
        },
        {
          "metadata": {
            "tags": null
          },
          "name": "stderr",
          "output_type": "stream",
          "text": [
            "/usr/local/lib/python3.12/dist-packages/sklearn/linear_model/_logistic.py:465: ConvergenceWarning: lbfgs failed to converge (status=1):\n",
            "STOP: TOTAL NO. OF ITERATIONS REACHED LIMIT.\n",
            "\n",
            "Increase the number of iterations (max_iter) or scale the data as shown in:\n",
            "    https://scikit-learn.org/stable/modules/preprocessing.html\n",
            "Please also refer to the documentation for alternative solver options:\n",
            "    https://scikit-learn.org/stable/modules/linear_model.html#logistic-regression\n",
            "  n_iter_i = _check_optimize_result(\n"
          ]
        },
        {
          "metadata": {
            "tags": null
          },
          "name": "stdout",
          "output_type": "stream",
          "text": [
            "[CV] END ..............................kmeans__n_clusters=74; total time=   1.7s\n"
          ]
        },
        {
          "metadata": {
            "tags": null
          },
          "name": "stderr",
          "output_type": "stream",
          "text": [
            "/usr/local/lib/python3.12/dist-packages/sklearn/linear_model/_logistic.py:465: ConvergenceWarning: lbfgs failed to converge (status=1):\n",
            "STOP: TOTAL NO. OF ITERATIONS REACHED LIMIT.\n",
            "\n",
            "Increase the number of iterations (max_iter) or scale the data as shown in:\n",
            "    https://scikit-learn.org/stable/modules/preprocessing.html\n",
            "Please also refer to the documentation for alternative solver options:\n",
            "    https://scikit-learn.org/stable/modules/linear_model.html#logistic-regression\n",
            "  n_iter_i = _check_optimize_result(\n"
          ]
        },
        {
          "metadata": {
            "tags": null
          },
          "name": "stdout",
          "output_type": "stream",
          "text": [
            "[CV] END ..............................kmeans__n_clusters=74; total time=   2.0s\n"
          ]
        },
        {
          "metadata": {
            "tags": null
          },
          "name": "stderr",
          "output_type": "stream",
          "text": [
            "/usr/local/lib/python3.12/dist-packages/sklearn/linear_model/_logistic.py:465: ConvergenceWarning: lbfgs failed to converge (status=1):\n",
            "STOP: TOTAL NO. OF ITERATIONS REACHED LIMIT.\n",
            "\n",
            "Increase the number of iterations (max_iter) or scale the data as shown in:\n",
            "    https://scikit-learn.org/stable/modules/preprocessing.html\n",
            "Please also refer to the documentation for alternative solver options:\n",
            "    https://scikit-learn.org/stable/modules/linear_model.html#logistic-regression\n",
            "  n_iter_i = _check_optimize_result(\n"
          ]
        },
        {
          "metadata": {
            "tags": null
          },
          "name": "stdout",
          "output_type": "stream",
          "text": [
            "[CV] END ..............................kmeans__n_clusters=75; total time=   1.8s\n"
          ]
        },
        {
          "metadata": {
            "tags": null
          },
          "name": "stderr",
          "output_type": "stream",
          "text": [
            "/usr/local/lib/python3.12/dist-packages/sklearn/linear_model/_logistic.py:465: ConvergenceWarning: lbfgs failed to converge (status=1):\n",
            "STOP: TOTAL NO. OF ITERATIONS REACHED LIMIT.\n",
            "\n",
            "Increase the number of iterations (max_iter) or scale the data as shown in:\n",
            "    https://scikit-learn.org/stable/modules/preprocessing.html\n",
            "Please also refer to the documentation for alternative solver options:\n",
            "    https://scikit-learn.org/stable/modules/linear_model.html#logistic-regression\n",
            "  n_iter_i = _check_optimize_result(\n"
          ]
        },
        {
          "metadata": {
            "tags": null
          },
          "name": "stdout",
          "output_type": "stream",
          "text": [
            "[CV] END ..............................kmeans__n_clusters=75; total time=   2.8s\n"
          ]
        },
        {
          "metadata": {
            "tags": null
          },
          "name": "stderr",
          "output_type": "stream",
          "text": [
            "/usr/local/lib/python3.12/dist-packages/sklearn/linear_model/_logistic.py:465: ConvergenceWarning: lbfgs failed to converge (status=1):\n",
            "STOP: TOTAL NO. OF ITERATIONS REACHED LIMIT.\n",
            "\n",
            "Increase the number of iterations (max_iter) or scale the data as shown in:\n",
            "    https://scikit-learn.org/stable/modules/preprocessing.html\n",
            "Please also refer to the documentation for alternative solver options:\n",
            "    https://scikit-learn.org/stable/modules/linear_model.html#logistic-regression\n",
            "  n_iter_i = _check_optimize_result(\n"
          ]
        },
        {
          "metadata": {
            "tags": null
          },
          "name": "stdout",
          "output_type": "stream",
          "text": [
            "[CV] END ..............................kmeans__n_clusters=75; total time=   2.1s\n"
          ]
        },
        {
          "metadata": {
            "tags": null
          },
          "name": "stderr",
          "output_type": "stream",
          "text": [
            "/usr/local/lib/python3.12/dist-packages/sklearn/linear_model/_logistic.py:465: ConvergenceWarning: lbfgs failed to converge (status=1):\n",
            "STOP: TOTAL NO. OF ITERATIONS REACHED LIMIT.\n",
            "\n",
            "Increase the number of iterations (max_iter) or scale the data as shown in:\n",
            "    https://scikit-learn.org/stable/modules/preprocessing.html\n",
            "Please also refer to the documentation for alternative solver options:\n",
            "    https://scikit-learn.org/stable/modules/linear_model.html#logistic-regression\n",
            "  n_iter_i = _check_optimize_result(\n"
          ]
        },
        {
          "metadata": {
            "tags": null
          },
          "name": "stdout",
          "output_type": "stream",
          "text": [
            "[CV] END ..............................kmeans__n_clusters=76; total time=   1.5s\n"
          ]
        },
        {
          "metadata": {
            "tags": null
          },
          "name": "stderr",
          "output_type": "stream",
          "text": [
            "/usr/local/lib/python3.12/dist-packages/sklearn/linear_model/_logistic.py:465: ConvergenceWarning: lbfgs failed to converge (status=1):\n",
            "STOP: TOTAL NO. OF ITERATIONS REACHED LIMIT.\n",
            "\n",
            "Increase the number of iterations (max_iter) or scale the data as shown in:\n",
            "    https://scikit-learn.org/stable/modules/preprocessing.html\n",
            "Please also refer to the documentation for alternative solver options:\n",
            "    https://scikit-learn.org/stable/modules/linear_model.html#logistic-regression\n",
            "  n_iter_i = _check_optimize_result(\n"
          ]
        },
        {
          "metadata": {
            "tags": null
          },
          "name": "stdout",
          "output_type": "stream",
          "text": [
            "[CV] END ..............................kmeans__n_clusters=76; total time=   2.2s\n"
          ]
        },
        {
          "metadata": {
            "tags": null
          },
          "name": "stderr",
          "output_type": "stream",
          "text": [
            "/usr/local/lib/python3.12/dist-packages/sklearn/linear_model/_logistic.py:465: ConvergenceWarning: lbfgs failed to converge (status=1):\n",
            "STOP: TOTAL NO. OF ITERATIONS REACHED LIMIT.\n",
            "\n",
            "Increase the number of iterations (max_iter) or scale the data as shown in:\n",
            "    https://scikit-learn.org/stable/modules/preprocessing.html\n",
            "Please also refer to the documentation for alternative solver options:\n",
            "    https://scikit-learn.org/stable/modules/linear_model.html#logistic-regression\n",
            "  n_iter_i = _check_optimize_result(\n"
          ]
        },
        {
          "metadata": {
            "tags": null
          },
          "name": "stdout",
          "output_type": "stream",
          "text": [
            "[CV] END ..............................kmeans__n_clusters=76; total time=   1.8s\n"
          ]
        },
        {
          "metadata": {
            "tags": null
          },
          "name": "stderr",
          "output_type": "stream",
          "text": [
            "/usr/local/lib/python3.12/dist-packages/sklearn/linear_model/_logistic.py:465: ConvergenceWarning: lbfgs failed to converge (status=1):\n",
            "STOP: TOTAL NO. OF ITERATIONS REACHED LIMIT.\n",
            "\n",
            "Increase the number of iterations (max_iter) or scale the data as shown in:\n",
            "    https://scikit-learn.org/stable/modules/preprocessing.html\n",
            "Please also refer to the documentation for alternative solver options:\n",
            "    https://scikit-learn.org/stable/modules/linear_model.html#logistic-regression\n",
            "  n_iter_i = _check_optimize_result(\n"
          ]
        },
        {
          "metadata": {
            "tags": null
          },
          "name": "stdout",
          "output_type": "stream",
          "text": [
            "[CV] END ..............................kmeans__n_clusters=77; total time=   2.0s\n"
          ]
        },
        {
          "metadata": {
            "tags": null
          },
          "name": "stderr",
          "output_type": "stream",
          "text": [
            "/usr/local/lib/python3.12/dist-packages/sklearn/linear_model/_logistic.py:465: ConvergenceWarning: lbfgs failed to converge (status=1):\n",
            "STOP: TOTAL NO. OF ITERATIONS REACHED LIMIT.\n",
            "\n",
            "Increase the number of iterations (max_iter) or scale the data as shown in:\n",
            "    https://scikit-learn.org/stable/modules/preprocessing.html\n",
            "Please also refer to the documentation for alternative solver options:\n",
            "    https://scikit-learn.org/stable/modules/linear_model.html#logistic-regression\n",
            "  n_iter_i = _check_optimize_result(\n"
          ]
        },
        {
          "metadata": {
            "tags": null
          },
          "name": "stdout",
          "output_type": "stream",
          "text": [
            "[CV] END ..............................kmeans__n_clusters=77; total time=   2.0s\n"
          ]
        },
        {
          "metadata": {
            "tags": null
          },
          "name": "stderr",
          "output_type": "stream",
          "text": [
            "/usr/local/lib/python3.12/dist-packages/sklearn/linear_model/_logistic.py:465: ConvergenceWarning: lbfgs failed to converge (status=1):\n",
            "STOP: TOTAL NO. OF ITERATIONS REACHED LIMIT.\n",
            "\n",
            "Increase the number of iterations (max_iter) or scale the data as shown in:\n",
            "    https://scikit-learn.org/stable/modules/preprocessing.html\n",
            "Please also refer to the documentation for alternative solver options:\n",
            "    https://scikit-learn.org/stable/modules/linear_model.html#logistic-regression\n",
            "  n_iter_i = _check_optimize_result(\n"
          ]
        },
        {
          "metadata": {
            "tags": null
          },
          "name": "stdout",
          "output_type": "stream",
          "text": [
            "[CV] END ..............................kmeans__n_clusters=77; total time=   2.7s\n"
          ]
        },
        {
          "metadata": {
            "tags": null
          },
          "name": "stderr",
          "output_type": "stream",
          "text": [
            "/usr/local/lib/python3.12/dist-packages/sklearn/linear_model/_logistic.py:465: ConvergenceWarning: lbfgs failed to converge (status=1):\n",
            "STOP: TOTAL NO. OF ITERATIONS REACHED LIMIT.\n",
            "\n",
            "Increase the number of iterations (max_iter) or scale the data as shown in:\n",
            "    https://scikit-learn.org/stable/modules/preprocessing.html\n",
            "Please also refer to the documentation for alternative solver options:\n",
            "    https://scikit-learn.org/stable/modules/linear_model.html#logistic-regression\n",
            "  n_iter_i = _check_optimize_result(\n"
          ]
        },
        {
          "metadata": {
            "tags": null
          },
          "name": "stdout",
          "output_type": "stream",
          "text": [
            "[CV] END ..............................kmeans__n_clusters=78; total time=   1.6s\n"
          ]
        },
        {
          "metadata": {
            "tags": null
          },
          "name": "stderr",
          "output_type": "stream",
          "text": [
            "/usr/local/lib/python3.12/dist-packages/sklearn/linear_model/_logistic.py:465: ConvergenceWarning: lbfgs failed to converge (status=1):\n",
            "STOP: TOTAL NO. OF ITERATIONS REACHED LIMIT.\n",
            "\n",
            "Increase the number of iterations (max_iter) or scale the data as shown in:\n",
            "    https://scikit-learn.org/stable/modules/preprocessing.html\n",
            "Please also refer to the documentation for alternative solver options:\n",
            "    https://scikit-learn.org/stable/modules/linear_model.html#logistic-regression\n",
            "  n_iter_i = _check_optimize_result(\n"
          ]
        },
        {
          "metadata": {
            "tags": null
          },
          "name": "stdout",
          "output_type": "stream",
          "text": [
            "[CV] END ..............................kmeans__n_clusters=78; total time=   2.1s\n"
          ]
        },
        {
          "metadata": {
            "tags": null
          },
          "name": "stderr",
          "output_type": "stream",
          "text": [
            "/usr/local/lib/python3.12/dist-packages/sklearn/linear_model/_logistic.py:465: ConvergenceWarning: lbfgs failed to converge (status=1):\n",
            "STOP: TOTAL NO. OF ITERATIONS REACHED LIMIT.\n",
            "\n",
            "Increase the number of iterations (max_iter) or scale the data as shown in:\n",
            "    https://scikit-learn.org/stable/modules/preprocessing.html\n",
            "Please also refer to the documentation for alternative solver options:\n",
            "    https://scikit-learn.org/stable/modules/linear_model.html#logistic-regression\n",
            "  n_iter_i = _check_optimize_result(\n"
          ]
        },
        {
          "metadata": {
            "tags": null
          },
          "name": "stdout",
          "output_type": "stream",
          "text": [
            "[CV] END ..............................kmeans__n_clusters=78; total time=   1.8s\n"
          ]
        },
        {
          "metadata": {
            "tags": null
          },
          "name": "stderr",
          "output_type": "stream",
          "text": [
            "/usr/local/lib/python3.12/dist-packages/sklearn/linear_model/_logistic.py:465: ConvergenceWarning: lbfgs failed to converge (status=1):\n",
            "STOP: TOTAL NO. OF ITERATIONS REACHED LIMIT.\n",
            "\n",
            "Increase the number of iterations (max_iter) or scale the data as shown in:\n",
            "    https://scikit-learn.org/stable/modules/preprocessing.html\n",
            "Please also refer to the documentation for alternative solver options:\n",
            "    https://scikit-learn.org/stable/modules/linear_model.html#logistic-regression\n",
            "  n_iter_i = _check_optimize_result(\n"
          ]
        },
        {
          "metadata": {
            "tags": null
          },
          "name": "stdout",
          "output_type": "stream",
          "text": [
            "[CV] END ..............................kmeans__n_clusters=79; total time=   1.8s\n"
          ]
        },
        {
          "metadata": {
            "tags": null
          },
          "name": "stderr",
          "output_type": "stream",
          "text": [
            "/usr/local/lib/python3.12/dist-packages/sklearn/linear_model/_logistic.py:465: ConvergenceWarning: lbfgs failed to converge (status=1):\n",
            "STOP: TOTAL NO. OF ITERATIONS REACHED LIMIT.\n",
            "\n",
            "Increase the number of iterations (max_iter) or scale the data as shown in:\n",
            "    https://scikit-learn.org/stable/modules/preprocessing.html\n",
            "Please also refer to the documentation for alternative solver options:\n",
            "    https://scikit-learn.org/stable/modules/linear_model.html#logistic-regression\n",
            "  n_iter_i = _check_optimize_result(\n"
          ]
        },
        {
          "metadata": {
            "tags": null
          },
          "name": "stdout",
          "output_type": "stream",
          "text": [
            "[CV] END ..............................kmeans__n_clusters=79; total time=   1.6s\n"
          ]
        },
        {
          "metadata": {
            "tags": null
          },
          "name": "stderr",
          "output_type": "stream",
          "text": [
            "/usr/local/lib/python3.12/dist-packages/sklearn/linear_model/_logistic.py:465: ConvergenceWarning: lbfgs failed to converge (status=1):\n",
            "STOP: TOTAL NO. OF ITERATIONS REACHED LIMIT.\n",
            "\n",
            "Increase the number of iterations (max_iter) or scale the data as shown in:\n",
            "    https://scikit-learn.org/stable/modules/preprocessing.html\n",
            "Please also refer to the documentation for alternative solver options:\n",
            "    https://scikit-learn.org/stable/modules/linear_model.html#logistic-regression\n",
            "  n_iter_i = _check_optimize_result(\n"
          ]
        },
        {
          "metadata": {
            "tags": null
          },
          "name": "stdout",
          "output_type": "stream",
          "text": [
            "[CV] END ..............................kmeans__n_clusters=79; total time=   1.9s\n"
          ]
        },
        {
          "metadata": {
            "tags": null
          },
          "name": "stderr",
          "output_type": "stream",
          "text": [
            "/usr/local/lib/python3.12/dist-packages/sklearn/linear_model/_logistic.py:465: ConvergenceWarning: lbfgs failed to converge (status=1):\n",
            "STOP: TOTAL NO. OF ITERATIONS REACHED LIMIT.\n",
            "\n",
            "Increase the number of iterations (max_iter) or scale the data as shown in:\n",
            "    https://scikit-learn.org/stable/modules/preprocessing.html\n",
            "Please also refer to the documentation for alternative solver options:\n",
            "    https://scikit-learn.org/stable/modules/linear_model.html#logistic-regression\n",
            "  n_iter_i = _check_optimize_result(\n"
          ]
        },
        {
          "metadata": {
            "tags": null
          },
          "name": "stdout",
          "output_type": "stream",
          "text": [
            "[CV] END ..............................kmeans__n_clusters=80; total time=   2.8s\n"
          ]
        },
        {
          "metadata": {
            "tags": null
          },
          "name": "stderr",
          "output_type": "stream",
          "text": [
            "/usr/local/lib/python3.12/dist-packages/sklearn/linear_model/_logistic.py:465: ConvergenceWarning: lbfgs failed to converge (status=1):\n",
            "STOP: TOTAL NO. OF ITERATIONS REACHED LIMIT.\n",
            "\n",
            "Increase the number of iterations (max_iter) or scale the data as shown in:\n",
            "    https://scikit-learn.org/stable/modules/preprocessing.html\n",
            "Please also refer to the documentation for alternative solver options:\n",
            "    https://scikit-learn.org/stable/modules/linear_model.html#logistic-regression\n",
            "  n_iter_i = _check_optimize_result(\n"
          ]
        },
        {
          "metadata": {
            "tags": null
          },
          "name": "stdout",
          "output_type": "stream",
          "text": [
            "[CV] END ..............................kmeans__n_clusters=80; total time=   1.8s\n"
          ]
        },
        {
          "metadata": {
            "tags": null
          },
          "name": "stderr",
          "output_type": "stream",
          "text": [
            "/usr/local/lib/python3.12/dist-packages/sklearn/linear_model/_logistic.py:465: ConvergenceWarning: lbfgs failed to converge (status=1):\n",
            "STOP: TOTAL NO. OF ITERATIONS REACHED LIMIT.\n",
            "\n",
            "Increase the number of iterations (max_iter) or scale the data as shown in:\n",
            "    https://scikit-learn.org/stable/modules/preprocessing.html\n",
            "Please also refer to the documentation for alternative solver options:\n",
            "    https://scikit-learn.org/stable/modules/linear_model.html#logistic-regression\n",
            "  n_iter_i = _check_optimize_result(\n"
          ]
        },
        {
          "metadata": {
            "tags": null
          },
          "name": "stdout",
          "output_type": "stream",
          "text": [
            "[CV] END ..............................kmeans__n_clusters=80; total time=   2.1s\n"
          ]
        },
        {
          "metadata": {
            "tags": null
          },
          "name": "stderr",
          "output_type": "stream",
          "text": [
            "/usr/local/lib/python3.12/dist-packages/sklearn/linear_model/_logistic.py:465: ConvergenceWarning: lbfgs failed to converge (status=1):\n",
            "STOP: TOTAL NO. OF ITERATIONS REACHED LIMIT.\n",
            "\n",
            "Increase the number of iterations (max_iter) or scale the data as shown in:\n",
            "    https://scikit-learn.org/stable/modules/preprocessing.html\n",
            "Please also refer to the documentation for alternative solver options:\n",
            "    https://scikit-learn.org/stable/modules/linear_model.html#logistic-regression\n",
            "  n_iter_i = _check_optimize_result(\n"
          ]
        },
        {
          "metadata": {
            "tags": null
          },
          "name": "stdout",
          "output_type": "stream",
          "text": [
            "[CV] END ..............................kmeans__n_clusters=81; total time=   2.0s\n"
          ]
        },
        {
          "metadata": {
            "tags": null
          },
          "name": "stderr",
          "output_type": "stream",
          "text": [
            "/usr/local/lib/python3.12/dist-packages/sklearn/linear_model/_logistic.py:465: ConvergenceWarning: lbfgs failed to converge (status=1):\n",
            "STOP: TOTAL NO. OF ITERATIONS REACHED LIMIT.\n",
            "\n",
            "Increase the number of iterations (max_iter) or scale the data as shown in:\n",
            "    https://scikit-learn.org/stable/modules/preprocessing.html\n",
            "Please also refer to the documentation for alternative solver options:\n",
            "    https://scikit-learn.org/stable/modules/linear_model.html#logistic-regression\n",
            "  n_iter_i = _check_optimize_result(\n"
          ]
        },
        {
          "metadata": {
            "tags": null
          },
          "name": "stdout",
          "output_type": "stream",
          "text": [
            "[CV] END ..............................kmeans__n_clusters=81; total time=   1.9s\n"
          ]
        },
        {
          "metadata": {
            "tags": null
          },
          "name": "stderr",
          "output_type": "stream",
          "text": [
            "/usr/local/lib/python3.12/dist-packages/sklearn/linear_model/_logistic.py:465: ConvergenceWarning: lbfgs failed to converge (status=1):\n",
            "STOP: TOTAL NO. OF ITERATIONS REACHED LIMIT.\n",
            "\n",
            "Increase the number of iterations (max_iter) or scale the data as shown in:\n",
            "    https://scikit-learn.org/stable/modules/preprocessing.html\n",
            "Please also refer to the documentation for alternative solver options:\n",
            "    https://scikit-learn.org/stable/modules/linear_model.html#logistic-regression\n",
            "  n_iter_i = _check_optimize_result(\n"
          ]
        },
        {
          "metadata": {
            "tags": null
          },
          "name": "stdout",
          "output_type": "stream",
          "text": [
            "[CV] END ..............................kmeans__n_clusters=81; total time=   1.8s\n"
          ]
        },
        {
          "metadata": {
            "tags": null
          },
          "name": "stderr",
          "output_type": "stream",
          "text": [
            "/usr/local/lib/python3.12/dist-packages/sklearn/linear_model/_logistic.py:465: ConvergenceWarning: lbfgs failed to converge (status=1):\n",
            "STOP: TOTAL NO. OF ITERATIONS REACHED LIMIT.\n",
            "\n",
            "Increase the number of iterations (max_iter) or scale the data as shown in:\n",
            "    https://scikit-learn.org/stable/modules/preprocessing.html\n",
            "Please also refer to the documentation for alternative solver options:\n",
            "    https://scikit-learn.org/stable/modules/linear_model.html#logistic-regression\n",
            "  n_iter_i = _check_optimize_result(\n"
          ]
        },
        {
          "metadata": {
            "tags": null
          },
          "name": "stdout",
          "output_type": "stream",
          "text": [
            "[CV] END ..............................kmeans__n_clusters=82; total time=   3.1s\n"
          ]
        },
        {
          "metadata": {
            "tags": null
          },
          "name": "stderr",
          "output_type": "stream",
          "text": [
            "/usr/local/lib/python3.12/dist-packages/sklearn/linear_model/_logistic.py:465: ConvergenceWarning: lbfgs failed to converge (status=1):\n",
            "STOP: TOTAL NO. OF ITERATIONS REACHED LIMIT.\n",
            "\n",
            "Increase the number of iterations (max_iter) or scale the data as shown in:\n",
            "    https://scikit-learn.org/stable/modules/preprocessing.html\n",
            "Please also refer to the documentation for alternative solver options:\n",
            "    https://scikit-learn.org/stable/modules/linear_model.html#logistic-regression\n",
            "  n_iter_i = _check_optimize_result(\n"
          ]
        },
        {
          "metadata": {
            "tags": null
          },
          "name": "stdout",
          "output_type": "stream",
          "text": [
            "[CV] END ..............................kmeans__n_clusters=82; total time=   1.7s\n"
          ]
        },
        {
          "metadata": {
            "tags": null
          },
          "name": "stderr",
          "output_type": "stream",
          "text": [
            "/usr/local/lib/python3.12/dist-packages/sklearn/linear_model/_logistic.py:465: ConvergenceWarning: lbfgs failed to converge (status=1):\n",
            "STOP: TOTAL NO. OF ITERATIONS REACHED LIMIT.\n",
            "\n",
            "Increase the number of iterations (max_iter) or scale the data as shown in:\n",
            "    https://scikit-learn.org/stable/modules/preprocessing.html\n",
            "Please also refer to the documentation for alternative solver options:\n",
            "    https://scikit-learn.org/stable/modules/linear_model.html#logistic-regression\n",
            "  n_iter_i = _check_optimize_result(\n"
          ]
        },
        {
          "metadata": {
            "tags": null
          },
          "name": "stdout",
          "output_type": "stream",
          "text": [
            "[CV] END ..............................kmeans__n_clusters=82; total time=   1.7s\n"
          ]
        },
        {
          "metadata": {
            "tags": null
          },
          "name": "stderr",
          "output_type": "stream",
          "text": [
            "/usr/local/lib/python3.12/dist-packages/sklearn/linear_model/_logistic.py:465: ConvergenceWarning: lbfgs failed to converge (status=1):\n",
            "STOP: TOTAL NO. OF ITERATIONS REACHED LIMIT.\n",
            "\n",
            "Increase the number of iterations (max_iter) or scale the data as shown in:\n",
            "    https://scikit-learn.org/stable/modules/preprocessing.html\n",
            "Please also refer to the documentation for alternative solver options:\n",
            "    https://scikit-learn.org/stable/modules/linear_model.html#logistic-regression\n",
            "  n_iter_i = _check_optimize_result(\n"
          ]
        },
        {
          "metadata": {
            "tags": null
          },
          "name": "stdout",
          "output_type": "stream",
          "text": [
            "[CV] END ..............................kmeans__n_clusters=83; total time=   1.5s\n"
          ]
        },
        {
          "metadata": {
            "tags": null
          },
          "name": "stderr",
          "output_type": "stream",
          "text": [
            "/usr/local/lib/python3.12/dist-packages/sklearn/linear_model/_logistic.py:465: ConvergenceWarning: lbfgs failed to converge (status=1):\n",
            "STOP: TOTAL NO. OF ITERATIONS REACHED LIMIT.\n",
            "\n",
            "Increase the number of iterations (max_iter) or scale the data as shown in:\n",
            "    https://scikit-learn.org/stable/modules/preprocessing.html\n",
            "Please also refer to the documentation for alternative solver options:\n",
            "    https://scikit-learn.org/stable/modules/linear_model.html#logistic-regression\n",
            "  n_iter_i = _check_optimize_result(\n"
          ]
        },
        {
          "metadata": {
            "tags": null
          },
          "name": "stdout",
          "output_type": "stream",
          "text": [
            "[CV] END ..............................kmeans__n_clusters=83; total time=   1.7s\n"
          ]
        },
        {
          "metadata": {
            "tags": null
          },
          "name": "stderr",
          "output_type": "stream",
          "text": [
            "/usr/local/lib/python3.12/dist-packages/sklearn/linear_model/_logistic.py:465: ConvergenceWarning: lbfgs failed to converge (status=1):\n",
            "STOP: TOTAL NO. OF ITERATIONS REACHED LIMIT.\n",
            "\n",
            "Increase the number of iterations (max_iter) or scale the data as shown in:\n",
            "    https://scikit-learn.org/stable/modules/preprocessing.html\n",
            "Please also refer to the documentation for alternative solver options:\n",
            "    https://scikit-learn.org/stable/modules/linear_model.html#logistic-regression\n",
            "  n_iter_i = _check_optimize_result(\n"
          ]
        },
        {
          "metadata": {
            "tags": null
          },
          "name": "stdout",
          "output_type": "stream",
          "text": [
            "[CV] END ..............................kmeans__n_clusters=83; total time=   1.9s\n"
          ]
        },
        {
          "metadata": {
            "tags": null
          },
          "name": "stderr",
          "output_type": "stream",
          "text": [
            "/usr/local/lib/python3.12/dist-packages/sklearn/linear_model/_logistic.py:465: ConvergenceWarning: lbfgs failed to converge (status=1):\n",
            "STOP: TOTAL NO. OF ITERATIONS REACHED LIMIT.\n",
            "\n",
            "Increase the number of iterations (max_iter) or scale the data as shown in:\n",
            "    https://scikit-learn.org/stable/modules/preprocessing.html\n",
            "Please also refer to the documentation for alternative solver options:\n",
            "    https://scikit-learn.org/stable/modules/linear_model.html#logistic-regression\n",
            "  n_iter_i = _check_optimize_result(\n"
          ]
        },
        {
          "metadata": {
            "tags": null
          },
          "name": "stdout",
          "output_type": "stream",
          "text": [
            "[CV] END ..............................kmeans__n_clusters=84; total time=   1.6s\n"
          ]
        },
        {
          "metadata": {
            "tags": null
          },
          "name": "stderr",
          "output_type": "stream",
          "text": [
            "/usr/local/lib/python3.12/dist-packages/sklearn/linear_model/_logistic.py:465: ConvergenceWarning: lbfgs failed to converge (status=1):\n",
            "STOP: TOTAL NO. OF ITERATIONS REACHED LIMIT.\n",
            "\n",
            "Increase the number of iterations (max_iter) or scale the data as shown in:\n",
            "    https://scikit-learn.org/stable/modules/preprocessing.html\n",
            "Please also refer to the documentation for alternative solver options:\n",
            "    https://scikit-learn.org/stable/modules/linear_model.html#logistic-regression\n",
            "  n_iter_i = _check_optimize_result(\n"
          ]
        },
        {
          "metadata": {
            "tags": null
          },
          "name": "stdout",
          "output_type": "stream",
          "text": [
            "[CV] END ..............................kmeans__n_clusters=84; total time=   3.0s\n"
          ]
        },
        {
          "metadata": {
            "tags": null
          },
          "name": "stderr",
          "output_type": "stream",
          "text": [
            "/usr/local/lib/python3.12/dist-packages/sklearn/linear_model/_logistic.py:465: ConvergenceWarning: lbfgs failed to converge (status=1):\n",
            "STOP: TOTAL NO. OF ITERATIONS REACHED LIMIT.\n",
            "\n",
            "Increase the number of iterations (max_iter) or scale the data as shown in:\n",
            "    https://scikit-learn.org/stable/modules/preprocessing.html\n",
            "Please also refer to the documentation for alternative solver options:\n",
            "    https://scikit-learn.org/stable/modules/linear_model.html#logistic-regression\n",
            "  n_iter_i = _check_optimize_result(\n"
          ]
        },
        {
          "metadata": {
            "tags": null
          },
          "name": "stdout",
          "output_type": "stream",
          "text": [
            "[CV] END ..............................kmeans__n_clusters=84; total time=   2.1s\n"
          ]
        },
        {
          "metadata": {
            "tags": null
          },
          "name": "stderr",
          "output_type": "stream",
          "text": [
            "/usr/local/lib/python3.12/dist-packages/sklearn/linear_model/_logistic.py:465: ConvergenceWarning: lbfgs failed to converge (status=1):\n",
            "STOP: TOTAL NO. OF ITERATIONS REACHED LIMIT.\n",
            "\n",
            "Increase the number of iterations (max_iter) or scale the data as shown in:\n",
            "    https://scikit-learn.org/stable/modules/preprocessing.html\n",
            "Please also refer to the documentation for alternative solver options:\n",
            "    https://scikit-learn.org/stable/modules/linear_model.html#logistic-regression\n",
            "  n_iter_i = _check_optimize_result(\n"
          ]
        },
        {
          "metadata": {
            "tags": null
          },
          "name": "stdout",
          "output_type": "stream",
          "text": [
            "[CV] END ..............................kmeans__n_clusters=85; total time=   1.7s\n"
          ]
        },
        {
          "metadata": {
            "tags": null
          },
          "name": "stderr",
          "output_type": "stream",
          "text": [
            "/usr/local/lib/python3.12/dist-packages/sklearn/linear_model/_logistic.py:465: ConvergenceWarning: lbfgs failed to converge (status=1):\n",
            "STOP: TOTAL NO. OF ITERATIONS REACHED LIMIT.\n",
            "\n",
            "Increase the number of iterations (max_iter) or scale the data as shown in:\n",
            "    https://scikit-learn.org/stable/modules/preprocessing.html\n",
            "Please also refer to the documentation for alternative solver options:\n",
            "    https://scikit-learn.org/stable/modules/linear_model.html#logistic-regression\n",
            "  n_iter_i = _check_optimize_result(\n"
          ]
        },
        {
          "metadata": {
            "tags": null
          },
          "name": "stdout",
          "output_type": "stream",
          "text": [
            "[CV] END ..............................kmeans__n_clusters=85; total time=   2.2s\n"
          ]
        },
        {
          "metadata": {
            "tags": null
          },
          "name": "stderr",
          "output_type": "stream",
          "text": [
            "/usr/local/lib/python3.12/dist-packages/sklearn/linear_model/_logistic.py:465: ConvergenceWarning: lbfgs failed to converge (status=1):\n",
            "STOP: TOTAL NO. OF ITERATIONS REACHED LIMIT.\n",
            "\n",
            "Increase the number of iterations (max_iter) or scale the data as shown in:\n",
            "    https://scikit-learn.org/stable/modules/preprocessing.html\n",
            "Please also refer to the documentation for alternative solver options:\n",
            "    https://scikit-learn.org/stable/modules/linear_model.html#logistic-regression\n",
            "  n_iter_i = _check_optimize_result(\n"
          ]
        },
        {
          "metadata": {
            "tags": null
          },
          "name": "stdout",
          "output_type": "stream",
          "text": [
            "[CV] END ..............................kmeans__n_clusters=85; total time=   1.6s\n"
          ]
        },
        {
          "metadata": {
            "tags": null
          },
          "name": "stderr",
          "output_type": "stream",
          "text": [
            "/usr/local/lib/python3.12/dist-packages/sklearn/linear_model/_logistic.py:465: ConvergenceWarning: lbfgs failed to converge (status=1):\n",
            "STOP: TOTAL NO. OF ITERATIONS REACHED LIMIT.\n",
            "\n",
            "Increase the number of iterations (max_iter) or scale the data as shown in:\n",
            "    https://scikit-learn.org/stable/modules/preprocessing.html\n",
            "Please also refer to the documentation for alternative solver options:\n",
            "    https://scikit-learn.org/stable/modules/linear_model.html#logistic-regression\n",
            "  n_iter_i = _check_optimize_result(\n"
          ]
        },
        {
          "metadata": {
            "tags": null
          },
          "name": "stdout",
          "output_type": "stream",
          "text": [
            "[CV] END ..............................kmeans__n_clusters=86; total time=   1.6s\n"
          ]
        },
        {
          "metadata": {
            "tags": null
          },
          "name": "stderr",
          "output_type": "stream",
          "text": [
            "/usr/local/lib/python3.12/dist-packages/sklearn/linear_model/_logistic.py:465: ConvergenceWarning: lbfgs failed to converge (status=1):\n",
            "STOP: TOTAL NO. OF ITERATIONS REACHED LIMIT.\n",
            "\n",
            "Increase the number of iterations (max_iter) or scale the data as shown in:\n",
            "    https://scikit-learn.org/stable/modules/preprocessing.html\n",
            "Please also refer to the documentation for alternative solver options:\n",
            "    https://scikit-learn.org/stable/modules/linear_model.html#logistic-regression\n",
            "  n_iter_i = _check_optimize_result(\n"
          ]
        },
        {
          "metadata": {
            "tags": null
          },
          "name": "stdout",
          "output_type": "stream",
          "text": [
            "[CV] END ..............................kmeans__n_clusters=86; total time=   3.3s\n"
          ]
        },
        {
          "metadata": {
            "tags": null
          },
          "name": "stderr",
          "output_type": "stream",
          "text": [
            "/usr/local/lib/python3.12/dist-packages/sklearn/linear_model/_logistic.py:465: ConvergenceWarning: lbfgs failed to converge (status=1):\n",
            "STOP: TOTAL NO. OF ITERATIONS REACHED LIMIT.\n",
            "\n",
            "Increase the number of iterations (max_iter) or scale the data as shown in:\n",
            "    https://scikit-learn.org/stable/modules/preprocessing.html\n",
            "Please also refer to the documentation for alternative solver options:\n",
            "    https://scikit-learn.org/stable/modules/linear_model.html#logistic-regression\n",
            "  n_iter_i = _check_optimize_result(\n"
          ]
        },
        {
          "metadata": {
            "tags": null
          },
          "name": "stdout",
          "output_type": "stream",
          "text": [
            "[CV] END ..............................kmeans__n_clusters=86; total time=   1.7s\n"
          ]
        },
        {
          "metadata": {
            "tags": null
          },
          "name": "stderr",
          "output_type": "stream",
          "text": [
            "/usr/local/lib/python3.12/dist-packages/sklearn/linear_model/_logistic.py:465: ConvergenceWarning: lbfgs failed to converge (status=1):\n",
            "STOP: TOTAL NO. OF ITERATIONS REACHED LIMIT.\n",
            "\n",
            "Increase the number of iterations (max_iter) or scale the data as shown in:\n",
            "    https://scikit-learn.org/stable/modules/preprocessing.html\n",
            "Please also refer to the documentation for alternative solver options:\n",
            "    https://scikit-learn.org/stable/modules/linear_model.html#logistic-regression\n",
            "  n_iter_i = _check_optimize_result(\n"
          ]
        },
        {
          "metadata": {
            "tags": null
          },
          "name": "stdout",
          "output_type": "stream",
          "text": [
            "[CV] END ..............................kmeans__n_clusters=87; total time=   2.0s\n"
          ]
        },
        {
          "metadata": {
            "tags": null
          },
          "name": "stderr",
          "output_type": "stream",
          "text": [
            "/usr/local/lib/python3.12/dist-packages/sklearn/linear_model/_logistic.py:465: ConvergenceWarning: lbfgs failed to converge (status=1):\n",
            "STOP: TOTAL NO. OF ITERATIONS REACHED LIMIT.\n",
            "\n",
            "Increase the number of iterations (max_iter) or scale the data as shown in:\n",
            "    https://scikit-learn.org/stable/modules/preprocessing.html\n",
            "Please also refer to the documentation for alternative solver options:\n",
            "    https://scikit-learn.org/stable/modules/linear_model.html#logistic-regression\n",
            "  n_iter_i = _check_optimize_result(\n"
          ]
        },
        {
          "metadata": {
            "tags": null
          },
          "name": "stdout",
          "output_type": "stream",
          "text": [
            "[CV] END ..............................kmeans__n_clusters=87; total time=   1.5s\n"
          ]
        },
        {
          "metadata": {
            "tags": null
          },
          "name": "stderr",
          "output_type": "stream",
          "text": [
            "/usr/local/lib/python3.12/dist-packages/sklearn/linear_model/_logistic.py:465: ConvergenceWarning: lbfgs failed to converge (status=1):\n",
            "STOP: TOTAL NO. OF ITERATIONS REACHED LIMIT.\n",
            "\n",
            "Increase the number of iterations (max_iter) or scale the data as shown in:\n",
            "    https://scikit-learn.org/stable/modules/preprocessing.html\n",
            "Please also refer to the documentation for alternative solver options:\n",
            "    https://scikit-learn.org/stable/modules/linear_model.html#logistic-regression\n",
            "  n_iter_i = _check_optimize_result(\n"
          ]
        },
        {
          "metadata": {
            "tags": null
          },
          "name": "stdout",
          "output_type": "stream",
          "text": [
            "[CV] END ..............................kmeans__n_clusters=87; total time=   1.9s\n"
          ]
        },
        {
          "metadata": {
            "tags": null
          },
          "name": "stderr",
          "output_type": "stream",
          "text": [
            "/usr/local/lib/python3.12/dist-packages/sklearn/linear_model/_logistic.py:465: ConvergenceWarning: lbfgs failed to converge (status=1):\n",
            "STOP: TOTAL NO. OF ITERATIONS REACHED LIMIT.\n",
            "\n",
            "Increase the number of iterations (max_iter) or scale the data as shown in:\n",
            "    https://scikit-learn.org/stable/modules/preprocessing.html\n",
            "Please also refer to the documentation for alternative solver options:\n",
            "    https://scikit-learn.org/stable/modules/linear_model.html#logistic-regression\n",
            "  n_iter_i = _check_optimize_result(\n"
          ]
        },
        {
          "metadata": {
            "tags": null
          },
          "name": "stdout",
          "output_type": "stream",
          "text": [
            "[CV] END ..............................kmeans__n_clusters=88; total time=   1.6s\n"
          ]
        },
        {
          "metadata": {
            "tags": null
          },
          "name": "stderr",
          "output_type": "stream",
          "text": [
            "/usr/local/lib/python3.12/dist-packages/sklearn/linear_model/_logistic.py:465: ConvergenceWarning: lbfgs failed to converge (status=1):\n",
            "STOP: TOTAL NO. OF ITERATIONS REACHED LIMIT.\n",
            "\n",
            "Increase the number of iterations (max_iter) or scale the data as shown in:\n",
            "    https://scikit-learn.org/stable/modules/preprocessing.html\n",
            "Please also refer to the documentation for alternative solver options:\n",
            "    https://scikit-learn.org/stable/modules/linear_model.html#logistic-regression\n",
            "  n_iter_i = _check_optimize_result(\n"
          ]
        },
        {
          "metadata": {
            "tags": null
          },
          "name": "stdout",
          "output_type": "stream",
          "text": [
            "[CV] END ..............................kmeans__n_clusters=88; total time=   1.5s\n"
          ]
        },
        {
          "metadata": {
            "tags": null
          },
          "name": "stderr",
          "output_type": "stream",
          "text": [
            "/usr/local/lib/python3.12/dist-packages/sklearn/linear_model/_logistic.py:465: ConvergenceWarning: lbfgs failed to converge (status=1):\n",
            "STOP: TOTAL NO. OF ITERATIONS REACHED LIMIT.\n",
            "\n",
            "Increase the number of iterations (max_iter) or scale the data as shown in:\n",
            "    https://scikit-learn.org/stable/modules/preprocessing.html\n",
            "Please also refer to the documentation for alternative solver options:\n",
            "    https://scikit-learn.org/stable/modules/linear_model.html#logistic-regression\n",
            "  n_iter_i = _check_optimize_result(\n"
          ]
        },
        {
          "metadata": {
            "tags": null
          },
          "name": "stdout",
          "output_type": "stream",
          "text": [
            "[CV] END ..............................kmeans__n_clusters=88; total time=   3.4s\n"
          ]
        },
        {
          "metadata": {
            "tags": null
          },
          "name": "stderr",
          "output_type": "stream",
          "text": [
            "/usr/local/lib/python3.12/dist-packages/sklearn/linear_model/_logistic.py:465: ConvergenceWarning: lbfgs failed to converge (status=1):\n",
            "STOP: TOTAL NO. OF ITERATIONS REACHED LIMIT.\n",
            "\n",
            "Increase the number of iterations (max_iter) or scale the data as shown in:\n",
            "    https://scikit-learn.org/stable/modules/preprocessing.html\n",
            "Please also refer to the documentation for alternative solver options:\n",
            "    https://scikit-learn.org/stable/modules/linear_model.html#logistic-regression\n",
            "  n_iter_i = _check_optimize_result(\n"
          ]
        },
        {
          "metadata": {
            "tags": null
          },
          "name": "stdout",
          "output_type": "stream",
          "text": [
            "[CV] END ..............................kmeans__n_clusters=89; total time=   1.9s\n"
          ]
        },
        {
          "metadata": {
            "tags": null
          },
          "name": "stderr",
          "output_type": "stream",
          "text": [
            "/usr/local/lib/python3.12/dist-packages/sklearn/linear_model/_logistic.py:465: ConvergenceWarning: lbfgs failed to converge (status=1):\n",
            "STOP: TOTAL NO. OF ITERATIONS REACHED LIMIT.\n",
            "\n",
            "Increase the number of iterations (max_iter) or scale the data as shown in:\n",
            "    https://scikit-learn.org/stable/modules/preprocessing.html\n",
            "Please also refer to the documentation for alternative solver options:\n",
            "    https://scikit-learn.org/stable/modules/linear_model.html#logistic-regression\n",
            "  n_iter_i = _check_optimize_result(\n"
          ]
        },
        {
          "metadata": {
            "tags": null
          },
          "name": "stdout",
          "output_type": "stream",
          "text": [
            "[CV] END ..............................kmeans__n_clusters=89; total time=   2.0s\n"
          ]
        },
        {
          "metadata": {
            "tags": null
          },
          "name": "stderr",
          "output_type": "stream",
          "text": [
            "/usr/local/lib/python3.12/dist-packages/sklearn/linear_model/_logistic.py:465: ConvergenceWarning: lbfgs failed to converge (status=1):\n",
            "STOP: TOTAL NO. OF ITERATIONS REACHED LIMIT.\n",
            "\n",
            "Increase the number of iterations (max_iter) or scale the data as shown in:\n",
            "    https://scikit-learn.org/stable/modules/preprocessing.html\n",
            "Please also refer to the documentation for alternative solver options:\n",
            "    https://scikit-learn.org/stable/modules/linear_model.html#logistic-regression\n",
            "  n_iter_i = _check_optimize_result(\n"
          ]
        },
        {
          "metadata": {
            "tags": null
          },
          "name": "stdout",
          "output_type": "stream",
          "text": [
            "[CV] END ..............................kmeans__n_clusters=89; total time=   1.8s\n"
          ]
        },
        {
          "metadata": {
            "tags": null
          },
          "name": "stderr",
          "output_type": "stream",
          "text": [
            "/usr/local/lib/python3.12/dist-packages/sklearn/linear_model/_logistic.py:465: ConvergenceWarning: lbfgs failed to converge (status=1):\n",
            "STOP: TOTAL NO. OF ITERATIONS REACHED LIMIT.\n",
            "\n",
            "Increase the number of iterations (max_iter) or scale the data as shown in:\n",
            "    https://scikit-learn.org/stable/modules/preprocessing.html\n",
            "Please also refer to the documentation for alternative solver options:\n",
            "    https://scikit-learn.org/stable/modules/linear_model.html#logistic-regression\n",
            "  n_iter_i = _check_optimize_result(\n"
          ]
        },
        {
          "metadata": {
            "tags": null
          },
          "name": "stdout",
          "output_type": "stream",
          "text": [
            "[CV] END ..............................kmeans__n_clusters=90; total time=   1.9s\n"
          ]
        },
        {
          "metadata": {
            "tags": null
          },
          "name": "stderr",
          "output_type": "stream",
          "text": [
            "/usr/local/lib/python3.12/dist-packages/sklearn/linear_model/_logistic.py:465: ConvergenceWarning: lbfgs failed to converge (status=1):\n",
            "STOP: TOTAL NO. OF ITERATIONS REACHED LIMIT.\n",
            "\n",
            "Increase the number of iterations (max_iter) or scale the data as shown in:\n",
            "    https://scikit-learn.org/stable/modules/preprocessing.html\n",
            "Please also refer to the documentation for alternative solver options:\n",
            "    https://scikit-learn.org/stable/modules/linear_model.html#logistic-regression\n",
            "  n_iter_i = _check_optimize_result(\n"
          ]
        },
        {
          "metadata": {
            "tags": null
          },
          "name": "stdout",
          "output_type": "stream",
          "text": [
            "[CV] END ..............................kmeans__n_clusters=90; total time=   1.8s\n"
          ]
        },
        {
          "metadata": {
            "tags": null
          },
          "name": "stderr",
          "output_type": "stream",
          "text": [
            "/usr/local/lib/python3.12/dist-packages/sklearn/linear_model/_logistic.py:465: ConvergenceWarning: lbfgs failed to converge (status=1):\n",
            "STOP: TOTAL NO. OF ITERATIONS REACHED LIMIT.\n",
            "\n",
            "Increase the number of iterations (max_iter) or scale the data as shown in:\n",
            "    https://scikit-learn.org/stable/modules/preprocessing.html\n",
            "Please also refer to the documentation for alternative solver options:\n",
            "    https://scikit-learn.org/stable/modules/linear_model.html#logistic-regression\n",
            "  n_iter_i = _check_optimize_result(\n"
          ]
        },
        {
          "metadata": {
            "tags": null
          },
          "name": "stdout",
          "output_type": "stream",
          "text": [
            "[CV] END ..............................kmeans__n_clusters=90; total time=   1.4s\n"
          ]
        },
        {
          "metadata": {
            "tags": null
          },
          "name": "stderr",
          "output_type": "stream",
          "text": [
            "/usr/local/lib/python3.12/dist-packages/sklearn/linear_model/_logistic.py:465: ConvergenceWarning: lbfgs failed to converge (status=1):\n",
            "STOP: TOTAL NO. OF ITERATIONS REACHED LIMIT.\n",
            "\n",
            "Increase the number of iterations (max_iter) or scale the data as shown in:\n",
            "    https://scikit-learn.org/stable/modules/preprocessing.html\n",
            "Please also refer to the documentation for alternative solver options:\n",
            "    https://scikit-learn.org/stable/modules/linear_model.html#logistic-regression\n",
            "  n_iter_i = _check_optimize_result(\n"
          ]
        },
        {
          "metadata": {
            "tags": null
          },
          "name": "stdout",
          "output_type": "stream",
          "text": [
            "[CV] END ..............................kmeans__n_clusters=91; total time=   2.9s\n"
          ]
        },
        {
          "metadata": {
            "tags": null
          },
          "name": "stderr",
          "output_type": "stream",
          "text": [
            "/usr/local/lib/python3.12/dist-packages/sklearn/linear_model/_logistic.py:465: ConvergenceWarning: lbfgs failed to converge (status=1):\n",
            "STOP: TOTAL NO. OF ITERATIONS REACHED LIMIT.\n",
            "\n",
            "Increase the number of iterations (max_iter) or scale the data as shown in:\n",
            "    https://scikit-learn.org/stable/modules/preprocessing.html\n",
            "Please also refer to the documentation for alternative solver options:\n",
            "    https://scikit-learn.org/stable/modules/linear_model.html#logistic-regression\n",
            "  n_iter_i = _check_optimize_result(\n"
          ]
        },
        {
          "metadata": {
            "tags": null
          },
          "name": "stdout",
          "output_type": "stream",
          "text": [
            "[CV] END ..............................kmeans__n_clusters=91; total time=   1.8s\n"
          ]
        },
        {
          "metadata": {
            "tags": null
          },
          "name": "stderr",
          "output_type": "stream",
          "text": [
            "/usr/local/lib/python3.12/dist-packages/sklearn/linear_model/_logistic.py:465: ConvergenceWarning: lbfgs failed to converge (status=1):\n",
            "STOP: TOTAL NO. OF ITERATIONS REACHED LIMIT.\n",
            "\n",
            "Increase the number of iterations (max_iter) or scale the data as shown in:\n",
            "    https://scikit-learn.org/stable/modules/preprocessing.html\n",
            "Please also refer to the documentation for alternative solver options:\n",
            "    https://scikit-learn.org/stable/modules/linear_model.html#logistic-regression\n",
            "  n_iter_i = _check_optimize_result(\n"
          ]
        },
        {
          "metadata": {
            "tags": null
          },
          "name": "stdout",
          "output_type": "stream",
          "text": [
            "[CV] END ..............................kmeans__n_clusters=91; total time=   1.5s\n"
          ]
        },
        {
          "metadata": {
            "tags": null
          },
          "name": "stderr",
          "output_type": "stream",
          "text": [
            "/usr/local/lib/python3.12/dist-packages/sklearn/linear_model/_logistic.py:465: ConvergenceWarning: lbfgs failed to converge (status=1):\n",
            "STOP: TOTAL NO. OF ITERATIONS REACHED LIMIT.\n",
            "\n",
            "Increase the number of iterations (max_iter) or scale the data as shown in:\n",
            "    https://scikit-learn.org/stable/modules/preprocessing.html\n",
            "Please also refer to the documentation for alternative solver options:\n",
            "    https://scikit-learn.org/stable/modules/linear_model.html#logistic-regression\n",
            "  n_iter_i = _check_optimize_result(\n"
          ]
        },
        {
          "metadata": {
            "tags": null
          },
          "name": "stdout",
          "output_type": "stream",
          "text": [
            "[CV] END ..............................kmeans__n_clusters=92; total time=   1.7s\n"
          ]
        },
        {
          "metadata": {
            "tags": null
          },
          "name": "stderr",
          "output_type": "stream",
          "text": [
            "/usr/local/lib/python3.12/dist-packages/sklearn/linear_model/_logistic.py:465: ConvergenceWarning: lbfgs failed to converge (status=1):\n",
            "STOP: TOTAL NO. OF ITERATIONS REACHED LIMIT.\n",
            "\n",
            "Increase the number of iterations (max_iter) or scale the data as shown in:\n",
            "    https://scikit-learn.org/stable/modules/preprocessing.html\n",
            "Please also refer to the documentation for alternative solver options:\n",
            "    https://scikit-learn.org/stable/modules/linear_model.html#logistic-regression\n",
            "  n_iter_i = _check_optimize_result(\n"
          ]
        },
        {
          "metadata": {
            "tags": null
          },
          "name": "stdout",
          "output_type": "stream",
          "text": [
            "[CV] END ..............................kmeans__n_clusters=92; total time=   1.7s\n"
          ]
        },
        {
          "metadata": {
            "tags": null
          },
          "name": "stderr",
          "output_type": "stream",
          "text": [
            "/usr/local/lib/python3.12/dist-packages/sklearn/linear_model/_logistic.py:465: ConvergenceWarning: lbfgs failed to converge (status=1):\n",
            "STOP: TOTAL NO. OF ITERATIONS REACHED LIMIT.\n",
            "\n",
            "Increase the number of iterations (max_iter) or scale the data as shown in:\n",
            "    https://scikit-learn.org/stable/modules/preprocessing.html\n",
            "Please also refer to the documentation for alternative solver options:\n",
            "    https://scikit-learn.org/stable/modules/linear_model.html#logistic-regression\n",
            "  n_iter_i = _check_optimize_result(\n"
          ]
        },
        {
          "metadata": {
            "tags": null
          },
          "name": "stdout",
          "output_type": "stream",
          "text": [
            "[CV] END ..............................kmeans__n_clusters=92; total time=   1.4s\n"
          ]
        },
        {
          "metadata": {
            "tags": null
          },
          "name": "stderr",
          "output_type": "stream",
          "text": [
            "/usr/local/lib/python3.12/dist-packages/sklearn/linear_model/_logistic.py:465: ConvergenceWarning: lbfgs failed to converge (status=1):\n",
            "STOP: TOTAL NO. OF ITERATIONS REACHED LIMIT.\n",
            "\n",
            "Increase the number of iterations (max_iter) or scale the data as shown in:\n",
            "    https://scikit-learn.org/stable/modules/preprocessing.html\n",
            "Please also refer to the documentation for alternative solver options:\n",
            "    https://scikit-learn.org/stable/modules/linear_model.html#logistic-regression\n",
            "  n_iter_i = _check_optimize_result(\n"
          ]
        },
        {
          "metadata": {
            "tags": null
          },
          "name": "stdout",
          "output_type": "stream",
          "text": [
            "[CV] END ..............................kmeans__n_clusters=93; total time=   1.6s\n"
          ]
        },
        {
          "metadata": {
            "tags": null
          },
          "name": "stderr",
          "output_type": "stream",
          "text": [
            "/usr/local/lib/python3.12/dist-packages/sklearn/linear_model/_logistic.py:465: ConvergenceWarning: lbfgs failed to converge (status=1):\n",
            "STOP: TOTAL NO. OF ITERATIONS REACHED LIMIT.\n",
            "\n",
            "Increase the number of iterations (max_iter) or scale the data as shown in:\n",
            "    https://scikit-learn.org/stable/modules/preprocessing.html\n",
            "Please also refer to the documentation for alternative solver options:\n",
            "    https://scikit-learn.org/stable/modules/linear_model.html#logistic-regression\n",
            "  n_iter_i = _check_optimize_result(\n"
          ]
        },
        {
          "metadata": {
            "tags": null
          },
          "name": "stdout",
          "output_type": "stream",
          "text": [
            "[CV] END ..............................kmeans__n_clusters=93; total time=   3.6s\n"
          ]
        },
        {
          "output_type": "stream",
          "name": "stderr",
          "text": [
            "/usr/local/lib/python3.12/dist-packages/sklearn/linear_model/_logistic.py:465: ConvergenceWarning: lbfgs failed to converge (status=1):\n",
            "STOP: TOTAL NO. OF ITERATIONS REACHED LIMIT.\n",
            "\n",
            "Increase the number of iterations (max_iter) or scale the data as shown in:\n",
            "    https://scikit-learn.org/stable/modules/preprocessing.html\n",
            "Please also refer to the documentation for alternative solver options:\n",
            "    https://scikit-learn.org/stable/modules/linear_model.html#logistic-regression\n",
            "  n_iter_i = _check_optimize_result(\n"
          ]
        },
        {
          "output_type": "stream",
          "name": "stdout",
          "text": [
            "[CV] END ..............................kmeans__n_clusters=93; total time=   1.7s\n"
          ]
        },
        {
          "output_type": "stream",
          "name": "stderr",
          "text": [
            "/usr/local/lib/python3.12/dist-packages/sklearn/linear_model/_logistic.py:465: ConvergenceWarning: lbfgs failed to converge (status=1):\n",
            "STOP: TOTAL NO. OF ITERATIONS REACHED LIMIT.\n",
            "\n",
            "Increase the number of iterations (max_iter) or scale the data as shown in:\n",
            "    https://scikit-learn.org/stable/modules/preprocessing.html\n",
            "Please also refer to the documentation for alternative solver options:\n",
            "    https://scikit-learn.org/stable/modules/linear_model.html#logistic-regression\n",
            "  n_iter_i = _check_optimize_result(\n"
          ]
        },
        {
          "output_type": "stream",
          "name": "stdout",
          "text": [
            "[CV] END ..............................kmeans__n_clusters=94; total time=   1.7s\n"
          ]
        },
        {
          "output_type": "stream",
          "name": "stderr",
          "text": [
            "/usr/local/lib/python3.12/dist-packages/sklearn/linear_model/_logistic.py:465: ConvergenceWarning: lbfgs failed to converge (status=1):\n",
            "STOP: TOTAL NO. OF ITERATIONS REACHED LIMIT.\n",
            "\n",
            "Increase the number of iterations (max_iter) or scale the data as shown in:\n",
            "    https://scikit-learn.org/stable/modules/preprocessing.html\n",
            "Please also refer to the documentation for alternative solver options:\n",
            "    https://scikit-learn.org/stable/modules/linear_model.html#logistic-regression\n",
            "  n_iter_i = _check_optimize_result(\n"
          ]
        },
        {
          "output_type": "stream",
          "name": "stdout",
          "text": [
            "[CV] END ..............................kmeans__n_clusters=94; total time=   1.6s\n"
          ]
        },
        {
          "output_type": "stream",
          "name": "stderr",
          "text": [
            "/usr/local/lib/python3.12/dist-packages/sklearn/linear_model/_logistic.py:465: ConvergenceWarning: lbfgs failed to converge (status=1):\n",
            "STOP: TOTAL NO. OF ITERATIONS REACHED LIMIT.\n",
            "\n",
            "Increase the number of iterations (max_iter) or scale the data as shown in:\n",
            "    https://scikit-learn.org/stable/modules/preprocessing.html\n",
            "Please also refer to the documentation for alternative solver options:\n",
            "    https://scikit-learn.org/stable/modules/linear_model.html#logistic-regression\n",
            "  n_iter_i = _check_optimize_result(\n"
          ]
        },
        {
          "output_type": "stream",
          "name": "stdout",
          "text": [
            "[CV] END ..............................kmeans__n_clusters=94; total time=   1.9s\n"
          ]
        },
        {
          "output_type": "stream",
          "name": "stderr",
          "text": [
            "/usr/local/lib/python3.12/dist-packages/sklearn/linear_model/_logistic.py:465: ConvergenceWarning: lbfgs failed to converge (status=1):\n",
            "STOP: TOTAL NO. OF ITERATIONS REACHED LIMIT.\n",
            "\n",
            "Increase the number of iterations (max_iter) or scale the data as shown in:\n",
            "    https://scikit-learn.org/stable/modules/preprocessing.html\n",
            "Please also refer to the documentation for alternative solver options:\n",
            "    https://scikit-learn.org/stable/modules/linear_model.html#logistic-regression\n",
            "  n_iter_i = _check_optimize_result(\n"
          ]
        },
        {
          "output_type": "stream",
          "name": "stdout",
          "text": [
            "[CV] END ..............................kmeans__n_clusters=95; total time=   1.7s\n"
          ]
        },
        {
          "output_type": "stream",
          "name": "stderr",
          "text": [
            "/usr/local/lib/python3.12/dist-packages/sklearn/linear_model/_logistic.py:465: ConvergenceWarning: lbfgs failed to converge (status=1):\n",
            "STOP: TOTAL NO. OF ITERATIONS REACHED LIMIT.\n",
            "\n",
            "Increase the number of iterations (max_iter) or scale the data as shown in:\n",
            "    https://scikit-learn.org/stable/modules/preprocessing.html\n",
            "Please also refer to the documentation for alternative solver options:\n",
            "    https://scikit-learn.org/stable/modules/linear_model.html#logistic-regression\n",
            "  n_iter_i = _check_optimize_result(\n"
          ]
        },
        {
          "output_type": "stream",
          "name": "stdout",
          "text": [
            "[CV] END ..............................kmeans__n_clusters=95; total time=   2.8s\n"
          ]
        },
        {
          "output_type": "stream",
          "name": "stderr",
          "text": [
            "/usr/local/lib/python3.12/dist-packages/sklearn/linear_model/_logistic.py:465: ConvergenceWarning: lbfgs failed to converge (status=1):\n",
            "STOP: TOTAL NO. OF ITERATIONS REACHED LIMIT.\n",
            "\n",
            "Increase the number of iterations (max_iter) or scale the data as shown in:\n",
            "    https://scikit-learn.org/stable/modules/preprocessing.html\n",
            "Please also refer to the documentation for alternative solver options:\n",
            "    https://scikit-learn.org/stable/modules/linear_model.html#logistic-regression\n",
            "  n_iter_i = _check_optimize_result(\n"
          ]
        },
        {
          "output_type": "stream",
          "name": "stdout",
          "text": [
            "[CV] END ..............................kmeans__n_clusters=95; total time=   2.6s\n"
          ]
        },
        {
          "output_type": "stream",
          "name": "stderr",
          "text": [
            "/usr/local/lib/python3.12/dist-packages/sklearn/linear_model/_logistic.py:465: ConvergenceWarning: lbfgs failed to converge (status=1):\n",
            "STOP: TOTAL NO. OF ITERATIONS REACHED LIMIT.\n",
            "\n",
            "Increase the number of iterations (max_iter) or scale the data as shown in:\n",
            "    https://scikit-learn.org/stable/modules/preprocessing.html\n",
            "Please also refer to the documentation for alternative solver options:\n",
            "    https://scikit-learn.org/stable/modules/linear_model.html#logistic-regression\n",
            "  n_iter_i = _check_optimize_result(\n"
          ]
        },
        {
          "output_type": "stream",
          "name": "stdout",
          "text": [
            "[CV] END ..............................kmeans__n_clusters=96; total time=   1.9s\n"
          ]
        },
        {
          "output_type": "stream",
          "name": "stderr",
          "text": [
            "/usr/local/lib/python3.12/dist-packages/sklearn/linear_model/_logistic.py:465: ConvergenceWarning: lbfgs failed to converge (status=1):\n",
            "STOP: TOTAL NO. OF ITERATIONS REACHED LIMIT.\n",
            "\n",
            "Increase the number of iterations (max_iter) or scale the data as shown in:\n",
            "    https://scikit-learn.org/stable/modules/preprocessing.html\n",
            "Please also refer to the documentation for alternative solver options:\n",
            "    https://scikit-learn.org/stable/modules/linear_model.html#logistic-regression\n",
            "  n_iter_i = _check_optimize_result(\n"
          ]
        },
        {
          "output_type": "stream",
          "name": "stdout",
          "text": [
            "[CV] END ..............................kmeans__n_clusters=96; total time=   2.1s\n"
          ]
        },
        {
          "output_type": "stream",
          "name": "stderr",
          "text": [
            "/usr/local/lib/python3.12/dist-packages/sklearn/linear_model/_logistic.py:465: ConvergenceWarning: lbfgs failed to converge (status=1):\n",
            "STOP: TOTAL NO. OF ITERATIONS REACHED LIMIT.\n",
            "\n",
            "Increase the number of iterations (max_iter) or scale the data as shown in:\n",
            "    https://scikit-learn.org/stable/modules/preprocessing.html\n",
            "Please also refer to the documentation for alternative solver options:\n",
            "    https://scikit-learn.org/stable/modules/linear_model.html#logistic-regression\n",
            "  n_iter_i = _check_optimize_result(\n"
          ]
        },
        {
          "output_type": "stream",
          "name": "stdout",
          "text": [
            "[CV] END ..............................kmeans__n_clusters=96; total time=   2.0s\n"
          ]
        },
        {
          "output_type": "stream",
          "name": "stderr",
          "text": [
            "/usr/local/lib/python3.12/dist-packages/sklearn/linear_model/_logistic.py:465: ConvergenceWarning: lbfgs failed to converge (status=1):\n",
            "STOP: TOTAL NO. OF ITERATIONS REACHED LIMIT.\n",
            "\n",
            "Increase the number of iterations (max_iter) or scale the data as shown in:\n",
            "    https://scikit-learn.org/stable/modules/preprocessing.html\n",
            "Please also refer to the documentation for alternative solver options:\n",
            "    https://scikit-learn.org/stable/modules/linear_model.html#logistic-regression\n",
            "  n_iter_i = _check_optimize_result(\n"
          ]
        },
        {
          "output_type": "stream",
          "name": "stdout",
          "text": [
            "[CV] END ..............................kmeans__n_clusters=97; total time=   1.9s\n"
          ]
        },
        {
          "output_type": "stream",
          "name": "stderr",
          "text": [
            "/usr/local/lib/python3.12/dist-packages/sklearn/linear_model/_logistic.py:465: ConvergenceWarning: lbfgs failed to converge (status=1):\n",
            "STOP: TOTAL NO. OF ITERATIONS REACHED LIMIT.\n",
            "\n",
            "Increase the number of iterations (max_iter) or scale the data as shown in:\n",
            "    https://scikit-learn.org/stable/modules/preprocessing.html\n",
            "Please also refer to the documentation for alternative solver options:\n",
            "    https://scikit-learn.org/stable/modules/linear_model.html#logistic-regression\n",
            "  n_iter_i = _check_optimize_result(\n"
          ]
        },
        {
          "output_type": "stream",
          "name": "stdout",
          "text": [
            "[CV] END ..............................kmeans__n_clusters=97; total time=   1.6s\n"
          ]
        },
        {
          "output_type": "stream",
          "name": "stderr",
          "text": [
            "/usr/local/lib/python3.12/dist-packages/sklearn/linear_model/_logistic.py:465: ConvergenceWarning: lbfgs failed to converge (status=1):\n",
            "STOP: TOTAL NO. OF ITERATIONS REACHED LIMIT.\n",
            "\n",
            "Increase the number of iterations (max_iter) or scale the data as shown in:\n",
            "    https://scikit-learn.org/stable/modules/preprocessing.html\n",
            "Please also refer to the documentation for alternative solver options:\n",
            "    https://scikit-learn.org/stable/modules/linear_model.html#logistic-regression\n",
            "  n_iter_i = _check_optimize_result(\n"
          ]
        },
        {
          "output_type": "stream",
          "name": "stdout",
          "text": [
            "[CV] END ..............................kmeans__n_clusters=97; total time=   3.4s\n"
          ]
        },
        {
          "output_type": "stream",
          "name": "stderr",
          "text": [
            "/usr/local/lib/python3.12/dist-packages/sklearn/linear_model/_logistic.py:465: ConvergenceWarning: lbfgs failed to converge (status=1):\n",
            "STOP: TOTAL NO. OF ITERATIONS REACHED LIMIT.\n",
            "\n",
            "Increase the number of iterations (max_iter) or scale the data as shown in:\n",
            "    https://scikit-learn.org/stable/modules/preprocessing.html\n",
            "Please also refer to the documentation for alternative solver options:\n",
            "    https://scikit-learn.org/stable/modules/linear_model.html#logistic-regression\n",
            "  n_iter_i = _check_optimize_result(\n"
          ]
        },
        {
          "output_type": "stream",
          "name": "stdout",
          "text": [
            "[CV] END ..............................kmeans__n_clusters=98; total time=   1.6s\n"
          ]
        },
        {
          "output_type": "stream",
          "name": "stderr",
          "text": [
            "/usr/local/lib/python3.12/dist-packages/sklearn/linear_model/_logistic.py:465: ConvergenceWarning: lbfgs failed to converge (status=1):\n",
            "STOP: TOTAL NO. OF ITERATIONS REACHED LIMIT.\n",
            "\n",
            "Increase the number of iterations (max_iter) or scale the data as shown in:\n",
            "    https://scikit-learn.org/stable/modules/preprocessing.html\n",
            "Please also refer to the documentation for alternative solver options:\n",
            "    https://scikit-learn.org/stable/modules/linear_model.html#logistic-regression\n",
            "  n_iter_i = _check_optimize_result(\n"
          ]
        },
        {
          "output_type": "stream",
          "name": "stdout",
          "text": [
            "[CV] END ..............................kmeans__n_clusters=98; total time=   1.7s\n"
          ]
        },
        {
          "output_type": "stream",
          "name": "stderr",
          "text": [
            "/usr/local/lib/python3.12/dist-packages/sklearn/linear_model/_logistic.py:465: ConvergenceWarning: lbfgs failed to converge (status=1):\n",
            "STOP: TOTAL NO. OF ITERATIONS REACHED LIMIT.\n",
            "\n",
            "Increase the number of iterations (max_iter) or scale the data as shown in:\n",
            "    https://scikit-learn.org/stable/modules/preprocessing.html\n",
            "Please also refer to the documentation for alternative solver options:\n",
            "    https://scikit-learn.org/stable/modules/linear_model.html#logistic-regression\n",
            "  n_iter_i = _check_optimize_result(\n"
          ]
        },
        {
          "output_type": "stream",
          "name": "stdout",
          "text": [
            "[CV] END ..............................kmeans__n_clusters=98; total time=   2.0s\n"
          ]
        },
        {
          "output_type": "stream",
          "name": "stderr",
          "text": [
            "/usr/local/lib/python3.12/dist-packages/sklearn/linear_model/_logistic.py:465: ConvergenceWarning: lbfgs failed to converge (status=1):\n",
            "STOP: TOTAL NO. OF ITERATIONS REACHED LIMIT.\n",
            "\n",
            "Increase the number of iterations (max_iter) or scale the data as shown in:\n",
            "    https://scikit-learn.org/stable/modules/preprocessing.html\n",
            "Please also refer to the documentation for alternative solver options:\n",
            "    https://scikit-learn.org/stable/modules/linear_model.html#logistic-regression\n",
            "  n_iter_i = _check_optimize_result(\n"
          ]
        },
        {
          "output_type": "stream",
          "name": "stdout",
          "text": [
            "[CV] END ..............................kmeans__n_clusters=99; total time=   1.8s\n"
          ]
        },
        {
          "output_type": "stream",
          "name": "stderr",
          "text": [
            "/usr/local/lib/python3.12/dist-packages/sklearn/linear_model/_logistic.py:465: ConvergenceWarning: lbfgs failed to converge (status=1):\n",
            "STOP: TOTAL NO. OF ITERATIONS REACHED LIMIT.\n",
            "\n",
            "Increase the number of iterations (max_iter) or scale the data as shown in:\n",
            "    https://scikit-learn.org/stable/modules/preprocessing.html\n",
            "Please also refer to the documentation for alternative solver options:\n",
            "    https://scikit-learn.org/stable/modules/linear_model.html#logistic-regression\n",
            "  n_iter_i = _check_optimize_result(\n"
          ]
        },
        {
          "output_type": "stream",
          "name": "stdout",
          "text": [
            "[CV] END ..............................kmeans__n_clusters=99; total time=   1.8s\n"
          ]
        },
        {
          "output_type": "stream",
          "name": "stderr",
          "text": [
            "/usr/local/lib/python3.12/dist-packages/sklearn/linear_model/_logistic.py:465: ConvergenceWarning: lbfgs failed to converge (status=1):\n",
            "STOP: TOTAL NO. OF ITERATIONS REACHED LIMIT.\n",
            "\n",
            "Increase the number of iterations (max_iter) or scale the data as shown in:\n",
            "    https://scikit-learn.org/stable/modules/preprocessing.html\n",
            "Please also refer to the documentation for alternative solver options:\n",
            "    https://scikit-learn.org/stable/modules/linear_model.html#logistic-regression\n",
            "  n_iter_i = _check_optimize_result(\n"
          ]
        },
        {
          "output_type": "stream",
          "name": "stdout",
          "text": [
            "[CV] END ..............................kmeans__n_clusters=99; total time=   2.6s\n"
          ]
        },
        {
          "output_type": "stream",
          "name": "stderr",
          "text": [
            "/usr/local/lib/python3.12/dist-packages/sklearn/linear_model/_logistic.py:465: ConvergenceWarning: lbfgs failed to converge (status=1):\n",
            "STOP: TOTAL NO. OF ITERATIONS REACHED LIMIT.\n",
            "\n",
            "Increase the number of iterations (max_iter) or scale the data as shown in:\n",
            "    https://scikit-learn.org/stable/modules/preprocessing.html\n",
            "Please also refer to the documentation for alternative solver options:\n",
            "    https://scikit-learn.org/stable/modules/linear_model.html#logistic-regression\n",
            "  n_iter_i = _check_optimize_result(\n"
          ]
        },
        {
          "output_type": "execute_result",
          "data": {
            "text/plain": [
              "GridSearchCV(cv=3,\n",
              "             estimator=Pipeline(steps=[('kmeans', KMeans(n_clusters=50)),\n",
              "                                       ('log_reg', LogisticRegression())]),\n",
              "             param_grid={'kmeans__n_clusters': range(2, 100)}, verbose=2)"
            ],
            "text/html": [
              "<style>#sk-container-id-4 {\n",
              "  /* Definition of color scheme common for light and dark mode */\n",
              "  --sklearn-color-text: #000;\n",
              "  --sklearn-color-text-muted: #666;\n",
              "  --sklearn-color-line: gray;\n",
              "  /* Definition of color scheme for unfitted estimators */\n",
              "  --sklearn-color-unfitted-level-0: #fff5e6;\n",
              "  --sklearn-color-unfitted-level-1: #f6e4d2;\n",
              "  --sklearn-color-unfitted-level-2: #ffe0b3;\n",
              "  --sklearn-color-unfitted-level-3: chocolate;\n",
              "  /* Definition of color scheme for fitted estimators */\n",
              "  --sklearn-color-fitted-level-0: #f0f8ff;\n",
              "  --sklearn-color-fitted-level-1: #d4ebff;\n",
              "  --sklearn-color-fitted-level-2: #b3dbfd;\n",
              "  --sklearn-color-fitted-level-3: cornflowerblue;\n",
              "\n",
              "  /* Specific color for light theme */\n",
              "  --sklearn-color-text-on-default-background: var(--sg-text-color, var(--theme-code-foreground, var(--jp-content-font-color1, black)));\n",
              "  --sklearn-color-background: var(--sg-background-color, var(--theme-background, var(--jp-layout-color0, white)));\n",
              "  --sklearn-color-border-box: var(--sg-text-color, var(--theme-code-foreground, var(--jp-content-font-color1, black)));\n",
              "  --sklearn-color-icon: #696969;\n",
              "\n",
              "  @media (prefers-color-scheme: dark) {\n",
              "    /* Redefinition of color scheme for dark theme */\n",
              "    --sklearn-color-text-on-default-background: var(--sg-text-color, var(--theme-code-foreground, var(--jp-content-font-color1, white)));\n",
              "    --sklearn-color-background: var(--sg-background-color, var(--theme-background, var(--jp-layout-color0, #111)));\n",
              "    --sklearn-color-border-box: var(--sg-text-color, var(--theme-code-foreground, var(--jp-content-font-color1, white)));\n",
              "    --sklearn-color-icon: #878787;\n",
              "  }\n",
              "}\n",
              "\n",
              "#sk-container-id-4 {\n",
              "  color: var(--sklearn-color-text);\n",
              "}\n",
              "\n",
              "#sk-container-id-4 pre {\n",
              "  padding: 0;\n",
              "}\n",
              "\n",
              "#sk-container-id-4 input.sk-hidden--visually {\n",
              "  border: 0;\n",
              "  clip: rect(1px 1px 1px 1px);\n",
              "  clip: rect(1px, 1px, 1px, 1px);\n",
              "  height: 1px;\n",
              "  margin: -1px;\n",
              "  overflow: hidden;\n",
              "  padding: 0;\n",
              "  position: absolute;\n",
              "  width: 1px;\n",
              "}\n",
              "\n",
              "#sk-container-id-4 div.sk-dashed-wrapped {\n",
              "  border: 1px dashed var(--sklearn-color-line);\n",
              "  margin: 0 0.4em 0.5em 0.4em;\n",
              "  box-sizing: border-box;\n",
              "  padding-bottom: 0.4em;\n",
              "  background-color: var(--sklearn-color-background);\n",
              "}\n",
              "\n",
              "#sk-container-id-4 div.sk-container {\n",
              "  /* jupyter's `normalize.less` sets `[hidden] { display: none; }`\n",
              "     but bootstrap.min.css set `[hidden] { display: none !important; }`\n",
              "     so we also need the `!important` here to be able to override the\n",
              "     default hidden behavior on the sphinx rendered scikit-learn.org.\n",
              "     See: https://github.com/scikit-learn/scikit-learn/issues/21755 */\n",
              "  display: inline-block !important;\n",
              "  position: relative;\n",
              "}\n",
              "\n",
              "#sk-container-id-4 div.sk-text-repr-fallback {\n",
              "  display: none;\n",
              "}\n",
              "\n",
              "div.sk-parallel-item,\n",
              "div.sk-serial,\n",
              "div.sk-item {\n",
              "  /* draw centered vertical line to link estimators */\n",
              "  background-image: linear-gradient(var(--sklearn-color-text-on-default-background), var(--sklearn-color-text-on-default-background));\n",
              "  background-size: 2px 100%;\n",
              "  background-repeat: no-repeat;\n",
              "  background-position: center center;\n",
              "}\n",
              "\n",
              "/* Parallel-specific style estimator block */\n",
              "\n",
              "#sk-container-id-4 div.sk-parallel-item::after {\n",
              "  content: \"\";\n",
              "  width: 100%;\n",
              "  border-bottom: 2px solid var(--sklearn-color-text-on-default-background);\n",
              "  flex-grow: 1;\n",
              "}\n",
              "\n",
              "#sk-container-id-4 div.sk-parallel {\n",
              "  display: flex;\n",
              "  align-items: stretch;\n",
              "  justify-content: center;\n",
              "  background-color: var(--sklearn-color-background);\n",
              "  position: relative;\n",
              "}\n",
              "\n",
              "#sk-container-id-4 div.sk-parallel-item {\n",
              "  display: flex;\n",
              "  flex-direction: column;\n",
              "}\n",
              "\n",
              "#sk-container-id-4 div.sk-parallel-item:first-child::after {\n",
              "  align-self: flex-end;\n",
              "  width: 50%;\n",
              "}\n",
              "\n",
              "#sk-container-id-4 div.sk-parallel-item:last-child::after {\n",
              "  align-self: flex-start;\n",
              "  width: 50%;\n",
              "}\n",
              "\n",
              "#sk-container-id-4 div.sk-parallel-item:only-child::after {\n",
              "  width: 0;\n",
              "}\n",
              "\n",
              "/* Serial-specific style estimator block */\n",
              "\n",
              "#sk-container-id-4 div.sk-serial {\n",
              "  display: flex;\n",
              "  flex-direction: column;\n",
              "  align-items: center;\n",
              "  background-color: var(--sklearn-color-background);\n",
              "  padding-right: 1em;\n",
              "  padding-left: 1em;\n",
              "}\n",
              "\n",
              "\n",
              "/* Toggleable style: style used for estimator/Pipeline/ColumnTransformer box that is\n",
              "clickable and can be expanded/collapsed.\n",
              "- Pipeline and ColumnTransformer use this feature and define the default style\n",
              "- Estimators will overwrite some part of the style using the `sk-estimator` class\n",
              "*/\n",
              "\n",
              "/* Pipeline and ColumnTransformer style (default) */\n",
              "\n",
              "#sk-container-id-4 div.sk-toggleable {\n",
              "  /* Default theme specific background. It is overwritten whether we have a\n",
              "  specific estimator or a Pipeline/ColumnTransformer */\n",
              "  background-color: var(--sklearn-color-background);\n",
              "}\n",
              "\n",
              "/* Toggleable label */\n",
              "#sk-container-id-4 label.sk-toggleable__label {\n",
              "  cursor: pointer;\n",
              "  display: flex;\n",
              "  width: 100%;\n",
              "  margin-bottom: 0;\n",
              "  padding: 0.5em;\n",
              "  box-sizing: border-box;\n",
              "  text-align: center;\n",
              "  align-items: start;\n",
              "  justify-content: space-between;\n",
              "  gap: 0.5em;\n",
              "}\n",
              "\n",
              "#sk-container-id-4 label.sk-toggleable__label .caption {\n",
              "  font-size: 0.6rem;\n",
              "  font-weight: lighter;\n",
              "  color: var(--sklearn-color-text-muted);\n",
              "}\n",
              "\n",
              "#sk-container-id-4 label.sk-toggleable__label-arrow:before {\n",
              "  /* Arrow on the left of the label */\n",
              "  content: \"▸\";\n",
              "  float: left;\n",
              "  margin-right: 0.25em;\n",
              "  color: var(--sklearn-color-icon);\n",
              "}\n",
              "\n",
              "#sk-container-id-4 label.sk-toggleable__label-arrow:hover:before {\n",
              "  color: var(--sklearn-color-text);\n",
              "}\n",
              "\n",
              "/* Toggleable content - dropdown */\n",
              "\n",
              "#sk-container-id-4 div.sk-toggleable__content {\n",
              "  max-height: 0;\n",
              "  max-width: 0;\n",
              "  overflow: hidden;\n",
              "  text-align: left;\n",
              "  /* unfitted */\n",
              "  background-color: var(--sklearn-color-unfitted-level-0);\n",
              "}\n",
              "\n",
              "#sk-container-id-4 div.sk-toggleable__content.fitted {\n",
              "  /* fitted */\n",
              "  background-color: var(--sklearn-color-fitted-level-0);\n",
              "}\n",
              "\n",
              "#sk-container-id-4 div.sk-toggleable__content pre {\n",
              "  margin: 0.2em;\n",
              "  border-radius: 0.25em;\n",
              "  color: var(--sklearn-color-text);\n",
              "  /* unfitted */\n",
              "  background-color: var(--sklearn-color-unfitted-level-0);\n",
              "}\n",
              "\n",
              "#sk-container-id-4 div.sk-toggleable__content.fitted pre {\n",
              "  /* unfitted */\n",
              "  background-color: var(--sklearn-color-fitted-level-0);\n",
              "}\n",
              "\n",
              "#sk-container-id-4 input.sk-toggleable__control:checked~div.sk-toggleable__content {\n",
              "  /* Expand drop-down */\n",
              "  max-height: 200px;\n",
              "  max-width: 100%;\n",
              "  overflow: auto;\n",
              "}\n",
              "\n",
              "#sk-container-id-4 input.sk-toggleable__control:checked~label.sk-toggleable__label-arrow:before {\n",
              "  content: \"▾\";\n",
              "}\n",
              "\n",
              "/* Pipeline/ColumnTransformer-specific style */\n",
              "\n",
              "#sk-container-id-4 div.sk-label input.sk-toggleable__control:checked~label.sk-toggleable__label {\n",
              "  color: var(--sklearn-color-text);\n",
              "  background-color: var(--sklearn-color-unfitted-level-2);\n",
              "}\n",
              "\n",
              "#sk-container-id-4 div.sk-label.fitted input.sk-toggleable__control:checked~label.sk-toggleable__label {\n",
              "  background-color: var(--sklearn-color-fitted-level-2);\n",
              "}\n",
              "\n",
              "/* Estimator-specific style */\n",
              "\n",
              "/* Colorize estimator box */\n",
              "#sk-container-id-4 div.sk-estimator input.sk-toggleable__control:checked~label.sk-toggleable__label {\n",
              "  /* unfitted */\n",
              "  background-color: var(--sklearn-color-unfitted-level-2);\n",
              "}\n",
              "\n",
              "#sk-container-id-4 div.sk-estimator.fitted input.sk-toggleable__control:checked~label.sk-toggleable__label {\n",
              "  /* fitted */\n",
              "  background-color: var(--sklearn-color-fitted-level-2);\n",
              "}\n",
              "\n",
              "#sk-container-id-4 div.sk-label label.sk-toggleable__label,\n",
              "#sk-container-id-4 div.sk-label label {\n",
              "  /* The background is the default theme color */\n",
              "  color: var(--sklearn-color-text-on-default-background);\n",
              "}\n",
              "\n",
              "/* On hover, darken the color of the background */\n",
              "#sk-container-id-4 div.sk-label:hover label.sk-toggleable__label {\n",
              "  color: var(--sklearn-color-text);\n",
              "  background-color: var(--sklearn-color-unfitted-level-2);\n",
              "}\n",
              "\n",
              "/* Label box, darken color on hover, fitted */\n",
              "#sk-container-id-4 div.sk-label.fitted:hover label.sk-toggleable__label.fitted {\n",
              "  color: var(--sklearn-color-text);\n",
              "  background-color: var(--sklearn-color-fitted-level-2);\n",
              "}\n",
              "\n",
              "/* Estimator label */\n",
              "\n",
              "#sk-container-id-4 div.sk-label label {\n",
              "  font-family: monospace;\n",
              "  font-weight: bold;\n",
              "  display: inline-block;\n",
              "  line-height: 1.2em;\n",
              "}\n",
              "\n",
              "#sk-container-id-4 div.sk-label-container {\n",
              "  text-align: center;\n",
              "}\n",
              "\n",
              "/* Estimator-specific */\n",
              "#sk-container-id-4 div.sk-estimator {\n",
              "  font-family: monospace;\n",
              "  border: 1px dotted var(--sklearn-color-border-box);\n",
              "  border-radius: 0.25em;\n",
              "  box-sizing: border-box;\n",
              "  margin-bottom: 0.5em;\n",
              "  /* unfitted */\n",
              "  background-color: var(--sklearn-color-unfitted-level-0);\n",
              "}\n",
              "\n",
              "#sk-container-id-4 div.sk-estimator.fitted {\n",
              "  /* fitted */\n",
              "  background-color: var(--sklearn-color-fitted-level-0);\n",
              "}\n",
              "\n",
              "/* on hover */\n",
              "#sk-container-id-4 div.sk-estimator:hover {\n",
              "  /* unfitted */\n",
              "  background-color: var(--sklearn-color-unfitted-level-2);\n",
              "}\n",
              "\n",
              "#sk-container-id-4 div.sk-estimator.fitted:hover {\n",
              "  /* fitted */\n",
              "  background-color: var(--sklearn-color-fitted-level-2);\n",
              "}\n",
              "\n",
              "/* Specification for estimator info (e.g. \"i\" and \"?\") */\n",
              "\n",
              "/* Common style for \"i\" and \"?\" */\n",
              "\n",
              ".sk-estimator-doc-link,\n",
              "a:link.sk-estimator-doc-link,\n",
              "a:visited.sk-estimator-doc-link {\n",
              "  float: right;\n",
              "  font-size: smaller;\n",
              "  line-height: 1em;\n",
              "  font-family: monospace;\n",
              "  background-color: var(--sklearn-color-background);\n",
              "  border-radius: 1em;\n",
              "  height: 1em;\n",
              "  width: 1em;\n",
              "  text-decoration: none !important;\n",
              "  margin-left: 0.5em;\n",
              "  text-align: center;\n",
              "  /* unfitted */\n",
              "  border: var(--sklearn-color-unfitted-level-1) 1pt solid;\n",
              "  color: var(--sklearn-color-unfitted-level-1);\n",
              "}\n",
              "\n",
              ".sk-estimator-doc-link.fitted,\n",
              "a:link.sk-estimator-doc-link.fitted,\n",
              "a:visited.sk-estimator-doc-link.fitted {\n",
              "  /* fitted */\n",
              "  border: var(--sklearn-color-fitted-level-1) 1pt solid;\n",
              "  color: var(--sklearn-color-fitted-level-1);\n",
              "}\n",
              "\n",
              "/* On hover */\n",
              "div.sk-estimator:hover .sk-estimator-doc-link:hover,\n",
              ".sk-estimator-doc-link:hover,\n",
              "div.sk-label-container:hover .sk-estimator-doc-link:hover,\n",
              ".sk-estimator-doc-link:hover {\n",
              "  /* unfitted */\n",
              "  background-color: var(--sklearn-color-unfitted-level-3);\n",
              "  color: var(--sklearn-color-background);\n",
              "  text-decoration: none;\n",
              "}\n",
              "\n",
              "div.sk-estimator.fitted:hover .sk-estimator-doc-link.fitted:hover,\n",
              ".sk-estimator-doc-link.fitted:hover,\n",
              "div.sk-label-container:hover .sk-estimator-doc-link.fitted:hover,\n",
              ".sk-estimator-doc-link.fitted:hover {\n",
              "  /* fitted */\n",
              "  background-color: var(--sklearn-color-fitted-level-3);\n",
              "  color: var(--sklearn-color-background);\n",
              "  text-decoration: none;\n",
              "}\n",
              "\n",
              "/* Span, style for the box shown on hovering the info icon */\n",
              ".sk-estimator-doc-link span {\n",
              "  display: none;\n",
              "  z-index: 9999;\n",
              "  position: relative;\n",
              "  font-weight: normal;\n",
              "  right: .2ex;\n",
              "  padding: .5ex;\n",
              "  margin: .5ex;\n",
              "  width: min-content;\n",
              "  min-width: 20ex;\n",
              "  max-width: 50ex;\n",
              "  color: var(--sklearn-color-text);\n",
              "  box-shadow: 2pt 2pt 4pt #999;\n",
              "  /* unfitted */\n",
              "  background: var(--sklearn-color-unfitted-level-0);\n",
              "  border: .5pt solid var(--sklearn-color-unfitted-level-3);\n",
              "}\n",
              "\n",
              ".sk-estimator-doc-link.fitted span {\n",
              "  /* fitted */\n",
              "  background: var(--sklearn-color-fitted-level-0);\n",
              "  border: var(--sklearn-color-fitted-level-3);\n",
              "}\n",
              "\n",
              ".sk-estimator-doc-link:hover span {\n",
              "  display: block;\n",
              "}\n",
              "\n",
              "/* \"?\"-specific style due to the `<a>` HTML tag */\n",
              "\n",
              "#sk-container-id-4 a.estimator_doc_link {\n",
              "  float: right;\n",
              "  font-size: 1rem;\n",
              "  line-height: 1em;\n",
              "  font-family: monospace;\n",
              "  background-color: var(--sklearn-color-background);\n",
              "  border-radius: 1rem;\n",
              "  height: 1rem;\n",
              "  width: 1rem;\n",
              "  text-decoration: none;\n",
              "  /* unfitted */\n",
              "  color: var(--sklearn-color-unfitted-level-1);\n",
              "  border: var(--sklearn-color-unfitted-level-1) 1pt solid;\n",
              "}\n",
              "\n",
              "#sk-container-id-4 a.estimator_doc_link.fitted {\n",
              "  /* fitted */\n",
              "  border: var(--sklearn-color-fitted-level-1) 1pt solid;\n",
              "  color: var(--sklearn-color-fitted-level-1);\n",
              "}\n",
              "\n",
              "/* On hover */\n",
              "#sk-container-id-4 a.estimator_doc_link:hover {\n",
              "  /* unfitted */\n",
              "  background-color: var(--sklearn-color-unfitted-level-3);\n",
              "  color: var(--sklearn-color-background);\n",
              "  text-decoration: none;\n",
              "}\n",
              "\n",
              "#sk-container-id-4 a.estimator_doc_link.fitted:hover {\n",
              "  /* fitted */\n",
              "  background-color: var(--sklearn-color-fitted-level-3);\n",
              "}\n",
              "</style><div id=\"sk-container-id-4\" class=\"sk-top-container\"><div class=\"sk-text-repr-fallback\"><pre>GridSearchCV(cv=3,\n",
              "             estimator=Pipeline(steps=[(&#x27;kmeans&#x27;, KMeans(n_clusters=50)),\n",
              "                                       (&#x27;log_reg&#x27;, LogisticRegression())]),\n",
              "             param_grid={&#x27;kmeans__n_clusters&#x27;: range(2, 100)}, verbose=2)</pre><b>In a Jupyter environment, please rerun this cell to show the HTML representation or trust the notebook. <br />On GitHub, the HTML representation is unable to render, please try loading this page with nbviewer.org.</b></div><div class=\"sk-container\" hidden><div class=\"sk-item sk-dashed-wrapped\"><div class=\"sk-label-container\"><div class=\"sk-label fitted sk-toggleable\"><input class=\"sk-toggleable__control sk-hidden--visually\" id=\"sk-estimator-id-6\" type=\"checkbox\" ><label for=\"sk-estimator-id-6\" class=\"sk-toggleable__label fitted sk-toggleable__label-arrow\"><div><div>GridSearchCV</div></div><div><a class=\"sk-estimator-doc-link fitted\" rel=\"noreferrer\" target=\"_blank\" href=\"https://scikit-learn.org/1.6/modules/generated/sklearn.model_selection.GridSearchCV.html\">?<span>Documentation for GridSearchCV</span></a><span class=\"sk-estimator-doc-link fitted\">i<span>Fitted</span></span></div></label><div class=\"sk-toggleable__content fitted\"><pre>GridSearchCV(cv=3,\n",
              "             estimator=Pipeline(steps=[(&#x27;kmeans&#x27;, KMeans(n_clusters=50)),\n",
              "                                       (&#x27;log_reg&#x27;, LogisticRegression())]),\n",
              "             param_grid={&#x27;kmeans__n_clusters&#x27;: range(2, 100)}, verbose=2)</pre></div> </div></div><div class=\"sk-parallel\"><div class=\"sk-parallel-item\"><div class=\"sk-item\"><div class=\"sk-label-container\"><div class=\"sk-label fitted sk-toggleable\"><input class=\"sk-toggleable__control sk-hidden--visually\" id=\"sk-estimator-id-7\" type=\"checkbox\" ><label for=\"sk-estimator-id-7\" class=\"sk-toggleable__label fitted sk-toggleable__label-arrow\"><div><div>best_estimator_: Pipeline</div></div></label><div class=\"sk-toggleable__content fitted\"><pre>Pipeline(steps=[(&#x27;kmeans&#x27;, KMeans(n_clusters=55)),\n",
              "                (&#x27;log_reg&#x27;, LogisticRegression())])</pre></div> </div></div><div class=\"sk-serial\"><div class=\"sk-item\"><div class=\"sk-serial\"><div class=\"sk-item\"><div class=\"sk-estimator fitted sk-toggleable\"><input class=\"sk-toggleable__control sk-hidden--visually\" id=\"sk-estimator-id-8\" type=\"checkbox\" ><label for=\"sk-estimator-id-8\" class=\"sk-toggleable__label fitted sk-toggleable__label-arrow\"><div><div>KMeans</div></div><div><a class=\"sk-estimator-doc-link fitted\" rel=\"noreferrer\" target=\"_blank\" href=\"https://scikit-learn.org/1.6/modules/generated/sklearn.cluster.KMeans.html\">?<span>Documentation for KMeans</span></a></div></label><div class=\"sk-toggleable__content fitted\"><pre>KMeans(n_clusters=55)</pre></div> </div></div><div class=\"sk-item\"><div class=\"sk-estimator fitted sk-toggleable\"><input class=\"sk-toggleable__control sk-hidden--visually\" id=\"sk-estimator-id-9\" type=\"checkbox\" ><label for=\"sk-estimator-id-9\" class=\"sk-toggleable__label fitted sk-toggleable__label-arrow\"><div><div>LogisticRegression</div></div><div><a class=\"sk-estimator-doc-link fitted\" rel=\"noreferrer\" target=\"_blank\" href=\"https://scikit-learn.org/1.6/modules/generated/sklearn.linear_model.LogisticRegression.html\">?<span>Documentation for LogisticRegression</span></a></div></label><div class=\"sk-toggleable__content fitted\"><pre>LogisticRegression()</pre></div> </div></div></div></div></div></div></div></div></div></div></div>"
            ]
          },
          "metadata": {},
          "execution_count": 25
        }
      ]
    },
    {
      "cell_type": "code",
      "source": [
        "print(grid_clf.best_params_)\n",
        "print(grid_clf.score(X_test, y_test))"
      ],
      "metadata": {
        "colab": {
          "base_uri": "https://localhost:8080/"
        },
        "id": "Ktoym5d56xEf",
        "outputId": "aea633d0-4f15-47e7-d772-318dc7a794af"
      },
      "execution_count": 26,
      "outputs": [
        {
          "output_type": "stream",
          "name": "stdout",
          "text": [
            "{'kmeans__n_clusters': 55}\n",
            "0.9533333333333334\n"
          ]
        }
      ]
    },
    {
      "cell_type": "markdown",
      "source": [
        "### **1.5) 군집을 사용한 준지도 학습**\n",
        "군집을 사용하는 또 다른 사례는 준지도 학습이다. 레이블이 없는 데이터가 많고 레이블이 있는 데이터는 적을 대 사용한다."
      ],
      "metadata": {
        "id": "HvqKEqIc5aMj"
      }
    },
    {
      "cell_type": "code",
      "source": [
        "n_labeled = 50\n",
        "log_reg = LogisticRegression()\n",
        "log_reg.fit(X_train[:n_labeled], y_train[:n_labeled])"
      ],
      "metadata": {
        "colab": {
          "base_uri": "https://localhost:8080/",
          "height": 249
        },
        "id": "gVhUPgmA8CiM",
        "outputId": "d677331f-c335-43ab-9c18-b3b75c8c6783"
      },
      "execution_count": 27,
      "outputs": [
        {
          "output_type": "stream",
          "name": "stderr",
          "text": [
            "/usr/local/lib/python3.12/dist-packages/sklearn/linear_model/_logistic.py:465: ConvergenceWarning: lbfgs failed to converge (status=1):\n",
            "STOP: TOTAL NO. OF ITERATIONS REACHED LIMIT.\n",
            "\n",
            "Increase the number of iterations (max_iter) or scale the data as shown in:\n",
            "    https://scikit-learn.org/stable/modules/preprocessing.html\n",
            "Please also refer to the documentation for alternative solver options:\n",
            "    https://scikit-learn.org/stable/modules/linear_model.html#logistic-regression\n",
            "  n_iter_i = _check_optimize_result(\n"
          ]
        },
        {
          "output_type": "execute_result",
          "data": {
            "text/plain": [
              "LogisticRegression()"
            ],
            "text/html": [
              "<style>#sk-container-id-5 {\n",
              "  /* Definition of color scheme common for light and dark mode */\n",
              "  --sklearn-color-text: #000;\n",
              "  --sklearn-color-text-muted: #666;\n",
              "  --sklearn-color-line: gray;\n",
              "  /* Definition of color scheme for unfitted estimators */\n",
              "  --sklearn-color-unfitted-level-0: #fff5e6;\n",
              "  --sklearn-color-unfitted-level-1: #f6e4d2;\n",
              "  --sklearn-color-unfitted-level-2: #ffe0b3;\n",
              "  --sklearn-color-unfitted-level-3: chocolate;\n",
              "  /* Definition of color scheme for fitted estimators */\n",
              "  --sklearn-color-fitted-level-0: #f0f8ff;\n",
              "  --sklearn-color-fitted-level-1: #d4ebff;\n",
              "  --sklearn-color-fitted-level-2: #b3dbfd;\n",
              "  --sklearn-color-fitted-level-3: cornflowerblue;\n",
              "\n",
              "  /* Specific color for light theme */\n",
              "  --sklearn-color-text-on-default-background: var(--sg-text-color, var(--theme-code-foreground, var(--jp-content-font-color1, black)));\n",
              "  --sklearn-color-background: var(--sg-background-color, var(--theme-background, var(--jp-layout-color0, white)));\n",
              "  --sklearn-color-border-box: var(--sg-text-color, var(--theme-code-foreground, var(--jp-content-font-color1, black)));\n",
              "  --sklearn-color-icon: #696969;\n",
              "\n",
              "  @media (prefers-color-scheme: dark) {\n",
              "    /* Redefinition of color scheme for dark theme */\n",
              "    --sklearn-color-text-on-default-background: var(--sg-text-color, var(--theme-code-foreground, var(--jp-content-font-color1, white)));\n",
              "    --sklearn-color-background: var(--sg-background-color, var(--theme-background, var(--jp-layout-color0, #111)));\n",
              "    --sklearn-color-border-box: var(--sg-text-color, var(--theme-code-foreground, var(--jp-content-font-color1, white)));\n",
              "    --sklearn-color-icon: #878787;\n",
              "  }\n",
              "}\n",
              "\n",
              "#sk-container-id-5 {\n",
              "  color: var(--sklearn-color-text);\n",
              "}\n",
              "\n",
              "#sk-container-id-5 pre {\n",
              "  padding: 0;\n",
              "}\n",
              "\n",
              "#sk-container-id-5 input.sk-hidden--visually {\n",
              "  border: 0;\n",
              "  clip: rect(1px 1px 1px 1px);\n",
              "  clip: rect(1px, 1px, 1px, 1px);\n",
              "  height: 1px;\n",
              "  margin: -1px;\n",
              "  overflow: hidden;\n",
              "  padding: 0;\n",
              "  position: absolute;\n",
              "  width: 1px;\n",
              "}\n",
              "\n",
              "#sk-container-id-5 div.sk-dashed-wrapped {\n",
              "  border: 1px dashed var(--sklearn-color-line);\n",
              "  margin: 0 0.4em 0.5em 0.4em;\n",
              "  box-sizing: border-box;\n",
              "  padding-bottom: 0.4em;\n",
              "  background-color: var(--sklearn-color-background);\n",
              "}\n",
              "\n",
              "#sk-container-id-5 div.sk-container {\n",
              "  /* jupyter's `normalize.less` sets `[hidden] { display: none; }`\n",
              "     but bootstrap.min.css set `[hidden] { display: none !important; }`\n",
              "     so we also need the `!important` here to be able to override the\n",
              "     default hidden behavior on the sphinx rendered scikit-learn.org.\n",
              "     See: https://github.com/scikit-learn/scikit-learn/issues/21755 */\n",
              "  display: inline-block !important;\n",
              "  position: relative;\n",
              "}\n",
              "\n",
              "#sk-container-id-5 div.sk-text-repr-fallback {\n",
              "  display: none;\n",
              "}\n",
              "\n",
              "div.sk-parallel-item,\n",
              "div.sk-serial,\n",
              "div.sk-item {\n",
              "  /* draw centered vertical line to link estimators */\n",
              "  background-image: linear-gradient(var(--sklearn-color-text-on-default-background), var(--sklearn-color-text-on-default-background));\n",
              "  background-size: 2px 100%;\n",
              "  background-repeat: no-repeat;\n",
              "  background-position: center center;\n",
              "}\n",
              "\n",
              "/* Parallel-specific style estimator block */\n",
              "\n",
              "#sk-container-id-5 div.sk-parallel-item::after {\n",
              "  content: \"\";\n",
              "  width: 100%;\n",
              "  border-bottom: 2px solid var(--sklearn-color-text-on-default-background);\n",
              "  flex-grow: 1;\n",
              "}\n",
              "\n",
              "#sk-container-id-5 div.sk-parallel {\n",
              "  display: flex;\n",
              "  align-items: stretch;\n",
              "  justify-content: center;\n",
              "  background-color: var(--sklearn-color-background);\n",
              "  position: relative;\n",
              "}\n",
              "\n",
              "#sk-container-id-5 div.sk-parallel-item {\n",
              "  display: flex;\n",
              "  flex-direction: column;\n",
              "}\n",
              "\n",
              "#sk-container-id-5 div.sk-parallel-item:first-child::after {\n",
              "  align-self: flex-end;\n",
              "  width: 50%;\n",
              "}\n",
              "\n",
              "#sk-container-id-5 div.sk-parallel-item:last-child::after {\n",
              "  align-self: flex-start;\n",
              "  width: 50%;\n",
              "}\n",
              "\n",
              "#sk-container-id-5 div.sk-parallel-item:only-child::after {\n",
              "  width: 0;\n",
              "}\n",
              "\n",
              "/* Serial-specific style estimator block */\n",
              "\n",
              "#sk-container-id-5 div.sk-serial {\n",
              "  display: flex;\n",
              "  flex-direction: column;\n",
              "  align-items: center;\n",
              "  background-color: var(--sklearn-color-background);\n",
              "  padding-right: 1em;\n",
              "  padding-left: 1em;\n",
              "}\n",
              "\n",
              "\n",
              "/* Toggleable style: style used for estimator/Pipeline/ColumnTransformer box that is\n",
              "clickable and can be expanded/collapsed.\n",
              "- Pipeline and ColumnTransformer use this feature and define the default style\n",
              "- Estimators will overwrite some part of the style using the `sk-estimator` class\n",
              "*/\n",
              "\n",
              "/* Pipeline and ColumnTransformer style (default) */\n",
              "\n",
              "#sk-container-id-5 div.sk-toggleable {\n",
              "  /* Default theme specific background. It is overwritten whether we have a\n",
              "  specific estimator or a Pipeline/ColumnTransformer */\n",
              "  background-color: var(--sklearn-color-background);\n",
              "}\n",
              "\n",
              "/* Toggleable label */\n",
              "#sk-container-id-5 label.sk-toggleable__label {\n",
              "  cursor: pointer;\n",
              "  display: flex;\n",
              "  width: 100%;\n",
              "  margin-bottom: 0;\n",
              "  padding: 0.5em;\n",
              "  box-sizing: border-box;\n",
              "  text-align: center;\n",
              "  align-items: start;\n",
              "  justify-content: space-between;\n",
              "  gap: 0.5em;\n",
              "}\n",
              "\n",
              "#sk-container-id-5 label.sk-toggleable__label .caption {\n",
              "  font-size: 0.6rem;\n",
              "  font-weight: lighter;\n",
              "  color: var(--sklearn-color-text-muted);\n",
              "}\n",
              "\n",
              "#sk-container-id-5 label.sk-toggleable__label-arrow:before {\n",
              "  /* Arrow on the left of the label */\n",
              "  content: \"▸\";\n",
              "  float: left;\n",
              "  margin-right: 0.25em;\n",
              "  color: var(--sklearn-color-icon);\n",
              "}\n",
              "\n",
              "#sk-container-id-5 label.sk-toggleable__label-arrow:hover:before {\n",
              "  color: var(--sklearn-color-text);\n",
              "}\n",
              "\n",
              "/* Toggleable content - dropdown */\n",
              "\n",
              "#sk-container-id-5 div.sk-toggleable__content {\n",
              "  max-height: 0;\n",
              "  max-width: 0;\n",
              "  overflow: hidden;\n",
              "  text-align: left;\n",
              "  /* unfitted */\n",
              "  background-color: var(--sklearn-color-unfitted-level-0);\n",
              "}\n",
              "\n",
              "#sk-container-id-5 div.sk-toggleable__content.fitted {\n",
              "  /* fitted */\n",
              "  background-color: var(--sklearn-color-fitted-level-0);\n",
              "}\n",
              "\n",
              "#sk-container-id-5 div.sk-toggleable__content pre {\n",
              "  margin: 0.2em;\n",
              "  border-radius: 0.25em;\n",
              "  color: var(--sklearn-color-text);\n",
              "  /* unfitted */\n",
              "  background-color: var(--sklearn-color-unfitted-level-0);\n",
              "}\n",
              "\n",
              "#sk-container-id-5 div.sk-toggleable__content.fitted pre {\n",
              "  /* unfitted */\n",
              "  background-color: var(--sklearn-color-fitted-level-0);\n",
              "}\n",
              "\n",
              "#sk-container-id-5 input.sk-toggleable__control:checked~div.sk-toggleable__content {\n",
              "  /* Expand drop-down */\n",
              "  max-height: 200px;\n",
              "  max-width: 100%;\n",
              "  overflow: auto;\n",
              "}\n",
              "\n",
              "#sk-container-id-5 input.sk-toggleable__control:checked~label.sk-toggleable__label-arrow:before {\n",
              "  content: \"▾\";\n",
              "}\n",
              "\n",
              "/* Pipeline/ColumnTransformer-specific style */\n",
              "\n",
              "#sk-container-id-5 div.sk-label input.sk-toggleable__control:checked~label.sk-toggleable__label {\n",
              "  color: var(--sklearn-color-text);\n",
              "  background-color: var(--sklearn-color-unfitted-level-2);\n",
              "}\n",
              "\n",
              "#sk-container-id-5 div.sk-label.fitted input.sk-toggleable__control:checked~label.sk-toggleable__label {\n",
              "  background-color: var(--sklearn-color-fitted-level-2);\n",
              "}\n",
              "\n",
              "/* Estimator-specific style */\n",
              "\n",
              "/* Colorize estimator box */\n",
              "#sk-container-id-5 div.sk-estimator input.sk-toggleable__control:checked~label.sk-toggleable__label {\n",
              "  /* unfitted */\n",
              "  background-color: var(--sklearn-color-unfitted-level-2);\n",
              "}\n",
              "\n",
              "#sk-container-id-5 div.sk-estimator.fitted input.sk-toggleable__control:checked~label.sk-toggleable__label {\n",
              "  /* fitted */\n",
              "  background-color: var(--sklearn-color-fitted-level-2);\n",
              "}\n",
              "\n",
              "#sk-container-id-5 div.sk-label label.sk-toggleable__label,\n",
              "#sk-container-id-5 div.sk-label label {\n",
              "  /* The background is the default theme color */\n",
              "  color: var(--sklearn-color-text-on-default-background);\n",
              "}\n",
              "\n",
              "/* On hover, darken the color of the background */\n",
              "#sk-container-id-5 div.sk-label:hover label.sk-toggleable__label {\n",
              "  color: var(--sklearn-color-text);\n",
              "  background-color: var(--sklearn-color-unfitted-level-2);\n",
              "}\n",
              "\n",
              "/* Label box, darken color on hover, fitted */\n",
              "#sk-container-id-5 div.sk-label.fitted:hover label.sk-toggleable__label.fitted {\n",
              "  color: var(--sklearn-color-text);\n",
              "  background-color: var(--sklearn-color-fitted-level-2);\n",
              "}\n",
              "\n",
              "/* Estimator label */\n",
              "\n",
              "#sk-container-id-5 div.sk-label label {\n",
              "  font-family: monospace;\n",
              "  font-weight: bold;\n",
              "  display: inline-block;\n",
              "  line-height: 1.2em;\n",
              "}\n",
              "\n",
              "#sk-container-id-5 div.sk-label-container {\n",
              "  text-align: center;\n",
              "}\n",
              "\n",
              "/* Estimator-specific */\n",
              "#sk-container-id-5 div.sk-estimator {\n",
              "  font-family: monospace;\n",
              "  border: 1px dotted var(--sklearn-color-border-box);\n",
              "  border-radius: 0.25em;\n",
              "  box-sizing: border-box;\n",
              "  margin-bottom: 0.5em;\n",
              "  /* unfitted */\n",
              "  background-color: var(--sklearn-color-unfitted-level-0);\n",
              "}\n",
              "\n",
              "#sk-container-id-5 div.sk-estimator.fitted {\n",
              "  /* fitted */\n",
              "  background-color: var(--sklearn-color-fitted-level-0);\n",
              "}\n",
              "\n",
              "/* on hover */\n",
              "#sk-container-id-5 div.sk-estimator:hover {\n",
              "  /* unfitted */\n",
              "  background-color: var(--sklearn-color-unfitted-level-2);\n",
              "}\n",
              "\n",
              "#sk-container-id-5 div.sk-estimator.fitted:hover {\n",
              "  /* fitted */\n",
              "  background-color: var(--sklearn-color-fitted-level-2);\n",
              "}\n",
              "\n",
              "/* Specification for estimator info (e.g. \"i\" and \"?\") */\n",
              "\n",
              "/* Common style for \"i\" and \"?\" */\n",
              "\n",
              ".sk-estimator-doc-link,\n",
              "a:link.sk-estimator-doc-link,\n",
              "a:visited.sk-estimator-doc-link {\n",
              "  float: right;\n",
              "  font-size: smaller;\n",
              "  line-height: 1em;\n",
              "  font-family: monospace;\n",
              "  background-color: var(--sklearn-color-background);\n",
              "  border-radius: 1em;\n",
              "  height: 1em;\n",
              "  width: 1em;\n",
              "  text-decoration: none !important;\n",
              "  margin-left: 0.5em;\n",
              "  text-align: center;\n",
              "  /* unfitted */\n",
              "  border: var(--sklearn-color-unfitted-level-1) 1pt solid;\n",
              "  color: var(--sklearn-color-unfitted-level-1);\n",
              "}\n",
              "\n",
              ".sk-estimator-doc-link.fitted,\n",
              "a:link.sk-estimator-doc-link.fitted,\n",
              "a:visited.sk-estimator-doc-link.fitted {\n",
              "  /* fitted */\n",
              "  border: var(--sklearn-color-fitted-level-1) 1pt solid;\n",
              "  color: var(--sklearn-color-fitted-level-1);\n",
              "}\n",
              "\n",
              "/* On hover */\n",
              "div.sk-estimator:hover .sk-estimator-doc-link:hover,\n",
              ".sk-estimator-doc-link:hover,\n",
              "div.sk-label-container:hover .sk-estimator-doc-link:hover,\n",
              ".sk-estimator-doc-link:hover {\n",
              "  /* unfitted */\n",
              "  background-color: var(--sklearn-color-unfitted-level-3);\n",
              "  color: var(--sklearn-color-background);\n",
              "  text-decoration: none;\n",
              "}\n",
              "\n",
              "div.sk-estimator.fitted:hover .sk-estimator-doc-link.fitted:hover,\n",
              ".sk-estimator-doc-link.fitted:hover,\n",
              "div.sk-label-container:hover .sk-estimator-doc-link.fitted:hover,\n",
              ".sk-estimator-doc-link.fitted:hover {\n",
              "  /* fitted */\n",
              "  background-color: var(--sklearn-color-fitted-level-3);\n",
              "  color: var(--sklearn-color-background);\n",
              "  text-decoration: none;\n",
              "}\n",
              "\n",
              "/* Span, style for the box shown on hovering the info icon */\n",
              ".sk-estimator-doc-link span {\n",
              "  display: none;\n",
              "  z-index: 9999;\n",
              "  position: relative;\n",
              "  font-weight: normal;\n",
              "  right: .2ex;\n",
              "  padding: .5ex;\n",
              "  margin: .5ex;\n",
              "  width: min-content;\n",
              "  min-width: 20ex;\n",
              "  max-width: 50ex;\n",
              "  color: var(--sklearn-color-text);\n",
              "  box-shadow: 2pt 2pt 4pt #999;\n",
              "  /* unfitted */\n",
              "  background: var(--sklearn-color-unfitted-level-0);\n",
              "  border: .5pt solid var(--sklearn-color-unfitted-level-3);\n",
              "}\n",
              "\n",
              ".sk-estimator-doc-link.fitted span {\n",
              "  /* fitted */\n",
              "  background: var(--sklearn-color-fitted-level-0);\n",
              "  border: var(--sklearn-color-fitted-level-3);\n",
              "}\n",
              "\n",
              ".sk-estimator-doc-link:hover span {\n",
              "  display: block;\n",
              "}\n",
              "\n",
              "/* \"?\"-specific style due to the `<a>` HTML tag */\n",
              "\n",
              "#sk-container-id-5 a.estimator_doc_link {\n",
              "  float: right;\n",
              "  font-size: 1rem;\n",
              "  line-height: 1em;\n",
              "  font-family: monospace;\n",
              "  background-color: var(--sklearn-color-background);\n",
              "  border-radius: 1rem;\n",
              "  height: 1rem;\n",
              "  width: 1rem;\n",
              "  text-decoration: none;\n",
              "  /* unfitted */\n",
              "  color: var(--sklearn-color-unfitted-level-1);\n",
              "  border: var(--sklearn-color-unfitted-level-1) 1pt solid;\n",
              "}\n",
              "\n",
              "#sk-container-id-5 a.estimator_doc_link.fitted {\n",
              "  /* fitted */\n",
              "  border: var(--sklearn-color-fitted-level-1) 1pt solid;\n",
              "  color: var(--sklearn-color-fitted-level-1);\n",
              "}\n",
              "\n",
              "/* On hover */\n",
              "#sk-container-id-5 a.estimator_doc_link:hover {\n",
              "  /* unfitted */\n",
              "  background-color: var(--sklearn-color-unfitted-level-3);\n",
              "  color: var(--sklearn-color-background);\n",
              "  text-decoration: none;\n",
              "}\n",
              "\n",
              "#sk-container-id-5 a.estimator_doc_link.fitted:hover {\n",
              "  /* fitted */\n",
              "  background-color: var(--sklearn-color-fitted-level-3);\n",
              "}\n",
              "</style><div id=\"sk-container-id-5\" class=\"sk-top-container\"><div class=\"sk-text-repr-fallback\"><pre>LogisticRegression()</pre><b>In a Jupyter environment, please rerun this cell to show the HTML representation or trust the notebook. <br />On GitHub, the HTML representation is unable to render, please try loading this page with nbviewer.org.</b></div><div class=\"sk-container\" hidden><div class=\"sk-item\"><div class=\"sk-estimator fitted sk-toggleable\"><input class=\"sk-toggleable__control sk-hidden--visually\" id=\"sk-estimator-id-10\" type=\"checkbox\" checked><label for=\"sk-estimator-id-10\" class=\"sk-toggleable__label fitted sk-toggleable__label-arrow\"><div><div>LogisticRegression</div></div><div><a class=\"sk-estimator-doc-link fitted\" rel=\"noreferrer\" target=\"_blank\" href=\"https://scikit-learn.org/1.6/modules/generated/sklearn.linear_model.LogisticRegression.html\">?<span>Documentation for LogisticRegression</span></a><span class=\"sk-estimator-doc-link fitted\">i<span>Fitted</span></span></div></label><div class=\"sk-toggleable__content fitted\"><pre>LogisticRegression()</pre></div> </div></div></div></div>"
            ]
          },
          "metadata": {},
          "execution_count": 27
        }
      ]
    },
    {
      "cell_type": "code",
      "source": [
        "log_reg.score(X_test,y_test)"
      ],
      "metadata": {
        "colab": {
          "base_uri": "https://localhost:8080/"
        },
        "id": "HSyZk5mt8LC-",
        "outputId": "b99b590b-3e5e-49e1-8ba2-9b16a3595180"
      },
      "execution_count": 28,
      "outputs": [
        {
          "output_type": "execute_result",
          "data": {
            "text/plain": [
              "0.8311111111111111"
            ]
          },
          "metadata": {},
          "execution_count": 28
        }
      ]
    },
    {
      "cell_type": "markdown",
      "source": [
        "이를 개선하기 위해 먼저 훈련 세트를 50개의 클러스터로 모은다. 그 다음 각 클러스터에서 센트로이드에 가장 가까운 이미지를 찾는다. 이런 이미지를 **대표 이미지**라고 부른다."
      ],
      "metadata": {
        "id": "fW7SDpan8N5B"
      }
    },
    {
      "cell_type": "code",
      "source": [
        "k=50\n",
        "kmeans = KMeans(n_clusters=k)\n",
        "X_digits_dist = kmeans.fit_transform(X_train)\n",
        "representative_digit_idx = np.argmin(X_digits_dist, axis=0)\n",
        "X_representative_digits = X_train[representative_digit_idx]"
      ],
      "metadata": {
        "id": "1JXVYkDs8aBl"
      },
      "execution_count": 29,
      "outputs": []
    },
    {
      "cell_type": "code",
      "source": [
        "plt.figure(figsize=(8, 2))\n",
        "for index, X_representative_digit in enumerate(X_representative_digits):\n",
        "    plt.subplot(k // 10, 10, index + 1)\n",
        "    plt.imshow(X_representative_digit.reshape(8, 8), cmap=\"binary\",\n",
        "               interpolation=\"bilinear\")\n",
        "    plt.axis('off')\n",
        "plt.show()"
      ],
      "metadata": {
        "colab": {
          "base_uri": "https://localhost:8080/",
          "height": 191
        },
        "id": "VnOTQfDm8reD",
        "outputId": "3f652aa6-e9ba-4d77-8287-ef69191e340d"
      },
      "execution_count": 30,
      "outputs": [
        {
          "output_type": "display_data",
          "data": {
            "text/plain": [
              "<Figure size 800x200 with 50 Axes>"
            ],
            "image/png": "[encoded data removed]"
          },
          "metadata": {}
        }
      ]
    },
    {
      "cell_type": "code",
      "source": [
        "y_representative_digits = np.array([7,9,8,6,3,9,0,7,1,2,\n",
        "                                  4,2,5,7,1,4,0,8,5,6,\n",
        "                                  5,8,3,4,1,2,6,7,8,2,\n",
        "                                  8,7,2,9,9,4,4,9,1,4,\n",
        "                                  6,7,5,3,5,2,0,0,5,6])"
      ],
      "metadata": {
        "id": "4PXRx9ZV8vbk"
      },
      "execution_count": 33,
      "outputs": []
    },
    {
      "cell_type": "code",
      "source": [
        "log_reg = LogisticRegression()\n",
        "log_reg.fit(X_representative_digits, y_representative_digits)\n",
        "log_reg.score(X_test,y_test)"
      ],
      "metadata": {
        "colab": {
          "base_uri": "https://localhost:8080/"
        },
        "id": "q30Mownl96ER",
        "outputId": "a75bb3db-8556-4dcb-a7ef-d0aa660f86e1"
      },
      "execution_count": 34,
      "outputs": [
        {
          "output_type": "stream",
          "name": "stderr",
          "text": [
            "/usr/local/lib/python3.12/dist-packages/sklearn/linear_model/_logistic.py:465: ConvergenceWarning: lbfgs failed to converge (status=1):\n",
            "STOP: TOTAL NO. OF ITERATIONS REACHED LIMIT.\n",
            "\n",
            "Increase the number of iterations (max_iter) or scale the data as shown in:\n",
            "    https://scikit-learn.org/stable/modules/preprocessing.html\n",
            "Please also refer to the documentation for alternative solver options:\n",
            "    https://scikit-learn.org/stable/modules/linear_model.html#logistic-regression\n",
            "  n_iter_i = _check_optimize_result(\n"
          ]
        },
        {
          "output_type": "execute_result",
          "data": {
            "text/plain": [
              "0.8511111111111112"
            ]
          },
          "metadata": {},
          "execution_count": 34
        }
      ]
    },
    {
      "cell_type": "markdown",
      "source": [
        "정확도가 올라간 것을 확인할 수 있다. 무작위 샘플 대신 대표 샘플에 레이블을 할당하는 것이 좋은 방법이다.\n",
        "\n",
        "이 레이블을 동일한 클러스터에 있는 모든 샘플로 전파한 것을 **레이블 전파**라고 한다."
      ],
      "metadata": {
        "id": "w3QlkjEv-GA7"
      }
    },
    {
      "cell_type": "code",
      "source": [
        "y_train_propagated = np.empty(len(X_train),dtype=np.int32)\n",
        "for i in range(k):\n",
        "    y_train_propagated[kmeans.labels_==i]=y_representative_digits[i]"
      ],
      "metadata": {
        "id": "AG285NKw-SGV"
      },
      "execution_count": 35,
      "outputs": []
    },
    {
      "cell_type": "code",
      "source": [
        "log_reg = LogisticRegression()\n",
        "log_reg.fit(X_train, y_train_propagated)\n",
        "log_reg.score(X_test,y_test)"
      ],
      "metadata": {
        "colab": {
          "base_uri": "https://localhost:8080/"
        },
        "id": "HU4TEE90-c14",
        "outputId": "a698ec97-9b4a-4005-c2e7-5f5626f4e285"
      },
      "execution_count": 36,
      "outputs": [
        {
          "output_type": "stream",
          "name": "stderr",
          "text": [
            "/usr/local/lib/python3.12/dist-packages/sklearn/linear_model/_logistic.py:465: ConvergenceWarning: lbfgs failed to converge (status=1):\n",
            "STOP: TOTAL NO. OF ITERATIONS REACHED LIMIT.\n",
            "\n",
            "Increase the number of iterations (max_iter) or scale the data as shown in:\n",
            "    https://scikit-learn.org/stable/modules/preprocessing.html\n",
            "Please also refer to the documentation for alternative solver options:\n",
            "    https://scikit-learn.org/stable/modules/linear_model.html#logistic-regression\n",
            "  n_iter_i = _check_optimize_result(\n"
          ]
        },
        {
          "output_type": "execute_result",
          "data": {
            "text/plain": [
              "0.9022222222222223"
            ]
          },
          "metadata": {},
          "execution_count": 36
        }
      ]
    },
    {
      "cell_type": "markdown",
      "source": [
        "성능이 올라간 것을 확인할 수 있다. 다만, 여기에는 클러스터 경계에 가깝게 위치한 샘플이 포함되어 있고, 아마 잘못 레이블이 부여되었을 것이다. 센트로이드와 가까운 샘플의 20%만 레이블을 전파해보고 확인해보자"
      ],
      "metadata": {
        "id": "-gJv47Ba-7l_"
      }
    },
    {
      "cell_type": "code",
      "source": [
        "percentile_closest = 2\n",
        "\n",
        "X_cluster_dist = X_digits_dist[np.arange(len(X_train)), kmeans.labels_]\n",
        "for i in range(k):\n",
        "    in_cluster = (kmeans.labels_ == i)\n",
        "    cluster_dist = X_cluster_dist[in_cluster]\n",
        "    cutoff_distance = np.percentile(cluster_dist, percentile_closest)\n",
        "    above_cutoff = (X_cluster_dist > cutoff_distance)\n",
        "    X_cluster_dist[in_cluster & above_cutoff] = -1\n",
        "\n",
        "partially_propagated = (X_cluster_dist != -1)\n",
        "X_train_partially_propagated = X_train[partially_propagated]\n",
        "y_train_partially_propagated = y_train_propagated[partially_propagated]"
      ],
      "metadata": {
        "id": "EguA1jSz-7RH"
      },
      "execution_count": 38,
      "outputs": []
    },
    {
      "cell_type": "code",
      "source": [
        "log_reg= LogisticRegression()\n",
        "log_reg.fit(X_train_partially_propagated, y_train_partially_propagated)\n",
        "log_reg.score(X_test, y_test)"
      ],
      "metadata": {
        "colab": {
          "base_uri": "https://localhost:8080/"
        },
        "id": "IRXTIEvzOZIx",
        "outputId": "4cd58846-c7d0-4fa4-a218-19011313d60f"
      },
      "execution_count": 40,
      "outputs": [
        {
          "output_type": "stream",
          "name": "stderr",
          "text": [
            "/usr/local/lib/python3.12/dist-packages/sklearn/linear_model/_logistic.py:465: ConvergenceWarning: lbfgs failed to converge (status=1):\n",
            "STOP: TOTAL NO. OF ITERATIONS REACHED LIMIT.\n",
            "\n",
            "Increase the number of iterations (max_iter) or scale the data as shown in:\n",
            "    https://scikit-learn.org/stable/modules/preprocessing.html\n",
            "Please also refer to the documentation for alternative solver options:\n",
            "    https://scikit-learn.org/stable/modules/linear_model.html#logistic-regression\n",
            "  n_iter_i = _check_optimize_result(\n"
          ]
        },
        {
          "output_type": "execute_result",
          "data": {
            "text/plain": [
              "0.8555555555555555"
            ]
          },
          "metadata": {},
          "execution_count": 40
        }
      ]
    },
    {
      "cell_type": "code",
      "source": [
        "np.mean(y_train_partially_propagated == y_train[partially_propagated])"
      ],
      "metadata": {
        "colab": {
          "base_uri": "https://localhost:8080/"
        },
        "id": "dQkg_JG_Om9j",
        "outputId": "cc907ef8-d9ec-47cb-a08c-e34b857596b7"
      },
      "execution_count": 41,
      "outputs": [
        {
          "output_type": "execute_result",
          "data": {
            "text/plain": [
              "np.float64(0.9803921568627451)"
            ]
          },
          "metadata": {},
          "execution_count": 41
        }
      ]
    },
    {
      "cell_type": "markdown",
      "source": [
        "### **1.6) DBSCAN**\n",
        "이 알고리즘은 국부적인 밀집도를 추정하는 매우 다른 방식을 사용한다. 이 알고리즘은 밀집된 연속적 지역을 클러스터로 정의한다. 작동 방식은 다음과 같다.\n",
        "\n",
        "- 알고리즘이 각 샘플에서 작은 거리인 $ϵ$ 내에 샘플이 몇 개 놓여 있는지 센다. 이 지역을 샘플의 $ϵ$-이웃이라고 부른다.\n",
        "- $ϵ$-이웃 내에 적어도 min_samples 개 샘플이 있다면 이를 **핵심 샘플**로 간주한다. 즉 핵심 샘플은 밀집된 지역에 있는 샘플이다.\n",
        "- 핵심 샘플의 이웃에 있는 모든 샘플은 동일한 클러스터로 속한다. 이웃에는 다른 핵심 샘플이 포함될 수 있다. 따라서 핵심 샘플의 이웃의 이웃은 계속해서 하나의 클러스터를 형성한다.\n",
        "- 핵심 샘플이 아니고 이웃도 아닌 샘플은 이상치로 판단한다."
      ],
      "metadata": {
        "id": "Ri3wYvEDOvUC"
      }
    },
    {
      "cell_type": "markdown",
      "source": [
        "이 알고리즘은 모든 클러스터가 충분히 밀집되어 있고 밀집되지 않은 지역과 잘 구분될 때 좋은 성능을 낸다. 사이킷런의 DBSCAN 클래스는 사용법이 간단하다."
      ],
      "metadata": {
        "id": "Qdw8EKJGQb1W"
      }
    },
    {
      "cell_type": "code",
      "source": [
        "from sklearn.cluster import DBSCAN\n",
        "from sklearn.datasets import make_moons\n",
        "\n",
        "X,y = make_moons(n_samples=1000, noise=0.05)\n",
        "dbscan = DBSCAN(eps=0.05, min_samples=5)\n",
        "dbscan.fit(X)"
      ],
      "metadata": {
        "colab": {
          "base_uri": "https://localhost:8080/",
          "height": 80
        },
        "id": "iBm1yZaYQkYy",
        "outputId": "924c0c00-f4b0-4c12-fd40-aea8b0ca9012"
      },
      "execution_count": 42,
      "outputs": [
        {
          "output_type": "execute_result",
          "data": {
            "text/plain": [
              "DBSCAN(eps=0.05)"
            ],
            "text/html": [
              "<style>#sk-container-id-6 {\n",
              "  /* Definition of color scheme common for light and dark mode */\n",
              "  --sklearn-color-text: #000;\n",
              "  --sklearn-color-text-muted: #666;\n",
              "  --sklearn-color-line: gray;\n",
              "  /* Definition of color scheme for unfitted estimators */\n",
              "  --sklearn-color-unfitted-level-0: #fff5e6;\n",
              "  --sklearn-color-unfitted-level-1: #f6e4d2;\n",
              "  --sklearn-color-unfitted-level-2: #ffe0b3;\n",
              "  --sklearn-color-unfitted-level-3: chocolate;\n",
              "  /* Definition of color scheme for fitted estimators */\n",
              "  --sklearn-color-fitted-level-0: #f0f8ff;\n",
              "  --sklearn-color-fitted-level-1: #d4ebff;\n",
              "  --sklearn-color-fitted-level-2: #b3dbfd;\n",
              "  --sklearn-color-fitted-level-3: cornflowerblue;\n",
              "\n",
              "  /* Specific color for light theme */\n",
              "  --sklearn-color-text-on-default-background: var(--sg-text-color, var(--theme-code-foreground, var(--jp-content-font-color1, black)));\n",
              "  --sklearn-color-background: var(--sg-background-color, var(--theme-background, var(--jp-layout-color0, white)));\n",
              "  --sklearn-color-border-box: var(--sg-text-color, var(--theme-code-foreground, var(--jp-content-font-color1, black)));\n",
              "  --sklearn-color-icon: #696969;\n",
              "\n",
              "  @media (prefers-color-scheme: dark) {\n",
              "    /* Redefinition of color scheme for dark theme */\n",
              "    --sklearn-color-text-on-default-background: var(--sg-text-color, var(--theme-code-foreground, var(--jp-content-font-color1, white)));\n",
              "    --sklearn-color-background: var(--sg-background-color, var(--theme-background, var(--jp-layout-color0, #111)));\n",
              "    --sklearn-color-border-box: var(--sg-text-color, var(--theme-code-foreground, var(--jp-content-font-color1, white)));\n",
              "    --sklearn-color-icon: #878787;\n",
              "  }\n",
              "}\n",
              "\n",
              "#sk-container-id-6 {\n",
              "  color: var(--sklearn-color-text);\n",
              "}\n",
              "\n",
              "#sk-container-id-6 pre {\n",
              "  padding: 0;\n",
              "}\n",
              "\n",
              "#sk-container-id-6 input.sk-hidden--visually {\n",
              "  border: 0;\n",
              "  clip: rect(1px 1px 1px 1px);\n",
              "  clip: rect(1px, 1px, 1px, 1px);\n",
              "  height: 1px;\n",
              "  margin: -1px;\n",
              "  overflow: hidden;\n",
              "  padding: 0;\n",
              "  position: absolute;\n",
              "  width: 1px;\n",
              "}\n",
              "\n",
              "#sk-container-id-6 div.sk-dashed-wrapped {\n",
              "  border: 1px dashed var(--sklearn-color-line);\n",
              "  margin: 0 0.4em 0.5em 0.4em;\n",
              "  box-sizing: border-box;\n",
              "  padding-bottom: 0.4em;\n",
              "  background-color: var(--sklearn-color-background);\n",
              "}\n",
              "\n",
              "#sk-container-id-6 div.sk-container {\n",
              "  /* jupyter's `normalize.less` sets `[hidden] { display: none; }`\n",
              "     but bootstrap.min.css set `[hidden] { display: none !important; }`\n",
              "     so we also need the `!important` here to be able to override the\n",
              "     default hidden behavior on the sphinx rendered scikit-learn.org.\n",
              "     See: https://github.com/scikit-learn/scikit-learn/issues/21755 */\n",
              "  display: inline-block !important;\n",
              "  position: relative;\n",
              "}\n",
              "\n",
              "#sk-container-id-6 div.sk-text-repr-fallback {\n",
              "  display: none;\n",
              "}\n",
              "\n",
              "div.sk-parallel-item,\n",
              "div.sk-serial,\n",
              "div.sk-item {\n",
              "  /* draw centered vertical line to link estimators */\n",
              "  background-image: linear-gradient(var(--sklearn-color-text-on-default-background), var(--sklearn-color-text-on-default-background));\n",
              "  background-size: 2px 100%;\n",
              "  background-repeat: no-repeat;\n",
              "  background-position: center center;\n",
              "}\n",
              "\n",
              "/* Parallel-specific style estimator block */\n",
              "\n",
              "#sk-container-id-6 div.sk-parallel-item::after {\n",
              "  content: \"\";\n",
              "  width: 100%;\n",
              "  border-bottom: 2px solid var(--sklearn-color-text-on-default-background);\n",
              "  flex-grow: 1;\n",
              "}\n",
              "\n",
              "#sk-container-id-6 div.sk-parallel {\n",
              "  display: flex;\n",
              "  align-items: stretch;\n",
              "  justify-content: center;\n",
              "  background-color: var(--sklearn-color-background);\n",
              "  position: relative;\n",
              "}\n",
              "\n",
              "#sk-container-id-6 div.sk-parallel-item {\n",
              "  display: flex;\n",
              "  flex-direction: column;\n",
              "}\n",
              "\n",
              "#sk-container-id-6 div.sk-parallel-item:first-child::after {\n",
              "  align-self: flex-end;\n",
              "  width: 50%;\n",
              "}\n",
              "\n",
              "#sk-container-id-6 div.sk-parallel-item:last-child::after {\n",
              "  align-self: flex-start;\n",
              "  width: 50%;\n",
              "}\n",
              "\n",
              "#sk-container-id-6 div.sk-parallel-item:only-child::after {\n",
              "  width: 0;\n",
              "}\n",
              "\n",
              "/* Serial-specific style estimator block */\n",
              "\n",
              "#sk-container-id-6 div.sk-serial {\n",
              "  display: flex;\n",
              "  flex-direction: column;\n",
              "  align-items: center;\n",
              "  background-color: var(--sklearn-color-background);\n",
              "  padding-right: 1em;\n",
              "  padding-left: 1em;\n",
              "}\n",
              "\n",
              "\n",
              "/* Toggleable style: style used for estimator/Pipeline/ColumnTransformer box that is\n",
              "clickable and can be expanded/collapsed.\n",
              "- Pipeline and ColumnTransformer use this feature and define the default style\n",
              "- Estimators will overwrite some part of the style using the `sk-estimator` class\n",
              "*/\n",
              "\n",
              "/* Pipeline and ColumnTransformer style (default) */\n",
              "\n",
              "#sk-container-id-6 div.sk-toggleable {\n",
              "  /* Default theme specific background. It is overwritten whether we have a\n",
              "  specific estimator or a Pipeline/ColumnTransformer */\n",
              "  background-color: var(--sklearn-color-background);\n",
              "}\n",
              "\n",
              "/* Toggleable label */\n",
              "#sk-container-id-6 label.sk-toggleable__label {\n",
              "  cursor: pointer;\n",
              "  display: flex;\n",
              "  width: 100%;\n",
              "  margin-bottom: 0;\n",
              "  padding: 0.5em;\n",
              "  box-sizing: border-box;\n",
              "  text-align: center;\n",
              "  align-items: start;\n",
              "  justify-content: space-between;\n",
              "  gap: 0.5em;\n",
              "}\n",
              "\n",
              "#sk-container-id-6 label.sk-toggleable__label .caption {\n",
              "  font-size: 0.6rem;\n",
              "  font-weight: lighter;\n",
              "  color: var(--sklearn-color-text-muted);\n",
              "}\n",
              "\n",
              "#sk-container-id-6 label.sk-toggleable__label-arrow:before {\n",
              "  /* Arrow on the left of the label */\n",
              "  content: \"▸\";\n",
              "  float: left;\n",
              "  margin-right: 0.25em;\n",
              "  color: var(--sklearn-color-icon);\n",
              "}\n",
              "\n",
              "#sk-container-id-6 label.sk-toggleable__label-arrow:hover:before {\n",
              "  color: var(--sklearn-color-text);\n",
              "}\n",
              "\n",
              "/* Toggleable content - dropdown */\n",
              "\n",
              "#sk-container-id-6 div.sk-toggleable__content {\n",
              "  max-height: 0;\n",
              "  max-width: 0;\n",
              "  overflow: hidden;\n",
              "  text-align: left;\n",
              "  /* unfitted */\n",
              "  background-color: var(--sklearn-color-unfitted-level-0);\n",
              "}\n",
              "\n",
              "#sk-container-id-6 div.sk-toggleable__content.fitted {\n",
              "  /* fitted */\n",
              "  background-color: var(--sklearn-color-fitted-level-0);\n",
              "}\n",
              "\n",
              "#sk-container-id-6 div.sk-toggleable__content pre {\n",
              "  margin: 0.2em;\n",
              "  border-radius: 0.25em;\n",
              "  color: var(--sklearn-color-text);\n",
              "  /* unfitted */\n",
              "  background-color: var(--sklearn-color-unfitted-level-0);\n",
              "}\n",
              "\n",
              "#sk-container-id-6 div.sk-toggleable__content.fitted pre {\n",
              "  /* unfitted */\n",
              "  background-color: var(--sklearn-color-fitted-level-0);\n",
              "}\n",
              "\n",
              "#sk-container-id-6 input.sk-toggleable__control:checked~div.sk-toggleable__content {\n",
              "  /* Expand drop-down */\n",
              "  max-height: 200px;\n",
              "  max-width: 100%;\n",
              "  overflow: auto;\n",
              "}\n",
              "\n",
              "#sk-container-id-6 input.sk-toggleable__control:checked~label.sk-toggleable__label-arrow:before {\n",
              "  content: \"▾\";\n",
              "}\n",
              "\n",
              "/* Pipeline/ColumnTransformer-specific style */\n",
              "\n",
              "#sk-container-id-6 div.sk-label input.sk-toggleable__control:checked~label.sk-toggleable__label {\n",
              "  color: var(--sklearn-color-text);\n",
              "  background-color: var(--sklearn-color-unfitted-level-2);\n",
              "}\n",
              "\n",
              "#sk-container-id-6 div.sk-label.fitted input.sk-toggleable__control:checked~label.sk-toggleable__label {\n",
              "  background-color: var(--sklearn-color-fitted-level-2);\n",
              "}\n",
              "\n",
              "/* Estimator-specific style */\n",
              "\n",
              "/* Colorize estimator box */\n",
              "#sk-container-id-6 div.sk-estimator input.sk-toggleable__control:checked~label.sk-toggleable__label {\n",
              "  /* unfitted */\n",
              "  background-color: var(--sklearn-color-unfitted-level-2);\n",
              "}\n",
              "\n",
              "#sk-container-id-6 div.sk-estimator.fitted input.sk-toggleable__control:checked~label.sk-toggleable__label {\n",
              "  /* fitted */\n",
              "  background-color: var(--sklearn-color-fitted-level-2);\n",
              "}\n",
              "\n",
              "#sk-container-id-6 div.sk-label label.sk-toggleable__label,\n",
              "#sk-container-id-6 div.sk-label label {\n",
              "  /* The background is the default theme color */\n",
              "  color: var(--sklearn-color-text-on-default-background);\n",
              "}\n",
              "\n",
              "/* On hover, darken the color of the background */\n",
              "#sk-container-id-6 div.sk-label:hover label.sk-toggleable__label {\n",
              "  color: var(--sklearn-color-text);\n",
              "  background-color: var(--sklearn-color-unfitted-level-2);\n",
              "}\n",
              "\n",
              "/* Label box, darken color on hover, fitted */\n",
              "#sk-container-id-6 div.sk-label.fitted:hover label.sk-toggleable__label.fitted {\n",
              "  color: var(--sklearn-color-text);\n",
              "  background-color: var(--sklearn-color-fitted-level-2);\n",
              "}\n",
              "\n",
              "/* Estimator label */\n",
              "\n",
              "#sk-container-id-6 div.sk-label label {\n",
              "  font-family: monospace;\n",
              "  font-weight: bold;\n",
              "  display: inline-block;\n",
              "  line-height: 1.2em;\n",
              "}\n",
              "\n",
              "#sk-container-id-6 div.sk-label-container {\n",
              "  text-align: center;\n",
              "}\n",
              "\n",
              "/* Estimator-specific */\n",
              "#sk-container-id-6 div.sk-estimator {\n",
              "  font-family: monospace;\n",
              "  border: 1px dotted var(--sklearn-color-border-box);\n",
              "  border-radius: 0.25em;\n",
              "  box-sizing: border-box;\n",
              "  margin-bottom: 0.5em;\n",
              "  /* unfitted */\n",
              "  background-color: var(--sklearn-color-unfitted-level-0);\n",
              "}\n",
              "\n",
              "#sk-container-id-6 div.sk-estimator.fitted {\n",
              "  /* fitted */\n",
              "  background-color: var(--sklearn-color-fitted-level-0);\n",
              "}\n",
              "\n",
              "/* on hover */\n",
              "#sk-container-id-6 div.sk-estimator:hover {\n",
              "  /* unfitted */\n",
              "  background-color: var(--sklearn-color-unfitted-level-2);\n",
              "}\n",
              "\n",
              "#sk-container-id-6 div.sk-estimator.fitted:hover {\n",
              "  /* fitted */\n",
              "  background-color: var(--sklearn-color-fitted-level-2);\n",
              "}\n",
              "\n",
              "/* Specification for estimator info (e.g. \"i\" and \"?\") */\n",
              "\n",
              "/* Common style for \"i\" and \"?\" */\n",
              "\n",
              ".sk-estimator-doc-link,\n",
              "a:link.sk-estimator-doc-link,\n",
              "a:visited.sk-estimator-doc-link {\n",
              "  float: right;\n",
              "  font-size: smaller;\n",
              "  line-height: 1em;\n",
              "  font-family: monospace;\n",
              "  background-color: var(--sklearn-color-background);\n",
              "  border-radius: 1em;\n",
              "  height: 1em;\n",
              "  width: 1em;\n",
              "  text-decoration: none !important;\n",
              "  margin-left: 0.5em;\n",
              "  text-align: center;\n",
              "  /* unfitted */\n",
              "  border: var(--sklearn-color-unfitted-level-1) 1pt solid;\n",
              "  color: var(--sklearn-color-unfitted-level-1);\n",
              "}\n",
              "\n",
              ".sk-estimator-doc-link.fitted,\n",
              "a:link.sk-estimator-doc-link.fitted,\n",
              "a:visited.sk-estimator-doc-link.fitted {\n",
              "  /* fitted */\n",
              "  border: var(--sklearn-color-fitted-level-1) 1pt solid;\n",
              "  color: var(--sklearn-color-fitted-level-1);\n",
              "}\n",
              "\n",
              "/* On hover */\n",
              "div.sk-estimator:hover .sk-estimator-doc-link:hover,\n",
              ".sk-estimator-doc-link:hover,\n",
              "div.sk-label-container:hover .sk-estimator-doc-link:hover,\n",
              ".sk-estimator-doc-link:hover {\n",
              "  /* unfitted */\n",
              "  background-color: var(--sklearn-color-unfitted-level-3);\n",
              "  color: var(--sklearn-color-background);\n",
              "  text-decoration: none;\n",
              "}\n",
              "\n",
              "div.sk-estimator.fitted:hover .sk-estimator-doc-link.fitted:hover,\n",
              ".sk-estimator-doc-link.fitted:hover,\n",
              "div.sk-label-container:hover .sk-estimator-doc-link.fitted:hover,\n",
              ".sk-estimator-doc-link.fitted:hover {\n",
              "  /* fitted */\n",
              "  background-color: var(--sklearn-color-fitted-level-3);\n",
              "  color: var(--sklearn-color-background);\n",
              "  text-decoration: none;\n",
              "}\n",
              "\n",
              "/* Span, style for the box shown on hovering the info icon */\n",
              ".sk-estimator-doc-link span {\n",
              "  display: none;\n",
              "  z-index: 9999;\n",
              "  position: relative;\n",
              "  font-weight: normal;\n",
              "  right: .2ex;\n",
              "  padding: .5ex;\n",
              "  margin: .5ex;\n",
              "  width: min-content;\n",
              "  min-width: 20ex;\n",
              "  max-width: 50ex;\n",
              "  color: var(--sklearn-color-text);\n",
              "  box-shadow: 2pt 2pt 4pt #999;\n",
              "  /* unfitted */\n",
              "  background: var(--sklearn-color-unfitted-level-0);\n",
              "  border: .5pt solid var(--sklearn-color-unfitted-level-3);\n",
              "}\n",
              "\n",
              ".sk-estimator-doc-link.fitted span {\n",
              "  /* fitted */\n",
              "  background: var(--sklearn-color-fitted-level-0);\n",
              "  border: var(--sklearn-color-fitted-level-3);\n",
              "}\n",
              "\n",
              ".sk-estimator-doc-link:hover span {\n",
              "  display: block;\n",
              "}\n",
              "\n",
              "/* \"?\"-specific style due to the `<a>` HTML tag */\n",
              "\n",
              "#sk-container-id-6 a.estimator_doc_link {\n",
              "  float: right;\n",
              "  font-size: 1rem;\n",
              "  line-height: 1em;\n",
              "  font-family: monospace;\n",
              "  background-color: var(--sklearn-color-background);\n",
              "  border-radius: 1rem;\n",
              "  height: 1rem;\n",
              "  width: 1rem;\n",
              "  text-decoration: none;\n",
              "  /* unfitted */\n",
              "  color: var(--sklearn-color-unfitted-level-1);\n",
              "  border: var(--sklearn-color-unfitted-level-1) 1pt solid;\n",
              "}\n",
              "\n",
              "#sk-container-id-6 a.estimator_doc_link.fitted {\n",
              "  /* fitted */\n",
              "  border: var(--sklearn-color-fitted-level-1) 1pt solid;\n",
              "  color: var(--sklearn-color-fitted-level-1);\n",
              "}\n",
              "\n",
              "/* On hover */\n",
              "#sk-container-id-6 a.estimator_doc_link:hover {\n",
              "  /* unfitted */\n",
              "  background-color: var(--sklearn-color-unfitted-level-3);\n",
              "  color: var(--sklearn-color-background);\n",
              "  text-decoration: none;\n",
              "}\n",
              "\n",
              "#sk-container-id-6 a.estimator_doc_link.fitted:hover {\n",
              "  /* fitted */\n",
              "  background-color: var(--sklearn-color-fitted-level-3);\n",
              "}\n",
              "</style><div id=\"sk-container-id-6\" class=\"sk-top-container\"><div class=\"sk-text-repr-fallback\"><pre>DBSCAN(eps=0.05)</pre><b>In a Jupyter environment, please rerun this cell to show the HTML representation or trust the notebook. <br />On GitHub, the HTML representation is unable to render, please try loading this page with nbviewer.org.</b></div><div class=\"sk-container\" hidden><div class=\"sk-item\"><div class=\"sk-estimator fitted sk-toggleable\"><input class=\"sk-toggleable__control sk-hidden--visually\" id=\"sk-estimator-id-11\" type=\"checkbox\" checked><label for=\"sk-estimator-id-11\" class=\"sk-toggleable__label fitted sk-toggleable__label-arrow\"><div><div>DBSCAN</div></div><div><a class=\"sk-estimator-doc-link fitted\" rel=\"noreferrer\" target=\"_blank\" href=\"https://scikit-learn.org/1.6/modules/generated/sklearn.cluster.DBSCAN.html\">?<span>Documentation for DBSCAN</span></a><span class=\"sk-estimator-doc-link fitted\">i<span>Fitted</span></span></div></label><div class=\"sk-toggleable__content fitted\"><pre>DBSCAN(eps=0.05)</pre></div> </div></div></div></div>"
            ]
          },
          "metadata": {},
          "execution_count": 42
        }
      ]
    },
    {
      "cell_type": "markdown",
      "source": [
        "모든 샘플의 레이블은 인스턴스 변수 labels_에 저장되어 있다."
      ],
      "metadata": {
        "id": "NONM6tqDQxJU"
      }
    },
    {
      "cell_type": "code",
      "source": [
        "dbscan.labels_"
      ],
      "metadata": {
        "colab": {
          "base_uri": "https://localhost:8080/"
        },
        "id": "VU_YdR4iQ4xJ",
        "outputId": "efdaf90c-6654-44d3-d9e9-9f67737814a3"
      },
      "execution_count": 43,
      "outputs": [
        {
          "output_type": "execute_result",
          "data": {
            "text/plain": [
              "array([ 2,  0,  1,  2,  1,  3,  1,  4,  5,  1, 11,  6,  2,  1, 10,  5,  2,\n",
              "       -1,  7,  5,  7,  8,  5,  2,  4,  0,  1,  4,  9,  1, 10,  1,  2,  5,\n",
              "        2,  2, -1,  8,  2,  6,  5,  8, -1, -1, 11,  1,  1,  6, 12,  8,  8,\n",
              "       11,  5,  5,  1, 11,  1,  0, -1,  5, 11,  5, 11,  4,  0, 11,  4,  1,\n",
              "        2,  1, -1,  8,  2, -1, 10,  5,  1,  1,  4, 10,  1, 11,  7,  2, 10,\n",
              "        2,  4,  2,  2,  2,  4,  1,  1,  1,  8,  1,  0,  1,  1, -1,  8,  0,\n",
              "       10,  4,  6,  1, -1,  2,  2,  7,  2, 11,  1,  2, 11,  0,  4,  2,  2,\n",
              "        4,  1,  0,  4,  5,  1,  2,  8,  1,  6,  5,  1, -1, -1,  1, 12,  8,\n",
              "       12, -1,  5,  4,  2,  1,  6,  4, 11, 12,  1,  2,  0,  0, -1,  8,  2,\n",
              "        4,  4, -1, 11,  1, -1,  6,  4,  1,  1,  1,  2,  0, 11,  5,  2, -1,\n",
              "        5,  2,  4,  1,  6,  4,  5,  7,  1,  7, -1,  6,  4,  2,  1,  4,  1,\n",
              "        2,  1,  4, 11,  0, 12,  6,  2,  1, -1,  5,  7,  1,  2,  7,  6,  6,\n",
              "        1, 11,  2,  1,  6,  2,  2,  2,  4, -1,  1,  6,  1,  0,  1,  1,  2,\n",
              "        2,  4, -1,  4, -1,  2, 10,  2,  4,  5, 11,  1, -1,  8,  4,  5,  1,\n",
              "       11,  8,  6,  5,  5,  8,  1,  1, 11,  2, 12,  4,  2,  7,  7,  9,  0,\n",
              "        4, -1,  3,  4, -1, -1,  4,  8,  5,  5,  4,  4,  1,  8,  4,  1, -1,\n",
              "        4,  4,  2, 11, -1,  1,  8,  8, 11, -1,  2, 10,  6,  7,  4,  8, 11,\n",
              "        1,  4,  4,  1, -1,  1,  1,  1, -1, 12,  3,  2,  1,  4,  1,  2,  6,\n",
              "       -1,  7,  1,  8,  8,  0,  0,  1,  1, 11,  8,  5,  2,  6,  1,  4, 11,\n",
              "        2,  4,  1,  0, 11,  1, 11,  1,  2,  1,  1,  0,  5,  5,  4, -1, 11,\n",
              "       -1,  2,  2,  4,  0,  2,  1,  0,  7,  1,  1, 12,  0,  1, 12,  2,  7,\n",
              "        4, 11, 11,  2, -1, 10,  2,  1, -1,  4, -1,  2,  8,  1,  4, 11,  0,\n",
              "       11,  5,  1,  8,  2,  0,  4,  2,  2,  0,  6, 12, -1,  4,  0,  4,  2,\n",
              "        8,  7, -1,  2,  2,  2,  5,  0,  5,  4,  2,  5,  8, 11, -1, 11,  1,\n",
              "        5,  5,  6,  9,  4, 12,  2,  1,  5,  8,  4, 11,  0,  8, 10,  5, 11,\n",
              "        2,  9, -1, 11,  1,  1,  4,  8,  5,  5,  2,  1,  1,  4,  1,  1,  1,\n",
              "       11,  2,  2,  1,  2,  1,  2,  4,  1,  0, 12,  1,  0, -1, 12,  8,  2,\n",
              "        9,  1,  0,  1,  5, 10,  9,  9,  4,  4,  5,  4,  0, -1,  4,  4,  4,\n",
              "       11,  5,  6,  1,  1,  2,  6,  2, 10, -1,  6,  1, -1,  5,  4,  2,  4,\n",
              "        7,  5, 11,  7,  6,  4,  1, 11,  5,  6,  4,  4,  1,  0,  5, -1,  1,\n",
              "        6, -1,  1,  8,  8,  2,  1,  2,  2, -1,  0, 10,  5,  0,  7,  0,  1,\n",
              "        7,  1,  2,  1,  7,  4, -1,  1, 11,  6, 12,  1,  6,  1,  8,  7,  1,\n",
              "        1,  3,  6,  6,  1,  0, 10, 11,  1,  1, -1,  2,  4,  9,  1,  5,  5,\n",
              "        6,  1,  5, 10,  2,  7,  4, -1,  4,  1,  8,  0,  8,  0,  8,  4, 11,\n",
              "        2,  4,  0,  1,  0, -1,  7, 12, 11,  5,  1,  1,  4,  2,  6,  1,  0,\n",
              "        4,  1,  2,  1,  1,  1,  1,  1,  4,  6,  6,  8,  2,  4, 10, 11,  6,\n",
              "       -1,  9, 12,  5,  4,  1,  7,  1, 11, 10, 11,  2,  1,  2,  2,  1,  2,\n",
              "        6,  5,  0, 10,  5,  4, 10,  8,  2,  5,  0,  6,  2,  5,  1,  6,  4,\n",
              "        9, -1, 11,  0,  2,  2,  6,  8, -1, 12, -1,  7, 11,  6,  1,  1,  6,\n",
              "        0,  1,  6,  1,  4,  4,  2,  2,  5,  2,  6,  1,  7,  2,  1,  2,  5,\n",
              "        0,  1, -1,  1,  4, -1,  0,  2, 11,  4, 10, 11,  3,  8,  4, 11,  2,\n",
              "       -1,  6,  1,  2,  2,  1,  4, 11,  2, -1,  1,  1,  5,  1,  1,  8,  8,\n",
              "        5,  6,  6, -1,  2, -1,  1,  2,  7,  0,  7,  0,  2, -1,  1,  0, 11,\n",
              "        2,  1, 10,  5,  1,  9,  2,  5,  4,  2,  1,  2,  5,  1,  7,  1, 11,\n",
              "        6,  8,  4,  1,  4,  8,  1, -1,  7,  8,  1,  8,  4,  8, -1,  1,  0,\n",
              "        0, 11, -1, 11,  4,  1, 11,  1,  0,  4,  6,  1, 12,  1,  4, 11,  4,\n",
              "        5,  0, 11, 11, 12,  5,  4,  2, 11,  4,  2,  0, 11,  6,  1,  5,  1,\n",
              "        6,  2,  2,  0,  4,  1,  2,  5,  5,  0, 12,  1,  2, 11, 11,  4,  8,\n",
              "        0,  4, -1,  4,  8, 11,  8, 11,  1, -1, 10,  1,  5,  0, -1,  4,  1,\n",
              "        1,  2,  1, -1, 11,  2,  0, -1,  6,  1,  4,  0,  5,  2, 11,  7,  1,\n",
              "        1,  2,  5, 12,  4,  7,  6,  8,  9,  2,  5,  1,  2,  2,  2, 11,  2,\n",
              "        5,  4,  2, -1,  4,  4,  2,  5,  0,  6,  9,  1, 11,  1,  8,  1, 10,\n",
              "        2,  4,  1,  4, -1,  2, 10,  4,  0,  2,  4, -1,  7,  5, -1,  7,  2,\n",
              "       11,  1,  5,  1, 10,  2, 11,  8, -1,  7,  8,  2,  8,  5,  6,  7,  5,\n",
              "        4,  9,  5, -1,  2, 11,  8,  5,  5,  2,  1,  1,  7,  0,  4,  0,  1,\n",
              "        1,  2, -1,  0,  2,  0, -1,  5,  4,  1,  1,  5,  7,  4, 11,  1,  1,\n",
              "       10,  1,  1,  5,  2,  0,  1,  4, 12, -1,  7,  2,  0, -1,  2,  2,  1,\n",
              "        2,  0, 10,  6,  0,  5,  4, 11,  5, -1,  2,  4, -1,  4,  2, 11,  1,\n",
              "       11,  4,  0,  8,  5,  5,  6,  1, -1, 12,  2,  1, 11,  2])"
            ]
          },
          "metadata": {},
          "execution_count": 43
        }
      ]
    },
    {
      "cell_type": "markdown",
      "source": [
        "일부 샘플의 클러스터 인덱스는 -1이다. 이는 알고리즘이 이 샘플을 이상치로 판단했다는 의미이다. 핵심 샘플의 인덱스는 인스턴스 변수 core_sample_indices_에서 확인할 수 있다. 핵심 샘플 자체는 인스턴스 변수 components_에 저장되어 있다."
      ],
      "metadata": {
        "id": "zHLZ2etrQ8Lm"
      }
    },
    {
      "cell_type": "code",
      "source": [
        "print(len(dbscan.core_sample_indices_))\n",
        "print(dbscan.core_sample_indices_)\n",
        "print(dbscan.components_)"
      ],
      "metadata": {
        "colab": {
          "base_uri": "https://localhost:8080/"
        },
        "id": "8EUEYzP0RJHh",
        "outputId": "b9fc3052-7f2a-4404-c89d-70153a1c436b"
      },
      "execution_count": 46,
      "outputs": [
        {
          "output_type": "stream",
          "name": "stdout",
          "text": [
            "802\n",
            "[  1   2   3   5   6   7   8   9  11  12  18  19  20  21  22  23  24  26\n",
            "  27  28  29  30  31  32  33  34  35  37  38  39  40  41  44  45  46  47\n",
            "  48  49  50  51  52  53  54  56  57  59  60  61  62  63  64  65  66  67\n",
            "  68  69  71  72  74  76  78  80  81  82  83  84  85  86  88  89  90  91\n",
            "  92  93  95  97  98 100 101 103 104 105 107 108 111 113 114 116 117 118\n",
            " 119 120 121 124 125 126 127 128 129 130 133 134 135 136 138 139 141 143\n",
            " 144 145 146 147 148 149 151 152 153 154 156 157 160 161 162 164 165 166\n",
            " 167 168 170 172 173 174 175 176 177 178 179 181 182 183 184 185 186 187\n",
            " 188 189 190 191 192 193 194 195 197 198 199 200 201 202 203 204 209 210\n",
            " 211 212 214 215 216 218 219 220 221 224 226 227 228 230 231 232 234 235\n",
            " 236 237 238 239 240 241 242 245 246 247 248 249 250 252 253 255 258 261\n",
            " 262 263 264 265 266 267 268 269 270 272 274 275 277 278 279 280 282 284\n",
            " 285 286 289 290 291 294 295 296 298 300 301 302 303 305 309 310 311 312\n",
            " 313 314 315 317 318 319 321 322 323 324 325 326 327 328 330 331 332 333\n",
            " 334 335 336 337 339 341 342 343 345 347 348 349 350 351 352 353 354 355\n",
            " 356 357 359 360 362 363 364 366 368 369 370 371 372 373 374 375 376 377\n",
            " 378 379 380 381 382 383 384 387 388 389 390 391 392 394 395 396 398 399\n",
            " 400 401 402 403 404 406 408 409 410 411 412 413 414 415 417 418 419 420\n",
            " 421 422 423 424 425 426 428 429 431 432 433 434 435 437 438 440 441 442\n",
            " 443 444 445 446 448 449 450 451 452 453 454 456 457 458 460 461 462 463\n",
            " 464 465 466 467 468 469 470 471 473 474 475 476 477 478 479 480 481 482\n",
            " 483 484 486 487 489 490 491 492 493 494 495 496 497 498 499 500 501 503\n",
            " 504 505 506 507 510 512 514 515 516 517 520 521 522 523 524 525 526 527\n",
            " 528 529 530 531 532 534 535 536 537 538 539 540 541 542 543 544 545 546\n",
            " 548 549 551 552 553 556 557 558 559 560 561 562 563 564 565 566 567 569\n",
            " 571 573 574 575 576 577 578 580 581 582 584 585 586 588 589 590 591 592\n",
            " 593 594 595 596 597 598 600 601 602 603 604 605 606 607 608 609 610 611\n",
            " 613 614 615 616 617 618 619 622 623 624 625 626 627 628 629 630 631 632\n",
            " 633 634 635 636 638 640 641 642 643 644 645 646 649 650 651 655 657 658\n",
            " 660 662 663 664 665 667 668 669 670 672 673 674 675 676 677 678 679 680\n",
            " 681 683 684 686 687 688 689 690 691 692 693 694 695 699 700 702 704 705\n",
            " 707 708 709 710 711 712 713 714 715 716 718 720 722 723 724 725 726 728\n",
            " 729 730 731 733 734 735 737 738 739 740 741 742 743 744 745 746 747 748\n",
            " 750 751 752 753 754 756 757 758 759 763 764 765 766 768 769 770 771 772\n",
            " 773 774 775 776 777 778 779 780 781 782 783 784 785 787 788 789 790 791\n",
            " 792 793 795 796 797 798 799 800 802 803 804 805 806 807 808 809 810 811\n",
            " 812 813 815 816 817 819 820 821 822 823 824 826 827 828 829 831 832 833\n",
            " 834 835 837 839 841 842 843 844 846 847 848 849 850 851 852 854 855 856\n",
            " 857 858 859 860 861 863 864 865 866 867 868 871 872 873 874 875 876 877\n",
            " 879 880 881 882 883 884 885 886 887 889 891 893 894 896 897 899 900 901\n",
            " 902 903 904 905 907 908 910 911 912 913 914 915 916 917 918 919 920 922\n",
            " 923 924 925 926 927 928 929 930 931 932 933 935 936 939 940 942 944 945\n",
            " 946 947 948 949 950 951 952 953 954 955 956 957 958 960 962 964 966 967\n",
            " 968 969 970 971 973 974 975 976 977 979 980 982 983 984 985 986 987 988\n",
            " 989 990 991 992 993 995 996 997 998 999]\n",
            "[[ 0.8477245   0.57365471]\n",
            " [ 1.81290883 -0.03433448]\n",
            " [ 0.63001168 -0.4253672 ]\n",
            " ...\n",
            " [ 1.4122782  -0.33531149]\n",
            " [-0.40345293  0.93947356]\n",
            " [ 1.12144001 -0.531925  ]]\n"
          ]
        }
      ]
    },
    {
      "cell_type": "markdown",
      "source": [
        "DBSCAN 클래스는 predict( ) 메서드를 제공하지 않고 fit_predict( ) 메서드를 제공한다. 다시 말해 이 알고리즘은 새로운 샘플에 대해 클러스터를 예측할 수 없다."
      ],
      "metadata": {
        "id": "LJAH17-PSDyb"
      }
    },
    {
      "cell_type": "code",
      "source": [
        "from sklearn.neighbors import KNeighborsClassifier\n",
        "\n",
        "knn =KNeighborsClassifier(n_neighbors=50)\n",
        "knn.fit(dbscan.components_, dbscan.labels_[dbscan.core_sample_indices_])"
      ],
      "metadata": {
        "colab": {
          "base_uri": "https://localhost:8080/",
          "height": 80
        },
        "id": "-OnB3J8DSPNr",
        "outputId": "f5def228-8b45-4950-a382-3bbf96306d1f"
      },
      "execution_count": 48,
      "outputs": [
        {
          "output_type": "execute_result",
          "data": {
            "text/plain": [
              "KNeighborsClassifier(n_neighbors=50)"
            ],
            "text/html": [
              "<style>#sk-container-id-7 {\n",
              "  /* Definition of color scheme common for light and dark mode */\n",
              "  --sklearn-color-text: #000;\n",
              "  --sklearn-color-text-muted: #666;\n",
              "  --sklearn-color-line: gray;\n",
              "  /* Definition of color scheme for unfitted estimators */\n",
              "  --sklearn-color-unfitted-level-0: #fff5e6;\n",
              "  --sklearn-color-unfitted-level-1: #f6e4d2;\n",
              "  --sklearn-color-unfitted-level-2: #ffe0b3;\n",
              "  --sklearn-color-unfitted-level-3: chocolate;\n",
              "  /* Definition of color scheme for fitted estimators */\n",
              "  --sklearn-color-fitted-level-0: #f0f8ff;\n",
              "  --sklearn-color-fitted-level-1: #d4ebff;\n",
              "  --sklearn-color-fitted-level-2: #b3dbfd;\n",
              "  --sklearn-color-fitted-level-3: cornflowerblue;\n",
              "\n",
              "  /* Specific color for light theme */\n",
              "  --sklearn-color-text-on-default-background: var(--sg-text-color, var(--theme-code-foreground, var(--jp-content-font-color1, black)));\n",
              "  --sklearn-color-background: var(--sg-background-color, var(--theme-background, var(--jp-layout-color0, white)));\n",
              "  --sklearn-color-border-box: var(--sg-text-color, var(--theme-code-foreground, var(--jp-content-font-color1, black)));\n",
              "  --sklearn-color-icon: #696969;\n",
              "\n",
              "  @media (prefers-color-scheme: dark) {\n",
              "    /* Redefinition of color scheme for dark theme */\n",
              "    --sklearn-color-text-on-default-background: var(--sg-text-color, var(--theme-code-foreground, var(--jp-content-font-color1, white)));\n",
              "    --sklearn-color-background: var(--sg-background-color, var(--theme-background, var(--jp-layout-color0, #111)));\n",
              "    --sklearn-color-border-box: var(--sg-text-color, var(--theme-code-foreground, var(--jp-content-font-color1, white)));\n",
              "    --sklearn-color-icon: #878787;\n",
              "  }\n",
              "}\n",
              "\n",
              "#sk-container-id-7 {\n",
              "  color: var(--sklearn-color-text);\n",
              "}\n",
              "\n",
              "#sk-container-id-7 pre {\n",
              "  padding: 0;\n",
              "}\n",
              "\n",
              "#sk-container-id-7 input.sk-hidden--visually {\n",
              "  border: 0;\n",
              "  clip: rect(1px 1px 1px 1px);\n",
              "  clip: rect(1px, 1px, 1px, 1px);\n",
              "  height: 1px;\n",
              "  margin: -1px;\n",
              "  overflow: hidden;\n",
              "  padding: 0;\n",
              "  position: absolute;\n",
              "  width: 1px;\n",
              "}\n",
              "\n",
              "#sk-container-id-7 div.sk-dashed-wrapped {\n",
              "  border: 1px dashed var(--sklearn-color-line);\n",
              "  margin: 0 0.4em 0.5em 0.4em;\n",
              "  box-sizing: border-box;\n",
              "  padding-bottom: 0.4em;\n",
              "  background-color: var(--sklearn-color-background);\n",
              "}\n",
              "\n",
              "#sk-container-id-7 div.sk-container {\n",
              "  /* jupyter's `normalize.less` sets `[hidden] { display: none; }`\n",
              "     but bootstrap.min.css set `[hidden] { display: none !important; }`\n",
              "     so we also need the `!important` here to be able to override the\n",
              "     default hidden behavior on the sphinx rendered scikit-learn.org.\n",
              "     See: https://github.com/scikit-learn/scikit-learn/issues/21755 */\n",
              "  display: inline-block !important;\n",
              "  position: relative;\n",
              "}\n",
              "\n",
              "#sk-container-id-7 div.sk-text-repr-fallback {\n",
              "  display: none;\n",
              "}\n",
              "\n",
              "div.sk-parallel-item,\n",
              "div.sk-serial,\n",
              "div.sk-item {\n",
              "  /* draw centered vertical line to link estimators */\n",
              "  background-image: linear-gradient(var(--sklearn-color-text-on-default-background), var(--sklearn-color-text-on-default-background));\n",
              "  background-size: 2px 100%;\n",
              "  background-repeat: no-repeat;\n",
              "  background-position: center center;\n",
              "}\n",
              "\n",
              "/* Parallel-specific style estimator block */\n",
              "\n",
              "#sk-container-id-7 div.sk-parallel-item::after {\n",
              "  content: \"\";\n",
              "  width: 100%;\n",
              "  border-bottom: 2px solid var(--sklearn-color-text-on-default-background);\n",
              "  flex-grow: 1;\n",
              "}\n",
              "\n",
              "#sk-container-id-7 div.sk-parallel {\n",
              "  display: flex;\n",
              "  align-items: stretch;\n",
              "  justify-content: center;\n",
              "  background-color: var(--sklearn-color-background);\n",
              "  position: relative;\n",
              "}\n",
              "\n",
              "#sk-container-id-7 div.sk-parallel-item {\n",
              "  display: flex;\n",
              "  flex-direction: column;\n",
              "}\n",
              "\n",
              "#sk-container-id-7 div.sk-parallel-item:first-child::after {\n",
              "  align-self: flex-end;\n",
              "  width: 50%;\n",
              "}\n",
              "\n",
              "#sk-container-id-7 div.sk-parallel-item:last-child::after {\n",
              "  align-self: flex-start;\n",
              "  width: 50%;\n",
              "}\n",
              "\n",
              "#sk-container-id-7 div.sk-parallel-item:only-child::after {\n",
              "  width: 0;\n",
              "}\n",
              "\n",
              "/* Serial-specific style estimator block */\n",
              "\n",
              "#sk-container-id-7 div.sk-serial {\n",
              "  display: flex;\n",
              "  flex-direction: column;\n",
              "  align-items: center;\n",
              "  background-color: var(--sklearn-color-background);\n",
              "  padding-right: 1em;\n",
              "  padding-left: 1em;\n",
              "}\n",
              "\n",
              "\n",
              "/* Toggleable style: style used for estimator/Pipeline/ColumnTransformer box that is\n",
              "clickable and can be expanded/collapsed.\n",
              "- Pipeline and ColumnTransformer use this feature and define the default style\n",
              "- Estimators will overwrite some part of the style using the `sk-estimator` class\n",
              "*/\n",
              "\n",
              "/* Pipeline and ColumnTransformer style (default) */\n",
              "\n",
              "#sk-container-id-7 div.sk-toggleable {\n",
              "  /* Default theme specific background. It is overwritten whether we have a\n",
              "  specific estimator or a Pipeline/ColumnTransformer */\n",
              "  background-color: var(--sklearn-color-background);\n",
              "}\n",
              "\n",
              "/* Toggleable label */\n",
              "#sk-container-id-7 label.sk-toggleable__label {\n",
              "  cursor: pointer;\n",
              "  display: flex;\n",
              "  width: 100%;\n",
              "  margin-bottom: 0;\n",
              "  padding: 0.5em;\n",
              "  box-sizing: border-box;\n",
              "  text-align: center;\n",
              "  align-items: start;\n",
              "  justify-content: space-between;\n",
              "  gap: 0.5em;\n",
              "}\n",
              "\n",
              "#sk-container-id-7 label.sk-toggleable__label .caption {\n",
              "  font-size: 0.6rem;\n",
              "  font-weight: lighter;\n",
              "  color: var(--sklearn-color-text-muted);\n",
              "}\n",
              "\n",
              "#sk-container-id-7 label.sk-toggleable__label-arrow:before {\n",
              "  /* Arrow on the left of the label */\n",
              "  content: \"▸\";\n",
              "  float: left;\n",
              "  margin-right: 0.25em;\n",
              "  color: var(--sklearn-color-icon);\n",
              "}\n",
              "\n",
              "#sk-container-id-7 label.sk-toggleable__label-arrow:hover:before {\n",
              "  color: var(--sklearn-color-text);\n",
              "}\n",
              "\n",
              "/* Toggleable content - dropdown */\n",
              "\n",
              "#sk-container-id-7 div.sk-toggleable__content {\n",
              "  max-height: 0;\n",
              "  max-width: 0;\n",
              "  overflow: hidden;\n",
              "  text-align: left;\n",
              "  /* unfitted */\n",
              "  background-color: var(--sklearn-color-unfitted-level-0);\n",
              "}\n",
              "\n",
              "#sk-container-id-7 div.sk-toggleable__content.fitted {\n",
              "  /* fitted */\n",
              "  background-color: var(--sklearn-color-fitted-level-0);\n",
              "}\n",
              "\n",
              "#sk-container-id-7 div.sk-toggleable__content pre {\n",
              "  margin: 0.2em;\n",
              "  border-radius: 0.25em;\n",
              "  color: var(--sklearn-color-text);\n",
              "  /* unfitted */\n",
              "  background-color: var(--sklearn-color-unfitted-level-0);\n",
              "}\n",
              "\n",
              "#sk-container-id-7 div.sk-toggleable__content.fitted pre {\n",
              "  /* unfitted */\n",
              "  background-color: var(--sklearn-color-fitted-level-0);\n",
              "}\n",
              "\n",
              "#sk-container-id-7 input.sk-toggleable__control:checked~div.sk-toggleable__content {\n",
              "  /* Expand drop-down */\n",
              "  max-height: 200px;\n",
              "  max-width: 100%;\n",
              "  overflow: auto;\n",
              "}\n",
              "\n",
              "#sk-container-id-7 input.sk-toggleable__control:checked~label.sk-toggleable__label-arrow:before {\n",
              "  content: \"▾\";\n",
              "}\n",
              "\n",
              "/* Pipeline/ColumnTransformer-specific style */\n",
              "\n",
              "#sk-container-id-7 div.sk-label input.sk-toggleable__control:checked~label.sk-toggleable__label {\n",
              "  color: var(--sklearn-color-text);\n",
              "  background-color: var(--sklearn-color-unfitted-level-2);\n",
              "}\n",
              "\n",
              "#sk-container-id-7 div.sk-label.fitted input.sk-toggleable__control:checked~label.sk-toggleable__label {\n",
              "  background-color: var(--sklearn-color-fitted-level-2);\n",
              "}\n",
              "\n",
              "/* Estimator-specific style */\n",
              "\n",
              "/* Colorize estimator box */\n",
              "#sk-container-id-7 div.sk-estimator input.sk-toggleable__control:checked~label.sk-toggleable__label {\n",
              "  /* unfitted */\n",
              "  background-color: var(--sklearn-color-unfitted-level-2);\n",
              "}\n",
              "\n",
              "#sk-container-id-7 div.sk-estimator.fitted input.sk-toggleable__control:checked~label.sk-toggleable__label {\n",
              "  /* fitted */\n",
              "  background-color: var(--sklearn-color-fitted-level-2);\n",
              "}\n",
              "\n",
              "#sk-container-id-7 div.sk-label label.sk-toggleable__label,\n",
              "#sk-container-id-7 div.sk-label label {\n",
              "  /* The background is the default theme color */\n",
              "  color: var(--sklearn-color-text-on-default-background);\n",
              "}\n",
              "\n",
              "/* On hover, darken the color of the background */\n",
              "#sk-container-id-7 div.sk-label:hover label.sk-toggleable__label {\n",
              "  color: var(--sklearn-color-text);\n",
              "  background-color: var(--sklearn-color-unfitted-level-2);\n",
              "}\n",
              "\n",
              "/* Label box, darken color on hover, fitted */\n",
              "#sk-container-id-7 div.sk-label.fitted:hover label.sk-toggleable__label.fitted {\n",
              "  color: var(--sklearn-color-text);\n",
              "  background-color: var(--sklearn-color-fitted-level-2);\n",
              "}\n",
              "\n",
              "/* Estimator label */\n",
              "\n",
              "#sk-container-id-7 div.sk-label label {\n",
              "  font-family: monospace;\n",
              "  font-weight: bold;\n",
              "  display: inline-block;\n",
              "  line-height: 1.2em;\n",
              "}\n",
              "\n",
              "#sk-container-id-7 div.sk-label-container {\n",
              "  text-align: center;\n",
              "}\n",
              "\n",
              "/* Estimator-specific */\n",
              "#sk-container-id-7 div.sk-estimator {\n",
              "  font-family: monospace;\n",
              "  border: 1px dotted var(--sklearn-color-border-box);\n",
              "  border-radius: 0.25em;\n",
              "  box-sizing: border-box;\n",
              "  margin-bottom: 0.5em;\n",
              "  /* unfitted */\n",
              "  background-color: var(--sklearn-color-unfitted-level-0);\n",
              "}\n",
              "\n",
              "#sk-container-id-7 div.sk-estimator.fitted {\n",
              "  /* fitted */\n",
              "  background-color: var(--sklearn-color-fitted-level-0);\n",
              "}\n",
              "\n",
              "/* on hover */\n",
              "#sk-container-id-7 div.sk-estimator:hover {\n",
              "  /* unfitted */\n",
              "  background-color: var(--sklearn-color-unfitted-level-2);\n",
              "}\n",
              "\n",
              "#sk-container-id-7 div.sk-estimator.fitted:hover {\n",
              "  /* fitted */\n",
              "  background-color: var(--sklearn-color-fitted-level-2);\n",
              "}\n",
              "\n",
              "/* Specification for estimator info (e.g. \"i\" and \"?\") */\n",
              "\n",
              "/* Common style for \"i\" and \"?\" */\n",
              "\n",
              ".sk-estimator-doc-link,\n",
              "a:link.sk-estimator-doc-link,\n",
              "a:visited.sk-estimator-doc-link {\n",
              "  float: right;\n",
              "  font-size: smaller;\n",
              "  line-height: 1em;\n",
              "  font-family: monospace;\n",
              "  background-color: var(--sklearn-color-background);\n",
              "  border-radius: 1em;\n",
              "  height: 1em;\n",
              "  width: 1em;\n",
              "  text-decoration: none !important;\n",
              "  margin-left: 0.5em;\n",
              "  text-align: center;\n",
              "  /* unfitted */\n",
              "  border: var(--sklearn-color-unfitted-level-1) 1pt solid;\n",
              "  color: var(--sklearn-color-unfitted-level-1);\n",
              "}\n",
              "\n",
              ".sk-estimator-doc-link.fitted,\n",
              "a:link.sk-estimator-doc-link.fitted,\n",
              "a:visited.sk-estimator-doc-link.fitted {\n",
              "  /* fitted */\n",
              "  border: var(--sklearn-color-fitted-level-1) 1pt solid;\n",
              "  color: var(--sklearn-color-fitted-level-1);\n",
              "}\n",
              "\n",
              "/* On hover */\n",
              "div.sk-estimator:hover .sk-estimator-doc-link:hover,\n",
              ".sk-estimator-doc-link:hover,\n",
              "div.sk-label-container:hover .sk-estimator-doc-link:hover,\n",
              ".sk-estimator-doc-link:hover {\n",
              "  /* unfitted */\n",
              "  background-color: var(--sklearn-color-unfitted-level-3);\n",
              "  color: var(--sklearn-color-background);\n",
              "  text-decoration: none;\n",
              "}\n",
              "\n",
              "div.sk-estimator.fitted:hover .sk-estimator-doc-link.fitted:hover,\n",
              ".sk-estimator-doc-link.fitted:hover,\n",
              "div.sk-label-container:hover .sk-estimator-doc-link.fitted:hover,\n",
              ".sk-estimator-doc-link.fitted:hover {\n",
              "  /* fitted */\n",
              "  background-color: var(--sklearn-color-fitted-level-3);\n",
              "  color: var(--sklearn-color-background);\n",
              "  text-decoration: none;\n",
              "}\n",
              "\n",
              "/* Span, style for the box shown on hovering the info icon */\n",
              ".sk-estimator-doc-link span {\n",
              "  display: none;\n",
              "  z-index: 9999;\n",
              "  position: relative;\n",
              "  font-weight: normal;\n",
              "  right: .2ex;\n",
              "  padding: .5ex;\n",
              "  margin: .5ex;\n",
              "  width: min-content;\n",
              "  min-width: 20ex;\n",
              "  max-width: 50ex;\n",
              "  color: var(--sklearn-color-text);\n",
              "  box-shadow: 2pt 2pt 4pt #999;\n",
              "  /* unfitted */\n",
              "  background: var(--sklearn-color-unfitted-level-0);\n",
              "  border: .5pt solid var(--sklearn-color-unfitted-level-3);\n",
              "}\n",
              "\n",
              ".sk-estimator-doc-link.fitted span {\n",
              "  /* fitted */\n",
              "  background: var(--sklearn-color-fitted-level-0);\n",
              "  border: var(--sklearn-color-fitted-level-3);\n",
              "}\n",
              "\n",
              ".sk-estimator-doc-link:hover span {\n",
              "  display: block;\n",
              "}\n",
              "\n",
              "/* \"?\"-specific style due to the `<a>` HTML tag */\n",
              "\n",
              "#sk-container-id-7 a.estimator_doc_link {\n",
              "  float: right;\n",
              "  font-size: 1rem;\n",
              "  line-height: 1em;\n",
              "  font-family: monospace;\n",
              "  background-color: var(--sklearn-color-background);\n",
              "  border-radius: 1rem;\n",
              "  height: 1rem;\n",
              "  width: 1rem;\n",
              "  text-decoration: none;\n",
              "  /* unfitted */\n",
              "  color: var(--sklearn-color-unfitted-level-1);\n",
              "  border: var(--sklearn-color-unfitted-level-1) 1pt solid;\n",
              "}\n",
              "\n",
              "#sk-container-id-7 a.estimator_doc_link.fitted {\n",
              "  /* fitted */\n",
              "  border: var(--sklearn-color-fitted-level-1) 1pt solid;\n",
              "  color: var(--sklearn-color-fitted-level-1);\n",
              "}\n",
              "\n",
              "/* On hover */\n",
              "#sk-container-id-7 a.estimator_doc_link:hover {\n",
              "  /* unfitted */\n",
              "  background-color: var(--sklearn-color-unfitted-level-3);\n",
              "  color: var(--sklearn-color-background);\n",
              "  text-decoration: none;\n",
              "}\n",
              "\n",
              "#sk-container-id-7 a.estimator_doc_link.fitted:hover {\n",
              "  /* fitted */\n",
              "  background-color: var(--sklearn-color-fitted-level-3);\n",
              "}\n",
              "</style><div id=\"sk-container-id-7\" class=\"sk-top-container\"><div class=\"sk-text-repr-fallback\"><pre>KNeighborsClassifier(n_neighbors=50)</pre><b>In a Jupyter environment, please rerun this cell to show the HTML representation or trust the notebook. <br />On GitHub, the HTML representation is unable to render, please try loading this page with nbviewer.org.</b></div><div class=\"sk-container\" hidden><div class=\"sk-item\"><div class=\"sk-estimator fitted sk-toggleable\"><input class=\"sk-toggleable__control sk-hidden--visually\" id=\"sk-estimator-id-12\" type=\"checkbox\" checked><label for=\"sk-estimator-id-12\" class=\"sk-toggleable__label fitted sk-toggleable__label-arrow\"><div><div>KNeighborsClassifier</div></div><div><a class=\"sk-estimator-doc-link fitted\" rel=\"noreferrer\" target=\"_blank\" href=\"https://scikit-learn.org/1.6/modules/generated/sklearn.neighbors.KNeighborsClassifier.html\">?<span>Documentation for KNeighborsClassifier</span></a><span class=\"sk-estimator-doc-link fitted\">i<span>Fitted</span></span></div></label><div class=\"sk-toggleable__content fitted\"><pre>KNeighborsClassifier(n_neighbors=50)</pre></div> </div></div></div></div>"
            ]
          },
          "metadata": {},
          "execution_count": 48
        }
      ]
    },
    {
      "cell_type": "code",
      "source": [
        "X_new = np.array([[-0.5,0],[0,0.5],[1,-0.1],[2,1]])\n",
        "knn.predict(X_new)\n",
        "knn.predict_proba(X_new)"
      ],
      "metadata": {
        "colab": {
          "base_uri": "https://localhost:8080/"
        },
        "id": "PR1dGp6QSfr1",
        "outputId": "064b5dbd-1ade-456e-8ea7-5c2724a95afa"
      },
      "execution_count": 49,
      "outputs": [
        {
          "output_type": "execute_result",
          "data": {
            "text/plain": [
              "array([[0.  , 0.  , 0.  , 0.  , 0.  , 0.54, 0.12, 0.  , 0.  , 0.  , 0.34,\n",
              "        0.  , 0.  ],\n",
              "       [0.  , 0.  , 0.  , 0.  , 0.  , 0.  , 0.6 , 0.  , 0.  , 0.  , 0.  ,\n",
              "        0.  , 0.4 ],\n",
              "       [0.  , 0.02, 0.32, 0.  , 0.  , 0.  , 0.  , 0.  , 0.42, 0.24, 0.  ,\n",
              "        0.  , 0.  ],\n",
              "       [0.  , 1.  , 0.  , 0.  , 0.  , 0.  , 0.  , 0.  , 0.  , 0.  , 0.  ,\n",
              "        0.  , 0.  ]])"
            ]
          },
          "metadata": {},
          "execution_count": 49
        }
      ]
    },
    {
      "cell_type": "markdown",
      "source": [
        "이 분류기를 핵심 샘플에서만 훈련했지만 모든 샘플에서 훈련할 수도 있다. 또는 이상치를 제외할 수 있다. 선택은 최종 작업의 성능에 따라 결정된다.\n",
        "\n",
        "훈련 세트에 이상치가 없기 때문에 클러스터가 멀리 떨어져 있더라도 분류기는 항상 클러스터 한 개를 선택한다. 최대 거리를 사용하면 두 클러스터에서 멀리 떨어진 샘플을 이상치로 간단히 분류할 수 있다. KNeighborsClassifier의 kneighbors( ) 메서드를 사용한다. 이 메서드에 샘플을 전달하면 훈련 세트에서 가장 가까운 $k$개 이웃의 거리와 인덱스를 반환한다."
      ],
      "metadata": {
        "id": "L3hQkU3Qdn0g"
      }
    },
    {
      "cell_type": "code",
      "source": [
        "y_dist, y_pred_idx = knn.kneighbors(X_new, n_neighbors=1)\n",
        "y_pred = dbscan.labels_[dbscan.core_sample_indices_][y_pred_idx]\n",
        "y_pred[y_dist>0.2]=-1\n",
        "y_pred.ravel()"
      ],
      "metadata": {
        "colab": {
          "base_uri": "https://localhost:8080/"
        },
        "id": "9C1goTSzeMY1",
        "outputId": "cc37dd69-98c3-4cb0-c71f-114bcad35f00"
      },
      "execution_count": 50,
      "outputs": [
        {
          "output_type": "execute_result",
          "data": {
            "text/plain": [
              "array([-1, 12,  9, -1])"
            ]
          },
          "metadata": {},
          "execution_count": 50
        }
      ]
    },
    {
      "cell_type": "markdown",
      "source": [
        "DBSCAN은 매우 간단하지만 강력한 알고리즘이다. 클러스트이 모양과 개수에 상관없이 감지할 수 있는 능력이 있다. 이상치에 안정적이고 하이퍼파라미터가 두 개뿐이다. 하지만 클러스터 간의 밀집도가 크게 다르면 모든 클러스터를 올바르게 잡아내는 것이 불가능하다. 계산 복잡도는 대략 $O(m logm)$이다. 샘플 개수에 대해 거의 선형적으로 증가한다. 하지만, 사이킷런의 구현은 eps가 커지면 $O(m^2)$만큼 메모리가 필요하다."
      ],
      "metadata": {
        "id": "judcGeAqec1r"
      }
    },
    {
      "cell_type": "markdown",
      "source": [
        "### **1.7) 다른 군집 알고리즘**\n",
        "#### **병합 군집**\n",
        "클러스터 계층을 밑바닥부터 위로 쌓아 구성한다. 비슷하게 반복마다 병합 군집은 인접한 클러스터 쌍을 연결한다. 병합된 클러스터 쌍을 트리로 모두 그리면 대규모 이진 트리를 얻을 수 있으며, 이 트리의 리프는 개별 샘플이다. 병합 군집은 대규모 샘플과 클러스터에 잘 확장되며 다양한 형태의 클러스터를 감지할 수 있다. 특정 클러스터의 개수를 선택하는 데 도움이 되는 유용한 클러스터 트리를 만들 수 있다.\n",
        "\n",
        "#### **BIRCH**\n",
        "BIRCH 알고리즘은 대규모 데이터셋을 위해 고안되었다. 특성 개수가 너무 많지 않다면 배치 k-평균보다 빠르고 비슷한 결과를 만든다. 훈련 과정에서 새로운 샘플을 클러스터에 빠르게 할당할 수 있는 정보를 담은 트리 구조를 만든다. 이 방식은 제한된 메모리를 사용해 대용량 데이터셋을 다룰 수 있다.\n",
        "\n",
        "#### **평균-이동**\n",
        "이 알고리즘은 먼저 각 샘플을 중심으로 하는 원을 그린다. 그다음 원마다 안에 포함된 모든 샘플의 평균을 구한다. 그리고 원의 중심을 평균점으로 이동시킨다. 모든 원이 움직이지 않을 때까지 이 평균-이동을 계속한다. 해당 방식은 국부적인 밀집도 추정에 의존하지만, DBSCAN과 달리 클러스터 내부 밀집도가 불균형할 때 여러 개로 나누는 경향이 있다. 계산복잡도는 $O(m^2)$로 대규모 데이터셋에는 적합하지 않다.\n",
        "\n",
        "#### **유사도 전파**\n",
        "이 알고리즘은 투표 방식을 사용한다. 샘플은 자신을 대표할 수 있는 비슷한 샘플에 투표한다. 알고리즘이 수렴하면 각 대표와 투표한 샘플이 클러스터를 형성한다. 유사도 전파는 크기가 다른 여러 개의 클러스터를 감지할 수 있다. 다만, 알고리즘의 계산복잡도는 $O(m^2)$로 대규모 데이터셋에는 적합하지 않다.\n",
        "\n",
        "#### **스펙트럼 군집**\n",
        "이 알고리즘은 샘플 사이의 유사도 행렬을 받아 저차원 임베딩을 만든다. 그다음 이 저차원 공간에서 또 다른 군집 알고리즘을 사용한다. 스펙트럼 군집은 복잡한 클러스터 구조를 감지하고 그래프 컷을 찾는 데 사용할 수 있다. 이 알고리즘은 샘플 개수가 많으면 잘 적용되지 않고 클러스터의 크기가 매우 다르면 잘 동작하지 않는다."
      ],
      "metadata": {
        "id": "WNh9E-mpeznj"
      }
    }
  ]
}